{
 "cells": [
  {
   "cell_type": "code",
   "execution_count": 6,
   "metadata": {},
   "outputs": [],
   "source": [
    "import numpy as np\n",
    "import matplotlib.pyplot as plt\n",
    "from scipy.stats import pearsonr\n",
    "import pylab\n",
    "import glob\n",
    "import os"
   ]
  },
  {
   "cell_type": "code",
   "execution_count": 9,
   "metadata": {},
   "outputs": [
    {
     "name": "stdout",
     "output_type": "stream",
     "text": [
      "['../Inputs/Models_Part_II/R_Data/R_Data_Coupled.txt', '../Inputs/Models_Part_II/R_Data/R_Data_Streamed.txt', '../Inputs/Models_Part_II/R_Data/R_Data_MS17.txt']\n",
      "['../Inputs/Humans_Part_II/R_Data/R_Data_Coupled.txt', '../Inputs/Humans_Part_II/R_Data/R_Data_Streamed.txt']\n",
      "['../Inputs/Models_Part_II/R_Data/R_Data_Coupled.txt', '../Inputs/Models_Part_II/R_Data/R_Data_Streamed.txt', '../Inputs/Models_Part_II/R_Data/R_Data_MS17.txt', '../Inputs/Humans_Part_II/R_Data/R_Data_Coupled.txt', '../Inputs/Humans_Part_II/R_Data/R_Data_Streamed.txt']\n"
     ]
    }
   ],
   "source": [
    "Input_Humans = '../Inputs/Humans_Part_II/R_Data/'\n",
    "Input_Models = '../Inputs/Models_Part_II/R_Data/'\n",
    "List_Models = ['Coupled','Streamed','MS17']\n",
    "Models_Files = [Input_Models+'R_Data_'+name+'.txt' for name in List_Models]\n",
    "print(Models_Files)\n",
    "List_Humans = ['Coupled','Streamed']\n",
    "Humans_Files = [Input_Humans+'R_Data_'+name+'.txt' for name in List_Humans]\n",
    "print(Humans_Files)\n",
    "List_Files = Models_Files+Humans_Files\n",
    "print(List_Files)"
   ]
  },
  {
   "cell_type": "code",
   "execution_count": 10,
   "metadata": {},
   "outputs": [
    {
     "name": "stdout",
     "output_type": "stream",
     "text": [
      "./R_Data_ALL.txt\n"
     ]
    }
   ],
   "source": [
    "new_file = \"./R_Data_ALL.txt\"\n",
    "print(new_file)\n",
    "cfile = open(new_file,\"w+\")\n",
    "ToWrite = \"Agent\\tsubject\\tGameNb\\tDeflations\\tMisses\\tResets\\tShotReg\\tEntropy\\tLogCV\\tShotPer\\tRightReg\\tScore\\n\"\n",
    "cfile.write(ToWrite)\n",
    "\n",
    "for cIDX,curFile in enumerate(List_Files):\n",
    "    fName = curFile\n",
    "    thisfile = open(fName,\"r\")\n",
    "    rawlines = thisfile.readlines()\n",
    "    for line in rawlines[1:]:\n",
    "        cfile.write(line)\n",
    "    thisfile.close()\n",
    "    \n",
    "cfile.close()"
   ]
  },
  {
   "cell_type": "code",
   "execution_count": null,
   "metadata": {},
   "outputs": [],
   "source": []
  }
 ],
 "metadata": {
  "kernelspec": {
   "display_name": "Python 3",
   "language": "python",
   "name": "python3"
  },
  "language_info": {
   "codemirror_mode": {
    "name": "ipython",
    "version": 3
   },
   "file_extension": ".py",
   "mimetype": "text/x-python",
   "name": "python",
   "nbconvert_exporter": "python",
   "pygments_lexer": "ipython3",
   "version": "3.8.5"
  }
 },
 "nbformat": 4,
 "nbformat_minor": 4
}
