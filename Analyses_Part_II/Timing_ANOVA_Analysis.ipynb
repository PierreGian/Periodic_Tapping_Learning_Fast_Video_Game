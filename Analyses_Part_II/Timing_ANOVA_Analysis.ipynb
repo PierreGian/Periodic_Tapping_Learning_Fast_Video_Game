{
 "cells": [
  {
   "cell_type": "code",
   "execution_count": 1,
   "id": "e86df66d",
   "metadata": {},
   "outputs": [
    {
     "name": "stderr",
     "output_type": "stream",
     "text": [
      "\n",
      "Attaching package: 'rstatix'\n",
      "\n",
      "\n",
      "The following object is masked from 'package:stats':\n",
      "\n",
      "    filter\n",
      "\n",
      "\n",
      "-- \u001b[1mAttaching packages\u001b[22m ------------------------------------------------------------------------------- tidyverse 1.3.2 --\n",
      "\u001b[32mv\u001b[39m \u001b[34mggplot2\u001b[39m 3.4.0     \u001b[32mv\u001b[39m \u001b[34mpurrr  \u001b[39m 1.0.1\n",
      "\u001b[32mv\u001b[39m \u001b[34mtibble \u001b[39m 3.1.8     \u001b[32mv\u001b[39m \u001b[34mdplyr  \u001b[39m 1.1.0\n",
      "\u001b[32mv\u001b[39m \u001b[34mtidyr  \u001b[39m 1.3.0     \u001b[32mv\u001b[39m \u001b[34mstringr\u001b[39m 1.5.0\n",
      "\u001b[32mv\u001b[39m \u001b[34mreadr  \u001b[39m 2.1.3     \u001b[32mv\u001b[39m \u001b[34mforcats\u001b[39m 1.0.0\n",
      "-- \u001b[1mConflicts\u001b[22m ---------------------------------------------------------------------------------- tidyverse_conflicts() --\n",
      "\u001b[31mx\u001b[39m \u001b[34mtidyr\u001b[39m::\u001b[32mexpand()\u001b[39m masks \u001b[34mreshape\u001b[39m::expand()\n",
      "\u001b[31mx\u001b[39m \u001b[34mdplyr\u001b[39m::\u001b[32mfilter()\u001b[39m masks \u001b[34mrstatix\u001b[39m::filter(), \u001b[34mstats\u001b[39m::filter()\n",
      "\u001b[31mx\u001b[39m \u001b[34mdplyr\u001b[39m::\u001b[32mlag()\u001b[39m    masks \u001b[34mstats\u001b[39m::lag()\n",
      "\u001b[31mx\u001b[39m \u001b[34mdplyr\u001b[39m::\u001b[32mrename()\u001b[39m masks \u001b[34mreshape\u001b[39m::rename()\n"
     ]
    }
   ],
   "source": [
    "#Load relevant libraries\n",
    "library(rstatix)\n",
    "library(reshape)\n",
    "library(tidyverse)\n",
    "library(dplyr)\n",
    "library(ggpubr)"
   ]
  },
  {
   "cell_type": "code",
   "execution_count": 2,
   "id": "efdc093a",
   "metadata": {},
   "outputs": [],
   "source": [
    "#Load Data\n",
    "DataPath<-'./Timing_for_ANOVA.txt'\n",
    "Timing_data <- read.delim(DataPath, sep=\"\\t\", header=T, stringsAsFactors=F) %>% drop_na()"
   ]
  },
  {
   "cell_type": "code",
   "execution_count": 3,
   "id": "10e41fc2",
   "metadata": {},
   "outputs": [
    {
     "data": {
      "text/plain": [
       "          \n",
       "            1  2  3  4  5  6  7  8  9 10 11 12 13 14 15\n",
       "  Coupled  13 19 25 24 28 30 28 29 32 30 31 30 32 32 32\n",
       "  Streamed  9  9  9  9  9  9  9  9  9  9  9  9  9  9  9"
      ]
     },
     "metadata": {},
     "output_type": "display_data"
    }
   ],
   "source": [
    "table(Timing_data$Group, Timing_data$GameNb)"
   ]
  },
  {
   "cell_type": "code",
   "execution_count": 4,
   "id": "a388d941",
   "metadata": {},
   "outputs": [],
   "source": [
    "##Source for \"SummarySE\": http://www.cookbook-r.com/Manipulating_data/Summarizing_data/\n",
    "##\n",
    "##\n",
    "## Gives count, mean, standard deviation, standard error of the mean, and confidence interval (default 95%).\n",
    "##   data: a data frame.\n",
    "##   measurevar: the name of a column that contains the variable to be summariezed\n",
    "##   groupvars: a vector containing names of columns that contain grouping variables\n",
    "##   na.rm: a boolean that indicates whether to ignore NA's\n",
    "##   conf.interval: the percent range of the confidence interval (default is 95%)\n",
    "summarySE <- function(data=NULL, measurevar, groupvars=NULL, na.rm=FALSE,\n",
    "                      conf.interval=.95, .drop=TRUE) {\n",
    "    library(plyr)\n",
    "\n",
    "    # New version of length which can handle NA's: if na.rm==T, don't count them\n",
    "    length2 <- function (x, na.rm=FALSE) {\n",
    "        if (na.rm) sum(!is.na(x))\n",
    "        else       length(x)\n",
    "    }\n",
    "\n",
    "    # This does the summary. For each group's data frame, return a vector with\n",
    "    # N, mean, and sd\n",
    "    datac <- ddply(data, groupvars, .drop=.drop,\n",
    "      .fun = function(xx, col) {\n",
    "        c(N    = length2(xx[[col]], na.rm=na.rm),\n",
    "          mean = mean   (xx[[col]], na.rm=na.rm),\n",
    "          sd   = sd     (xx[[col]], na.rm=na.rm)\n",
    "        )\n",
    "      },\n",
    "      measurevar\n",
    "    )\n",
    "\n",
    "    # Rename the \"mean\" column    \n",
    "    datac <- rename(datac, c(\"mean\" = measurevar))\n",
    "\n",
    "    datac$se <- datac$sd / sqrt(datac$N)  # Calculate standard error of the mean\n",
    "\n",
    "    # Confidence interval multiplier for standard error\n",
    "    # Calculate t-statistic for confidence interval: \n",
    "    # e.g., if conf.interval is .95, use .975 (above/below), and use df=N-1\n",
    "    ciMult <- qt(conf.interval/2 + .5, datac$N-1)\n",
    "    datac$ci <- datac$se * ciMult\n",
    "\n",
    "    return(datac)\n",
    "}"
   ]
  },
  {
   "cell_type": "code",
   "execution_count": 5,
   "id": "55ccec12",
   "metadata": {},
   "outputs": [
    {
     "name": "stderr",
     "output_type": "stream",
     "text": [
      "------------------------------------------------------------------------------\n",
      "\n",
      "You have loaded plyr after dplyr - this is likely to cause problems.\n",
      "If you need functions from both plyr and dplyr, please load plyr first, then dplyr:\n",
      "library(plyr); library(dplyr)\n",
      "\n",
      "------------------------------------------------------------------------------\n",
      "\n",
      "\n",
      "Attaching package: 'plyr'\n",
      "\n",
      "\n",
      "The following object is masked from 'package:ggpubr':\n",
      "\n",
      "    mutate\n",
      "\n",
      "\n",
      "The following objects are masked from 'package:dplyr':\n",
      "\n",
      "    arrange, count, desc, failwith, id, mutate, rename, summarise,\n",
      "    summarize\n",
      "\n",
      "\n",
      "The following object is masked from 'package:purrr':\n",
      "\n",
      "    compact\n",
      "\n",
      "\n",
      "The following objects are masked from 'package:reshape':\n",
      "\n",
      "    rename, round_any\n",
      "\n",
      "\n",
      "The following objects are masked from 'package:rstatix':\n",
      "\n",
      "    desc, mutate\n",
      "\n",
      "\n"
     ]
    },
    {
     "data": {
      "text/html": [
       "<table class=\"dataframe\">\n",
       "<caption>A data.frame: 2 × 6</caption>\n",
       "<thead>\n",
       "\t<tr><th scope=col>Group</th><th scope=col>N</th><th scope=col>ISI</th><th scope=col>sd</th><th scope=col>se</th><th scope=col>ci</th></tr>\n",
       "\t<tr><th scope=col>&lt;chr&gt;</th><th scope=col>&lt;dbl&gt;</th><th scope=col>&lt;dbl&gt;</th><th scope=col>&lt;dbl&gt;</th><th scope=col>&lt;dbl&gt;</th><th scope=col>&lt;dbl&gt;</th></tr>\n",
       "</thead>\n",
       "<tbody>\n",
       "\t<tr><td>Coupled </td><td>415</td><td>542.4397</td><td>113.45513</td><td>5.569293</td><td>10.94762</td></tr>\n",
       "\t<tr><td>Streamed</td><td>135</td><td>390.6647</td><td> 66.53235</td><td>5.726193</td><td>11.32541</td></tr>\n",
       "</tbody>\n",
       "</table>\n"
      ],
      "text/latex": [
       "A data.frame: 2 × 6\n",
       "\\begin{tabular}{llllll}\n",
       " Group & N & ISI & sd & se & ci\\\\\n",
       " <chr> & <dbl> & <dbl> & <dbl> & <dbl> & <dbl>\\\\\n",
       "\\hline\n",
       "\t Coupled  & 415 & 542.4397 & 113.45513 & 5.569293 & 10.94762\\\\\n",
       "\t Streamed & 135 & 390.6647 &  66.53235 & 5.726193 & 11.32541\\\\\n",
       "\\end{tabular}\n"
      ],
      "text/markdown": [
       "\n",
       "A data.frame: 2 × 6\n",
       "\n",
       "| Group &lt;chr&gt; | N &lt;dbl&gt; | ISI &lt;dbl&gt; | sd &lt;dbl&gt; | se &lt;dbl&gt; | ci &lt;dbl&gt; |\n",
       "|---|---|---|---|---|---|\n",
       "| Coupled  | 415 | 542.4397 | 113.45513 | 5.569293 | 10.94762 |\n",
       "| Streamed | 135 | 390.6647 |  66.53235 | 5.726193 | 11.32541 |\n",
       "\n"
      ],
      "text/plain": [
       "  Group    N   ISI      sd        se       ci      \n",
       "1 Coupled  415 542.4397 113.45513 5.569293 10.94762\n",
       "2 Streamed 135 390.6647  66.53235 5.726193 11.32541"
      ]
     },
     "metadata": {},
     "output_type": "display_data"
    },
    {
     "data": {
      "image/png": "[encoded data removed]",
      "text/plain": [
       "plot without title"
      ]
     },
     "metadata": {
      "image/png": {
       "height": 420,
       "width": 420
      }
     },
     "output_type": "display_data"
    }
   ],
   "source": [
    "df1 <- summarySE(Timing_data, \"ISI\", c(\"Group\"))\n",
    "df1\n",
    "\n",
    "#Bar plot\n",
    "ggplot(df1, aes(x=Group, y=ISI)) + \n",
    "  geom_bar(stat = \"identity\") +\n",
    "  geom_errorbar(aes(ymin=ISI-se, ymax=ISI+se), width=.2,\n",
    "                position=position_dodge(.9))"
   ]
  },
  {
   "cell_type": "code",
   "execution_count": 6,
   "id": "d8ed3345",
   "metadata": {},
   "outputs": [
    {
     "data": {
      "text/html": [
       "<table class=\"dataframe\">\n",
       "<caption>A data.frame: 2 × 6</caption>\n",
       "<thead>\n",
       "\t<tr><th scope=col>Group</th><th scope=col>N</th><th scope=col>IRI</th><th scope=col>sd</th><th scope=col>se</th><th scope=col>ci</th></tr>\n",
       "\t<tr><th scope=col>&lt;chr&gt;</th><th scope=col>&lt;dbl&gt;</th><th scope=col>&lt;dbl&gt;</th><th scope=col>&lt;dbl&gt;</th><th scope=col>&lt;dbl&gt;</th><th scope=col>&lt;dbl&gt;</th></tr>\n",
       "</thead>\n",
       "<tbody>\n",
       "\t<tr><td>Coupled </td><td>415</td><td>495.8701</td><td>37.40995</td><td>1.8363823</td><td>3.609796</td></tr>\n",
       "\t<tr><td>Streamed</td><td>135</td><td>498.1888</td><td>11.08813</td><td>0.9543141</td><td>1.887467</td></tr>\n",
       "</tbody>\n",
       "</table>\n"
      ],
      "text/latex": [
       "A data.frame: 2 × 6\n",
       "\\begin{tabular}{llllll}\n",
       " Group & N & IRI & sd & se & ci\\\\\n",
       " <chr> & <dbl> & <dbl> & <dbl> & <dbl> & <dbl>\\\\\n",
       "\\hline\n",
       "\t Coupled  & 415 & 495.8701 & 37.40995 & 1.8363823 & 3.609796\\\\\n",
       "\t Streamed & 135 & 498.1888 & 11.08813 & 0.9543141 & 1.887467\\\\\n",
       "\\end{tabular}\n"
      ],
      "text/markdown": [
       "\n",
       "A data.frame: 2 × 6\n",
       "\n",
       "| Group &lt;chr&gt; | N &lt;dbl&gt; | IRI &lt;dbl&gt; | sd &lt;dbl&gt; | se &lt;dbl&gt; | ci &lt;dbl&gt; |\n",
       "|---|---|---|---|---|---|\n",
       "| Coupled  | 415 | 495.8701 | 37.40995 | 1.8363823 | 3.609796 |\n",
       "| Streamed | 135 | 498.1888 | 11.08813 | 0.9543141 | 1.887467 |\n",
       "\n"
      ],
      "text/plain": [
       "  Group    N   IRI      sd       se        ci      \n",
       "1 Coupled  415 495.8701 37.40995 1.8363823 3.609796\n",
       "2 Streamed 135 498.1888 11.08813 0.9543141 1.887467"
      ]
     },
     "metadata": {},
     "output_type": "display_data"
    },
    {
     "data": {
      "image/png": "[encoded data removed]",
      "text/plain": [
       "plot without title"
      ]
     },
     "metadata": {
      "image/png": {
       "height": 420,
       "width": 420
      }
     },
     "output_type": "display_data"
    }
   ],
   "source": [
    "df2 <- summarySE(Timing_data, \"IRI\", c(\"Group\"))\n",
    "df2\n",
    "\n",
    "#Bar plot\n",
    "ggplot(df2, aes(x=Group, y=IRI)) + \n",
    "  geom_bar(stat = \"identity\") +\n",
    "  geom_errorbar(aes(ymin=IRI-se, ymax=IRI+se), width=.2,\n",
    "                position=position_dodge(.9))"
   ]
  },
  {
   "cell_type": "code",
   "execution_count": 8,
   "id": "e296a94d",
   "metadata": {},
   "outputs": [
    {
     "data": {
      "text/html": [
       "<table class=\"dataframe\">\n",
       "<caption>A grouped_df: 10 × 4</caption>\n",
       "<thead>\n",
       "\t<tr><th scope=col>Subject</th><th scope=col>Group</th><th scope=col>ISI</th><th scope=col>IRI</th></tr>\n",
       "\t<tr><th scope=col>&lt;chr&gt;</th><th scope=col>&lt;chr&gt;</th><th scope=col>&lt;dbl&gt;</th><th scope=col>&lt;dbl&gt;</th></tr>\n",
       "</thead>\n",
       "<tbody>\n",
       "\t<tr><td>A11LNK1U3DT08V</td><td>Coupled </td><td>481.8472</td><td>499.1412</td></tr>\n",
       "\t<tr><td>A122LRCSBAD6DC</td><td>Streamed</td><td>460.6625</td><td>499.3466</td></tr>\n",
       "\t<tr><td>A13B8594JIUFDF</td><td>Coupled </td><td>497.5995</td><td>496.8054</td></tr>\n",
       "\t<tr><td>A13G6IRFQBEE8K</td><td>Streamed</td><td>319.0227</td><td>492.6920</td></tr>\n",
       "\t<tr><td>A13YOOKZFZJJ10</td><td>Coupled </td><td>521.2245</td><td>506.1553</td></tr>\n",
       "\t<tr><td>A19X8IA9EKC3XH</td><td>Streamed</td><td>373.4875</td><td>502.4523</td></tr>\n",
       "\t<tr><td>A1DHJE69R494AH</td><td>Coupled </td><td>517.5645</td><td>492.1175</td></tr>\n",
       "\t<tr><td>A1EP3XESXAG0EP</td><td>Coupled </td><td>487.8959</td><td>496.4038</td></tr>\n",
       "\t<tr><td>A1FG2G0J8M9Q0N</td><td>Coupled </td><td>676.5912</td><td>486.1787</td></tr>\n",
       "\t<tr><td>A1RH69F7I73LRW</td><td>Streamed</td><td>384.3394</td><td>501.5395</td></tr>\n",
       "</tbody>\n",
       "</table>\n"
      ],
      "text/latex": [
       "A grouped\\_df: 10 × 4\n",
       "\\begin{tabular}{llll}\n",
       " Subject & Group & ISI & IRI\\\\\n",
       " <chr> & <chr> & <dbl> & <dbl>\\\\\n",
       "\\hline\n",
       "\t A11LNK1U3DT08V & Coupled  & 481.8472 & 499.1412\\\\\n",
       "\t A122LRCSBAD6DC & Streamed & 460.6625 & 499.3466\\\\\n",
       "\t A13B8594JIUFDF & Coupled  & 497.5995 & 496.8054\\\\\n",
       "\t A13G6IRFQBEE8K & Streamed & 319.0227 & 492.6920\\\\\n",
       "\t A13YOOKZFZJJ10 & Coupled  & 521.2245 & 506.1553\\\\\n",
       "\t A19X8IA9EKC3XH & Streamed & 373.4875 & 502.4523\\\\\n",
       "\t A1DHJE69R494AH & Coupled  & 517.5645 & 492.1175\\\\\n",
       "\t A1EP3XESXAG0EP & Coupled  & 487.8959 & 496.4038\\\\\n",
       "\t A1FG2G0J8M9Q0N & Coupled  & 676.5912 & 486.1787\\\\\n",
       "\t A1RH69F7I73LRW & Streamed & 384.3394 & 501.5395\\\\\n",
       "\\end{tabular}\n"
      ],
      "text/markdown": [
       "\n",
       "A grouped_df: 10 × 4\n",
       "\n",
       "| Subject &lt;chr&gt; | Group &lt;chr&gt; | ISI &lt;dbl&gt; | IRI &lt;dbl&gt; |\n",
       "|---|---|---|---|\n",
       "| A11LNK1U3DT08V | Coupled  | 481.8472 | 499.1412 |\n",
       "| A122LRCSBAD6DC | Streamed | 460.6625 | 499.3466 |\n",
       "| A13B8594JIUFDF | Coupled  | 497.5995 | 496.8054 |\n",
       "| A13G6IRFQBEE8K | Streamed | 319.0227 | 492.6920 |\n",
       "| A13YOOKZFZJJ10 | Coupled  | 521.2245 | 506.1553 |\n",
       "| A19X8IA9EKC3XH | Streamed | 373.4875 | 502.4523 |\n",
       "| A1DHJE69R494AH | Coupled  | 517.5645 | 492.1175 |\n",
       "| A1EP3XESXAG0EP | Coupled  | 487.8959 | 496.4038 |\n",
       "| A1FG2G0J8M9Q0N | Coupled  | 676.5912 | 486.1787 |\n",
       "| A1RH69F7I73LRW | Streamed | 384.3394 | 501.5395 |\n",
       "\n"
      ],
      "text/plain": [
       "   Subject        Group    ISI      IRI     \n",
       "1  A11LNK1U3DT08V Coupled  481.8472 499.1412\n",
       "2  A122LRCSBAD6DC Streamed 460.6625 499.3466\n",
       "3  A13B8594JIUFDF Coupled  497.5995 496.8054\n",
       "4  A13G6IRFQBEE8K Streamed 319.0227 492.6920\n",
       "5  A13YOOKZFZJJ10 Coupled  521.2245 506.1553\n",
       "6  A19X8IA9EKC3XH Streamed 373.4875 502.4523\n",
       "7  A1DHJE69R494AH Coupled  517.5645 492.1175\n",
       "8  A1EP3XESXAG0EP Coupled  487.8959 496.4038\n",
       "9  A1FG2G0J8M9Q0N Coupled  676.5912 486.1787\n",
       "10 A1RH69F7I73LRW Streamed 384.3394 501.5395"
      ]
     },
     "metadata": {},
     "output_type": "display_data"
    }
   ],
   "source": [
    "#Convert to factor variables\n",
    "new_data <- Timing_data %>% group_by(Subject,Group) %>% dplyr::summarize_at(c(\"ISI\", \"IRI\"), mean, na.rm = TRUE)\n",
    "head(new_data,10)"
   ]
  },
  {
   "cell_type": "code",
   "execution_count": 9,
   "id": "d51fd87d",
   "metadata": {},
   "outputs": [
    {
     "data": {
      "text/html": [
       "41"
      ],
      "text/latex": [
       "41"
      ],
      "text/markdown": [
       "41"
      ],
      "text/plain": [
       "[1] 41"
      ]
     },
     "metadata": {},
     "output_type": "display_data"
    },
    {
     "data": {
      "text/html": [
       "<table class=\"dataframe\">\n",
       "<caption>A grouped_df: 10 × 4</caption>\n",
       "<thead>\n",
       "\t<tr><th scope=col>Subject</th><th scope=col>Group</th><th scope=col>Timing</th><th scope=col>Value</th></tr>\n",
       "\t<tr><th scope=col>&lt;chr&gt;</th><th scope=col>&lt;chr&gt;</th><th scope=col>&lt;chr&gt;</th><th scope=col>&lt;dbl&gt;</th></tr>\n",
       "</thead>\n",
       "<tbody>\n",
       "\t<tr><td>A11LNK1U3DT08V</td><td>Coupled </td><td>ISI</td><td>481.8472</td></tr>\n",
       "\t<tr><td>A122LRCSBAD6DC</td><td>Streamed</td><td>ISI</td><td>460.6625</td></tr>\n",
       "\t<tr><td>A13B8594JIUFDF</td><td>Coupled </td><td>ISI</td><td>497.5995</td></tr>\n",
       "\t<tr><td>A13G6IRFQBEE8K</td><td>Streamed</td><td>ISI</td><td>319.0227</td></tr>\n",
       "\t<tr><td>A13YOOKZFZJJ10</td><td>Coupled </td><td>ISI</td><td>521.2245</td></tr>\n",
       "\t<tr><td>A19X8IA9EKC3XH</td><td>Streamed</td><td>ISI</td><td>373.4875</td></tr>\n",
       "\t<tr><td>A1DHJE69R494AH</td><td>Coupled </td><td>ISI</td><td>517.5645</td></tr>\n",
       "\t<tr><td>A1EP3XESXAG0EP</td><td>Coupled </td><td>ISI</td><td>487.8959</td></tr>\n",
       "\t<tr><td>A1FG2G0J8M9Q0N</td><td>Coupled </td><td>ISI</td><td>676.5912</td></tr>\n",
       "\t<tr><td>A1RH69F7I73LRW</td><td>Streamed</td><td>ISI</td><td>384.3394</td></tr>\n",
       "</tbody>\n",
       "</table>\n"
      ],
      "text/latex": [
       "A grouped\\_df: 10 × 4\n",
       "\\begin{tabular}{llll}\n",
       " Subject & Group & Timing & Value\\\\\n",
       " <chr> & <chr> & <chr> & <dbl>\\\\\n",
       "\\hline\n",
       "\t A11LNK1U3DT08V & Coupled  & ISI & 481.8472\\\\\n",
       "\t A122LRCSBAD6DC & Streamed & ISI & 460.6625\\\\\n",
       "\t A13B8594JIUFDF & Coupled  & ISI & 497.5995\\\\\n",
       "\t A13G6IRFQBEE8K & Streamed & ISI & 319.0227\\\\\n",
       "\t A13YOOKZFZJJ10 & Coupled  & ISI & 521.2245\\\\\n",
       "\t A19X8IA9EKC3XH & Streamed & ISI & 373.4875\\\\\n",
       "\t A1DHJE69R494AH & Coupled  & ISI & 517.5645\\\\\n",
       "\t A1EP3XESXAG0EP & Coupled  & ISI & 487.8959\\\\\n",
       "\t A1FG2G0J8M9Q0N & Coupled  & ISI & 676.5912\\\\\n",
       "\t A1RH69F7I73LRW & Streamed & ISI & 384.3394\\\\\n",
       "\\end{tabular}\n"
      ],
      "text/markdown": [
       "\n",
       "A grouped_df: 10 × 4\n",
       "\n",
       "| Subject &lt;chr&gt; | Group &lt;chr&gt; | Timing &lt;chr&gt; | Value &lt;dbl&gt; |\n",
       "|---|---|---|---|\n",
       "| A11LNK1U3DT08V | Coupled  | ISI | 481.8472 |\n",
       "| A122LRCSBAD6DC | Streamed | ISI | 460.6625 |\n",
       "| A13B8594JIUFDF | Coupled  | ISI | 497.5995 |\n",
       "| A13G6IRFQBEE8K | Streamed | ISI | 319.0227 |\n",
       "| A13YOOKZFZJJ10 | Coupled  | ISI | 521.2245 |\n",
       "| A19X8IA9EKC3XH | Streamed | ISI | 373.4875 |\n",
       "| A1DHJE69R494AH | Coupled  | ISI | 517.5645 |\n",
       "| A1EP3XESXAG0EP | Coupled  | ISI | 487.8959 |\n",
       "| A1FG2G0J8M9Q0N | Coupled  | ISI | 676.5912 |\n",
       "| A1RH69F7I73LRW | Streamed | ISI | 384.3394 |\n",
       "\n"
      ],
      "text/plain": [
       "   Subject        Group    Timing Value   \n",
       "1  A11LNK1U3DT08V Coupled  ISI    481.8472\n",
       "2  A122LRCSBAD6DC Streamed ISI    460.6625\n",
       "3  A13B8594JIUFDF Coupled  ISI    497.5995\n",
       "4  A13G6IRFQBEE8K Streamed ISI    319.0227\n",
       "5  A13YOOKZFZJJ10 Coupled  ISI    521.2245\n",
       "6  A19X8IA9EKC3XH Streamed ISI    373.4875\n",
       "7  A1DHJE69R494AH Coupled  ISI    517.5645\n",
       "8  A1EP3XESXAG0EP Coupled  ISI    487.8959\n",
       "9  A1FG2G0J8M9Q0N Coupled  ISI    676.5912\n",
       "10 A1RH69F7I73LRW Streamed ISI    384.3394"
      ]
     },
     "metadata": {},
     "output_type": "display_data"
    }
   ],
   "source": [
    "#Prepare ISI table\n",
    "nb_rows<-nrow(new_data)\n",
    "nb_rows\n",
    "ISI_vec <- rep('ISI', nb_rows) \n",
    "anova_isi <- new_data[c('Subject','Group')]\n",
    "#ISI_vec\n",
    "anova_isi$Timing <- ISI_vec\n",
    "anova_isi$Value <- new_data$ISI\n",
    "head(anova_isi,10)"
   ]
  },
  {
   "cell_type": "code",
   "execution_count": 10,
   "id": "87d547a9",
   "metadata": {},
   "outputs": [
    {
     "data": {
      "text/html": [
       "41"
      ],
      "text/latex": [
       "41"
      ],
      "text/markdown": [
       "41"
      ],
      "text/plain": [
       "[1] 41"
      ]
     },
     "metadata": {},
     "output_type": "display_data"
    },
    {
     "data": {
      "text/html": [
       "<table class=\"dataframe\">\n",
       "<caption>A grouped_df: 10 × 4</caption>\n",
       "<thead>\n",
       "\t<tr><th scope=col>Subject</th><th scope=col>Group</th><th scope=col>Timing</th><th scope=col>Value</th></tr>\n",
       "\t<tr><th scope=col>&lt;chr&gt;</th><th scope=col>&lt;chr&gt;</th><th scope=col>&lt;chr&gt;</th><th scope=col>&lt;dbl&gt;</th></tr>\n",
       "</thead>\n",
       "<tbody>\n",
       "\t<tr><td>A11LNK1U3DT08V</td><td>Coupled </td><td>IRI</td><td>499.1412</td></tr>\n",
       "\t<tr><td>A122LRCSBAD6DC</td><td>Streamed</td><td>IRI</td><td>499.3466</td></tr>\n",
       "\t<tr><td>A13B8594JIUFDF</td><td>Coupled </td><td>IRI</td><td>496.8054</td></tr>\n",
       "\t<tr><td>A13G6IRFQBEE8K</td><td>Streamed</td><td>IRI</td><td>492.6920</td></tr>\n",
       "\t<tr><td>A13YOOKZFZJJ10</td><td>Coupled </td><td>IRI</td><td>506.1553</td></tr>\n",
       "\t<tr><td>A19X8IA9EKC3XH</td><td>Streamed</td><td>IRI</td><td>502.4523</td></tr>\n",
       "\t<tr><td>A1DHJE69R494AH</td><td>Coupled </td><td>IRI</td><td>492.1175</td></tr>\n",
       "\t<tr><td>A1EP3XESXAG0EP</td><td>Coupled </td><td>IRI</td><td>496.4038</td></tr>\n",
       "\t<tr><td>A1FG2G0J8M9Q0N</td><td>Coupled </td><td>IRI</td><td>486.1787</td></tr>\n",
       "\t<tr><td>A1RH69F7I73LRW</td><td>Streamed</td><td>IRI</td><td>501.5395</td></tr>\n",
       "</tbody>\n",
       "</table>\n"
      ],
      "text/latex": [
       "A grouped\\_df: 10 × 4\n",
       "\\begin{tabular}{llll}\n",
       " Subject & Group & Timing & Value\\\\\n",
       " <chr> & <chr> & <chr> & <dbl>\\\\\n",
       "\\hline\n",
       "\t A11LNK1U3DT08V & Coupled  & IRI & 499.1412\\\\\n",
       "\t A122LRCSBAD6DC & Streamed & IRI & 499.3466\\\\\n",
       "\t A13B8594JIUFDF & Coupled  & IRI & 496.8054\\\\\n",
       "\t A13G6IRFQBEE8K & Streamed & IRI & 492.6920\\\\\n",
       "\t A13YOOKZFZJJ10 & Coupled  & IRI & 506.1553\\\\\n",
       "\t A19X8IA9EKC3XH & Streamed & IRI & 502.4523\\\\\n",
       "\t A1DHJE69R494AH & Coupled  & IRI & 492.1175\\\\\n",
       "\t A1EP3XESXAG0EP & Coupled  & IRI & 496.4038\\\\\n",
       "\t A1FG2G0J8M9Q0N & Coupled  & IRI & 486.1787\\\\\n",
       "\t A1RH69F7I73LRW & Streamed & IRI & 501.5395\\\\\n",
       "\\end{tabular}\n"
      ],
      "text/markdown": [
       "\n",
       "A grouped_df: 10 × 4\n",
       "\n",
       "| Subject &lt;chr&gt; | Group &lt;chr&gt; | Timing &lt;chr&gt; | Value &lt;dbl&gt; |\n",
       "|---|---|---|---|\n",
       "| A11LNK1U3DT08V | Coupled  | IRI | 499.1412 |\n",
       "| A122LRCSBAD6DC | Streamed | IRI | 499.3466 |\n",
       "| A13B8594JIUFDF | Coupled  | IRI | 496.8054 |\n",
       "| A13G6IRFQBEE8K | Streamed | IRI | 492.6920 |\n",
       "| A13YOOKZFZJJ10 | Coupled  | IRI | 506.1553 |\n",
       "| A19X8IA9EKC3XH | Streamed | IRI | 502.4523 |\n",
       "| A1DHJE69R494AH | Coupled  | IRI | 492.1175 |\n",
       "| A1EP3XESXAG0EP | Coupled  | IRI | 496.4038 |\n",
       "| A1FG2G0J8M9Q0N | Coupled  | IRI | 486.1787 |\n",
       "| A1RH69F7I73LRW | Streamed | IRI | 501.5395 |\n",
       "\n"
      ],
      "text/plain": [
       "   Subject        Group    Timing Value   \n",
       "1  A11LNK1U3DT08V Coupled  IRI    499.1412\n",
       "2  A122LRCSBAD6DC Streamed IRI    499.3466\n",
       "3  A13B8594JIUFDF Coupled  IRI    496.8054\n",
       "4  A13G6IRFQBEE8K Streamed IRI    492.6920\n",
       "5  A13YOOKZFZJJ10 Coupled  IRI    506.1553\n",
       "6  A19X8IA9EKC3XH Streamed IRI    502.4523\n",
       "7  A1DHJE69R494AH Coupled  IRI    492.1175\n",
       "8  A1EP3XESXAG0EP Coupled  IRI    496.4038\n",
       "9  A1FG2G0J8M9Q0N Coupled  IRI    486.1787\n",
       "10 A1RH69F7I73LRW Streamed IRI    501.5395"
      ]
     },
     "metadata": {},
     "output_type": "display_data"
    }
   ],
   "source": [
    "#Prepare IRI table\n",
    "nb_rows<-nrow(new_data)\n",
    "nb_rows\n",
    "IRI_vec <- rep('IRI', nb_rows) \n",
    "anova_iri <- new_data[c('Subject','Group')]\n",
    "#IRI_vec\n",
    "anova_iri$Timing <- IRI_vec\n",
    "anova_iri$Value <- new_data$IRI\n",
    "head(anova_iri,10)"
   ]
  },
  {
   "cell_type": "code",
   "execution_count": 11,
   "id": "62668ee2",
   "metadata": {},
   "outputs": [
    {
     "data": {
      "text/html": [
       "82"
      ],
      "text/latex": [
       "82"
      ],
      "text/markdown": [
       "82"
      ],
      "text/plain": [
       "[1] 82"
      ]
     },
     "metadata": {},
     "output_type": "display_data"
    },
    {
     "data": {
      "text/html": [
       "<table class=\"dataframe\">\n",
       "<caption>A grouped_df: 10 × 4</caption>\n",
       "<thead>\n",
       "\t<tr><th scope=col>Subject</th><th scope=col>Group</th><th scope=col>Timing</th><th scope=col>Value</th></tr>\n",
       "\t<tr><th scope=col>&lt;chr&gt;</th><th scope=col>&lt;chr&gt;</th><th scope=col>&lt;chr&gt;</th><th scope=col>&lt;dbl&gt;</th></tr>\n",
       "</thead>\n",
       "<tbody>\n",
       "\t<tr><td>ACGHHDT7RY1AH</td><td>Streamed</td><td>IRI</td><td>502.7714</td></tr>\n",
       "\t<tr><td>AFM65NU0UXIGP</td><td>Streamed</td><td>IRI</td><td>492.1771</td></tr>\n",
       "\t<tr><td>AJZYNIL3ITOK0</td><td>Coupled </td><td>IRI</td><td>497.9586</td></tr>\n",
       "\t<tr><td>AQXRHIMQ7UK7O</td><td>Coupled </td><td>IRI</td><td>504.2036</td></tr>\n",
       "\t<tr><td>ASZBND3G5UYJG</td><td>Coupled </td><td>IRI</td><td>482.9085</td></tr>\n",
       "\t<tr><td>AUPXYEKITX8UT</td><td>Coupled </td><td>IRI</td><td>482.8674</td></tr>\n",
       "\t<tr><td>AXMPSUNKUBEIL</td><td>Coupled </td><td>IRI</td><td>516.7413</td></tr>\n",
       "\t<tr><td>AY4PZPXHSRCP5</td><td>Coupled </td><td>IRI</td><td>501.2491</td></tr>\n",
       "\t<tr><td>AY5OS6NZWVX22</td><td>Coupled </td><td>IRI</td><td>503.8019</td></tr>\n",
       "\t<tr><td>AZ8NBOTCBCLKG</td><td>Coupled </td><td>IRI</td><td>516.6205</td></tr>\n",
       "</tbody>\n",
       "</table>\n"
      ],
      "text/latex": [
       "A grouped\\_df: 10 × 4\n",
       "\\begin{tabular}{llll}\n",
       " Subject & Group & Timing & Value\\\\\n",
       " <chr> & <chr> & <chr> & <dbl>\\\\\n",
       "\\hline\n",
       "\t ACGHHDT7RY1AH & Streamed & IRI & 502.7714\\\\\n",
       "\t AFM65NU0UXIGP & Streamed & IRI & 492.1771\\\\\n",
       "\t AJZYNIL3ITOK0 & Coupled  & IRI & 497.9586\\\\\n",
       "\t AQXRHIMQ7UK7O & Coupled  & IRI & 504.2036\\\\\n",
       "\t ASZBND3G5UYJG & Coupled  & IRI & 482.9085\\\\\n",
       "\t AUPXYEKITX8UT & Coupled  & IRI & 482.8674\\\\\n",
       "\t AXMPSUNKUBEIL & Coupled  & IRI & 516.7413\\\\\n",
       "\t AY4PZPXHSRCP5 & Coupled  & IRI & 501.2491\\\\\n",
       "\t AY5OS6NZWVX22 & Coupled  & IRI & 503.8019\\\\\n",
       "\t AZ8NBOTCBCLKG & Coupled  & IRI & 516.6205\\\\\n",
       "\\end{tabular}\n"
      ],
      "text/markdown": [
       "\n",
       "A grouped_df: 10 × 4\n",
       "\n",
       "| Subject &lt;chr&gt; | Group &lt;chr&gt; | Timing &lt;chr&gt; | Value &lt;dbl&gt; |\n",
       "|---|---|---|---|\n",
       "| ACGHHDT7RY1AH | Streamed | IRI | 502.7714 |\n",
       "| AFM65NU0UXIGP | Streamed | IRI | 492.1771 |\n",
       "| AJZYNIL3ITOK0 | Coupled  | IRI | 497.9586 |\n",
       "| AQXRHIMQ7UK7O | Coupled  | IRI | 504.2036 |\n",
       "| ASZBND3G5UYJG | Coupled  | IRI | 482.9085 |\n",
       "| AUPXYEKITX8UT | Coupled  | IRI | 482.8674 |\n",
       "| AXMPSUNKUBEIL | Coupled  | IRI | 516.7413 |\n",
       "| AY4PZPXHSRCP5 | Coupled  | IRI | 501.2491 |\n",
       "| AY5OS6NZWVX22 | Coupled  | IRI | 503.8019 |\n",
       "| AZ8NBOTCBCLKG | Coupled  | IRI | 516.6205 |\n",
       "\n"
      ],
      "text/plain": [
       "   Subject       Group    Timing Value   \n",
       "1  ACGHHDT7RY1AH Streamed IRI    502.7714\n",
       "2  AFM65NU0UXIGP Streamed IRI    492.1771\n",
       "3  AJZYNIL3ITOK0 Coupled  IRI    497.9586\n",
       "4  AQXRHIMQ7UK7O Coupled  IRI    504.2036\n",
       "5  ASZBND3G5UYJG Coupled  IRI    482.9085\n",
       "6  AUPXYEKITX8UT Coupled  IRI    482.8674\n",
       "7  AXMPSUNKUBEIL Coupled  IRI    516.7413\n",
       "8  AY4PZPXHSRCP5 Coupled  IRI    501.2491\n",
       "9  AY5OS6NZWVX22 Coupled  IRI    503.8019\n",
       "10 AZ8NBOTCBCLKG Coupled  IRI    516.6205"
      ]
     },
     "metadata": {},
     "output_type": "display_data"
    }
   ],
   "source": [
    "#concatenate two tables\n",
    "anova_data = rbind(anova_isi,anova_iri)\n",
    "nb_rows2 <- nrow(anova_data)\n",
    "nb_rows2\n",
    "tail(anova_data,10)"
   ]
  },
  {
   "cell_type": "code",
   "execution_count": 12,
   "id": "d6e86579",
   "metadata": {},
   "outputs": [
    {
     "data": {
      "text/html": [
       "<table class=\"dataframe\">\n",
       "<caption>A grouped_df: 10 × 4</caption>\n",
       "<thead>\n",
       "\t<tr><th scope=col>Subject</th><th scope=col>Group</th><th scope=col>Timing</th><th scope=col>Value</th></tr>\n",
       "\t<tr><th scope=col>&lt;fct&gt;</th><th scope=col>&lt;fct&gt;</th><th scope=col>&lt;fct&gt;</th><th scope=col>&lt;dbl&gt;</th></tr>\n",
       "</thead>\n",
       "<tbody>\n",
       "\t<tr><td>A11LNK1U3DT08V</td><td>Coupled </td><td>ISI</td><td>481.8472</td></tr>\n",
       "\t<tr><td>A122LRCSBAD6DC</td><td>Streamed</td><td>ISI</td><td>460.6625</td></tr>\n",
       "\t<tr><td>A13B8594JIUFDF</td><td>Coupled </td><td>ISI</td><td>497.5995</td></tr>\n",
       "\t<tr><td>A13G6IRFQBEE8K</td><td>Streamed</td><td>ISI</td><td>319.0227</td></tr>\n",
       "\t<tr><td>A13YOOKZFZJJ10</td><td>Coupled </td><td>ISI</td><td>521.2245</td></tr>\n",
       "\t<tr><td>A19X8IA9EKC3XH</td><td>Streamed</td><td>ISI</td><td>373.4875</td></tr>\n",
       "\t<tr><td>A1DHJE69R494AH</td><td>Coupled </td><td>ISI</td><td>517.5645</td></tr>\n",
       "\t<tr><td>A1EP3XESXAG0EP</td><td>Coupled </td><td>ISI</td><td>487.8959</td></tr>\n",
       "\t<tr><td>A1FG2G0J8M9Q0N</td><td>Coupled </td><td>ISI</td><td>676.5912</td></tr>\n",
       "\t<tr><td>A1RH69F7I73LRW</td><td>Streamed</td><td>ISI</td><td>384.3394</td></tr>\n",
       "</tbody>\n",
       "</table>\n"
      ],
      "text/latex": [
       "A grouped\\_df: 10 × 4\n",
       "\\begin{tabular}{llll}\n",
       " Subject & Group & Timing & Value\\\\\n",
       " <fct> & <fct> & <fct> & <dbl>\\\\\n",
       "\\hline\n",
       "\t A11LNK1U3DT08V & Coupled  & ISI & 481.8472\\\\\n",
       "\t A122LRCSBAD6DC & Streamed & ISI & 460.6625\\\\\n",
       "\t A13B8594JIUFDF & Coupled  & ISI & 497.5995\\\\\n",
       "\t A13G6IRFQBEE8K & Streamed & ISI & 319.0227\\\\\n",
       "\t A13YOOKZFZJJ10 & Coupled  & ISI & 521.2245\\\\\n",
       "\t A19X8IA9EKC3XH & Streamed & ISI & 373.4875\\\\\n",
       "\t A1DHJE69R494AH & Coupled  & ISI & 517.5645\\\\\n",
       "\t A1EP3XESXAG0EP & Coupled  & ISI & 487.8959\\\\\n",
       "\t A1FG2G0J8M9Q0N & Coupled  & ISI & 676.5912\\\\\n",
       "\t A1RH69F7I73LRW & Streamed & ISI & 384.3394\\\\\n",
       "\\end{tabular}\n"
      ],
      "text/markdown": [
       "\n",
       "A grouped_df: 10 × 4\n",
       "\n",
       "| Subject &lt;fct&gt; | Group &lt;fct&gt; | Timing &lt;fct&gt; | Value &lt;dbl&gt; |\n",
       "|---|---|---|---|\n",
       "| A11LNK1U3DT08V | Coupled  | ISI | 481.8472 |\n",
       "| A122LRCSBAD6DC | Streamed | ISI | 460.6625 |\n",
       "| A13B8594JIUFDF | Coupled  | ISI | 497.5995 |\n",
       "| A13G6IRFQBEE8K | Streamed | ISI | 319.0227 |\n",
       "| A13YOOKZFZJJ10 | Coupled  | ISI | 521.2245 |\n",
       "| A19X8IA9EKC3XH | Streamed | ISI | 373.4875 |\n",
       "| A1DHJE69R494AH | Coupled  | ISI | 517.5645 |\n",
       "| A1EP3XESXAG0EP | Coupled  | ISI | 487.8959 |\n",
       "| A1FG2G0J8M9Q0N | Coupled  | ISI | 676.5912 |\n",
       "| A1RH69F7I73LRW | Streamed | ISI | 384.3394 |\n",
       "\n"
      ],
      "text/plain": [
       "   Subject        Group    Timing Value   \n",
       "1  A11LNK1U3DT08V Coupled  ISI    481.8472\n",
       "2  A122LRCSBAD6DC Streamed ISI    460.6625\n",
       "3  A13B8594JIUFDF Coupled  ISI    497.5995\n",
       "4  A13G6IRFQBEE8K Streamed ISI    319.0227\n",
       "5  A13YOOKZFZJJ10 Coupled  ISI    521.2245\n",
       "6  A19X8IA9EKC3XH Streamed ISI    373.4875\n",
       "7  A1DHJE69R494AH Coupled  ISI    517.5645\n",
       "8  A1EP3XESXAG0EP Coupled  ISI    487.8959\n",
       "9  A1FG2G0J8M9Q0N Coupled  ISI    676.5912\n",
       "10 A1RH69F7I73LRW Streamed ISI    384.3394"
      ]
     },
     "metadata": {},
     "output_type": "display_data"
    }
   ],
   "source": [
    "#need factors for ANOVA\n",
    "anova_df <- anova_data %>% \n",
    "  convert_as_factor(Subject,Group,Timing)\n",
    "head(anova_df, 10)\n",
    "#anova_df$Timing"
   ]
  },
  {
   "cell_type": "code",
   "execution_count": 13,
   "id": "6fa3d910",
   "metadata": {},
   "outputs": [
    {
     "data": {
      "text/html": [
       "<table class=\"dataframe\">\n",
       "<caption>A anova_test: 3 × 7</caption>\n",
       "<thead>\n",
       "\t<tr><th></th><th scope=col>Effect</th><th scope=col>DFn</th><th scope=col>DFd</th><th scope=col>F</th><th scope=col>p</th><th scope=col>p&lt;.05</th><th scope=col>ges</th></tr>\n",
       "\t<tr><th></th><th scope=col>&lt;chr&gt;</th><th scope=col>&lt;dbl&gt;</th><th scope=col>&lt;dbl&gt;</th><th scope=col>&lt;dbl&gt;</th><th scope=col>&lt;dbl&gt;</th><th scope=col>&lt;chr&gt;</th><th scope=col>&lt;dbl&gt;</th></tr>\n",
       "</thead>\n",
       "<tbody>\n",
       "\t<tr><th scope=row>1</th><td>Group       </td><td>1</td><td>39</td><td>25.449</td><td>1.09e-05</td><td>*</td><td>0.247</td></tr>\n",
       "\t<tr><th scope=row>2</th><td>Timing      </td><td>1</td><td>39</td><td> 3.477</td><td>7.00e-02</td><td> </td><td>0.042</td></tr>\n",
       "\t<tr><th scope=row>3</th><td>Group:Timing</td><td>1</td><td>39</td><td>27.340</td><td>6.07e-06</td><td>*</td><td>0.259</td></tr>\n",
       "</tbody>\n",
       "</table>\n"
      ],
      "text/latex": [
       "A anova\\_test: 3 × 7\n",
       "\\begin{tabular}{r|lllllll}\n",
       "  & Effect & DFn & DFd & F & p & p<.05 & ges\\\\\n",
       "  & <chr> & <dbl> & <dbl> & <dbl> & <dbl> & <chr> & <dbl>\\\\\n",
       "\\hline\n",
       "\t1 & Group        & 1 & 39 & 25.449 & 1.09e-05 & * & 0.247\\\\\n",
       "\t2 & Timing       & 1 & 39 &  3.477 & 7.00e-02 &   & 0.042\\\\\n",
       "\t3 & Group:Timing & 1 & 39 & 27.340 & 6.07e-06 & * & 0.259\\\\\n",
       "\\end{tabular}\n"
      ],
      "text/markdown": [
       "\n",
       "A anova_test: 3 × 7\n",
       "\n",
       "| <!--/--> | Effect &lt;chr&gt; | DFn &lt;dbl&gt; | DFd &lt;dbl&gt; | F &lt;dbl&gt; | p &lt;dbl&gt; | p&lt;.05 &lt;chr&gt; | ges &lt;dbl&gt; |\n",
       "|---|---|---|---|---|---|---|---|\n",
       "| 1 | Group        | 1 | 39 | 25.449 | 1.09e-05 | * | 0.247 |\n",
       "| 2 | Timing       | 1 | 39 |  3.477 | 7.00e-02 | <!----> | 0.042 |\n",
       "| 3 | Group:Timing | 1 | 39 | 27.340 | 6.07e-06 | * | 0.259 |\n",
       "\n"
      ],
      "text/plain": [
       "  Effect       DFn DFd F      p        p<.05 ges  \n",
       "1 Group        1   39  25.449 1.09e-05 *     0.247\n",
       "2 Timing       1   39   3.477 7.00e-02       0.042\n",
       "3 Group:Timing 1   39  27.340 6.07e-06 *     0.259"
      ]
     },
     "metadata": {},
     "output_type": "display_data"
    }
   ],
   "source": [
    "####### mixed ANOVA ####### Use this for paper\n",
    "anova_df$Value <- as.numeric(anova_df$Value)\n",
    "anova_df <- ungroup(anova_df)\n",
    "ws_anova <- anova_test(\n",
    "  data = anova_df, dv = Value, wid = Subject,\n",
    "  within = c(Timing),between=c(Group)\n",
    ")\n",
    "get_anova_table(ws_anova)"
   ]
  },
  {
   "cell_type": "code",
   "execution_count": 14,
   "id": "afb280c7",
   "metadata": {
    "scrolled": true
   },
   "outputs": [
    {
     "name": "stdout",
     "output_type": "stream",
     "text": [
      "[1] \"Streamed & Coupled ISI\"\n"
     ]
    },
    {
     "data": {
      "text/html": [
       "390.664666089068"
      ],
      "text/latex": [
       "390.664666089068"
      ],
      "text/markdown": [
       "390.664666089068"
      ],
      "text/plain": [
       "[1] 390.6647"
      ]
     },
     "metadata": {},
     "output_type": "display_data"
    },
    {
     "data": {
      "text/html": [
       "546.745278181346"
      ],
      "text/latex": [
       "546.745278181346"
      ],
      "text/markdown": [
       "546.745278181346"
      ],
      "text/plain": [
       "[1] 546.7453"
      ]
     },
     "metadata": {},
     "output_type": "display_data"
    },
    {
     "name": "stdout",
     "output_type": "stream",
     "text": [
      "[1] \"Streamed & Coupled IRI\"\n"
     ]
    },
    {
     "data": {
      "text/html": [
       "498.188800731794"
      ],
      "text/latex": [
       "498.188800731794"
      ],
      "text/markdown": [
       "498.188800731794"
      ],
      "text/plain": [
       "[1] 498.1888"
      ]
     },
     "metadata": {},
     "output_type": "display_data"
    },
    {
     "data": {
      "text/html": [
       "495.752739796373"
      ],
      "text/latex": [
       "495.752739796373"
      ],
      "text/markdown": [
       "495.752739796373"
      ],
      "text/plain": [
       "[1] 495.7527"
      ]
     },
     "metadata": {},
     "output_type": "display_data"
    }
   ],
   "source": [
    "Streamed_df = new_data %>% filter(Group=='Streamed')\n",
    "Coupled_df = new_data %>% filter(Group=='Coupled')\n",
    "print(\"Streamed & Coupled ISI\")\n",
    "mean(Streamed_df$ISI)\n",
    "mean(Coupled_df$ISI)\n",
    "print(\"Streamed & Coupled IRI\")\n",
    "mean(Streamed_df$IRI)\n",
    "mean(Coupled_df$IRI)"
   ]
  },
  {
   "cell_type": "code",
   "execution_count": 15,
   "id": "3aba66e5",
   "metadata": {},
   "outputs": [
    {
     "name": "stdout",
     "output_type": "stream",
     "text": [
      "[1] \"Streamed & Coupled IPI\"\n"
     ]
    },
    {
     "data": {
      "text/html": [
       "444.426733410431"
      ],
      "text/latex": [
       "444.426733410431"
      ],
      "text/markdown": [
       "444.426733410431"
      ],
      "text/plain": [
       "[1] 444.4267"
      ]
     },
     "metadata": {},
     "output_type": "display_data"
    },
    {
     "data": {
      "text/html": [
       "521.249008988859"
      ],
      "text/latex": [
       "521.249008988859"
      ],
      "text/markdown": [
       "521.249008988859"
      ],
      "text/plain": [
       "[1] 521.249"
      ]
     },
     "metadata": {},
     "output_type": "display_data"
    }
   ],
   "source": [
    "Streamed_df = anova_df %>% filter(Group=='Streamed')\n",
    "Coupled_df = anova_df %>% filter(Group=='Coupled')\n",
    "print(\"Streamed & Coupled IPI\")\n",
    "mean(Streamed_df$Value)\n",
    "mean(Coupled_df$Value)"
   ]
  },
  {
   "cell_type": "code",
   "execution_count": 20,
   "id": "4a195f54",
   "metadata": {},
   "outputs": [
    {
     "data": {
      "text/html": [
       "<table class=\"dataframe\">\n",
       "<caption>A rstatix_test: 1 × 9</caption>\n",
       "<thead>\n",
       "\t<tr><th></th><th scope=col>.y.</th><th scope=col>group1</th><th scope=col>group2</th><th scope=col>n1</th><th scope=col>n2</th><th scope=col>p</th><th scope=col>p.signif</th><th scope=col>p.adj</th><th scope=col>p.adj.signif</th></tr>\n",
       "\t<tr><th></th><th scope=col>&lt;chr&gt;</th><th scope=col>&lt;chr&gt;</th><th scope=col>&lt;chr&gt;</th><th scope=col>&lt;int&gt;</th><th scope=col>&lt;int&gt;</th><th scope=col>&lt;dbl&gt;</th><th scope=col>&lt;chr&gt;</th><th scope=col>&lt;dbl&gt;</th><th scope=col>&lt;chr&gt;</th></tr>\n",
       "</thead>\n",
       "<tbody>\n",
       "\t<tr><th scope=row>1</th><td>Value</td><td>Coupled</td><td>Streamed</td><td>64</td><td>18</td><td>3.63e-05</td><td>****</td><td>3.63e-05</td><td>****</td></tr>\n",
       "</tbody>\n",
       "</table>\n"
      ],
      "text/latex": [
       "A rstatix\\_test: 1 × 9\n",
       "\\begin{tabular}{r|lllllllll}\n",
       "  & .y. & group1 & group2 & n1 & n2 & p & p.signif & p.adj & p.adj.signif\\\\\n",
       "  & <chr> & <chr> & <chr> & <int> & <int> & <dbl> & <chr> & <dbl> & <chr>\\\\\n",
       "\\hline\n",
       "\t1 & Value & Coupled & Streamed & 64 & 18 & 3.63e-05 & **** & 3.63e-05 & ****\\\\\n",
       "\\end{tabular}\n"
      ],
      "text/markdown": [
       "\n",
       "A rstatix_test: 1 × 9\n",
       "\n",
       "| <!--/--> | .y. &lt;chr&gt; | group1 &lt;chr&gt; | group2 &lt;chr&gt; | n1 &lt;int&gt; | n2 &lt;int&gt; | p &lt;dbl&gt; | p.signif &lt;chr&gt; | p.adj &lt;dbl&gt; | p.adj.signif &lt;chr&gt; |\n",
       "|---|---|---|---|---|---|---|---|---|---|\n",
       "| 1 | Value | Coupled | Streamed | 64 | 18 | 3.63e-05 | **** | 3.63e-05 | **** |\n",
       "\n"
      ],
      "text/plain": [
       "  .y.   group1  group2   n1 n2 p        p.signif p.adj    p.adj.signif\n",
       "1 Value Coupled Streamed 64 18 3.63e-05 ****     3.63e-05 ****        "
      ]
     },
     "metadata": {},
     "output_type": "display_data"
    }
   ],
   "source": [
    "#Post-hoc tests\n",
    "times <- ddply(anova_df, c(\"Group\",\"Timing\",\"Subject\"), summarize, Value=mean(Value))\n",
    "#head(times,5)\n",
    "pwc <- times %>%\n",
    "  pairwise_t_test(\n",
    "    Value ~ Group, paired = FALSE,\n",
    "    p.adjust.method = \"bonferroni\"\n",
    "  )\n",
    "pwc"
   ]
  },
  {
   "cell_type": "code",
   "execution_count": 21,
   "id": "032383e3",
   "metadata": {},
   "outputs": [
    {
     "data": {
      "text/html": [
       "82"
      ],
      "text/latex": [
       "82"
      ],
      "text/markdown": [
       "82"
      ],
      "text/plain": [
       "[1] 82"
      ]
     },
     "metadata": {},
     "output_type": "display_data"
    },
    {
     "name": "stdout",
     "output_type": "stream",
     "text": [
      " [1] \"Coupled ISI\"  \"Streamed ISI\" \"Coupled ISI\"  \"Streamed ISI\" \"Coupled ISI\" \n",
      " [6] \"Streamed ISI\" \"Coupled ISI\"  \"Coupled ISI\"  \"Coupled ISI\"  \"Streamed ISI\"\n",
      "[11] \"Coupled ISI\"  \"Streamed ISI\" \"Streamed ISI\" \"Coupled ISI\"  \"Coupled ISI\" \n",
      "[16] \"Coupled ISI\"  \"Coupled ISI\"  \"Coupled ISI\"  \"Coupled ISI\"  \"Coupled ISI\" \n",
      "[21] \"Coupled ISI\"  \"Coupled ISI\"  \"Coupled ISI\"  \"Coupled ISI\"  \"Coupled ISI\" \n",
      "[26] \"Coupled ISI\"  \"Coupled ISI\"  \"Coupled ISI\"  \"Coupled ISI\"  \"Coupled ISI\" \n",
      "[31] \"Streamed ISI\" \"Streamed ISI\" \"Streamed ISI\" \"Coupled ISI\"  \"Coupled ISI\" \n",
      "[36] \"Coupled ISI\"  \"Coupled ISI\"  \"Coupled ISI\"  \"Coupled ISI\"  \"Coupled ISI\" \n",
      "[41] \"Coupled ISI\"  \"Coupled IRI\"  \"Streamed IRI\" \"Coupled IRI\"  \"Streamed IRI\"\n",
      "[46] \"Coupled IRI\"  \"Streamed IRI\" \"Coupled IRI\"  \"Coupled IRI\"  \"Coupled IRI\" \n",
      "[51] \"Streamed IRI\" \"Coupled IRI\"  \"Streamed IRI\" \"Streamed IRI\" \"Coupled IRI\" \n",
      "[56] \"Coupled IRI\"  \"Coupled IRI\"  \"Coupled IRI\"  \"Coupled IRI\"  \"Coupled IRI\" \n",
      "[61] \"Coupled IRI\"  \"Coupled IRI\"  \"Coupled IRI\"  \"Coupled IRI\"  \"Coupled IRI\" \n",
      "[66] \"Coupled IRI\"  \"Coupled IRI\"  \"Coupled IRI\"  \"Coupled IRI\"  \"Coupled IRI\" \n",
      "[71] \"Coupled IRI\"  \"Streamed IRI\" \"Streamed IRI\" \"Streamed IRI\" \"Coupled IRI\" \n",
      "[76] \"Coupled IRI\"  \"Coupled IRI\"  \"Coupled IRI\"  \"Coupled IRI\"  \"Coupled IRI\" \n",
      "[81] \"Coupled IRI\"  \"Coupled IRI\" \n"
     ]
    },
    {
     "data": {
      "text/html": [
       "<table class=\"dataframe\">\n",
       "<caption>A grouped_df: 10 × 5</caption>\n",
       "<thead>\n",
       "\t<tr><th scope=col>Subject</th><th scope=col>Group</th><th scope=col>Timing</th><th scope=col>Value</th><th scope=col>Level</th></tr>\n",
       "\t<tr><th scope=col>&lt;chr&gt;</th><th scope=col>&lt;chr&gt;</th><th scope=col>&lt;chr&gt;</th><th scope=col>&lt;dbl&gt;</th><th scope=col>&lt;chr&gt;</th></tr>\n",
       "</thead>\n",
       "<tbody>\n",
       "\t<tr><td>ACGHHDT7RY1AH</td><td>Streamed</td><td>IRI</td><td>502.7714</td><td>Streamed IRI</td></tr>\n",
       "\t<tr><td>AFM65NU0UXIGP</td><td>Streamed</td><td>IRI</td><td>492.1771</td><td>Streamed IRI</td></tr>\n",
       "\t<tr><td>AJZYNIL3ITOK0</td><td>Coupled </td><td>IRI</td><td>497.9586</td><td>Coupled IRI </td></tr>\n",
       "\t<tr><td>AQXRHIMQ7UK7O</td><td>Coupled </td><td>IRI</td><td>504.2036</td><td>Coupled IRI </td></tr>\n",
       "\t<tr><td>ASZBND3G5UYJG</td><td>Coupled </td><td>IRI</td><td>482.9085</td><td>Coupled IRI </td></tr>\n",
       "\t<tr><td>AUPXYEKITX8UT</td><td>Coupled </td><td>IRI</td><td>482.8674</td><td>Coupled IRI </td></tr>\n",
       "\t<tr><td>AXMPSUNKUBEIL</td><td>Coupled </td><td>IRI</td><td>516.7413</td><td>Coupled IRI </td></tr>\n",
       "\t<tr><td>AY4PZPXHSRCP5</td><td>Coupled </td><td>IRI</td><td>501.2491</td><td>Coupled IRI </td></tr>\n",
       "\t<tr><td>AY5OS6NZWVX22</td><td>Coupled </td><td>IRI</td><td>503.8019</td><td>Coupled IRI </td></tr>\n",
       "\t<tr><td>AZ8NBOTCBCLKG</td><td>Coupled </td><td>IRI</td><td>516.6205</td><td>Coupled IRI </td></tr>\n",
       "</tbody>\n",
       "</table>\n"
      ],
      "text/latex": [
       "A grouped\\_df: 10 × 5\n",
       "\\begin{tabular}{lllll}\n",
       " Subject & Group & Timing & Value & Level\\\\\n",
       " <chr> & <chr> & <chr> & <dbl> & <chr>\\\\\n",
       "\\hline\n",
       "\t ACGHHDT7RY1AH & Streamed & IRI & 502.7714 & Streamed IRI\\\\\n",
       "\t AFM65NU0UXIGP & Streamed & IRI & 492.1771 & Streamed IRI\\\\\n",
       "\t AJZYNIL3ITOK0 & Coupled  & IRI & 497.9586 & Coupled IRI \\\\\n",
       "\t AQXRHIMQ7UK7O & Coupled  & IRI & 504.2036 & Coupled IRI \\\\\n",
       "\t ASZBND3G5UYJG & Coupled  & IRI & 482.9085 & Coupled IRI \\\\\n",
       "\t AUPXYEKITX8UT & Coupled  & IRI & 482.8674 & Coupled IRI \\\\\n",
       "\t AXMPSUNKUBEIL & Coupled  & IRI & 516.7413 & Coupled IRI \\\\\n",
       "\t AY4PZPXHSRCP5 & Coupled  & IRI & 501.2491 & Coupled IRI \\\\\n",
       "\t AY5OS6NZWVX22 & Coupled  & IRI & 503.8019 & Coupled IRI \\\\\n",
       "\t AZ8NBOTCBCLKG & Coupled  & IRI & 516.6205 & Coupled IRI \\\\\n",
       "\\end{tabular}\n"
      ],
      "text/markdown": [
       "\n",
       "A grouped_df: 10 × 5\n",
       "\n",
       "| Subject &lt;chr&gt; | Group &lt;chr&gt; | Timing &lt;chr&gt; | Value &lt;dbl&gt; | Level &lt;chr&gt; |\n",
       "|---|---|---|---|---|\n",
       "| ACGHHDT7RY1AH | Streamed | IRI | 502.7714 | Streamed IRI |\n",
       "| AFM65NU0UXIGP | Streamed | IRI | 492.1771 | Streamed IRI |\n",
       "| AJZYNIL3ITOK0 | Coupled  | IRI | 497.9586 | Coupled IRI  |\n",
       "| AQXRHIMQ7UK7O | Coupled  | IRI | 504.2036 | Coupled IRI  |\n",
       "| ASZBND3G5UYJG | Coupled  | IRI | 482.9085 | Coupled IRI  |\n",
       "| AUPXYEKITX8UT | Coupled  | IRI | 482.8674 | Coupled IRI  |\n",
       "| AXMPSUNKUBEIL | Coupled  | IRI | 516.7413 | Coupled IRI  |\n",
       "| AY4PZPXHSRCP5 | Coupled  | IRI | 501.2491 | Coupled IRI  |\n",
       "| AY5OS6NZWVX22 | Coupled  | IRI | 503.8019 | Coupled IRI  |\n",
       "| AZ8NBOTCBCLKG | Coupled  | IRI | 516.6205 | Coupled IRI  |\n",
       "\n"
      ],
      "text/plain": [
       "   Subject       Group    Timing Value    Level       \n",
       "1  ACGHHDT7RY1AH Streamed IRI    502.7714 Streamed IRI\n",
       "2  AFM65NU0UXIGP Streamed IRI    492.1771 Streamed IRI\n",
       "3  AJZYNIL3ITOK0 Coupled  IRI    497.9586 Coupled IRI \n",
       "4  AQXRHIMQ7UK7O Coupled  IRI    504.2036 Coupled IRI \n",
       "5  ASZBND3G5UYJG Coupled  IRI    482.9085 Coupled IRI \n",
       "6  AUPXYEKITX8UT Coupled  IRI    482.8674 Coupled IRI \n",
       "7  AXMPSUNKUBEIL Coupled  IRI    516.7413 Coupled IRI \n",
       "8  AY4PZPXHSRCP5 Coupled  IRI    501.2491 Coupled IRI \n",
       "9  AY5OS6NZWVX22 Coupled  IRI    503.8019 Coupled IRI \n",
       "10 AZ8NBOTCBCLKG Coupled  IRI    516.6205 Coupled IRI "
      ]
     },
     "metadata": {},
     "output_type": "display_data"
    }
   ],
   "source": [
    "#concatenate two tables\n",
    "interac_data = anova_data\n",
    "nb_rows2 <- nrow(interac_data)\n",
    "nb_rows2\n",
    "Interac <- print(paste(interac_data$Group,interac_data$Timing))\n",
    "interac_data$Level <- Interac\n",
    "tail(interac_data,10)"
   ]
  },
  {
   "cell_type": "code",
   "execution_count": 22,
   "id": "8997d145",
   "metadata": {},
   "outputs": [
    {
     "data": {
      "text/html": [
       "<table class=\"dataframe\">\n",
       "<caption>A rstatix_test: 6 × 9</caption>\n",
       "<thead>\n",
       "\t<tr><th></th><th scope=col>.y.</th><th scope=col>group1</th><th scope=col>group2</th><th scope=col>n1</th><th scope=col>n2</th><th scope=col>p</th><th scope=col>p.signif</th><th scope=col>p.adj</th><th scope=col>p.adj.signif</th></tr>\n",
       "\t<tr><th></th><th scope=col>&lt;chr&gt;</th><th scope=col>&lt;chr&gt;</th><th scope=col>&lt;chr&gt;</th><th scope=col>&lt;int&gt;</th><th scope=col>&lt;int&gt;</th><th scope=col>&lt;dbl&gt;</th><th scope=col>&lt;chr&gt;</th><th scope=col>&lt;dbl&gt;</th><th scope=col>&lt;chr&gt;</th></tr>\n",
       "</thead>\n",
       "<tbody>\n",
       "\t<tr><th scope=row>1</th><td>Value</td><td>Coupled IRI </td><td>Coupled ISI </td><td>32</td><td>32</td><td>5.92e-04</td><td>*** </td><td>3.55e-03</td><td>**  </td></tr>\n",
       "\t<tr><th scope=row>2</th><td>Value</td><td>Coupled IRI </td><td>Streamed IRI</td><td>32</td><td> 9</td><td>9.10e-01</td><td>ns  </td><td>1.00e+00</td><td>ns  </td></tr>\n",
       "\t<tr><th scope=row>3</th><td>Value</td><td>Coupled ISI </td><td>Streamed IRI</td><td>32</td><td> 9</td><td>2.66e-02</td><td>*   </td><td>1.60e-01</td><td>ns  </td></tr>\n",
       "\t<tr><th scope=row>4</th><td>Value</td><td>Coupled IRI </td><td>Streamed ISI</td><td>32</td><td> 9</td><td>5.28e-06</td><td>****</td><td>3.17e-05</td><td>****</td></tr>\n",
       "\t<tr><th scope=row>5</th><td>Value</td><td>Coupled ISI </td><td>Streamed ISI</td><td>32</td><td> 9</td><td>2.47e-10</td><td>****</td><td>1.48e-09</td><td>****</td></tr>\n",
       "\t<tr><th scope=row>6</th><td>Value</td><td>Streamed IRI</td><td>Streamed ISI</td><td> 9</td><td> 9</td><td>1.40e-04</td><td>*** </td><td>8.42e-04</td><td>*** </td></tr>\n",
       "</tbody>\n",
       "</table>\n"
      ],
      "text/latex": [
       "A rstatix\\_test: 6 × 9\n",
       "\\begin{tabular}{r|lllllllll}\n",
       "  & .y. & group1 & group2 & n1 & n2 & p & p.signif & p.adj & p.adj.signif\\\\\n",
       "  & <chr> & <chr> & <chr> & <int> & <int> & <dbl> & <chr> & <dbl> & <chr>\\\\\n",
       "\\hline\n",
       "\t1 & Value & Coupled IRI  & Coupled ISI  & 32 & 32 & 5.92e-04 & ***  & 3.55e-03 & **  \\\\\n",
       "\t2 & Value & Coupled IRI  & Streamed IRI & 32 &  9 & 9.10e-01 & ns   & 1.00e+00 & ns  \\\\\n",
       "\t3 & Value & Coupled ISI  & Streamed IRI & 32 &  9 & 2.66e-02 & *    & 1.60e-01 & ns  \\\\\n",
       "\t4 & Value & Coupled IRI  & Streamed ISI & 32 &  9 & 5.28e-06 & **** & 3.17e-05 & ****\\\\\n",
       "\t5 & Value & Coupled ISI  & Streamed ISI & 32 &  9 & 2.47e-10 & **** & 1.48e-09 & ****\\\\\n",
       "\t6 & Value & Streamed IRI & Streamed ISI &  9 &  9 & 1.40e-04 & ***  & 8.42e-04 & *** \\\\\n",
       "\\end{tabular}\n"
      ],
      "text/markdown": [
       "\n",
       "A rstatix_test: 6 × 9\n",
       "\n",
       "| <!--/--> | .y. &lt;chr&gt; | group1 &lt;chr&gt; | group2 &lt;chr&gt; | n1 &lt;int&gt; | n2 &lt;int&gt; | p &lt;dbl&gt; | p.signif &lt;chr&gt; | p.adj &lt;dbl&gt; | p.adj.signif &lt;chr&gt; |\n",
       "|---|---|---|---|---|---|---|---|---|---|\n",
       "| 1 | Value | Coupled IRI  | Coupled ISI  | 32 | 32 | 5.92e-04 | ***  | 3.55e-03 | **   |\n",
       "| 2 | Value | Coupled IRI  | Streamed IRI | 32 |  9 | 9.10e-01 | ns   | 1.00e+00 | ns   |\n",
       "| 3 | Value | Coupled ISI  | Streamed IRI | 32 |  9 | 2.66e-02 | *    | 1.60e-01 | ns   |\n",
       "| 4 | Value | Coupled IRI  | Streamed ISI | 32 |  9 | 5.28e-06 | **** | 3.17e-05 | **** |\n",
       "| 5 | Value | Coupled ISI  | Streamed ISI | 32 |  9 | 2.47e-10 | **** | 1.48e-09 | **** |\n",
       "| 6 | Value | Streamed IRI | Streamed ISI |  9 |  9 | 1.40e-04 | ***  | 8.42e-04 | ***  |\n",
       "\n"
      ],
      "text/plain": [
       "  .y.   group1       group2       n1 n2 p        p.signif p.adj    p.adj.signif\n",
       "1 Value Coupled IRI  Coupled ISI  32 32 5.92e-04 ***      3.55e-03 **          \n",
       "2 Value Coupled IRI  Streamed IRI 32  9 9.10e-01 ns       1.00e+00 ns          \n",
       "3 Value Coupled ISI  Streamed IRI 32  9 2.66e-02 *        1.60e-01 ns          \n",
       "4 Value Coupled IRI  Streamed ISI 32  9 5.28e-06 ****     3.17e-05 ****        \n",
       "5 Value Coupled ISI  Streamed ISI 32  9 2.47e-10 ****     1.48e-09 ****        \n",
       "6 Value Streamed IRI Streamed ISI  9  9 1.40e-04 ***      8.42e-04 ***         "
      ]
     },
     "metadata": {},
     "output_type": "display_data"
    }
   ],
   "source": [
    "#Post-hoc tests - PAIRED\n",
    "times2 <- ddply(interac_data, c(\"Level\",\"Subject\"), summarize, Value=mean(Value))\n",
    "#head(times2,5)\n",
    "pwc2 <- times2 %>%\n",
    "  pairwise_t_test(\n",
    "    Value ~ Level, paired = FALSE,\n",
    "    p.adjust.method = \"bonferroni\"\n",
    "  )\n",
    "pwc2"
   ]
  },
  {
   "cell_type": "code",
   "execution_count": 23,
   "id": "b3d3ad6b",
   "metadata": {},
   "outputs": [
    {
     "data": {
      "text/plain": [
       "            Df Sum Sq Mean Sq F value   Pr(>F)    \n",
       "Level        3 176541   58847   18.15 5.01e-09 ***\n",
       "Residuals   78 252951    3243                     \n",
       "---\n",
       "Signif. codes:  0 '***' 0.001 '**' 0.01 '*' 0.05 '.' 0.1 ' ' 1"
      ]
     },
     "metadata": {},
     "output_type": "display_data"
    }
   ],
   "source": [
    "model <- aov(Value~Level, data=interac_data)\n",
    "summary(model)"
   ]
  },
  {
   "cell_type": "code",
   "execution_count": 24,
   "id": "97cbb6eb",
   "metadata": {},
   "outputs": [
    {
     "data": {
      "text/plain": [
       "  Tukey multiple comparisons of means\n",
       "    95% family-wise confidence level\n",
       "\n",
       "Fit: aov(formula = Value ~ Level, data = interac_data)\n",
       "\n",
       "$Level\n",
       "                                 diff        lwr        upr     p adj\n",
       "Coupled ISI-Coupled IRI     50.992538   13.61694  88.368141 0.0032541\n",
       "Streamed IRI-Coupled IRI     2.436061  -53.97235  58.844473 0.9994742\n",
       "Streamed ISI-Coupled IRI  -105.088074 -161.49649 -48.679661 0.0000309\n",
       "Streamed IRI-Coupled ISI   -48.556477 -104.96489   7.851935 0.1165326\n",
       "Streamed ISI-Coupled ISI  -156.080612 -212.48902 -99.672200 0.0000000\n",
       "Streamed ISI-Streamed IRI -107.524135 -178.00025 -37.048023 0.0007955\n"
      ]
     },
     "metadata": {},
     "output_type": "display_data"
    }
   ],
   "source": [
    "TukeyHSD(model, conf.level=.95)"
   ]
  },
  {
   "cell_type": "code",
   "execution_count": null,
   "id": "36eaf229",
   "metadata": {},
   "outputs": [],
   "source": []
  }
 ],
 "metadata": {
  "kernelspec": {
   "display_name": "R",
   "language": "R",
   "name": "ir"
  },
  "language_info": {
   "codemirror_mode": "r",
   "file_extension": ".r",
   "mimetype": "text/x-r-source",
   "name": "R",
   "pygments_lexer": "r",
   "version": "4.1.3"
  }
 },
 "nbformat": 4,
 "nbformat_minor": 5
}
