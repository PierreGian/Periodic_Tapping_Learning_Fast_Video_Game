{
 "cells": [
  {
   "cell_type": "code",
   "execution_count": 4,
   "metadata": {},
   "outputs": [],
   "source": [
    "library(\"lme4\")\n",
    "library(\"ggplot2\")\n",
    "library(\"dplyr\")\n",
    "library(MASS)\n",
    "library(\"BayesFactor\")\n",
    "library(\"car\")\n",
    "library(\"scales\")\n",
    "library(\"lmerTest\")\n",
    "library(\"MuMIn\")\n",
    "library(\"plyr\")\n",
    "library(\"rstatix\")\n",
    "library(\"ggpubr\")\n",
    "library(\"knitr\")\n",
    "library(\"corrplot\")\n",
    "library(\"RColorBrewer\")"
   ]
  },
  {
   "cell_type": "code",
   "execution_count": 5,
   "metadata": {},
   "outputs": [],
   "source": [
    "#Load the data => Here, we are filtering the cases in which subjects had a MuIFI of 0\n",
    "FinalPath<-'./R_Data_ALL.txt'\n",
    "data <- read.delim(FinalPath, sep=\"\\t\", header=T, stringsAsFactors=F)"
   ]
  },
  {
   "cell_type": "code",
   "execution_count": 6,
   "metadata": {},
   "outputs": [
    {
     "data": {
      "text/plain": [
       "                   \n",
       "                      1   2   3   4   5   6   7   8   9  10  11  12  13  14  15\n",
       "  Coupled           100 100 100 100 100 100 100 100 100 100 100 100 100 100 100\n",
       "  Coupled_Strategy   32  32  32  32  32  32  32  32  32  32  32  32  32  32  32\n",
       "  MS17              100 100 100 100 100 100 100 100 100 100 100 100 100 100 100\n",
       "  Streamed          100 100 100 100 100 100 100 100 100 100 100 100 100 100 100\n",
       "  Streamed_Strategy   9   9   9   9   9   9   9   9   9   9   9   9   9   9   9"
      ]
     },
     "metadata": {},
     "output_type": "display_data"
    }
   ],
   "source": [
    "table(data$Agent, data$GameNb)"
   ]
  },
  {
   "cell_type": "markdown",
   "metadata": {},
   "source": [
    "# Compute BIC for fast-shooting model"
   ]
  },
  {
   "cell_type": "code",
   "execution_count": 7,
   "metadata": {},
   "outputs": [],
   "source": [
    "#RMSE function definition\n",
    "RMSE = function(mod, obs){\n",
    "  sqrt(mean((mod - obs)^2))\n",
    "}\n",
    "\n",
    "RSS = function(mod,obs){\n",
    "    sum((mod - obs)^2)\n",
    "}\n",
    "\n",
    "BIC = function(RSS,n,k){\n",
    "    n*log(RSS/n)+k*log(n)\n",
    "}\n",
    "#AIC = 2k + nln(RSS)\n",
    "AIC = function(RSS,n,k){\n",
    "    2*k + n*log(RSS)\n",
    "}"
   ]
  },
  {
   "cell_type": "code",
   "execution_count": 8,
   "metadata": {},
   "outputs": [
    {
     "data": {
      "text/html": [
       "<table class=\"dataframe\">\n",
       "<caption>A data.frame: 10 × 12</caption>\n",
       "<thead>\n",
       "\t<tr><th></th><th scope=col>Agent</th><th scope=col>subject</th><th scope=col>GameNb</th><th scope=col>Deflations</th><th scope=col>Misses</th><th scope=col>Resets</th><th scope=col>ShotReg</th><th scope=col>Entropy</th><th scope=col>LogCV</th><th scope=col>ShotPer</th><th scope=col>RightReg</th><th scope=col>Score</th></tr>\n",
       "\t<tr><th></th><th scope=col>&lt;chr&gt;</th><th scope=col>&lt;chr&gt;</th><th scope=col>&lt;int&gt;</th><th scope=col>&lt;dbl&gt;</th><th scope=col>&lt;dbl&gt;</th><th scope=col>&lt;dbl&gt;</th><th scope=col>&lt;dbl&gt;</th><th scope=col>&lt;dbl&gt;</th><th scope=col>&lt;dbl&gt;</th><th scope=col>&lt;dbl&gt;</th><th scope=col>&lt;dbl&gt;</th><th scope=col>&lt;dbl&gt;</th></tr>\n",
       "</thead>\n",
       "<tbody>\n",
       "\t<tr><th scope=row>1</th><td>Coupled</td><td>model_6592528450_1</td><td> 1</td><td>96</td><td> 63</td><td>3</td><td>0.2749406</td><td>2.938219</td><td>-0.9013436</td><td>480</td><td>0.1648576</td><td> 256</td></tr>\n",
       "\t<tr><th scope=row>2</th><td>Coupled</td><td>model_6592528450_1</td><td> 2</td><td>22</td><td>107</td><td>2</td><td>0.4118143</td><td>2.848877</td><td>-1.3099846</td><td>512</td><td>0.3605711</td><td> 888</td></tr>\n",
       "\t<tr><th scope=row>3</th><td>Coupled</td><td>model_6592528450_1</td><td> 3</td><td>15</td><td> 57</td><td>0</td><td>0.4774791</td><td>2.329245</td><td>-1.7767653</td><td>496</td><td>0.5570642</td><td>1486</td></tr>\n",
       "\t<tr><th scope=row>4</th><td>Coupled</td><td>model_6592528450_1</td><td> 4</td><td>12</td><td> 42</td><td>0</td><td>0.5218977</td><td>2.325269</td><td>-1.4100751</td><td>496</td><td>0.4901174</td><td>1718</td></tr>\n",
       "\t<tr><th scope=row>5</th><td>Coupled</td><td>model_6592528450_1</td><td> 5</td><td>15</td><td> 46</td><td>2</td><td>0.5070372</td><td>2.358500</td><td>-1.3223362</td><td>496</td><td>0.5357312</td><td>1508</td></tr>\n",
       "\t<tr><th scope=row>6</th><td>Coupled</td><td>model_6592528450_1</td><td> 6</td><td>20</td><td> 51</td><td>0</td><td>0.4869756</td><td>2.249658</td><td>-1.4796068</td><td>496</td><td>0.5706765</td><td>1198</td></tr>\n",
       "\t<tr><th scope=row>7</th><td>Coupled</td><td>model_6592528450_1</td><td> 7</td><td>19</td><td> 63</td><td>0</td><td>0.4852614</td><td>2.230736</td><td>-1.8959978</td><td>496</td><td>0.5582201</td><td>1174</td></tr>\n",
       "\t<tr><th scope=row>8</th><td>Coupled</td><td>model_6592528450_1</td><td> 8</td><td>16</td><td> 52</td><td>1</td><td>0.4792956</td><td>2.216584</td><td>-1.3405258</td><td>496</td><td>0.5472919</td><td>1398</td></tr>\n",
       "\t<tr><th scope=row>9</th><td>Coupled</td><td>model_6592528450_1</td><td> 9</td><td> 9</td><td> 23</td><td>1</td><td>0.4849891</td><td>1.970430</td><td>-1.5390336</td><td>496</td><td>0.5619010</td><td>1872</td></tr>\n",
       "\t<tr><th scope=row>10</th><td>Coupled</td><td>model_6592528450_1</td><td>10</td><td>17</td><td> 62</td><td>0</td><td>0.4301834</td><td>2.693542</td><td>-1.6470724</td><td>496</td><td>0.5445266</td><td>1078</td></tr>\n",
       "</tbody>\n",
       "</table>\n"
      ],
      "text/latex": [
       "A data.frame: 10 × 12\n",
       "\\begin{tabular}{r|llllllllllll}\n",
       "  & Agent & subject & GameNb & Deflations & Misses & Resets & ShotReg & Entropy & LogCV & ShotPer & RightReg & Score\\\\\n",
       "  & <chr> & <chr> & <int> & <dbl> & <dbl> & <dbl> & <dbl> & <dbl> & <dbl> & <dbl> & <dbl> & <dbl>\\\\\n",
       "\\hline\n",
       "\t1 & Coupled & model\\_6592528450\\_1 &  1 & 96 &  63 & 3 & 0.2749406 & 2.938219 & -0.9013436 & 480 & 0.1648576 &  256\\\\\n",
       "\t2 & Coupled & model\\_6592528450\\_1 &  2 & 22 & 107 & 2 & 0.4118143 & 2.848877 & -1.3099846 & 512 & 0.3605711 &  888\\\\\n",
       "\t3 & Coupled & model\\_6592528450\\_1 &  3 & 15 &  57 & 0 & 0.4774791 & 2.329245 & -1.7767653 & 496 & 0.5570642 & 1486\\\\\n",
       "\t4 & Coupled & model\\_6592528450\\_1 &  4 & 12 &  42 & 0 & 0.5218977 & 2.325269 & -1.4100751 & 496 & 0.4901174 & 1718\\\\\n",
       "\t5 & Coupled & model\\_6592528450\\_1 &  5 & 15 &  46 & 2 & 0.5070372 & 2.358500 & -1.3223362 & 496 & 0.5357312 & 1508\\\\\n",
       "\t6 & Coupled & model\\_6592528450\\_1 &  6 & 20 &  51 & 0 & 0.4869756 & 2.249658 & -1.4796068 & 496 & 0.5706765 & 1198\\\\\n",
       "\t7 & Coupled & model\\_6592528450\\_1 &  7 & 19 &  63 & 0 & 0.4852614 & 2.230736 & -1.8959978 & 496 & 0.5582201 & 1174\\\\\n",
       "\t8 & Coupled & model\\_6592528450\\_1 &  8 & 16 &  52 & 1 & 0.4792956 & 2.216584 & -1.3405258 & 496 & 0.5472919 & 1398\\\\\n",
       "\t9 & Coupled & model\\_6592528450\\_1 &  9 &  9 &  23 & 1 & 0.4849891 & 1.970430 & -1.5390336 & 496 & 0.5619010 & 1872\\\\\n",
       "\t10 & Coupled & model\\_6592528450\\_1 & 10 & 17 &  62 & 0 & 0.4301834 & 2.693542 & -1.6470724 & 496 & 0.5445266 & 1078\\\\\n",
       "\\end{tabular}\n"
      ],
      "text/markdown": [
       "\n",
       "A data.frame: 10 × 12\n",
       "\n",
       "| <!--/--> | Agent &lt;chr&gt; | subject &lt;chr&gt; | GameNb &lt;int&gt; | Deflations &lt;dbl&gt; | Misses &lt;dbl&gt; | Resets &lt;dbl&gt; | ShotReg &lt;dbl&gt; | Entropy &lt;dbl&gt; | LogCV &lt;dbl&gt; | ShotPer &lt;dbl&gt; | RightReg &lt;dbl&gt; | Score &lt;dbl&gt; |\n",
       "|---|---|---|---|---|---|---|---|---|---|---|---|---|\n",
       "| 1 | Coupled | model_6592528450_1 |  1 | 96 |  63 | 3 | 0.2749406 | 2.938219 | -0.9013436 | 480 | 0.1648576 |  256 |\n",
       "| 2 | Coupled | model_6592528450_1 |  2 | 22 | 107 | 2 | 0.4118143 | 2.848877 | -1.3099846 | 512 | 0.3605711 |  888 |\n",
       "| 3 | Coupled | model_6592528450_1 |  3 | 15 |  57 | 0 | 0.4774791 | 2.329245 | -1.7767653 | 496 | 0.5570642 | 1486 |\n",
       "| 4 | Coupled | model_6592528450_1 |  4 | 12 |  42 | 0 | 0.5218977 | 2.325269 | -1.4100751 | 496 | 0.4901174 | 1718 |\n",
       "| 5 | Coupled | model_6592528450_1 |  5 | 15 |  46 | 2 | 0.5070372 | 2.358500 | -1.3223362 | 496 | 0.5357312 | 1508 |\n",
       "| 6 | Coupled | model_6592528450_1 |  6 | 20 |  51 | 0 | 0.4869756 | 2.249658 | -1.4796068 | 496 | 0.5706765 | 1198 |\n",
       "| 7 | Coupled | model_6592528450_1 |  7 | 19 |  63 | 0 | 0.4852614 | 2.230736 | -1.8959978 | 496 | 0.5582201 | 1174 |\n",
       "| 8 | Coupled | model_6592528450_1 |  8 | 16 |  52 | 1 | 0.4792956 | 2.216584 | -1.3405258 | 496 | 0.5472919 | 1398 |\n",
       "| 9 | Coupled | model_6592528450_1 |  9 |  9 |  23 | 1 | 0.4849891 | 1.970430 | -1.5390336 | 496 | 0.5619010 | 1872 |\n",
       "| 10 | Coupled | model_6592528450_1 | 10 | 17 |  62 | 0 | 0.4301834 | 2.693542 | -1.6470724 | 496 | 0.5445266 | 1078 |\n",
       "\n"
      ],
      "text/plain": [
       "   Agent   subject            GameNb Deflations Misses Resets ShotReg  \n",
       "1  Coupled model_6592528450_1  1     96          63    3      0.2749406\n",
       "2  Coupled model_6592528450_1  2     22         107    2      0.4118143\n",
       "3  Coupled model_6592528450_1  3     15          57    0      0.4774791\n",
       "4  Coupled model_6592528450_1  4     12          42    0      0.5218977\n",
       "5  Coupled model_6592528450_1  5     15          46    2      0.5070372\n",
       "6  Coupled model_6592528450_1  6     20          51    0      0.4869756\n",
       "7  Coupled model_6592528450_1  7     19          63    0      0.4852614\n",
       "8  Coupled model_6592528450_1  8     16          52    1      0.4792956\n",
       "9  Coupled model_6592528450_1  9      9          23    1      0.4849891\n",
       "10 Coupled model_6592528450_1 10     17          62    0      0.4301834\n",
       "   Entropy  LogCV      ShotPer RightReg  Score\n",
       "1  2.938219 -0.9013436 480     0.1648576  256 \n",
       "2  2.848877 -1.3099846 512     0.3605711  888 \n",
       "3  2.329245 -1.7767653 496     0.5570642 1486 \n",
       "4  2.325269 -1.4100751 496     0.4901174 1718 \n",
       "5  2.358500 -1.3223362 496     0.5357312 1508 \n",
       "6  2.249658 -1.4796068 496     0.5706765 1198 \n",
       "7  2.230736 -1.8959978 496     0.5582201 1174 \n",
       "8  2.216584 -1.3405258 496     0.5472919 1398 \n",
       "9  1.970430 -1.5390336 496     0.5619010 1872 \n",
       "10 2.693542 -1.6470724 496     0.5445266 1078 "
      ]
     },
     "metadata": {},
     "output_type": "display_data"
    }
   ],
   "source": [
    "#Filtered data set\n",
    "fast_data <- data %>% filter(!Agent=='Coupled_Strategy')\n",
    "head(fast_data,10)"
   ]
  },
  {
   "cell_type": "code",
   "execution_count": 9,
   "metadata": {},
   "outputs": [
    {
     "data": {
      "text/html": [
       "128537.360503704"
      ],
      "text/latex": [
       "128537.360503704"
      ],
      "text/markdown": [
       "128537.360503704"
      ],
      "text/plain": [
       "[1] 128537.4"
      ]
     },
     "metadata": {},
     "output_type": "display_data"
    },
    {
     "name": "stdout",
     "output_type": "stream",
     "text": [
      "[1] \"MS17 comparison\"\n"
     ]
    },
    {
     "data": {
      "text/html": [
       "30596710.3648593"
      ],
      "text/latex": [
       "30596710.3648593"
      ],
      "text/markdown": [
       "30596710.3648593"
      ],
      "text/plain": [
       "[1] 30596710"
      ]
     },
     "metadata": {},
     "output_type": "display_data"
    },
    {
     "name": "stdout",
     "output_type": "stream",
     "text": [
      "[1] \"Blending comparison\"\n"
     ]
    },
    {
     "data": {
      "text/html": [
       "16839949.1833926"
      ],
      "text/latex": [
       "16839949.1833926"
      ],
      "text/markdown": [
       "16839949.1833926"
      ],
      "text/plain": [
       "[1] 16839949"
      ]
     },
     "metadata": {},
     "output_type": "display_data"
    }
   ],
   "source": [
    "#1) Performance results\n",
    "muTab<-aggregate(fast_data$Score, by=list(fast_data$Agent,fast_data$GameNb), FUN=mean)\n",
    "colnames(muTab)<-c(\"Agent\",\"GameNb\",\"Score\")\n",
    "H_vec <- c(1:15)\n",
    "for (i in 1:15)\n",
    "{\n",
    "    H_vec[i] <- muTab[which(muTab$Agent==\"Streamed_Strategy\" & muTab$GameNb==i),]$Score\n",
    "}\n",
    "M_vec <- c(1:15)\n",
    "for (i in 1:15)\n",
    "{\n",
    "    M_vec[i] <- muTab[which(muTab$Agent==\"Streamed\" & muTab$GameNb==i),]$Score\n",
    "}\n",
    "\n",
    "#RSS per condition\n",
    "rss_perf <- RSS(M_vec,H_vec)\n",
    "rss_perf\n",
    "\n",
    "print(\"MS17 comparison\")\n",
    "M2_vec <- c(1:15)\n",
    "for (i in 1:15)\n",
    "{\n",
    "    M2_vec[i] <- muTab[which(muTab$Agent==\"MS17\" & muTab$GameNb==i),]$Score\n",
    "}\n",
    "\n",
    "rss2_perf <- RSS(M2_vec,H_vec)\n",
    "rss2_perf\n",
    "\n",
    "print(\"Blending comparison\")\n",
    "M3_vec <- c(1:15)\n",
    "for (i in 1:15)\n",
    "{\n",
    "    M3_vec[i] <- muTab[which(muTab$Agent==\"Coupled\" & muTab$GameNb==i),]$Score\n",
    "}\n",
    "\n",
    "rss3_perf <- RSS(M3_vec,H_vec)\n",
    "rss3_perf"
   ]
  },
  {
   "cell_type": "code",
   "execution_count": 10,
   "metadata": {},
   "outputs": [
    {
     "data": {
      "text/html": [
       "0.0352282852910466"
      ],
      "text/latex": [
       "0.0352282852910466"
      ],
      "text/markdown": [
       "0.0352282852910466"
      ],
      "text/plain": [
       "[1] 0.03522829"
      ]
     },
     "metadata": {},
     "output_type": "display_data"
    },
    {
     "name": "stdout",
     "output_type": "stream",
     "text": [
      "[1] \"MS17 comparison\"\n"
     ]
    },
    {
     "data": {
      "text/html": [
       "1.72930513583994"
      ],
      "text/latex": [
       "1.72930513583994"
      ],
      "text/markdown": [
       "1.72930513583994"
      ],
      "text/plain": [
       "[1] 1.729305"
      ]
     },
     "metadata": {},
     "output_type": "display_data"
    },
    {
     "name": "stdout",
     "output_type": "stream",
     "text": [
      "[1] \"Blending comparison\"\n"
     ]
    },
    {
     "data": {
      "text/html": [
       "0.424035999823118"
      ],
      "text/latex": [
       "0.424035999823118"
      ],
      "text/markdown": [
       "0.424035999823118"
      ],
      "text/plain": [
       "[1] 0.424036"
      ]
     },
     "metadata": {},
     "output_type": "display_data"
    }
   ],
   "source": [
    "#2) Entropy\n",
    "fast_data <- data %>% filter(!Agent=='Coupled_Strategy')\n",
    "fast_data <- fast_data %>% filter(!Entropy=='NaN')\n",
    "muTab<-aggregate(fast_data$Entropy, by=list(fast_data$Agent,fast_data$GameNb), FUN=mean)\n",
    "\n",
    "colnames(muTab)<-c(\"Agent\",\"GameNb\",\"Entropy\")\n",
    "H_vec <- c(1:15)\n",
    "for (i in 1:15)\n",
    "{\n",
    "    H_vec[i] <- muTab[which(muTab$Agent==\"Streamed_Strategy\" & muTab$GameNb==i),]$Entropy\n",
    "}\n",
    "M_vec <- c(1:15)\n",
    "for (i in 1:15)\n",
    "{\n",
    "    M_vec[i] <- muTab[which(muTab$Agent==\"Streamed\" & muTab$GameNb==i),]$Entropy\n",
    "}\n",
    "\n",
    "#RSS per condition\n",
    "rss_ent <- RSS(M_vec,H_vec)\n",
    "rss_ent\n",
    "\n",
    "print(\"MS17 comparison\")\n",
    "M2_vec <- c(1:15)\n",
    "for (i in 1:15)\n",
    "{\n",
    "    M2_vec[i] <- muTab[which(muTab$Agent==\"MS17\" & muTab$GameNb==i),]$Entropy\n",
    "}\n",
    "\n",
    "rss2_ent <- RSS(M2_vec,H_vec)\n",
    "rss2_ent\n",
    "\n",
    "print(\"Blending comparison\")\n",
    "M3_vec <- c(1:15)\n",
    "for (i in 1:15)\n",
    "{\n",
    "    M3_vec[i] <- muTab[which(muTab$Agent==\"Coupled\" & muTab$GameNb==i),]$Entropy\n",
    "}\n",
    "\n",
    "rss3_ent <- RSS(M3_vec,H_vec)\n",
    "rss3_ent"
   ]
  },
  {
   "cell_type": "code",
   "execution_count": 11,
   "metadata": {},
   "outputs": [
    {
     "data": {
      "text/html": [
       "0.17654826429176"
      ],
      "text/latex": [
       "0.17654826429176"
      ],
      "text/markdown": [
       "0.17654826429176"
      ],
      "text/plain": [
       "[1] 0.1765483"
      ]
     },
     "metadata": {},
     "output_type": "display_data"
    },
    {
     "name": "stdout",
     "output_type": "stream",
     "text": [
      "[1] \"MS17 comparison\"\n"
     ]
    },
    {
     "data": {
      "text/html": [
       "4.1401253594781"
      ],
      "text/latex": [
       "4.1401253594781"
      ],
      "text/markdown": [
       "4.1401253594781"
      ],
      "text/plain": [
       "[1] 4.140125"
      ]
     },
     "metadata": {},
     "output_type": "display_data"
    },
    {
     "name": "stdout",
     "output_type": "stream",
     "text": [
      "[1] \"Blending comparison\"\n"
     ]
    },
    {
     "data": {
      "text/html": [
       "0.338284769169461"
      ],
      "text/latex": [
       "0.338284769169461"
      ],
      "text/markdown": [
       "0.338284769169461"
      ],
      "text/plain": [
       "[1] 0.3382848"
      ]
     },
     "metadata": {},
     "output_type": "display_data"
    }
   ],
   "source": [
    "#3) Log CV ISI\n",
    "fast_data <- data %>% filter(!Agent=='Coupled_Strategy')\n",
    "fast_data <- fast_data %>% filter(!LogCV=='NaN')\n",
    "muTab<-aggregate(fast_data$LogCV, by=list(fast_data$Agent,fast_data$GameNb), FUN=mean)\n",
    "\n",
    "colnames(muTab)<-c(\"Agent\",\"GameNb\",\"LogCV\")\n",
    "H_vec <- c(1:15)\n",
    "for (i in 1:15)\n",
    "{\n",
    "    H_vec[i] <- muTab[which(muTab$Agent==\"Streamed_Strategy\" & muTab$GameNb==i),]$LogCV\n",
    "}\n",
    "M_vec <- c(1:15)\n",
    "for (i in 1:15)\n",
    "{\n",
    "    M_vec[i] <- muTab[which(muTab$Agent==\"Streamed\" & muTab$GameNb==i),]$LogCV\n",
    "}\n",
    "\n",
    "#RSS per condition\n",
    "rss_lcv <- RSS(M_vec,H_vec)\n",
    "rss_lcv\n",
    "\n",
    "print(\"MS17 comparison\")\n",
    "M2_vec <- c(1:15)\n",
    "for (i in 1:15)\n",
    "{\n",
    "    M2_vec[i] <- muTab[which(muTab$Agent==\"MS17\" & muTab$GameNb==i),]$LogCV\n",
    "}\n",
    "\n",
    "rss2_lcv <- RSS(M2_vec,H_vec)\n",
    "rss2_lcv\n",
    "\n",
    "print(\"Blending comparison\")\n",
    "M3_vec <- c(1:15)\n",
    "for (i in 1:15)\n",
    "{\n",
    "    M3_vec[i] <- muTab[which(muTab$Agent==\"Coupled\" & muTab$GameNb==i),]$LogCV\n",
    "}\n",
    "\n",
    "rss3_lcv <- RSS(M3_vec,H_vec)\n",
    "rss3_lcv"
   ]
  },
  {
   "cell_type": "code",
   "execution_count": 12,
   "metadata": {},
   "outputs": [
    {
     "data": {
      "text/html": [
       "236.245802469136"
      ],
      "text/latex": [
       "236.245802469136"
      ],
      "text/markdown": [
       "236.245802469136"
      ],
      "text/plain": [
       "[1] 236.2458"
      ]
     },
     "metadata": {},
     "output_type": "display_data"
    },
    {
     "name": "stdout",
     "output_type": "stream",
     "text": [
      "[1] \"MS17 comparison\"\n"
     ]
    },
    {
     "data": {
      "text/html": [
       "1464.73055802469"
      ],
      "text/latex": [
       "1464.73055802469"
      ],
      "text/markdown": [
       "1464.73055802469"
      ],
      "text/plain": [
       "[1] 1464.731"
      ]
     },
     "metadata": {},
     "output_type": "display_data"
    },
    {
     "name": "stdout",
     "output_type": "stream",
     "text": [
      "[1] \"Blending comparison\"\n"
     ]
    },
    {
     "data": {
      "text/html": [
       "552.177624691358"
      ],
      "text/latex": [
       "552.177624691358"
      ],
      "text/markdown": [
       "552.177624691358"
      ],
      "text/plain": [
       "[1] 552.1776"
      ]
     },
     "metadata": {},
     "output_type": "display_data"
    }
   ],
   "source": [
    "#4) Resets\n",
    "fast_data <- data %>% filter(!Agent=='Coupled_Strategy')\n",
    "#fast_data <- fast_data %>% filter(!LogCV=='NaN')\n",
    "muTab<-aggregate(fast_data$Resets, by=list(fast_data$Agent,fast_data$GameNb), FUN=mean)\n",
    "\n",
    "colnames(muTab)<-c(\"Agent\",\"GameNb\",\"Resets\")\n",
    "H_vec <- c(1:15)\n",
    "for (i in 1:15)\n",
    "{\n",
    "    H_vec[i] <- muTab[which(muTab$Agent==\"Streamed_Strategy\" & muTab$GameNb==i),]$Resets\n",
    "}\n",
    "M_vec <- c(1:15)\n",
    "for (i in 1:15)\n",
    "{\n",
    "    M_vec[i] <- muTab[which(muTab$Agent==\"Streamed\" & muTab$GameNb==i),]$Resets\n",
    "}\n",
    "\n",
    "#RSS per condition\n",
    "rss_res <- RSS(M_vec,H_vec)\n",
    "rss_res\n",
    "\n",
    "print(\"MS17 comparison\")\n",
    "M2_vec <- c(1:15)\n",
    "for (i in 1:15)\n",
    "{\n",
    "    M2_vec[i] <- muTab[which(muTab$Agent==\"MS17\" & muTab$GameNb==i),]$Resets\n",
    "}\n",
    "\n",
    "rss2_res <- RSS(M2_vec,H_vec)\n",
    "rss2_res\n",
    "\n",
    "print(\"Blending comparison\")\n",
    "M3_vec <- c(1:15)\n",
    "for (i in 1:15)\n",
    "{\n",
    "    M3_vec[i] <- muTab[which(muTab$Agent==\"Coupled\" & muTab$GameNb==i),]$Resets\n",
    "}\n",
    "\n",
    "rss3_res <- RSS(M3_vec,H_vec)\n",
    "rss3_res"
   ]
  },
  {
   "cell_type": "code",
   "execution_count": 13,
   "metadata": {},
   "outputs": [
    {
     "data": {
      "text/html": [
       "904.539912345679"
      ],
      "text/latex": [
       "904.539912345679"
      ],
      "text/markdown": [
       "904.539912345679"
      ],
      "text/plain": [
       "[1] 904.5399"
      ]
     },
     "metadata": {},
     "output_type": "display_data"
    },
    {
     "name": "stdout",
     "output_type": "stream",
     "text": [
      "[1] \"MS17 comparison\"\n"
     ]
    },
    {
     "data": {
      "text/html": [
       "23838.0040679012"
      ],
      "text/latex": [
       "23838.0040679012"
      ],
      "text/markdown": [
       "23838.0040679012"
      ],
      "text/plain": [
       "[1] 23838"
      ]
     },
     "metadata": {},
     "output_type": "display_data"
    },
    {
     "name": "stdout",
     "output_type": "stream",
     "text": [
      "[1] \"Blending comparison\"\n"
     ]
    },
    {
     "data": {
      "text/html": [
       "6304.3284345679"
      ],
      "text/latex": [
       "6304.3284345679"
      ],
      "text/markdown": [
       "6304.3284345679"
      ],
      "text/plain": [
       "[1] 6304.328"
      ]
     },
     "metadata": {},
     "output_type": "display_data"
    }
   ],
   "source": [
    "#5) Deflations\n",
    "fast_data <- data %>% filter(!Agent=='Coupled_Strategy')\n",
    "#fast_data <- fast_data %>% filter(!LogCV=='NaN')\n",
    "muTab<-aggregate(fast_data$Deflations, by=list(fast_data$Agent,fast_data$GameNb), FUN=mean)\n",
    "\n",
    "colnames(muTab)<-c(\"Agent\",\"GameNb\",\"Deflations\")\n",
    "H_vec <- c(1:15)\n",
    "for (i in 1:15)\n",
    "{\n",
    "    H_vec[i] <- muTab[which(muTab$Agent==\"Streamed_Strategy\" & muTab$GameNb==i),]$Deflations\n",
    "}\n",
    "M_vec <- c(1:15)\n",
    "for (i in 1:15)\n",
    "{\n",
    "    M_vec[i] <- muTab[which(muTab$Agent==\"Streamed\" & muTab$GameNb==i),]$Deflations\n",
    "}\n",
    "\n",
    "#RSS per condition\n",
    "rss_def <- RSS(M_vec,H_vec)\n",
    "rss_def\n",
    "\n",
    "print(\"MS17 comparison\")\n",
    "M2_vec <- c(1:15)\n",
    "for (i in 1:15)\n",
    "{\n",
    "    M2_vec[i] <- muTab[which(muTab$Agent==\"MS17\" & muTab$GameNb==i),]$Deflations\n",
    "}\n",
    "\n",
    "rss2_def <- RSS(M2_vec,H_vec)\n",
    "rss2_def\n",
    "\n",
    "print(\"Blending comparison\")\n",
    "M3_vec <- c(1:15)\n",
    "for (i in 1:15)\n",
    "{\n",
    "    M3_vec[i] <- muTab[which(muTab$Agent==\"Coupled\" & muTab$GameNb==i),]$Deflations\n",
    "}\n",
    "\n",
    "rss3_def <- RSS(M3_vec,H_vec)\n",
    "rss3_def"
   ]
  },
  {
   "cell_type": "code",
   "execution_count": 14,
   "metadata": {},
   "outputs": [
    {
     "data": {
      "text/html": [
       "2028.95408148148"
      ],
      "text/latex": [
       "2028.95408148148"
      ],
      "text/markdown": [
       "2028.95408148148"
      ],
      "text/plain": [
       "[1] 2028.954"
      ]
     },
     "metadata": {},
     "output_type": "display_data"
    },
    {
     "name": "stdout",
     "output_type": "stream",
     "text": [
      "[1] \"MS17 comparison\"\n"
     ]
    },
    {
     "data": {
      "text/html": [
       "6710.44189259259"
      ],
      "text/latex": [
       "6710.44189259259"
      ],
      "text/markdown": [
       "6710.44189259259"
      ],
      "text/plain": [
       "[1] 6710.442"
      ]
     },
     "metadata": {},
     "output_type": "display_data"
    },
    {
     "name": "stdout",
     "output_type": "stream",
     "text": [
      "[1] \"Blending comparison\"\n"
     ]
    },
    {
     "data": {
      "text/html": [
       "4113.06385925926"
      ],
      "text/latex": [
       "4113.06385925926"
      ],
      "text/markdown": [
       "4113.06385925926"
      ],
      "text/plain": [
       "[1] 4113.064"
      ]
     },
     "metadata": {},
     "output_type": "display_data"
    }
   ],
   "source": [
    "#6) Misses\n",
    "fast_data <- data %>% filter(!Agent=='Coupled_Strategy')\n",
    "#fast_data <- fast_data %>% filter(!LogCV=='NaN')\n",
    "muTab<-aggregate(fast_data$Misses, by=list(fast_data$Agent,fast_data$GameNb), FUN=mean)\n",
    "\n",
    "colnames(muTab)<-c(\"Agent\",\"GameNb\",\"Misses\")\n",
    "H_vec <- c(1:15)\n",
    "for (i in 1:15)\n",
    "{\n",
    "    H_vec[i] <- muTab[which(muTab$Agent==\"Streamed_Strategy\" & muTab$GameNb==i),]$Misses\n",
    "}\n",
    "M_vec <- c(1:15)\n",
    "for (i in 1:15)\n",
    "{\n",
    "    M_vec[i] <- muTab[which(muTab$Agent==\"Streamed\" & muTab$GameNb==i),]$Misses\n",
    "}\n",
    "\n",
    "#RSS per condition\n",
    "rss_mis <- RSS(M_vec,H_vec)\n",
    "rss_mis\n",
    "\n",
    "print(\"MS17 comparison\")\n",
    "M2_vec <- c(1:15)\n",
    "for (i in 1:15)\n",
    "{\n",
    "    M2_vec[i] <- muTab[which(muTab$Agent==\"MS17\" & muTab$GameNb==i),]$Misses\n",
    "}\n",
    "\n",
    "rss2_mis <- RSS(M2_vec,H_vec)\n",
    "rss2_mis\n",
    "\n",
    "print(\"Blending comparison\")\n",
    "M3_vec <- c(1:15)\n",
    "for (i in 1:15)\n",
    "{\n",
    "    M3_vec[i] <- muTab[which(muTab$Agent==\"Coupled\" & muTab$GameNb==i),]$Misses\n",
    "}\n",
    "\n",
    "rss3_mis <- RSS(M3_vec,H_vec)\n",
    "rss3_mis"
   ]
  },
  {
   "cell_type": "code",
   "execution_count": 15,
   "metadata": {},
   "outputs": [
    {
     "data": {
      "text/html": [
       "11279.6935958141"
      ],
      "text/latex": [
       "11279.6935958141"
      ],
      "text/markdown": [
       "11279.6935958141"
      ],
      "text/plain": [
       "[1] 11279.69"
      ]
     },
     "metadata": {},
     "output_type": "display_data"
    },
    {
     "name": "stdout",
     "output_type": "stream",
     "text": [
      "[1] \"MS17 comparison\"\n"
     ]
    },
    {
     "data": {
      "text/html": [
       "24434.8504629307"
      ],
      "text/latex": [
       "24434.8504629307"
      ],
      "text/markdown": [
       "24434.8504629307"
      ],
      "text/plain": [
       "[1] 24434.85"
      ]
     },
     "metadata": {},
     "output_type": "display_data"
    },
    {
     "name": "stdout",
     "output_type": "stream",
     "text": [
      "[1] \"Blending comparison\"\n"
     ]
    },
    {
     "data": {
      "text/html": [
       "158190.433297515"
      ],
      "text/latex": [
       "158190.433297515"
      ],
      "text/markdown": [
       "158190.433297515"
      ],
      "text/plain": [
       "[1] 158190.4"
      ]
     },
     "metadata": {},
     "output_type": "display_data"
    }
   ],
   "source": [
    "#7) Shot periodicity\n",
    "fast_data <- data %>% filter(!Agent=='Coupled_Strategy')\n",
    "fast_data <- fast_data %>% filter(!ShotPer=='NaN')\n",
    "muTab<-aggregate(fast_data$ShotPer, by=list(fast_data$Agent,fast_data$GameNb), FUN=mean)\n",
    "\n",
    "colnames(muTab)<-c(\"Agent\",\"GameNb\",\"ShotPer\")\n",
    "H_vec <- c(1:15)\n",
    "for (i in 1:15)\n",
    "{\n",
    "    H_vec[i] <- muTab[which(muTab$Agent==\"Streamed_Strategy\" & muTab$GameNb==i),]$ShotPer\n",
    "}\n",
    "M_vec <- c(1:15)\n",
    "for (i in 1:15)\n",
    "{\n",
    "    M_vec[i] <- muTab[which(muTab$Agent==\"Streamed\" & muTab$GameNb==i),]$ShotPer\n",
    "}\n",
    "\n",
    "#RSS per condition\n",
    "rss_per <- RSS(M_vec,H_vec)\n",
    "rss_per\n",
    "\n",
    "print(\"MS17 comparison\")\n",
    "M2_vec <- c(1:15)\n",
    "for (i in 1:15)\n",
    "{\n",
    "    M2_vec[i] <- muTab[which(muTab$Agent==\"MS17\" & muTab$GameNb==i),]$ShotPer\n",
    "}\n",
    "\n",
    "rss2_per <- RSS(M2_vec,H_vec)\n",
    "rss2_per\n",
    "\n",
    "print(\"Blending comparison\")\n",
    "M3_vec <- c(1:15)\n",
    "for (i in 1:15)\n",
    "{\n",
    "    M3_vec[i] <- muTab[which(muTab$Agent==\"Coupled\" & muTab$GameNb==i),]$ShotPer\n",
    "}\n",
    "\n",
    "rss3_per <- RSS(M3_vec,H_vec)\n",
    "rss3_per"
   ]
  },
  {
   "cell_type": "code",
   "execution_count": 16,
   "metadata": {},
   "outputs": [
    {
     "data": {
      "text/html": [
       "0.046770048237599"
      ],
      "text/latex": [
       "0.046770048237599"
      ],
      "text/markdown": [
       "0.046770048237599"
      ],
      "text/plain": [
       "[1] 0.04677005"
      ]
     },
     "metadata": {},
     "output_type": "display_data"
    },
    {
     "name": "stdout",
     "output_type": "stream",
     "text": [
      "[1] \"MS17 comparison\"\n"
     ]
    },
    {
     "data": {
      "text/html": [
       "0.761665289336257"
      ],
      "text/latex": [
       "0.761665289336257"
      ],
      "text/markdown": [
       "0.761665289336257"
      ],
      "text/plain": [
       "[1] 0.7616653"
      ]
     },
     "metadata": {},
     "output_type": "display_data"
    },
    {
     "name": "stdout",
     "output_type": "stream",
     "text": [
      "[1] \"Blending comparison\"\n"
     ]
    },
    {
     "data": {
      "text/html": [
       "0.0357171236659694"
      ],
      "text/latex": [
       "0.0357171236659694"
      ],
      "text/markdown": [
       "0.0357171236659694"
      ],
      "text/plain": [
       "[1] 0.03571712"
      ]
     },
     "metadata": {},
     "output_type": "display_data"
    }
   ],
   "source": [
    "#8) Shot regularity\n",
    "fast_data <- data %>% filter(!Agent=='Coupled_Strategy')\n",
    "fast_data <- fast_data %>% filter(!ShotReg=='NaN')\n",
    "muTab<-aggregate(fast_data$ShotReg, by=list(fast_data$Agent,fast_data$GameNb), FUN=mean)\n",
    "\n",
    "colnames(muTab)<-c(\"Agent\",\"GameNb\",\"ShotReg\")\n",
    "H_vec <- c(1:15)\n",
    "for (i in 1:15)\n",
    "{\n",
    "    H_vec[i] <- muTab[which(muTab$Agent==\"Streamed_Strategy\" & muTab$GameNb==i),]$ShotReg\n",
    "}\n",
    "M_vec <- c(1:15)\n",
    "for (i in 1:15)\n",
    "{\n",
    "    M_vec[i] <- muTab[which(muTab$Agent==\"Streamed\" & muTab$GameNb==i),]$ShotReg\n",
    "}\n",
    "\n",
    "#RSS per condition\n",
    "rss_reg <- RSS(M_vec,H_vec)\n",
    "rss_reg\n",
    "\n",
    "print(\"MS17 comparison\")\n",
    "M2_vec <- c(1:15)\n",
    "for (i in 1:15)\n",
    "{\n",
    "    M2_vec[i] <- muTab[which(muTab$Agent==\"MS17\" & muTab$GameNb==i),]$ShotReg\n",
    "}\n",
    "\n",
    "rss2_reg <- RSS(M2_vec,H_vec)\n",
    "rss2_reg\n",
    "\n",
    "print(\"Blending comparison\")\n",
    "M3_vec <- c(1:15)\n",
    "for (i in 1:15)\n",
    "{\n",
    "    M3_vec[i] <- muTab[which(muTab$Agent==\"Coupled\" & muTab$GameNb==i),]$ShotReg\n",
    "}\n",
    "\n",
    "rss3_reg <- RSS(M3_vec,H_vec)\n",
    "rss3_reg"
   ]
  },
  {
   "cell_type": "code",
   "execution_count": 17,
   "metadata": {},
   "outputs": [
    {
     "data": {
      "text/html": [
       "0.00661995585313785"
      ],
      "text/latex": [
       "0.00661995585313785"
      ],
      "text/markdown": [
       "0.00661995585313785"
      ],
      "text/plain": [
       "[1] 0.006619956"
      ]
     },
     "metadata": {},
     "output_type": "display_data"
    },
    {
     "name": "stdout",
     "output_type": "stream",
     "text": [
      "[1] \"MS17 comparison\"\n"
     ]
    },
    {
     "data": {
      "text/html": [
       "0.0191873577980299"
      ],
      "text/latex": [
       "0.0191873577980299"
      ],
      "text/markdown": [
       "0.0191873577980299"
      ],
      "text/plain": [
       "[1] 0.01918736"
      ]
     },
     "metadata": {},
     "output_type": "display_data"
    },
    {
     "name": "stdout",
     "output_type": "stream",
     "text": [
      "[1] \"Blending comparison\"\n"
     ]
    },
    {
     "data": {
      "text/html": [
       "0.845471667387546"
      ],
      "text/latex": [
       "0.845471667387546"
      ],
      "text/markdown": [
       "0.845471667387546"
      ],
      "text/plain": [
       "[1] 0.8454717"
      ]
     },
     "metadata": {},
     "output_type": "display_data"
    }
   ],
   "source": [
    "#9) Right regularity\n",
    "fast_data <- data %>% filter(!Agent=='Coupled_Strategy')\n",
    "fast_data <- fast_data %>% filter(!RightReg=='NaN')\n",
    "muTab<-aggregate(fast_data$RightReg, by=list(fast_data$Agent,fast_data$GameNb), FUN=mean)\n",
    "\n",
    "colnames(muTab)<-c(\"Agent\",\"GameNb\",\"RightReg\")\n",
    "H_vec <- c(1:15)\n",
    "for (i in 1:15)\n",
    "{\n",
    "    H_vec[i] <- muTab[which(muTab$Agent==\"Streamed_Strategy\" & muTab$GameNb==i),]$RightReg\n",
    "}\n",
    "M_vec <- c(1:15)\n",
    "for (i in 1:15)\n",
    "{\n",
    "    M_vec[i] <- muTab[which(muTab$Agent==\"Streamed\" & muTab$GameNb==i),]$RightReg\n",
    "}\n",
    "\n",
    "#RSS per condition\n",
    "rss_Rreg <- RSS(M_vec,H_vec)\n",
    "rss_Rreg\n",
    "\n",
    "print(\"MS17 comparison\")\n",
    "M2_vec <- c(1:15)\n",
    "for (i in 1:15)\n",
    "{\n",
    "    M2_vec[i] <- muTab[which(muTab$Agent==\"MS17\" & muTab$GameNb==i),]$RightReg\n",
    "}\n",
    "\n",
    "rss2_Rreg <- RSS(M2_vec,H_vec)\n",
    "rss2_Rreg\n",
    "\n",
    "print(\"Blending comparison\")\n",
    "M3_vec <- c(1:15)\n",
    "for (i in 1:15)\n",
    "{\n",
    "    M3_vec[i] <- muTab[which(muTab$Agent==\"Coupled\" & muTab$GameNb==i),]$RightReg\n",
    "}\n",
    "\n",
    "rss3_Rreg <- RSS(M3_vec,H_vec)\n",
    "rss3_Rreg"
   ]
  },
  {
   "cell_type": "code",
   "execution_count": 18,
   "metadata": {},
   "outputs": [
    {
     "data": {
      "text/html": [
       "135.838870247656"
      ],
      "text/latex": [
       "135.838870247656"
      ],
      "text/markdown": [
       "135.838870247656"
      ],
      "text/plain": [
       "[1] 135.8389"
      ]
     },
     "metadata": {},
     "output_type": "display_data"
    },
    {
     "data": {
      "text/html": [
       "41.3523389668109"
      ],
      "text/latex": [
       "41.3523389668109"
      ],
      "text/markdown": [
       "41.3523389668109"
      ],
      "text/plain": [
       "[1] 41.35234"
      ]
     },
     "metadata": {},
     "output_type": "display_data"
    },
    {
     "data": {
      "text/html": [
       "61.4906434376739"
      ],
      "text/latex": [
       "61.4906434376739"
      ],
      "text/markdown": [
       "61.4906434376739"
      ],
      "text/plain": [
       "[1] 61.49064"
      ]
     },
     "metadata": {},
     "output_type": "display_data"
    },
    {
     "data": {
      "text/html": [
       "73.6083826103899"
      ],
      "text/latex": [
       "73.6083826103899"
      ],
      "text/markdown": [
       "73.6083826103899"
      ],
      "text/plain": [
       "[1] 73.60838"
      ]
     },
     "metadata": {},
     "output_type": "display_data"
    },
    {
     "name": "stdout",
     "output_type": "stream",
     "text": [
      "[1] \"variability\"\n"
     ]
    },
    {
     "data": {
      "text/html": [
       "-90.8093424113486"
      ],
      "text/latex": [
       "-90.8093424113486"
      ],
      "text/markdown": [
       "-90.8093424113486"
      ],
      "text/plain": [
       "[1] -90.80934"
      ]
     },
     "metadata": {},
     "output_type": "display_data"
    },
    {
     "data": {
      "text/html": [
       "-66.6331678352136"
      ],
      "text/latex": [
       "-66.6331678352136"
      ],
      "text/markdown": [
       "-66.6331678352136"
      ],
      "text/plain": [
       "[1] -66.63317"
      ]
     },
     "metadata": {},
     "output_type": "display_data"
    },
    {
     "name": "stdout",
     "output_type": "stream",
     "text": [
      "[1] \"ACF measures\"\n"
     ]
    },
    {
     "data": {
      "text/html": [
       "99.3406374013387"
      ],
      "text/latex": [
       "99.3406374013387"
      ],
      "text/markdown": [
       "99.3406374013387"
      ],
      "text/plain": [
       "[1] 99.34064"
      ]
     },
     "metadata": {},
     "output_type": "display_data"
    },
    {
     "data": {
      "text/html": [
       "-86.5584371545202"
      ],
      "text/latex": [
       "-86.5584371545202"
      ],
      "text/markdown": [
       "-86.5584371545202"
      ],
      "text/plain": [
       "[1] -86.55844"
      ]
     },
     "metadata": {},
     "output_type": "display_data"
    },
    {
     "data": {
      "text/html": [
       "-115.885751683019"
      ],
      "text/latex": [
       "-115.885751683019"
      ],
      "text/markdown": [
       "-115.885751683019"
      ],
      "text/plain": [
       "[1] -115.8858"
      ]
     },
     "metadata": {},
     "output_type": "display_data"
    }
   ],
   "source": [
    "#BIC measure - Fast model\n",
    "n=15\n",
    "k=0\n",
    "Points_BIC <- BIC(rss_perf,n,k)\n",
    "Points_BIC\n",
    "Res_BIC <- BIC(rss_res,n,k)\n",
    "Res_BIC\n",
    "Def_BIC <- BIC(rss_def,n,k)\n",
    "Def_BIC\n",
    "Mis_BIC <- BIC(rss_mis,n,k)\n",
    "Mis_BIC\n",
    "print(\"variability\")\n",
    "Ent_BIC <- BIC(rss_ent,n,k)\n",
    "Ent_BIC\n",
    "lCV_BIC <- BIC(rss_lcv,n,k)\n",
    "lCV_BIC\n",
    "print(\"ACF measures\")\n",
    "Per_BIC <- BIC(rss_per,n,k)\n",
    "Per_BIC\n",
    "Reg_BIC <- BIC(rss_reg,n,k)\n",
    "Reg_BIC\n",
    "RightReg_BIC <- BIC(rss_Rreg,n,k)\n",
    "RightReg_BIC"
   ]
  },
  {
   "cell_type": "code",
   "execution_count": 19,
   "metadata": {},
   "outputs": [
    {
     "data": {
      "text/html": [
       "176.459623264189"
      ],
      "text/latex": [
       "176.459623264189"
      ],
      "text/markdown": [
       "176.459623264189"
      ],
      "text/plain": [
       "[1] 176.4596"
      ]
     },
     "metadata": {},
     "output_type": "display_data"
    },
    {
     "data": {
      "text/html": [
       "81.973091983344"
      ],
      "text/latex": [
       "81.973091983344"
      ],
      "text/markdown": [
       "81.973091983344"
      ],
      "text/plain": [
       "[1] 81.97309"
      ]
     },
     "metadata": {},
     "output_type": "display_data"
    },
    {
     "data": {
      "text/html": [
       "102.111396454207"
      ],
      "text/latex": [
       "102.111396454207"
      ],
      "text/markdown": [
       "102.111396454207"
      ],
      "text/plain": [
       "[1] 102.1114"
      ]
     },
     "metadata": {},
     "output_type": "display_data"
    },
    {
     "data": {
      "text/html": [
       "114.229135626923"
      ],
      "text/latex": [
       "114.229135626923"
      ],
      "text/markdown": [
       "114.229135626923"
      ],
      "text/plain": [
       "[1] 114.2291"
      ]
     },
     "metadata": {},
     "output_type": "display_data"
    },
    {
     "name": "stdout",
     "output_type": "stream",
     "text": [
      "[1] \"Variability\"\n"
     ]
    },
    {
     "data": {
      "text/html": [
       "-50.1885893948154"
      ],
      "text/latex": [
       "-50.1885893948154"
      ],
      "text/markdown": [
       "-50.1885893948154"
      ],
      "text/plain": [
       "[1] -50.18859"
      ]
     },
     "metadata": {},
     "output_type": "display_data"
    },
    {
     "data": {
      "text/html": [
       "-26.0124148186804"
      ],
      "text/latex": [
       "-26.0124148186804"
      ],
      "text/markdown": [
       "-26.0124148186804"
      ],
      "text/plain": [
       "[1] -26.01241"
      ]
     },
     "metadata": {},
     "output_type": "display_data"
    },
    {
     "name": "stdout",
     "output_type": "stream",
     "text": [
      "[1] \"Autocorrelation\"\n"
     ]
    },
    {
     "data": {
      "text/html": [
       "139.961390417872"
      ],
      "text/latex": [
       "139.961390417872"
      ],
      "text/markdown": [
       "139.961390417872"
      ],
      "text/plain": [
       "[1] 139.9614"
      ]
     },
     "metadata": {},
     "output_type": "display_data"
    },
    {
     "data": {
      "text/html": [
       "-45.9376841379871"
      ],
      "text/latex": [
       "-45.9376841379871"
      ],
      "text/markdown": [
       "-45.9376841379871"
      ],
      "text/plain": [
       "[1] -45.93768"
      ]
     },
     "metadata": {},
     "output_type": "display_data"
    },
    {
     "data": {
      "text/html": [
       "-75.2649986664863"
      ],
      "text/latex": [
       "-75.2649986664863"
      ],
      "text/markdown": [
       "-75.2649986664863"
      ],
      "text/plain": [
       "[1] -75.265"
      ]
     },
     "metadata": {},
     "output_type": "display_data"
    }
   ],
   "source": [
    "#AIC measure - Fast model\n",
    "Points_AIC <- AIC(rss_perf,n,k)\n",
    "Points_AIC\n",
    "Res_AIC <- AIC(rss_res,n,k)\n",
    "Res_AIC\n",
    "Def_AIC <- AIC(rss_def,n,k)\n",
    "Def_AIC\n",
    "Mis_AIC <- AIC(rss_mis,n,k)\n",
    "Mis_AIC\n",
    "print(\"Variability\")\n",
    "Ent_AIC <- AIC(rss_ent,n,k)\n",
    "Ent_AIC\n",
    "lCV_AIC <- AIC(rss_lcv,n,k)\n",
    "lCV_AIC\n",
    "print(\"Autocorrelation\")\n",
    "Per_AIC <- AIC(rss_per,n,k)\n",
    "Per_AIC\n",
    "Reg_AIC <- AIC(rss_reg,n,k)\n",
    "Reg_AIC\n",
    "RightReg_AIC <- AIC(rss_Rreg,n,k)\n",
    "RightReg_AIC"
   ]
  },
  {
   "cell_type": "code",
   "execution_count": 20,
   "metadata": {},
   "outputs": [
    {
     "data": {
      "text/html": [
       "217.925292834375"
      ],
      "text/latex": [
       "217.925292834375"
      ],
      "text/markdown": [
       "217.925292834375"
      ],
      "text/plain": [
       "[1] 217.9253"
      ]
     },
     "metadata": {},
     "output_type": "display_data"
    },
    {
     "data": {
      "text/html": [
       "68.7206457599495"
      ],
      "text/latex": [
       "68.7206457599495"
      ],
      "text/markdown": [
       "68.7206457599495"
      ],
      "text/plain": [
       "[1] 68.72065"
      ]
     },
     "metadata": {},
     "output_type": "display_data"
    },
    {
     "data": {
      "text/html": [
       "110.564792918823"
      ],
      "text/latex": [
       "110.564792918823"
      ],
      "text/markdown": [
       "110.564792918823"
      ],
      "text/plain": [
       "[1] 110.5648"
      ]
     },
     "metadata": {},
     "output_type": "display_data"
    },
    {
     "data": {
      "text/html": [
       "91.5505482378171"
      ],
      "text/latex": [
       "91.5505482378171"
      ],
      "text/markdown": [
       "91.5505482378171"
      ],
      "text/plain": [
       "[1] 91.55055"
      ]
     },
     "metadata": {},
     "output_type": "display_data"
    },
    {
     "name": "stdout",
     "output_type": "stream",
     "text": [
      "[1] \"variability\"\n"
     ]
    },
    {
     "data": {
      "text/html": [
       "-32.4049579329238"
      ],
      "text/latex": [
       "-32.4049579329238"
      ],
      "text/markdown": [
       "-32.4049579329238"
      ],
      "text/plain": [
       "[1] -32.40496"
      ]
     },
     "metadata": {},
     "output_type": "display_data"
    },
    {
     "data": {
      "text/html": [
       "-19.3098620048437"
      ],
      "text/latex": [
       "-19.3098620048437"
      ],
      "text/markdown": [
       "-19.3098620048437"
      ],
      "text/plain": [
       "[1] -19.30986"
      ]
     },
     "metadata": {},
     "output_type": "display_data"
    },
    {
     "name": "stdout",
     "output_type": "stream",
     "text": [
      "[1] \"ACF measures\"\n"
     ]
    },
    {
     "data": {
      "text/html": [
       "110.935732331899"
      ],
      "text/latex": [
       "110.935732331899"
      ],
      "text/markdown": [
       "110.935732331899"
      ],
      "text/plain": [
       "[1] 110.9357"
      ]
     },
     "metadata": {},
     "output_type": "display_data"
    },
    {
     "data": {
      "text/html": [
       "-44.7044741060557"
      ],
      "text/latex": [
       "-44.7044741060557"
      ],
      "text/markdown": [
       "-44.7044741060557"
      ],
      "text/plain": [
       "[1] -44.70447"
      ]
     },
     "metadata": {},
     "output_type": "display_data"
    },
    {
     "data": {
      "text/html": [
       "-99.9233079891298"
      ],
      "text/latex": [
       "-99.9233079891298"
      ],
      "text/markdown": [
       "-99.9233079891298"
      ],
      "text/plain": [
       "[1] -99.92331"
      ]
     },
     "metadata": {},
     "output_type": "display_data"
    }
   ],
   "source": [
    "#BIC measure - MS17 model\n",
    "n=15\n",
    "k=0\n",
    "Points_BIC <- BIC(rss2_perf,n,k)\n",
    "Points_BIC\n",
    "Res_BIC <- BIC(rss2_res,n,k)\n",
    "Res_BIC\n",
    "Def_BIC <- BIC(rss2_def,n,k)\n",
    "Def_BIC\n",
    "Mis_BIC <- BIC(rss2_mis,n,k)\n",
    "Mis_BIC\n",
    "print(\"variability\")\n",
    "Ent_BIC <- BIC(rss2_ent,n,k)\n",
    "Ent_BIC\n",
    "lCV_BIC <- BIC(rss2_lcv,n,k)\n",
    "lCV_BIC\n",
    "print(\"ACF measures\")\n",
    "Per_BIC <- BIC(rss2_per,n,k)\n",
    "Per_BIC\n",
    "Reg_BIC <- BIC(rss2_reg,n,k)\n",
    "Reg_BIC\n",
    "RightReg_BIC <- BIC(rss2_Rreg,n,k)\n",
    "RightReg_BIC"
   ]
  },
  {
   "cell_type": "code",
   "execution_count": 21,
   "metadata": {},
   "outputs": [
    {
     "data": {
      "text/html": [
       "258.546045850908"
      ],
      "text/latex": [
       "258.546045850908"
      ],
      "text/markdown": [
       "258.546045850908"
      ],
      "text/plain": [
       "[1] 258.546"
      ]
     },
     "metadata": {},
     "output_type": "display_data"
    },
    {
     "data": {
      "text/html": [
       "109.341398776483"
      ],
      "text/latex": [
       "109.341398776483"
      ],
      "text/markdown": [
       "109.341398776483"
      ],
      "text/plain": [
       "[1] 109.3414"
      ]
     },
     "metadata": {},
     "output_type": "display_data"
    },
    {
     "data": {
      "text/html": [
       "151.185545935356"
      ],
      "text/latex": [
       "151.185545935356"
      ],
      "text/markdown": [
       "151.185545935356"
      ],
      "text/plain": [
       "[1] 151.1855"
      ]
     },
     "metadata": {},
     "output_type": "display_data"
    },
    {
     "data": {
      "text/html": [
       "132.17130125435"
      ],
      "text/latex": [
       "132.17130125435"
      ],
      "text/markdown": [
       "132.17130125435"
      ],
      "text/plain": [
       "[1] 132.1713"
      ]
     },
     "metadata": {},
     "output_type": "display_data"
    },
    {
     "name": "stdout",
     "output_type": "stream",
     "text": [
      "[1] \"Variability\"\n"
     ]
    },
    {
     "data": {
      "text/html": [
       "8.21579508360938"
      ],
      "text/latex": [
       "8.21579508360938"
      ],
      "text/markdown": [
       "8.21579508360938"
      ],
      "text/plain": [
       "[1] 8.215795"
      ]
     },
     "metadata": {},
     "output_type": "display_data"
    },
    {
     "data": {
      "text/html": [
       "21.3108910116895"
      ],
      "text/latex": [
       "21.3108910116895"
      ],
      "text/markdown": [
       "21.3108910116895"
      ],
      "text/plain": [
       "[1] 21.31089"
      ]
     },
     "metadata": {},
     "output_type": "display_data"
    },
    {
     "name": "stdout",
     "output_type": "stream",
     "text": [
      "[1] \"Autocorrelation\"\n"
     ]
    },
    {
     "data": {
      "text/html": [
       "151.556485348433"
      ],
      "text/latex": [
       "151.556485348433"
      ],
      "text/markdown": [
       "151.556485348433"
      ],
      "text/plain": [
       "[1] 151.5565"
      ]
     },
     "metadata": {},
     "output_type": "display_data"
    },
    {
     "data": {
      "text/html": [
       "-4.08372108952255"
      ],
      "text/latex": [
       "-4.08372108952255"
      ],
      "text/markdown": [
       "-4.08372108952255"
      ],
      "text/plain": [
       "[1] -4.083721"
      ]
     },
     "metadata": {},
     "output_type": "display_data"
    },
    {
     "data": {
      "text/html": [
       "-59.3025549725967"
      ],
      "text/latex": [
       "-59.3025549725967"
      ],
      "text/markdown": [
       "-59.3025549725967"
      ],
      "text/plain": [
       "[1] -59.30255"
      ]
     },
     "metadata": {},
     "output_type": "display_data"
    }
   ],
   "source": [
    "#AIC measure - MS17 model\n",
    "Points_AIC <- AIC(rss2_perf,n,k)\n",
    "Points_AIC\n",
    "Res_AIC <- AIC(rss2_res,n,k)\n",
    "Res_AIC\n",
    "Def_AIC <- AIC(rss2_def,n,k)\n",
    "Def_AIC\n",
    "Mis_AIC <- AIC(rss2_mis,n,k)\n",
    "Mis_AIC\n",
    "print(\"Variability\")\n",
    "Ent_AIC <- AIC(rss2_ent,n,k)\n",
    "Ent_AIC\n",
    "lCV_AIC <- AIC(rss2_lcv,n,k)\n",
    "lCV_AIC\n",
    "print(\"Autocorrelation\")\n",
    "Per_AIC <- AIC(rss2_per,n,k)\n",
    "Per_AIC\n",
    "Reg_AIC <- AIC(rss2_reg,n,k)\n",
    "Reg_AIC\n",
    "RightReg_AIC <- AIC(rss2_Rreg,n,k)\n",
    "RightReg_AIC"
   ]
  },
  {
   "cell_type": "code",
   "execution_count": 22,
   "metadata": {},
   "outputs": [
    {
     "data": {
      "text/html": [
       "208.968215220876"
      ],
      "text/latex": [
       "208.968215220876"
      ],
      "text/markdown": [
       "208.968215220876"
      ],
      "text/plain": [
       "[1] 208.9682"
      ]
     },
     "metadata": {},
     "output_type": "display_data"
    },
    {
     "data": {
      "text/html": [
       "54.0872936591208"
      ],
      "text/latex": [
       "54.0872936591208"
      ],
      "text/markdown": [
       "54.0872936591208"
      ],
      "text/plain": [
       "[1] 54.08729"
      ]
     },
     "metadata": {},
     "output_type": "display_data"
    },
    {
     "data": {
      "text/html": [
       "90.6141229270574"
      ],
      "text/latex": [
       "90.6141229270574"
      ],
      "text/markdown": [
       "90.6141229270574"
      ],
      "text/plain": [
       "[1] 90.61412"
      ]
     },
     "metadata": {},
     "output_type": "display_data"
    },
    {
     "data": {
      "text/html": [
       "84.2080993981104"
      ],
      "text/latex": [
       "84.2080993981104"
      ],
      "text/markdown": [
       "84.2080993981104"
      ],
      "text/plain": [
       "[1] 84.2081"
      ]
     },
     "metadata": {},
     "output_type": "display_data"
    },
    {
     "name": "stdout",
     "output_type": "stream",
     "text": [
      "[1] \"variability\"\n"
     ]
    },
    {
     "data": {
      "text/html": [
       "-53.4898068482015"
      ],
      "text/latex": [
       "-53.4898068482015"
      ],
      "text/markdown": [
       "-53.4898068482015"
      ],
      "text/plain": [
       "[1] -53.48981"
      ]
     },
     "metadata": {},
     "output_type": "display_data"
    },
    {
     "data": {
      "text/html": [
       "-56.8787614046991"
      ],
      "text/latex": [
       "-56.8787614046991"
      ],
      "text/markdown": [
       "-56.8787614046991"
      ],
      "text/plain": [
       "[1] -56.87876"
      ]
     },
     "metadata": {},
     "output_type": "display_data"
    },
    {
     "name": "stdout",
     "output_type": "stream",
     "text": [
      "[1] \"ACF measures\"\n"
     ]
    },
    {
     "data": {
      "text/html": [
       "138.952569887732"
      ],
      "text/latex": [
       "138.952569887732"
      ],
      "text/markdown": [
       "138.952569887732"
      ],
      "text/plain": [
       "[1] 138.9526"
      ]
     },
     "metadata": {},
     "output_type": "display_data"
    },
    {
     "data": {
      "text/html": [
       "-90.6026287768089"
      ],
      "text/latex": [
       "-90.6026287768089"
      ],
      "text/markdown": [
       "-90.6026287768089"
      ],
      "text/plain": [
       "[1] -90.60263"
      ]
     },
     "metadata": {},
     "output_type": "display_data"
    },
    {
     "data": {
      "text/html": [
       "-43.1386623329659"
      ],
      "text/latex": [
       "-43.1386623329659"
      ],
      "text/markdown": [
       "-43.1386623329659"
      ],
      "text/plain": [
       "[1] -43.13866"
      ]
     },
     "metadata": {},
     "output_type": "display_data"
    }
   ],
   "source": [
    "#BIC measure - Blending model\n",
    "n=15\n",
    "k=0\n",
    "Points_BIC <- BIC(rss3_perf,n,k)\n",
    "Points_BIC\n",
    "Res_BIC <- BIC(rss3_res,n,k)\n",
    "Res_BIC\n",
    "Def_BIC <- BIC(rss3_def,n,k)\n",
    "Def_BIC\n",
    "Mis_BIC <- BIC(rss3_mis,n,k)\n",
    "Mis_BIC\n",
    "print(\"variability\")\n",
    "Ent_BIC <- BIC(rss3_ent,n,k)\n",
    "Ent_BIC\n",
    "lCV_BIC <- BIC(rss3_lcv,n,k)\n",
    "lCV_BIC\n",
    "print(\"ACF measures\")\n",
    "Per_BIC <- BIC(rss3_per,n,k)\n",
    "Per_BIC\n",
    "Reg_BIC <- BIC(rss3_reg,n,k)\n",
    "Reg_BIC\n",
    "RightReg_BIC <- BIC(rss3_Rreg,n,k)\n",
    "RightReg_BIC"
   ]
  },
  {
   "cell_type": "code",
   "execution_count": 23,
   "metadata": {},
   "outputs": [
    {
     "data": {
      "text/html": [
       "249.58896823741"
      ],
      "text/latex": [
       "249.58896823741"
      ],
      "text/markdown": [
       "249.58896823741"
      ],
      "text/plain": [
       "[1] 249.589"
      ]
     },
     "metadata": {},
     "output_type": "display_data"
    },
    {
     "data": {
      "text/html": [
       "94.7080466756539"
      ],
      "text/latex": [
       "94.7080466756539"
      ],
      "text/markdown": [
       "94.7080466756539"
      ],
      "text/plain": [
       "[1] 94.70805"
      ]
     },
     "metadata": {},
     "output_type": "display_data"
    },
    {
     "data": {
      "text/html": [
       "131.234875943591"
      ],
      "text/latex": [
       "131.234875943591"
      ],
      "text/markdown": [
       "131.234875943591"
      ],
      "text/plain": [
       "[1] 131.2349"
      ]
     },
     "metadata": {},
     "output_type": "display_data"
    },
    {
     "data": {
      "text/html": [
       "124.828852414644"
      ],
      "text/latex": [
       "124.828852414644"
      ],
      "text/markdown": [
       "124.828852414644"
      ],
      "text/plain": [
       "[1] 124.8289"
      ]
     },
     "metadata": {},
     "output_type": "display_data"
    },
    {
     "name": "stdout",
     "output_type": "stream",
     "text": [
      "[1] \"Variability\"\n"
     ]
    },
    {
     "data": {
      "text/html": [
       "-12.8690538316683"
      ],
      "text/latex": [
       "-12.8690538316683"
      ],
      "text/markdown": [
       "-12.8690538316683"
      ],
      "text/plain": [
       "[1] -12.86905"
      ]
     },
     "metadata": {},
     "output_type": "display_data"
    },
    {
     "data": {
      "text/html": [
       "-16.258008388166"
      ],
      "text/latex": [
       "-16.258008388166"
      ],
      "text/markdown": [
       "-16.258008388166"
      ],
      "text/plain": [
       "[1] -16.25801"
      ]
     },
     "metadata": {},
     "output_type": "display_data"
    },
    {
     "name": "stdout",
     "output_type": "stream",
     "text": [
      "[1] \"Autocorrelation\"\n"
     ]
    },
    {
     "data": {
      "text/html": [
       "179.573322904265"
      ],
      "text/latex": [
       "179.573322904265"
      ],
      "text/markdown": [
       "179.573322904265"
      ],
      "text/plain": [
       "[1] 179.5733"
      ]
     },
     "metadata": {},
     "output_type": "display_data"
    },
    {
     "data": {
      "text/html": [
       "-49.9818757602757"
      ],
      "text/latex": [
       "-49.9818757602757"
      ],
      "text/markdown": [
       "-49.9818757602757"
      ],
      "text/plain": [
       "[1] -49.98188"
      ]
     },
     "metadata": {},
     "output_type": "display_data"
    },
    {
     "data": {
      "text/html": [
       "-2.51790931643271"
      ],
      "text/latex": [
       "-2.51790931643271"
      ],
      "text/markdown": [
       "-2.51790931643271"
      ],
      "text/plain": [
       "[1] -2.517909"
      ]
     },
     "metadata": {},
     "output_type": "display_data"
    }
   ],
   "source": [
    "#AIC measure - Blending model\n",
    "Points_AIC <- AIC(rss3_perf,n,k)\n",
    "Points_AIC\n",
    "Res_AIC <- AIC(rss3_res,n,k)\n",
    "Res_AIC\n",
    "Def_AIC <- AIC(rss3_def,n,k)\n",
    "Def_AIC\n",
    "Mis_AIC <- AIC(rss3_mis,n,k)\n",
    "Mis_AIC\n",
    "print(\"Variability\")\n",
    "Ent_AIC <- AIC(rss3_ent,n,k)\n",
    "Ent_AIC\n",
    "lCV_AIC <- AIC(rss3_lcv,n,k)\n",
    "lCV_AIC\n",
    "print(\"Autocorrelation\")\n",
    "Per_AIC <- AIC(rss3_per,n,k)\n",
    "Per_AIC\n",
    "Reg_AIC <- AIC(rss3_reg,n,k)\n",
    "Reg_AIC\n",
    "RightReg_AIC <- AIC(rss3_Rreg,n,k)\n",
    "RightReg_AIC"
   ]
  },
  {
   "cell_type": "markdown",
   "metadata": {},
   "source": [
    "# Compute BIC and AIC slow-shooting model"
   ]
  },
  {
   "cell_type": "code",
   "execution_count": 24,
   "metadata": {},
   "outputs": [
    {
     "data": {
      "text/html": [
       "<table class=\"dataframe\">\n",
       "<caption>A data.frame: 10 × 12</caption>\n",
       "<thead>\n",
       "\t<tr><th></th><th scope=col>Agent</th><th scope=col>subject</th><th scope=col>GameNb</th><th scope=col>Deflations</th><th scope=col>Misses</th><th scope=col>Resets</th><th scope=col>ShotReg</th><th scope=col>Entropy</th><th scope=col>LogCV</th><th scope=col>ShotPer</th><th scope=col>RightReg</th><th scope=col>Score</th></tr>\n",
       "\t<tr><th></th><th scope=col>&lt;chr&gt;</th><th scope=col>&lt;chr&gt;</th><th scope=col>&lt;int&gt;</th><th scope=col>&lt;dbl&gt;</th><th scope=col>&lt;dbl&gt;</th><th scope=col>&lt;dbl&gt;</th><th scope=col>&lt;dbl&gt;</th><th scope=col>&lt;dbl&gt;</th><th scope=col>&lt;dbl&gt;</th><th scope=col>&lt;dbl&gt;</th><th scope=col>&lt;dbl&gt;</th><th scope=col>&lt;dbl&gt;</th></tr>\n",
       "</thead>\n",
       "<tbody>\n",
       "\t<tr><th scope=row>1</th><td>Coupled</td><td>model_6592528450_1</td><td> 1</td><td>96</td><td> 63</td><td>3</td><td>0.2749406</td><td>2.938219</td><td>-0.9013436</td><td>480</td><td>0.1648576</td><td> 256</td></tr>\n",
       "\t<tr><th scope=row>2</th><td>Coupled</td><td>model_6592528450_1</td><td> 2</td><td>22</td><td>107</td><td>2</td><td>0.4118143</td><td>2.848877</td><td>-1.3099846</td><td>512</td><td>0.3605711</td><td> 888</td></tr>\n",
       "\t<tr><th scope=row>3</th><td>Coupled</td><td>model_6592528450_1</td><td> 3</td><td>15</td><td> 57</td><td>0</td><td>0.4774791</td><td>2.329245</td><td>-1.7767653</td><td>496</td><td>0.5570642</td><td>1486</td></tr>\n",
       "\t<tr><th scope=row>4</th><td>Coupled</td><td>model_6592528450_1</td><td> 4</td><td>12</td><td> 42</td><td>0</td><td>0.5218977</td><td>2.325269</td><td>-1.4100751</td><td>496</td><td>0.4901174</td><td>1718</td></tr>\n",
       "\t<tr><th scope=row>5</th><td>Coupled</td><td>model_6592528450_1</td><td> 5</td><td>15</td><td> 46</td><td>2</td><td>0.5070372</td><td>2.358500</td><td>-1.3223362</td><td>496</td><td>0.5357312</td><td>1508</td></tr>\n",
       "\t<tr><th scope=row>6</th><td>Coupled</td><td>model_6592528450_1</td><td> 6</td><td>20</td><td> 51</td><td>0</td><td>0.4869756</td><td>2.249658</td><td>-1.4796068</td><td>496</td><td>0.5706765</td><td>1198</td></tr>\n",
       "\t<tr><th scope=row>7</th><td>Coupled</td><td>model_6592528450_1</td><td> 7</td><td>19</td><td> 63</td><td>0</td><td>0.4852614</td><td>2.230736</td><td>-1.8959978</td><td>496</td><td>0.5582201</td><td>1174</td></tr>\n",
       "\t<tr><th scope=row>8</th><td>Coupled</td><td>model_6592528450_1</td><td> 8</td><td>16</td><td> 52</td><td>1</td><td>0.4792956</td><td>2.216584</td><td>-1.3405258</td><td>496</td><td>0.5472919</td><td>1398</td></tr>\n",
       "\t<tr><th scope=row>9</th><td>Coupled</td><td>model_6592528450_1</td><td> 9</td><td> 9</td><td> 23</td><td>1</td><td>0.4849891</td><td>1.970430</td><td>-1.5390336</td><td>496</td><td>0.5619010</td><td>1872</td></tr>\n",
       "\t<tr><th scope=row>10</th><td>Coupled</td><td>model_6592528450_1</td><td>10</td><td>17</td><td> 62</td><td>0</td><td>0.4301834</td><td>2.693542</td><td>-1.6470724</td><td>496</td><td>0.5445266</td><td>1078</td></tr>\n",
       "</tbody>\n",
       "</table>\n"
      ],
      "text/latex": [
       "A data.frame: 10 × 12\n",
       "\\begin{tabular}{r|llllllllllll}\n",
       "  & Agent & subject & GameNb & Deflations & Misses & Resets & ShotReg & Entropy & LogCV & ShotPer & RightReg & Score\\\\\n",
       "  & <chr> & <chr> & <int> & <dbl> & <dbl> & <dbl> & <dbl> & <dbl> & <dbl> & <dbl> & <dbl> & <dbl>\\\\\n",
       "\\hline\n",
       "\t1 & Coupled & model\\_6592528450\\_1 &  1 & 96 &  63 & 3 & 0.2749406 & 2.938219 & -0.9013436 & 480 & 0.1648576 &  256\\\\\n",
       "\t2 & Coupled & model\\_6592528450\\_1 &  2 & 22 & 107 & 2 & 0.4118143 & 2.848877 & -1.3099846 & 512 & 0.3605711 &  888\\\\\n",
       "\t3 & Coupled & model\\_6592528450\\_1 &  3 & 15 &  57 & 0 & 0.4774791 & 2.329245 & -1.7767653 & 496 & 0.5570642 & 1486\\\\\n",
       "\t4 & Coupled & model\\_6592528450\\_1 &  4 & 12 &  42 & 0 & 0.5218977 & 2.325269 & -1.4100751 & 496 & 0.4901174 & 1718\\\\\n",
       "\t5 & Coupled & model\\_6592528450\\_1 &  5 & 15 &  46 & 2 & 0.5070372 & 2.358500 & -1.3223362 & 496 & 0.5357312 & 1508\\\\\n",
       "\t6 & Coupled & model\\_6592528450\\_1 &  6 & 20 &  51 & 0 & 0.4869756 & 2.249658 & -1.4796068 & 496 & 0.5706765 & 1198\\\\\n",
       "\t7 & Coupled & model\\_6592528450\\_1 &  7 & 19 &  63 & 0 & 0.4852614 & 2.230736 & -1.8959978 & 496 & 0.5582201 & 1174\\\\\n",
       "\t8 & Coupled & model\\_6592528450\\_1 &  8 & 16 &  52 & 1 & 0.4792956 & 2.216584 & -1.3405258 & 496 & 0.5472919 & 1398\\\\\n",
       "\t9 & Coupled & model\\_6592528450\\_1 &  9 &  9 &  23 & 1 & 0.4849891 & 1.970430 & -1.5390336 & 496 & 0.5619010 & 1872\\\\\n",
       "\t10 & Coupled & model\\_6592528450\\_1 & 10 & 17 &  62 & 0 & 0.4301834 & 2.693542 & -1.6470724 & 496 & 0.5445266 & 1078\\\\\n",
       "\\end{tabular}\n"
      ],
      "text/markdown": [
       "\n",
       "A data.frame: 10 × 12\n",
       "\n",
       "| <!--/--> | Agent &lt;chr&gt; | subject &lt;chr&gt; | GameNb &lt;int&gt; | Deflations &lt;dbl&gt; | Misses &lt;dbl&gt; | Resets &lt;dbl&gt; | ShotReg &lt;dbl&gt; | Entropy &lt;dbl&gt; | LogCV &lt;dbl&gt; | ShotPer &lt;dbl&gt; | RightReg &lt;dbl&gt; | Score &lt;dbl&gt; |\n",
       "|---|---|---|---|---|---|---|---|---|---|---|---|---|\n",
       "| 1 | Coupled | model_6592528450_1 |  1 | 96 |  63 | 3 | 0.2749406 | 2.938219 | -0.9013436 | 480 | 0.1648576 |  256 |\n",
       "| 2 | Coupled | model_6592528450_1 |  2 | 22 | 107 | 2 | 0.4118143 | 2.848877 | -1.3099846 | 512 | 0.3605711 |  888 |\n",
       "| 3 | Coupled | model_6592528450_1 |  3 | 15 |  57 | 0 | 0.4774791 | 2.329245 | -1.7767653 | 496 | 0.5570642 | 1486 |\n",
       "| 4 | Coupled | model_6592528450_1 |  4 | 12 |  42 | 0 | 0.5218977 | 2.325269 | -1.4100751 | 496 | 0.4901174 | 1718 |\n",
       "| 5 | Coupled | model_6592528450_1 |  5 | 15 |  46 | 2 | 0.5070372 | 2.358500 | -1.3223362 | 496 | 0.5357312 | 1508 |\n",
       "| 6 | Coupled | model_6592528450_1 |  6 | 20 |  51 | 0 | 0.4869756 | 2.249658 | -1.4796068 | 496 | 0.5706765 | 1198 |\n",
       "| 7 | Coupled | model_6592528450_1 |  7 | 19 |  63 | 0 | 0.4852614 | 2.230736 | -1.8959978 | 496 | 0.5582201 | 1174 |\n",
       "| 8 | Coupled | model_6592528450_1 |  8 | 16 |  52 | 1 | 0.4792956 | 2.216584 | -1.3405258 | 496 | 0.5472919 | 1398 |\n",
       "| 9 | Coupled | model_6592528450_1 |  9 |  9 |  23 | 1 | 0.4849891 | 1.970430 | -1.5390336 | 496 | 0.5619010 | 1872 |\n",
       "| 10 | Coupled | model_6592528450_1 | 10 | 17 |  62 | 0 | 0.4301834 | 2.693542 | -1.6470724 | 496 | 0.5445266 | 1078 |\n",
       "\n"
      ],
      "text/plain": [
       "   Agent   subject            GameNb Deflations Misses Resets ShotReg  \n",
       "1  Coupled model_6592528450_1  1     96          63    3      0.2749406\n",
       "2  Coupled model_6592528450_1  2     22         107    2      0.4118143\n",
       "3  Coupled model_6592528450_1  3     15          57    0      0.4774791\n",
       "4  Coupled model_6592528450_1  4     12          42    0      0.5218977\n",
       "5  Coupled model_6592528450_1  5     15          46    2      0.5070372\n",
       "6  Coupled model_6592528450_1  6     20          51    0      0.4869756\n",
       "7  Coupled model_6592528450_1  7     19          63    0      0.4852614\n",
       "8  Coupled model_6592528450_1  8     16          52    1      0.4792956\n",
       "9  Coupled model_6592528450_1  9      9          23    1      0.4849891\n",
       "10 Coupled model_6592528450_1 10     17          62    0      0.4301834\n",
       "   Entropy  LogCV      ShotPer RightReg  Score\n",
       "1  2.938219 -0.9013436 480     0.1648576  256 \n",
       "2  2.848877 -1.3099846 512     0.3605711  888 \n",
       "3  2.329245 -1.7767653 496     0.5570642 1486 \n",
       "4  2.325269 -1.4100751 496     0.4901174 1718 \n",
       "5  2.358500 -1.3223362 496     0.5357312 1508 \n",
       "6  2.249658 -1.4796068 496     0.5706765 1198 \n",
       "7  2.230736 -1.8959978 496     0.5582201 1174 \n",
       "8  2.216584 -1.3405258 496     0.5472919 1398 \n",
       "9  1.970430 -1.5390336 496     0.5619010 1872 \n",
       "10 2.693542 -1.6470724 496     0.5445266 1078 "
      ]
     },
     "metadata": {},
     "output_type": "display_data"
    }
   ],
   "source": [
    "#Filtered data set\n",
    "slow_data <- data %>% filter(!Agent=='Streamed_Strategy')\n",
    "head(slow_data,10)"
   ]
  },
  {
   "cell_type": "code",
   "execution_count": 25,
   "metadata": {},
   "outputs": [
    {
     "data": {
      "text/html": [
       "258265.20220625"
      ],
      "text/latex": [
       "258265.20220625"
      ],
      "text/markdown": [
       "258265.20220625"
      ],
      "text/plain": [
       "[1] 258265.2"
      ]
     },
     "metadata": {},
     "output_type": "display_data"
    },
    {
     "name": "stdout",
     "output_type": "stream",
     "text": [
      "[1] \"MS17 comparison\"\n"
     ]
    },
    {
     "data": {
      "text/html": [
       "1206357.96450625"
      ],
      "text/latex": [
       "1206357.96450625"
      ],
      "text/markdown": [
       "1206357.96450625"
      ],
      "text/plain": [
       "[1] 1206358"
      ]
     },
     "metadata": {},
     "output_type": "display_data"
    },
    {
     "name": "stdout",
     "output_type": "stream",
     "text": [
      "[1] \"Hybrid comparison\"\n"
     ]
    },
    {
     "data": {
      "text/html": [
       "21390836.2282063"
      ],
      "text/latex": [
       "21390836.2282063"
      ],
      "text/markdown": [
       "21390836.2282063"
      ],
      "text/plain": [
       "[1] 21390836"
      ]
     },
     "metadata": {},
     "output_type": "display_data"
    }
   ],
   "source": [
    "#1) Performance results\n",
    "muTab<-aggregate(slow_data$Score, by=list(slow_data$Agent,slow_data$GameNb), FUN=mean)\n",
    "colnames(muTab)<-c(\"Agent\",\"GameNb\",\"Score\")\n",
    "H_vec <- c(1:15)\n",
    "for (i in 1:15)\n",
    "{\n",
    "    H_vec[i] <- muTab[which(muTab$Agent==\"Coupled_Strategy\" & muTab$GameNb==i),]$Score\n",
    "}\n",
    "M_vec <- c(1:15)\n",
    "for (i in 1:15)\n",
    "{\n",
    "    M_vec[i] <- muTab[which(muTab$Agent==\"Coupled\" & muTab$GameNb==i),]$Score\n",
    "}\n",
    "\n",
    "#RSS per condition\n",
    "rss_perf <- RSS(M_vec,H_vec)\n",
    "rss_perf\n",
    "\n",
    "print(\"MS17 comparison\")\n",
    "M2_vec <- c(1:15)\n",
    "for (i in 1:15)\n",
    "{\n",
    "    M2_vec[i] <- muTab[which(muTab$Agent==\"MS17\" & muTab$GameNb==i),]$Score\n",
    "}\n",
    "\n",
    "rss2_perf <- RSS(M2_vec,H_vec)\n",
    "rss2_perf\n",
    "\n",
    "print(\"Hybrid comparison\")\n",
    "M3_vec <- c(1:15)\n",
    "for (i in 1:15)\n",
    "{\n",
    "    M3_vec[i] <- muTab[which(muTab$Agent==\"Streamed\" & muTab$GameNb==i),]$Score\n",
    "}\n",
    "\n",
    "rss3_perf <- RSS(M3_vec,H_vec)\n",
    "rss3_perf"
   ]
  },
  {
   "cell_type": "code",
   "execution_count": 26,
   "metadata": {},
   "outputs": [
    {
     "data": {
      "text/html": [
       "0.529388546184555"
      ],
      "text/latex": [
       "0.529388546184555"
      ],
      "text/markdown": [
       "0.529388546184555"
      ],
      "text/plain": [
       "[1] 0.5293885"
      ]
     },
     "metadata": {},
     "output_type": "display_data"
    },
    {
     "name": "stdout",
     "output_type": "stream",
     "text": [
      "[1] \"MS17 comparison\"\n"
     ]
    },
    {
     "data": {
      "text/html": [
       "1.30769658226172"
      ],
      "text/latex": [
       "1.30769658226172"
      ],
      "text/markdown": [
       "1.30769658226172"
      ],
      "text/plain": [
       "[1] 1.307697"
      ]
     },
     "metadata": {},
     "output_type": "display_data"
    },
    {
     "name": "stdout",
     "output_type": "stream",
     "text": [
      "[1] \"Hybrid comparison\"\n"
     ]
    },
    {
     "data": {
      "text/html": [
       "0.154259034598315"
      ],
      "text/latex": [
       "0.154259034598315"
      ],
      "text/markdown": [
       "0.154259034598315"
      ],
      "text/plain": [
       "[1] 0.154259"
      ]
     },
     "metadata": {},
     "output_type": "display_data"
    }
   ],
   "source": [
    "#2) Entropy\n",
    "slow_data <- data %>% filter(!Agent=='Streamed_Strategy')\n",
    "slow_data <- slow_data %>% filter(!Entropy=='NaN')\n",
    "muTab<-aggregate(slow_data$Entropy, by=list(slow_data$Agent,slow_data$GameNb), FUN=mean)\n",
    "\n",
    "colnames(muTab)<-c(\"Agent\",\"GameNb\",\"Entropy\")\n",
    "H_vec <- c(1:15)\n",
    "for (i in 1:15)\n",
    "{\n",
    "    H_vec[i] <- muTab[which(muTab$Agent==\"Coupled_Strategy\" & muTab$GameNb==i),]$Entropy\n",
    "}\n",
    "M_vec <- c(1:15)\n",
    "for (i in 1:15)\n",
    "{\n",
    "    M_vec[i] <- muTab[which(muTab$Agent==\"Coupled\" & muTab$GameNb==i),]$Entropy\n",
    "}\n",
    "\n",
    "#RSS per condition\n",
    "rss_ent <- RSS(M_vec,H_vec)\n",
    "rss_ent\n",
    "\n",
    "print(\"MS17 comparison\")\n",
    "M2_vec <- c(1:15)\n",
    "for (i in 1:15)\n",
    "{\n",
    "    M2_vec[i] <- muTab[which(muTab$Agent==\"MS17\" & muTab$GameNb==i),]$Entropy\n",
    "}\n",
    "\n",
    "rss2_ent <- RSS(M2_vec,H_vec)\n",
    "rss2_ent\n",
    "\n",
    "print(\"Hybrid comparison\")\n",
    "M3_vec <- c(1:15)\n",
    "for (i in 1:15)\n",
    "{\n",
    "    M3_vec[i] <- muTab[which(muTab$Agent==\"Streamed\" & muTab$GameNb==i),]$Entropy\n",
    "}\n",
    "\n",
    "rss3_ent <- RSS(M3_vec,H_vec)\n",
    "rss3_ent"
   ]
  },
  {
   "cell_type": "code",
   "execution_count": 27,
   "metadata": {},
   "outputs": [
    {
     "data": {
      "text/html": [
       "0.16997857982466"
      ],
      "text/latex": [
       "0.16997857982466"
      ],
      "text/markdown": [
       "0.16997857982466"
      ],
      "text/plain": [
       "[1] 0.1699786"
      ]
     },
     "metadata": {},
     "output_type": "display_data"
    },
    {
     "name": "stdout",
     "output_type": "stream",
     "text": [
      "[1] \"MS17 comparison\"\n"
     ]
    },
    {
     "data": {
      "text/html": [
       "1.53027001891377"
      ],
      "text/latex": [
       "1.53027001891377"
      ],
      "text/markdown": [
       "1.53027001891377"
      ],
      "text/plain": [
       "[1] 1.53027"
      ]
     },
     "metadata": {},
     "output_type": "display_data"
    },
    {
     "name": "stdout",
     "output_type": "stream",
     "text": [
      "[1] \"Hybrid comparison\"\n"
     ]
    },
    {
     "data": {
      "text/html": [
       "0.361608691476892"
      ],
      "text/latex": [
       "0.361608691476892"
      ],
      "text/markdown": [
       "0.361608691476892"
      ],
      "text/plain": [
       "[1] 0.3616087"
      ]
     },
     "metadata": {},
     "output_type": "display_data"
    }
   ],
   "source": [
    "#3) Log CV ISI\n",
    "slow_data <- data %>% filter(!Agent=='Streamed_Strategy')\n",
    "slow_data <- slow_data %>% filter(!LogCV=='NaN')\n",
    "muTab<-aggregate(slow_data$LogCV, by=list(slow_data$Agent,slow_data$GameNb), FUN=mean)\n",
    "\n",
    "colnames(muTab)<-c(\"Agent\",\"GameNb\",\"LogCV\")\n",
    "H_vec <- c(1:15)\n",
    "for (i in 1:15)\n",
    "{\n",
    "    H_vec[i] <- muTab[which(muTab$Agent==\"Coupled_Strategy\" & muTab$GameNb==i),]$LogCV\n",
    "}\n",
    "M_vec <- c(1:15)\n",
    "for (i in 1:15)\n",
    "{\n",
    "    M_vec[i] <- muTab[which(muTab$Agent==\"Coupled\" & muTab$GameNb==i),]$LogCV\n",
    "}\n",
    "\n",
    "#RSS per condition\n",
    "rss_lcv <- RSS(M_vec,H_vec)\n",
    "rss_lcv\n",
    "\n",
    "print(\"MS17 comparison\")\n",
    "M2_vec <- c(1:15)\n",
    "for (i in 1:15)\n",
    "{\n",
    "    M2_vec[i] <- muTab[which(muTab$Agent==\"MS17\" & muTab$GameNb==i),]$LogCV\n",
    "}\n",
    "\n",
    "rss2_lcv <- RSS(M2_vec,H_vec)\n",
    "rss2_lcv\n",
    "\n",
    "print(\"Hybrid comparison\")\n",
    "M3_vec <- c(1:15)\n",
    "for (i in 1:15)\n",
    "{\n",
    "    M3_vec[i] <- muTab[which(muTab$Agent==\"Streamed\" & muTab$GameNb==i),]$LogCV\n",
    "}\n",
    "\n",
    "rss3_lcv <- RSS(M3_vec,H_vec)\n",
    "rss3_lcv"
   ]
  },
  {
   "cell_type": "code",
   "execution_count": 28,
   "metadata": {},
   "outputs": [
    {
     "data": {
      "text/html": [
       "953.1858109375"
      ],
      "text/latex": [
       "953.1858109375"
      ],
      "text/markdown": [
       "953.1858109375"
      ],
      "text/plain": [
       "[1] 953.1858"
      ]
     },
     "metadata": {},
     "output_type": "display_data"
    },
    {
     "name": "stdout",
     "output_type": "stream",
     "text": [
      "[1] \"MS17 comparison\"\n"
     ]
    },
    {
     "data": {
      "text/html": [
       "1282.8916609375"
      ],
      "text/latex": [
       "1282.8916609375"
      ],
      "text/markdown": [
       "1282.8916609375"
      ],
      "text/plain": [
       "[1] 1282.892"
      ]
     },
     "metadata": {},
     "output_type": "display_data"
    },
    {
     "name": "stdout",
     "output_type": "stream",
     "text": [
      "[1] \"Hybrid comparison\"\n"
     ]
    },
    {
     "data": {
      "text/html": [
       "465.7168359375"
      ],
      "text/latex": [
       "465.7168359375"
      ],
      "text/markdown": [
       "465.7168359375"
      ],
      "text/plain": [
       "[1] 465.7168"
      ]
     },
     "metadata": {},
     "output_type": "display_data"
    }
   ],
   "source": [
    "#4) Resets\n",
    "slow_data <- data %>% filter(!Agent=='Streamed_Strategy')\n",
    "muTab<-aggregate(slow_data$Resets, by=list(slow_data$Agent,slow_data$GameNb), FUN=mean)\n",
    "\n",
    "colnames(muTab)<-c(\"Agent\",\"GameNb\",\"Resets\")\n",
    "H_vec <- c(1:15)\n",
    "for (i in 1:15)\n",
    "{\n",
    "    H_vec[i] <- muTab[which(muTab$Agent==\"Coupled_Strategy\" & muTab$GameNb==i),]$Resets\n",
    "}\n",
    "M_vec <- c(1:15)\n",
    "for (i in 1:15)\n",
    "{\n",
    "    M_vec[i] <- muTab[which(muTab$Agent==\"Coupled\" & muTab$GameNb==i),]$Resets\n",
    "}\n",
    "\n",
    "#RSS per condition\n",
    "rss_res <- RSS(M_vec,H_vec)\n",
    "rss_res\n",
    "\n",
    "print(\"MS17 comparison\")\n",
    "M2_vec <- c(1:15)\n",
    "for (i in 1:15)\n",
    "{\n",
    "    M2_vec[i] <- muTab[which(muTab$Agent==\"MS17\" & muTab$GameNb==i),]$Resets\n",
    "}\n",
    "\n",
    "rss2_res <- RSS(M2_vec,H_vec)\n",
    "rss2_res\n",
    "\n",
    "print(\"Hybrid comparison\")\n",
    "M3_vec <- c(1:15)\n",
    "for (i in 1:15)\n",
    "{\n",
    "    M3_vec[i] <- muTab[which(muTab$Agent==\"Streamed\" & muTab$GameNb==i),]$Resets\n",
    "}\n",
    "\n",
    "rss3_res <- RSS(M3_vec,H_vec)\n",
    "rss3_res"
   ]
  },
  {
   "cell_type": "code",
   "execution_count": 29,
   "metadata": {},
   "outputs": [
    {
     "data": {
      "text/html": [
       "2331.083059375"
      ],
      "text/latex": [
       "2331.083059375"
      ],
      "text/markdown": [
       "2331.083059375"
      ],
      "text/plain": [
       "[1] 2331.083"
      ]
     },
     "metadata": {},
     "output_type": "display_data"
    },
    {
     "name": "stdout",
     "output_type": "stream",
     "text": [
      "[1] \"MS17 comparison\"\n"
     ]
    },
    {
     "data": {
      "text/html": [
       "9436.143484375"
      ],
      "text/latex": [
       "9436.143484375"
      ],
      "text/markdown": [
       "9436.143484375"
      ],
      "text/plain": [
       "[1] 9436.143"
      ]
     },
     "metadata": {},
     "output_type": "display_data"
    },
    {
     "name": "stdout",
     "output_type": "stream",
     "text": [
      "[1] \"Hybrid comparison\"\n"
     ]
    },
    {
     "data": {
      "text/html": [
       "4540.704884375"
      ],
      "text/latex": [
       "4540.704884375"
      ],
      "text/markdown": [
       "4540.704884375"
      ],
      "text/plain": [
       "[1] 4540.705"
      ]
     },
     "metadata": {},
     "output_type": "display_data"
    }
   ],
   "source": [
    "#5) Deflations\n",
    "slow_data <- data %>% filter(!Agent=='Streamed_Strategy')\n",
    "muTab<-aggregate(slow_data$Deflations, by=list(slow_data$Agent,slow_data$GameNb), FUN=mean)\n",
    "\n",
    "colnames(muTab)<-c(\"Agent\",\"GameNb\",\"Deflations\")\n",
    "H_vec <- c(1:15)\n",
    "for (i in 1:15)\n",
    "{\n",
    "    H_vec[i] <- muTab[which(muTab$Agent==\"Coupled_Strategy\" & muTab$GameNb==i),]$Deflations\n",
    "}\n",
    "M_vec <- c(1:15)\n",
    "for (i in 1:15)\n",
    "{\n",
    "    M_vec[i] <- muTab[which(muTab$Agent==\"Coupled\" & muTab$GameNb==i),]$Deflations\n",
    "}\n",
    "\n",
    "#RSS per condition\n",
    "rss_def <- RSS(M_vec,H_vec)\n",
    "rss_def\n",
    "\n",
    "print(\"MS17 comparison\")\n",
    "M2_vec <- c(1:15)\n",
    "for (i in 1:15)\n",
    "{\n",
    "    M2_vec[i] <- muTab[which(muTab$Agent==\"MS17\" & muTab$GameNb==i),]$Deflations\n",
    "}\n",
    "\n",
    "rss2_def <- RSS(M2_vec,H_vec)\n",
    "rss2_def\n",
    "\n",
    "print(\"Hybrid comparison\")\n",
    "M3_vec <- c(1:15)\n",
    "for (i in 1:15)\n",
    "{\n",
    "    M3_vec[i] <- muTab[which(muTab$Agent==\"Streamed\" & muTab$GameNb==i),]$Deflations\n",
    "}\n",
    "\n",
    "rss3_def <- RSS(M3_vec,H_vec)\n",
    "rss3_def"
   ]
  },
  {
   "cell_type": "code",
   "execution_count": 30,
   "metadata": {},
   "outputs": [
    {
     "data": {
      "text/html": [
       "1927.2052640625"
      ],
      "text/latex": [
       "1927.2052640625"
      ],
      "text/markdown": [
       "1927.2052640625"
      ],
      "text/plain": [
       "[1] 1927.205"
      ]
     },
     "metadata": {},
     "output_type": "display_data"
    },
    {
     "name": "stdout",
     "output_type": "stream",
     "text": [
      "[1] \"MS17 comparison\"\n"
     ]
    },
    {
     "data": {
      "text/html": [
       "27420.8868390625"
      ],
      "text/latex": [
       "27420.8868390625"
      ],
      "text/markdown": [
       "27420.8868390625"
      ],
      "text/plain": [
       "[1] 27420.89"
      ]
     },
     "metadata": {},
     "output_type": "display_data"
    },
    {
     "name": "stdout",
     "output_type": "stream",
     "text": [
      "[1] \"Hybrid comparison\"\n"
     ]
    },
    {
     "data": {
      "text/html": [
       "3124.1257640625"
      ],
      "text/latex": [
       "3124.1257640625"
      ],
      "text/markdown": [
       "3124.1257640625"
      ],
      "text/plain": [
       "[1] 3124.126"
      ]
     },
     "metadata": {},
     "output_type": "display_data"
    }
   ],
   "source": [
    "#6) Misses\n",
    "slow_data <- data %>% filter(!Agent=='Streamed_Strategy')\n",
    "muTab<-aggregate(slow_data$Misses, by=list(slow_data$Agent,slow_data$GameNb), FUN=mean)\n",
    "\n",
    "colnames(muTab)<-c(\"Agent\",\"GameNb\",\"Misses\")\n",
    "H_vec <- c(1:15)\n",
    "for (i in 1:15)\n",
    "{\n",
    "    H_vec[i] <- muTab[which(muTab$Agent==\"Coupled_Strategy\" & muTab$GameNb==i),]$Misses\n",
    "}\n",
    "M_vec <- c(1:15)\n",
    "for (i in 1:15)\n",
    "{\n",
    "    M_vec[i] <- muTab[which(muTab$Agent==\"Coupled\" & muTab$GameNb==i),]$Misses\n",
    "}\n",
    "\n",
    "#RSS per condition\n",
    "rss_mis <- RSS(M_vec,H_vec)\n",
    "rss_mis\n",
    "\n",
    "print(\"MS17 comparison\")\n",
    "M2_vec <- c(1:15)\n",
    "for (i in 1:15)\n",
    "{\n",
    "    M2_vec[i] <- muTab[which(muTab$Agent==\"MS17\" & muTab$GameNb==i),]$Misses\n",
    "}\n",
    "\n",
    "rss2_mis <- RSS(M2_vec,H_vec)\n",
    "rss2_mis\n",
    "\n",
    "print(\"Hybrid comparison\")\n",
    "M3_vec <- c(1:15)\n",
    "for (i in 1:15)\n",
    "{\n",
    "    M3_vec[i] <- muTab[which(muTab$Agent==\"Streamed\" & muTab$GameNb==i),]$Misses\n",
    "}\n",
    "\n",
    "rss3_mis <- RSS(M3_vec,H_vec)\n",
    "rss3_mis"
   ]
  },
  {
   "cell_type": "code",
   "execution_count": 31,
   "metadata": {},
   "outputs": [
    {
     "data": {
      "text/html": [
       "1386.11525595001"
      ],
      "text/latex": [
       "1386.11525595001"
      ],
      "text/markdown": [
       "1386.11525595001"
      ],
      "text/plain": [
       "[1] 1386.115"
      ]
     },
     "metadata": {},
     "output_type": "display_data"
    },
    {
     "name": "stdout",
     "output_type": "stream",
     "text": [
      "[1] \"MS17 comparison\"\n"
     ]
    },
    {
     "data": {
      "text/html": [
       "78021.6709666625"
      ],
      "text/latex": [
       "78021.6709666625"
      ],
      "text/markdown": [
       "78021.6709666625"
      ],
      "text/plain": [
       "[1] 78021.67"
      ]
     },
     "metadata": {},
     "output_type": "display_data"
    },
    {
     "name": "stdout",
     "output_type": "stream",
     "text": [
      "[1] \"Hybrid comparison\"\n"
     ]
    },
    {
     "data": {
      "text/html": [
       "226558.794094765"
      ],
      "text/latex": [
       "226558.794094765"
      ],
      "text/markdown": [
       "226558.794094765"
      ],
      "text/plain": [
       "[1] 226558.8"
      ]
     },
     "metadata": {},
     "output_type": "display_data"
    }
   ],
   "source": [
    "#7) Shot periodicity\n",
    "slow_data <- data %>% filter(!Agent=='Streamed_Strategy')\n",
    "slow_data <- slow_data %>% filter(!ShotPer=='NaN')\n",
    "muTab<-aggregate(slow_data$ShotPer, by=list(slow_data$Agent,slow_data$GameNb), FUN=mean)\n",
    "\n",
    "colnames(muTab)<-c(\"Agent\",\"GameNb\",\"ShotPer\")\n",
    "H_vec <- c(1:15)\n",
    "for (i in 1:15)\n",
    "{\n",
    "    H_vec[i] <- muTab[which(muTab$Agent==\"Coupled_Strategy\" & muTab$GameNb==i),]$ShotPer\n",
    "}\n",
    "M_vec <- c(1:15)\n",
    "for (i in 1:15)\n",
    "{\n",
    "    M_vec[i] <- muTab[which(muTab$Agent==\"Coupled\" & muTab$GameNb==i),]$ShotPer\n",
    "}\n",
    "\n",
    "#RSS per condition\n",
    "rss_per <- RSS(M_vec,H_vec)\n",
    "rss_per\n",
    "\n",
    "print(\"MS17 comparison\")\n",
    "M2_vec <- c(1:15)\n",
    "for (i in 1:15)\n",
    "{\n",
    "    M2_vec[i] <- muTab[which(muTab$Agent==\"MS17\" & muTab$GameNb==i),]$ShotPer\n",
    "}\n",
    "\n",
    "rss2_per <- RSS(M2_vec,H_vec)\n",
    "rss2_per\n",
    "\n",
    "print(\"Hybrid comparison\")\n",
    "M3_vec <- c(1:15)\n",
    "for (i in 1:15)\n",
    "{\n",
    "    M3_vec[i] <- muTab[which(muTab$Agent==\"Streamed\" & muTab$GameNb==i),]$ShotPer\n",
    "}\n",
    "\n",
    "rss3_per <- RSS(M3_vec,H_vec)\n",
    "rss3_per"
   ]
  },
  {
   "cell_type": "code",
   "execution_count": 32,
   "metadata": {},
   "outputs": [
    {
     "data": {
      "text/html": [
       "0.0457831519052737"
      ],
      "text/latex": [
       "0.0457831519052737"
      ],
      "text/markdown": [
       "0.0457831519052737"
      ],
      "text/plain": [
       "[1] 0.04578315"
      ]
     },
     "metadata": {},
     "output_type": "display_data"
    },
    {
     "name": "stdout",
     "output_type": "stream",
     "text": [
      "[1] \"MS17 comparison\"\n"
     ]
    },
    {
     "data": {
      "text/html": [
       "0.785890652006244"
      ],
      "text/latex": [
       "0.785890652006244"
      ],
      "text/markdown": [
       "0.785890652006244"
      ],
      "text/plain": [
       "[1] 0.7858907"
      ]
     },
     "metadata": {},
     "output_type": "display_data"
    },
    {
     "name": "stdout",
     "output_type": "stream",
     "text": [
      "[1] \"Hybrid comparison\"\n"
     ]
    },
    {
     "data": {
      "text/html": [
       "0.0480970814646632"
      ],
      "text/latex": [
       "0.0480970814646632"
      ],
      "text/markdown": [
       "0.0480970814646632"
      ],
      "text/plain": [
       "[1] 0.04809708"
      ]
     },
     "metadata": {},
     "output_type": "display_data"
    }
   ],
   "source": [
    "#8) Shot regularity\n",
    "slow_data <- data %>% filter(!Agent=='Streamed_Strategy')\n",
    "slow_data <- slow_data %>% filter(!ShotReg=='NaN')\n",
    "muTab<-aggregate(slow_data$ShotReg, by=list(slow_data$Agent,slow_data$GameNb), FUN=mean)\n",
    "\n",
    "colnames(muTab)<-c(\"Agent\",\"GameNb\",\"ShotReg\")\n",
    "H_vec <- c(1:15)\n",
    "for (i in 1:15)\n",
    "{\n",
    "    H_vec[i] <- muTab[which(muTab$Agent==\"Coupled_Strategy\" & muTab$GameNb==i),]$ShotReg\n",
    "}\n",
    "M_vec <- c(1:15)\n",
    "for (i in 1:15)\n",
    "{\n",
    "    M_vec[i] <- muTab[which(muTab$Agent==\"Coupled\" & muTab$GameNb==i),]$ShotReg\n",
    "}\n",
    "\n",
    "#RSS per condition\n",
    "rss_reg <- RSS(M_vec,H_vec)\n",
    "rss_reg\n",
    "\n",
    "print(\"MS17 comparison\")\n",
    "M2_vec <- c(1:15)\n",
    "for (i in 1:15)\n",
    "{\n",
    "    M2_vec[i] <- muTab[which(muTab$Agent==\"MS17\" & muTab$GameNb==i),]$ShotReg\n",
    "}\n",
    "\n",
    "rss2_reg <- RSS(M2_vec,H_vec)\n",
    "rss2_reg\n",
    "\n",
    "print(\"Hybrid comparison\")\n",
    "M3_vec <- c(1:15)\n",
    "for (i in 1:15)\n",
    "{\n",
    "    M3_vec[i] <- muTab[which(muTab$Agent==\"Streamed\" & muTab$GameNb==i),]$ShotReg\n",
    "}\n",
    "\n",
    "rss3_reg <- RSS(M3_vec,H_vec)\n",
    "rss3_reg"
   ]
  },
  {
   "cell_type": "code",
   "execution_count": 33,
   "metadata": {},
   "outputs": [
    {
     "data": {
      "text/html": [
       "0.07295035566653"
      ],
      "text/latex": [
       "0.07295035566653"
      ],
      "text/markdown": [
       "0.07295035566653"
      ],
      "text/plain": [
       "[1] 0.07295036"
      ]
     },
     "metadata": {},
     "output_type": "display_data"
    },
    {
     "name": "stdout",
     "output_type": "stream",
     "text": [
      "[1] \"MS17 comparison\"\n"
     ]
    },
    {
     "data": {
      "text/html": [
       "0.377449102389389"
      ],
      "text/latex": [
       "0.377449102389389"
      ],
      "text/markdown": [
       "0.377449102389389"
      ],
      "text/plain": [
       "[1] 0.3774491"
      ]
     },
     "metadata": {},
     "output_type": "display_data"
    },
    {
     "name": "stdout",
     "output_type": "stream",
     "text": [
      "[1] \"Hybrid comparison\"\n"
     ]
    },
    {
     "data": {
      "text/html": [
       "0.455121965346095"
      ],
      "text/latex": [
       "0.455121965346095"
      ],
      "text/markdown": [
       "0.455121965346095"
      ],
      "text/plain": [
       "[1] 0.455122"
      ]
     },
     "metadata": {},
     "output_type": "display_data"
    }
   ],
   "source": [
    "#9) Right regularity\n",
    "slow_data <- data %>% filter(!Agent=='Streamed_Strategy')\n",
    "slow_data <- slow_data %>% filter(!RightReg=='NaN')\n",
    "muTab<-aggregate(slow_data$RightReg, by=list(slow_data$Agent,slow_data$GameNb), FUN=mean)\n",
    "\n",
    "colnames(muTab)<-c(\"Agent\",\"GameNb\",\"RightReg\")\n",
    "H_vec <- c(1:15)\n",
    "for (i in 1:15)\n",
    "{\n",
    "    H_vec[i] <- muTab[which(muTab$Agent==\"Coupled_Strategy\" & muTab$GameNb==i),]$RightReg\n",
    "}\n",
    "M_vec <- c(1:15)\n",
    "for (i in 1:15)\n",
    "{\n",
    "    M_vec[i] <- muTab[which(muTab$Agent==\"Coupled\" & muTab$GameNb==i),]$RightReg\n",
    "}\n",
    "\n",
    "#RSS per condition\n",
    "rss_Rreg <- RSS(M_vec,H_vec)\n",
    "rss_Rreg\n",
    "\n",
    "print(\"MS17 comparison\")\n",
    "M2_vec <- c(1:15)\n",
    "for (i in 1:15)\n",
    "{\n",
    "    M2_vec[i] <- muTab[which(muTab$Agent==\"MS17\" & muTab$GameNb==i),]$RightReg\n",
    "}\n",
    "\n",
    "rss2_Rreg <- RSS(M2_vec,H_vec)\n",
    "rss2_Rreg\n",
    "\n",
    "print(\"Hybrid comparison\")\n",
    "M3_vec <- c(1:15)\n",
    "for (i in 1:15)\n",
    "{\n",
    "    M3_vec[i] <- muTab[which(muTab$Agent==\"Streamed\" & muTab$GameNb==i),]$RightReg\n",
    "}\n",
    "\n",
    "rss3_Rreg <- RSS(M3_vec,H_vec)\n",
    "rss3_Rreg"
   ]
  },
  {
   "cell_type": "code",
   "execution_count": 34,
   "metadata": {},
   "outputs": [
    {
     "data": {
      "text/html": [
       "146.305380755794"
      ],
      "text/latex": [
       "146.305380755794"
      ],
      "text/markdown": [
       "146.305380755794"
      ],
      "text/plain": [
       "[1] 146.3054"
      ]
     },
     "metadata": {},
     "output_type": "display_data"
    },
    {
     "data": {
      "text/html": [
       "62.2763948744651"
      ],
      "text/latex": [
       "62.2763948744651"
      ],
      "text/markdown": [
       "62.2763948744651"
      ],
      "text/plain": [
       "[1] 62.27639"
      ]
     },
     "metadata": {},
     "output_type": "display_data"
    },
    {
     "data": {
      "text/html": [
       "75.6905710470935"
      ],
      "text/latex": [
       "75.6905710470935"
      ],
      "text/markdown": [
       "75.6905710470935"
      ],
      "text/plain": [
       "[1] 75.69057"
      ]
     },
     "metadata": {},
     "output_type": "display_data"
    },
    {
     "data": {
      "text/html": [
       "72.8366397247647"
      ],
      "text/latex": [
       "72.8366397247647"
      ],
      "text/markdown": [
       "72.8366397247647"
      ],
      "text/plain": [
       "[1] 72.83664"
      ]
     },
     "metadata": {},
     "output_type": "display_data"
    },
    {
     "name": "stdout",
     "output_type": "stream",
     "text": [
      "[1] \"variability\"\n"
     ]
    },
    {
     "data": {
      "text/html": [
       "-50.1612423898637"
      ],
      "text/latex": [
       "-50.1612423898637"
      ],
      "text/markdown": [
       "-50.1612423898637"
      ],
      "text/plain": [
       "[1] -50.16124"
      ]
     },
     "metadata": {},
     "output_type": "display_data"
    },
    {
     "data": {
      "text/html": [
       "-67.2019957800645"
      ],
      "text/latex": [
       "-67.2019957800645"
      ],
      "text/markdown": [
       "-67.2019957800645"
      ],
      "text/plain": [
       "[1] -67.202"
      ]
     },
     "metadata": {},
     "output_type": "display_data"
    },
    {
     "name": "stdout",
     "output_type": "stream",
     "text": [
      "[1] \"ACF measures\"\n"
     ]
    },
    {
     "data": {
      "text/html": [
       "67.8931519866203"
      ],
      "text/latex": [
       "67.8931519866203"
      ],
      "text/markdown": [
       "67.8931519866203"
      ],
      "text/plain": [
       "[1] 67.89315"
      ]
     },
     "metadata": {},
     "output_type": "display_data"
    },
    {
     "data": {
      "text/html": [
       "-86.8783397845863"
      ],
      "text/latex": [
       "-86.8783397845863"
      ],
      "text/markdown": [
       "-86.8783397845863"
      ],
      "text/plain": [
       "[1] -86.87834"
      ]
     },
     "metadata": {},
     "output_type": "display_data"
    },
    {
     "data": {
      "text/html": [
       "-79.8903949446573"
      ],
      "text/latex": [
       "-79.8903949446573"
      ],
      "text/markdown": [
       "-79.8903949446573"
      ],
      "text/plain": [
       "[1] -79.89039"
      ]
     },
     "metadata": {},
     "output_type": "display_data"
    }
   ],
   "source": [
    "#BIC measure - Slow model\n",
    "n=15\n",
    "k=0\n",
    "Points_BIC <- BIC(rss_perf,n,k)\n",
    "Points_BIC\n",
    "Res_BIC <- BIC(rss_res,n,k)\n",
    "Res_BIC\n",
    "Def_BIC <- BIC(rss_def,n,k)\n",
    "Def_BIC\n",
    "Mis_BIC <- BIC(rss_mis,n,k)\n",
    "Mis_BIC\n",
    "print(\"variability\")\n",
    "Ent_BIC <- BIC(rss_ent,n,k)\n",
    "Ent_BIC\n",
    "lCV_BIC <- BIC(rss_lcv,n,k)\n",
    "lCV_BIC\n",
    "print(\"ACF measures\")\n",
    "Per_BIC <- BIC(rss_per,n,k)\n",
    "Per_BIC\n",
    "Reg_BIC <- BIC(rss_reg,n,k)\n",
    "Reg_BIC\n",
    "RightReg_BIC <- BIC(rss_Rreg,n,k)\n",
    "RightReg_BIC"
   ]
  },
  {
   "cell_type": "code",
   "execution_count": 35,
   "metadata": {},
   "outputs": [
    {
     "data": {
      "text/html": [
       "186.926133772327"
      ],
      "text/latex": [
       "186.926133772327"
      ],
      "text/markdown": [
       "186.926133772327"
      ],
      "text/plain": [
       "[1] 186.9261"
      ]
     },
     "metadata": {},
     "output_type": "display_data"
    },
    {
     "data": {
      "text/html": [
       "102.897147890998"
      ],
      "text/latex": [
       "102.897147890998"
      ],
      "text/markdown": [
       "102.897147890998"
      ],
      "text/plain": [
       "[1] 102.8971"
      ]
     },
     "metadata": {},
     "output_type": "display_data"
    },
    {
     "data": {
      "text/html": [
       "116.311324063627"
      ],
      "text/latex": [
       "116.311324063627"
      ],
      "text/markdown": [
       "116.311324063627"
      ],
      "text/plain": [
       "[1] 116.3113"
      ]
     },
     "metadata": {},
     "output_type": "display_data"
    },
    {
     "data": {
      "text/html": [
       "113.457392741298"
      ],
      "text/latex": [
       "113.457392741298"
      ],
      "text/markdown": [
       "113.457392741298"
      ],
      "text/plain": [
       "[1] 113.4574"
      ]
     },
     "metadata": {},
     "output_type": "display_data"
    },
    {
     "name": "stdout",
     "output_type": "stream",
     "text": [
      "[1] \"Variability\"\n"
     ]
    },
    {
     "data": {
      "text/html": [
       "-9.54048937333057"
      ],
      "text/latex": [
       "-9.54048937333057"
      ],
      "text/markdown": [
       "-9.54048937333057"
      ],
      "text/plain": [
       "[1] -9.540489"
      ]
     },
     "metadata": {},
     "output_type": "display_data"
    },
    {
     "data": {
      "text/html": [
       "-26.5812427635313"
      ],
      "text/latex": [
       "-26.5812427635313"
      ],
      "text/markdown": [
       "-26.5812427635313"
      ],
      "text/plain": [
       "[1] -26.58124"
      ]
     },
     "metadata": {},
     "output_type": "display_data"
    },
    {
     "name": "stdout",
     "output_type": "stream",
     "text": [
      "[1] \"Autocorrelation\"\n"
     ]
    },
    {
     "data": {
      "text/html": [
       "108.513905003153"
      ],
      "text/latex": [
       "108.513905003153"
      ],
      "text/markdown": [
       "108.513905003153"
      ],
      "text/plain": [
       "[1] 108.5139"
      ]
     },
     "metadata": {},
     "output_type": "display_data"
    },
    {
     "data": {
      "text/html": [
       "-46.2575867680532"
      ],
      "text/latex": [
       "-46.2575867680532"
      ],
      "text/markdown": [
       "-46.2575867680532"
      ],
      "text/plain": [
       "[1] -46.25759"
      ]
     },
     "metadata": {},
     "output_type": "display_data"
    },
    {
     "data": {
      "text/html": [
       "-39.2696419281241"
      ],
      "text/latex": [
       "-39.2696419281241"
      ],
      "text/markdown": [
       "-39.2696419281241"
      ],
      "text/plain": [
       "[1] -39.26964"
      ]
     },
     "metadata": {},
     "output_type": "display_data"
    }
   ],
   "source": [
    "#AIC measure - Slow model\n",
    "Points_AIC <- AIC(rss_perf,n,k)\n",
    "Points_AIC\n",
    "Res_AIC <- AIC(rss_res,n,k)\n",
    "Res_AIC\n",
    "Def_AIC <- AIC(rss_def,n,k)\n",
    "Def_AIC\n",
    "Mis_AIC <- AIC(rss_mis,n,k)\n",
    "Mis_AIC\n",
    "print(\"Variability\")\n",
    "Ent_AIC <- AIC(rss_ent,n,k)\n",
    "Ent_AIC\n",
    "lCV_AIC <- AIC(rss_lcv,n,k)\n",
    "lCV_AIC\n",
    "print(\"Autocorrelation\")\n",
    "Per_AIC <- AIC(rss_per,n,k)\n",
    "Per_AIC\n",
    "Reg_AIC <- AIC(rss_reg,n,k)\n",
    "Reg_AIC\n",
    "RightReg_AIC <- AIC(rss_Rreg,n,k)\n",
    "RightReg_AIC"
   ]
  },
  {
   "cell_type": "code",
   "execution_count": 36,
   "metadata": {},
   "outputs": [
    {
     "data": {
      "text/html": [
       "169.425993461726"
      ],
      "text/latex": [
       "169.425993461726"
      ],
      "text/markdown": [
       "169.425993461726"
      ],
      "text/plain": [
       "[1] 169.426"
      ]
     },
     "metadata": {},
     "output_type": "display_data"
    },
    {
     "data": {
      "text/html": [
       "66.7323257694948"
      ],
      "text/latex": [
       "66.7323257694948"
      ],
      "text/markdown": [
       "66.7323257694948"
      ],
      "text/plain": [
       "[1] 66.73233"
      ]
     },
     "metadata": {},
     "output_type": "display_data"
    },
    {
     "data": {
      "text/html": [
       "96.6637866805348"
      ],
      "text/latex": [
       "96.6637866805348"
      ],
      "text/markdown": [
       "96.6637866805348"
      ],
      "text/plain": [
       "[1] 96.66379"
      ]
     },
     "metadata": {},
     "output_type": "display_data"
    },
    {
     "data": {
      "text/html": [
       "112.665151414085"
      ],
      "text/latex": [
       "112.665151414085"
      ],
      "text/markdown": [
       "112.665151414085"
      ],
      "text/plain": [
       "[1] 112.6652"
      ]
     },
     "metadata": {},
     "output_type": "display_data"
    },
    {
     "name": "stdout",
     "output_type": "stream",
     "text": [
      "[1] \"variability\"\n"
     ]
    },
    {
     "data": {
      "text/html": [
       "-36.5967441858675"
      ],
      "text/latex": [
       "-36.5967441858675"
      ],
      "text/markdown": [
       "-36.5967441858675"
      ],
      "text/plain": [
       "[1] -36.59674"
      ]
     },
     "metadata": {},
     "output_type": "display_data"
    },
    {
     "data": {
      "text/html": [
       "-34.2390899747846"
      ],
      "text/latex": [
       "-34.2390899747846"
      ],
      "text/markdown": [
       "-34.2390899747846"
      ],
      "text/plain": [
       "[1] -34.23909"
      ]
     },
     "metadata": {},
     "output_type": "display_data"
    },
    {
     "name": "stdout",
     "output_type": "stream",
     "text": [
      "[1] \"ACF measures\"\n"
     ]
    },
    {
     "data": {
      "text/html": [
       "128.350375483306"
      ],
      "text/latex": [
       "128.350375483306"
      ],
      "text/markdown": [
       "128.350375483306"
      ],
      "text/plain": [
       "[1] 128.3504"
      ]
     },
     "metadata": {},
     "output_type": "display_data"
    },
    {
     "data": {
      "text/html": [
       "-44.2348172537715"
      ],
      "text/latex": [
       "-44.2348172537715"
      ],
      "text/markdown": [
       "-44.2348172537715"
      ],
      "text/plain": [
       "[1] -44.23482"
      ]
     },
     "metadata": {},
     "output_type": "display_data"
    },
    {
     "data": {
      "text/html": [
       "-55.2355462288946"
      ],
      "text/latex": [
       "-55.2355462288946"
      ],
      "text/markdown": [
       "-55.2355462288946"
      ],
      "text/plain": [
       "[1] -55.23555"
      ]
     },
     "metadata": {},
     "output_type": "display_data"
    }
   ],
   "source": [
    "#BIC measure - MS17 model\n",
    "n=15\n",
    "k=0\n",
    "Points_BIC <- BIC(rss2_perf,n,k)\n",
    "Points_BIC\n",
    "Res_BIC <- BIC(rss2_res,n,k)\n",
    "Res_BIC\n",
    "Def_BIC <- BIC(rss2_def,n,k)\n",
    "Def_BIC\n",
    "Mis_BIC <- BIC(rss2_mis,n,k)\n",
    "Mis_BIC\n",
    "print(\"variability\")\n",
    "Ent_BIC <- BIC(rss2_ent,n,k)\n",
    "Ent_BIC\n",
    "lCV_BIC <- BIC(rss2_lcv,n,k)\n",
    "lCV_BIC\n",
    "print(\"ACF measures\")\n",
    "Per_BIC <- BIC(rss2_per,n,k)\n",
    "Per_BIC\n",
    "Reg_BIC <- BIC(rss2_reg,n,k)\n",
    "Reg_BIC\n",
    "RightReg_BIC <- BIC(rss2_Rreg,n,k)\n",
    "RightReg_BIC"
   ]
  },
  {
   "cell_type": "code",
   "execution_count": 37,
   "metadata": {},
   "outputs": [
    {
     "data": {
      "text/html": [
       "210.046746478259"
      ],
      "text/latex": [
       "210.046746478259"
      ],
      "text/markdown": [
       "210.046746478259"
      ],
      "text/plain": [
       "[1] 210.0467"
      ]
     },
     "metadata": {},
     "output_type": "display_data"
    },
    {
     "data": {
      "text/html": [
       "107.353078786028"
      ],
      "text/latex": [
       "107.353078786028"
      ],
      "text/markdown": [
       "107.353078786028"
      ],
      "text/plain": [
       "[1] 107.3531"
      ]
     },
     "metadata": {},
     "output_type": "display_data"
    },
    {
     "data": {
      "text/html": [
       "137.284539697068"
      ],
      "text/latex": [
       "137.284539697068"
      ],
      "text/markdown": [
       "137.284539697068"
      ],
      "text/plain": [
       "[1] 137.2845"
      ]
     },
     "metadata": {},
     "output_type": "display_data"
    },
    {
     "data": {
      "text/html": [
       "153.285904430618"
      ],
      "text/latex": [
       "153.285904430618"
      ],
      "text/markdown": [
       "153.285904430618"
      ],
      "text/plain": [
       "[1] 153.2859"
      ]
     },
     "metadata": {},
     "output_type": "display_data"
    },
    {
     "name": "stdout",
     "output_type": "stream",
     "text": [
      "[1] \"Variability\"\n"
     ]
    },
    {
     "data": {
      "text/html": [
       "4.02400883066567"
      ],
      "text/latex": [
       "4.02400883066567"
      ],
      "text/markdown": [
       "4.02400883066567"
      ],
      "text/plain": [
       "[1] 4.024009"
      ]
     },
     "metadata": {},
     "output_type": "display_data"
    },
    {
     "data": {
      "text/html": [
       "6.38166304174852"
      ],
      "text/latex": [
       "6.38166304174852"
      ],
      "text/markdown": [
       "6.38166304174852"
      ],
      "text/plain": [
       "[1] 6.381663"
      ]
     },
     "metadata": {},
     "output_type": "display_data"
    },
    {
     "name": "stdout",
     "output_type": "stream",
     "text": [
      "[1] \"Autocorrelation\"\n"
     ]
    },
    {
     "data": {
      "text/html": [
       "168.971128499839"
      ],
      "text/latex": [
       "168.971128499839"
      ],
      "text/markdown": [
       "168.971128499839"
      ],
      "text/plain": [
       "[1] 168.9711"
      ]
     },
     "metadata": {},
     "output_type": "display_data"
    },
    {
     "data": {
      "text/html": [
       "-3.61406423723833"
      ],
      "text/latex": [
       "-3.61406423723833"
      ],
      "text/markdown": [
       "-3.61406423723833"
      ],
      "text/plain": [
       "[1] -3.614064"
      ]
     },
     "metadata": {},
     "output_type": "display_data"
    },
    {
     "data": {
      "text/html": [
       "-14.6147932123614"
      ],
      "text/latex": [
       "-14.6147932123614"
      ],
      "text/markdown": [
       "-14.6147932123614"
      ],
      "text/plain": [
       "[1] -14.61479"
      ]
     },
     "metadata": {},
     "output_type": "display_data"
    }
   ],
   "source": [
    "#AIC measure - MS17 model\n",
    "Points_AIC <- AIC(rss2_perf,n,k)\n",
    "Points_AIC\n",
    "Res_AIC <- AIC(rss2_res,n,k)\n",
    "Res_AIC\n",
    "Def_AIC <- AIC(rss2_def,n,k)\n",
    "Def_AIC\n",
    "Mis_AIC <- AIC(rss2_mis,n,k)\n",
    "Mis_AIC\n",
    "print(\"Variability\")\n",
    "Ent_AIC <- AIC(rss2_ent,n,k)\n",
    "Ent_AIC\n",
    "lCV_AIC <- AIC(rss2_lcv,n,k)\n",
    "lCV_AIC\n",
    "print(\"Autocorrelation\")\n",
    "Per_AIC <- AIC(rss2_per,n,k)\n",
    "Per_AIC\n",
    "Reg_AIC <- AIC(rss2_reg,n,k)\n",
    "Reg_AIC\n",
    "RightReg_AIC <- AIC(rss2_Rreg,n,k)\n",
    "RightReg_AIC"
   ]
  },
  {
   "cell_type": "code",
   "execution_count": 38,
   "metadata": {},
   "outputs": [
    {
     "data": {
      "text/html": [
       "212.556344603175"
      ],
      "text/latex": [
       "212.556344603175"
      ],
      "text/markdown": [
       "212.556344603175"
      ],
      "text/plain": [
       "[1] 212.5563"
      ]
     },
     "metadata": {},
     "output_type": "display_data"
    },
    {
     "data": {
      "text/html": [
       "51.5329140019148"
      ],
      "text/latex": [
       "51.5329140019148"
      ],
      "text/markdown": [
       "51.5329140019148"
      ],
      "text/plain": [
       "[1] 51.53291"
      ]
     },
     "metadata": {},
     "output_type": "display_data"
    },
    {
     "data": {
      "text/html": [
       "85.6918100813552"
      ],
      "text/latex": [
       "85.6918100813552"
      ],
      "text/markdown": [
       "85.6918100813552"
      ],
      "text/plain": [
       "[1] 85.69181"
      ]
     },
     "metadata": {},
     "output_type": "display_data"
    },
    {
     "data": {
      "text/html": [
       "80.0828934964413"
      ],
      "text/latex": [
       "80.0828934964413"
      ],
      "text/markdown": [
       "80.0828934964413"
      ],
      "text/plain": [
       "[1] 80.08289"
      ]
     },
     "metadata": {},
     "output_type": "display_data"
    },
    {
     "name": "stdout",
     "output_type": "stream",
     "text": [
      "[1] \"variability\"\n"
     ]
    },
    {
     "data": {
      "text/html": [
       "-68.657583718114"
      ],
      "text/latex": [
       "-68.657583718114"
      ],
      "text/markdown": [
       "-68.657583718114"
      ],
      "text/plain": [
       "[1] -68.65758"
      ]
     },
     "metadata": {},
     "output_type": "display_data"
    },
    {
     "data": {
      "text/html": [
       "-55.8786422353683"
      ],
      "text/latex": [
       "-55.8786422353683"
      ],
      "text/markdown": [
       "-55.8786422353683"
      ],
      "text/plain": [
       "[1] -55.87864"
      ]
     },
     "metadata": {},
     "output_type": "display_data"
    },
    {
     "name": "stdout",
     "output_type": "stream",
     "text": [
      "[1] \"ACF measures\"\n"
     ]
    },
    {
     "data": {
      "text/html": [
       "144.340643485443"
      ],
      "text/latex": [
       "144.340643485443"
      ],
      "text/markdown": [
       "144.340643485443"
      ],
      "text/plain": [
       "[1] 144.3406"
      ]
     },
     "metadata": {},
     "output_type": "display_data"
    },
    {
     "data": {
      "text/html": [
       "-86.1387597183577"
      ],
      "text/latex": [
       "-86.1387597183577"
      ],
      "text/markdown": [
       "-86.1387597183577"
      ],
      "text/plain": [
       "[1] -86.13876"
      ]
     },
     "metadata": {},
     "output_type": "display_data"
    },
    {
     "data": {
      "text/html": [
       "-52.4286006202231"
      ],
      "text/latex": [
       "-52.4286006202231"
      ],
      "text/markdown": [
       "-52.4286006202231"
      ],
      "text/plain": [
       "[1] -52.4286"
      ]
     },
     "metadata": {},
     "output_type": "display_data"
    }
   ],
   "source": [
    "#BIC measure - Hybrid model\n",
    "n=15\n",
    "k=0\n",
    "Points_BIC <- BIC(rss3_perf,n,k)\n",
    "Points_BIC\n",
    "Res_BIC <- BIC(rss3_res,n,k)\n",
    "Res_BIC\n",
    "Def_BIC <- BIC(rss3_def,n,k)\n",
    "Def_BIC\n",
    "Mis_BIC <- BIC(rss3_mis,n,k)\n",
    "Mis_BIC\n",
    "print(\"variability\")\n",
    "Ent_BIC <- BIC(rss3_ent,n,k)\n",
    "Ent_BIC\n",
    "lCV_BIC <- BIC(rss3_lcv,n,k)\n",
    "lCV_BIC\n",
    "print(\"ACF measures\")\n",
    "Per_BIC <- BIC(rss3_per,n,k)\n",
    "Per_BIC\n",
    "Reg_BIC <- BIC(rss3_reg,n,k)\n",
    "Reg_BIC\n",
    "RightReg_BIC <- BIC(rss3_Rreg,n,k)\n",
    "RightReg_BIC"
   ]
  },
  {
   "cell_type": "code",
   "execution_count": 39,
   "metadata": {},
   "outputs": [
    {
     "data": {
      "text/html": [
       "253.177097619708"
      ],
      "text/latex": [
       "253.177097619708"
      ],
      "text/markdown": [
       "253.177097619708"
      ],
      "text/plain": [
       "[1] 253.1771"
      ]
     },
     "metadata": {},
     "output_type": "display_data"
    },
    {
     "data": {
      "text/html": [
       "92.153667018448"
      ],
      "text/latex": [
       "92.153667018448"
      ],
      "text/markdown": [
       "92.153667018448"
      ],
      "text/plain": [
       "[1] 92.15367"
      ]
     },
     "metadata": {},
     "output_type": "display_data"
    },
    {
     "data": {
      "text/html": [
       "126.312563097888"
      ],
      "text/latex": [
       "126.312563097888"
      ],
      "text/markdown": [
       "126.312563097888"
      ],
      "text/plain": [
       "[1] 126.3126"
      ]
     },
     "metadata": {},
     "output_type": "display_data"
    },
    {
     "data": {
      "text/html": [
       "120.703646512974"
      ],
      "text/latex": [
       "120.703646512974"
      ],
      "text/markdown": [
       "120.703646512974"
      ],
      "text/plain": [
       "[1] 120.7036"
      ]
     },
     "metadata": {},
     "output_type": "display_data"
    },
    {
     "name": "stdout",
     "output_type": "stream",
     "text": [
      "[1] \"Variability\"\n"
     ]
    },
    {
     "data": {
      "text/html": [
       "-28.0368307015808"
      ],
      "text/latex": [
       "-28.0368307015808"
      ],
      "text/markdown": [
       "-28.0368307015808"
      ],
      "text/plain": [
       "[1] -28.03683"
      ]
     },
     "metadata": {},
     "output_type": "display_data"
    },
    {
     "data": {
      "text/html": [
       "-15.2578892188351"
      ],
      "text/latex": [
       "-15.2578892188351"
      ],
      "text/markdown": [
       "-15.2578892188351"
      ],
      "text/plain": [
       "[1] -15.25789"
      ]
     },
     "metadata": {},
     "output_type": "display_data"
    },
    {
     "name": "stdout",
     "output_type": "stream",
     "text": [
      "[1] \"Autocorrelation\"\n"
     ]
    },
    {
     "data": {
      "text/html": [
       "184.961396501976"
      ],
      "text/latex": [
       "184.961396501976"
      ],
      "text/markdown": [
       "184.961396501976"
      ],
      "text/plain": [
       "[1] 184.9614"
      ]
     },
     "metadata": {},
     "output_type": "display_data"
    },
    {
     "data": {
      "text/html": [
       "-45.5180067018246"
      ],
      "text/latex": [
       "-45.5180067018246"
      ],
      "text/markdown": [
       "-45.5180067018246"
      ],
      "text/plain": [
       "[1] -45.51801"
      ]
     },
     "metadata": {},
     "output_type": "display_data"
    },
    {
     "data": {
      "text/html": [
       "-11.8078476036899"
      ],
      "text/latex": [
       "-11.8078476036899"
      ],
      "text/markdown": [
       "-11.8078476036899"
      ],
      "text/plain": [
       "[1] -11.80785"
      ]
     },
     "metadata": {},
     "output_type": "display_data"
    }
   ],
   "source": [
    "#AIC measure - Hybrid model\n",
    "Points_AIC <- AIC(rss3_perf,n,k)\n",
    "Points_AIC\n",
    "Res_AIC <- AIC(rss3_res,n,k)\n",
    "Res_AIC\n",
    "Def_AIC <- AIC(rss3_def,n,k)\n",
    "Def_AIC\n",
    "Mis_AIC <- AIC(rss3_mis,n,k)\n",
    "Mis_AIC\n",
    "print(\"Variability\")\n",
    "Ent_AIC <- AIC(rss3_ent,n,k)\n",
    "Ent_AIC\n",
    "lCV_AIC <- AIC(rss3_lcv,n,k)\n",
    "lCV_AIC\n",
    "print(\"Autocorrelation\")\n",
    "Per_AIC <- AIC(rss3_per,n,k)\n",
    "Per_AIC\n",
    "Reg_AIC <- AIC(rss3_reg,n,k)\n",
    "Reg_AIC\n",
    "RightReg_AIC <- AIC(rss3_Rreg,n,k)\n",
    "RightReg_AIC"
   ]
  },
  {
   "cell_type": "code",
   "execution_count": null,
   "metadata": {},
   "outputs": [],
   "source": []
  },
  {
   "cell_type": "code",
   "execution_count": null,
   "metadata": {},
   "outputs": [],
   "source": []
  },
  {
   "cell_type": "code",
   "execution_count": null,
   "metadata": {},
   "outputs": [],
   "source": []
  },
  {
   "cell_type": "code",
   "execution_count": null,
   "metadata": {},
   "outputs": [],
   "source": []
  }
 ],
 "metadata": {
  "kernelspec": {
   "display_name": "R",
   "language": "R",
   "name": "ir"
  },
  "language_info": {
   "codemirror_mode": "r",
   "file_extension": ".r",
   "mimetype": "text/x-r-source",
   "name": "R",
   "pygments_lexer": "r",
   "version": "4.1.3"
  }
 },
 "nbformat": 4,
 "nbformat_minor": 4
}
