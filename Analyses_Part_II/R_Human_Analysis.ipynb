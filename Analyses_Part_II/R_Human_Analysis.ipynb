{
 "cells": [
  {
   "cell_type": "code",
   "execution_count": 1,
   "metadata": {},
   "outputs": [
    {
     "name": "stderr",
     "output_type": "stream",
     "text": [
      "Loading required package: Matrix\n",
      "\n",
      "\n",
      "Attaching package: 'dplyr'\n",
      "\n",
      "\n",
      "The following objects are masked from 'package:stats':\n",
      "\n",
      "    filter, lag\n",
      "\n",
      "\n",
      "The following objects are masked from 'package:base':\n",
      "\n",
      "    intersect, setdiff, setequal, union\n",
      "\n",
      "\n",
      "\n",
      "Attaching package: 'MASS'\n",
      "\n",
      "\n",
      "The following object is masked from 'package:dplyr':\n",
      "\n",
      "    select\n",
      "\n",
      "\n",
      "Loading required package: coda\n",
      "\n",
      "************\n",
      "Welcome to BayesFactor 0.9.12-4.4. If you have questions, please contact Richard Morey (richarddmorey@gmail.com).\n",
      "\n",
      "Type BFManual() to open the manual.\n",
      "************\n",
      "\n",
      "Loading required package: carData\n",
      "\n",
      "\n",
      "Attaching package: 'car'\n",
      "\n",
      "\n",
      "The following object is masked from 'package:dplyr':\n",
      "\n",
      "    recode\n",
      "\n",
      "\n",
      "\n",
      "Attaching package: 'lmerTest'\n",
      "\n",
      "\n",
      "The following object is masked from 'package:lme4':\n",
      "\n",
      "    lmer\n",
      "\n",
      "\n",
      "The following object is masked from 'package:stats':\n",
      "\n",
      "    step\n",
      "\n",
      "\n",
      "------------------------------------------------------------------------------\n",
      "\n",
      "You have loaded plyr after dplyr - this is likely to cause problems.\n",
      "If you need functions from both plyr and dplyr, please load plyr first, then dplyr:\n",
      "library(plyr); library(dplyr)\n",
      "\n",
      "------------------------------------------------------------------------------\n",
      "\n",
      "\n",
      "Attaching package: 'plyr'\n",
      "\n",
      "\n",
      "The following objects are masked from 'package:dplyr':\n",
      "\n",
      "    arrange, count, desc, failwith, id, mutate, rename, summarise,\n",
      "    summarize\n",
      "\n",
      "\n",
      "corrplot 0.92 loaded\n",
      "\n",
      "\n",
      "Attaching package: 'rstatix'\n",
      "\n",
      "\n",
      "The following objects are masked from 'package:plyr':\n",
      "\n",
      "    desc, mutate\n",
      "\n",
      "\n",
      "The following object is masked from 'package:MASS':\n",
      "\n",
      "    select\n",
      "\n",
      "\n",
      "The following object is masked from 'package:stats':\n",
      "\n",
      "    filter\n",
      "\n",
      "\n",
      "\n",
      "Attaching package: 'ggpubr'\n",
      "\n",
      "\n",
      "The following object is masked from 'package:plyr':\n",
      "\n",
      "    mutate\n",
      "\n",
      "\n",
      "\n",
      "Attaching package: 'correlation'\n",
      "\n",
      "\n",
      "The following object is masked from 'package:rstatix':\n",
      "\n",
      "    cor_test\n",
      "\n",
      "\n",
      "\n",
      "Attaching package: 'cowplot'\n",
      "\n",
      "\n",
      "The following object is masked from 'package:ggpubr':\n",
      "\n",
      "    get_legend\n",
      "\n",
      "\n"
     ]
    }
   ],
   "source": [
    "library(\"lme4\")\n",
    "library(\"ggplot2\")\n",
    "library(\"dplyr\")\n",
    "library(MASS)\n",
    "library(\"BayesFactor\")\n",
    "library(\"car\")\n",
    "library(\"scales\")\n",
    "library(\"lmerTest\")\n",
    "#library(\"MuMIn\")\n",
    "library(\"plyr\")\n",
    "library(\"knitr\")\n",
    "library(\"MASS\")\n",
    "library(\"corrplot\")\n",
    "library(\"RColorBrewer\")\n",
    "library(\"rstatix\")\n",
    "library(\"ggpubr\")\n",
    "#library(\"rgr\")\n",
    "library(\"lattice\")\n",
    "library(\"correlation\")\n",
    "library(\"cowplot\")"
   ]
  },
  {
   "cell_type": "code",
   "execution_count": 2,
   "metadata": {},
   "outputs": [],
   "source": [
    "##Source for \"SummarySE\": http://www.cookbook-r.com/Manipulating_data/Summarizing_data/\n",
    "##\n",
    "##\n",
    "## Gives count, mean, standard deviation, standard error of the mean, and confidence interval (default 95%).\n",
    "##   data: a data frame.\n",
    "##   measurevar: the name of a column that contains the variable to be summariezed\n",
    "##   groupvars: a vector containing names of columns that contain grouping variables\n",
    "##   na.rm: a boolean that indicates whether to ignore NA's\n",
    "##   conf.interval: the percent range of the confidence interval (default is 95%)\n",
    "summarySE <- function(data=NULL, measurevar, groupvars=NULL, na.rm=FALSE,\n",
    "                      conf.interval=.95, .drop=TRUE) {\n",
    "    library(plyr)\n",
    "\n",
    "    # New version of length which can handle NA's: if na.rm==T, don't count them\n",
    "    length2 <- function (x, na.rm=FALSE) {\n",
    "        if (na.rm) sum(!is.na(x))\n",
    "        else       length(x)\n",
    "    }\n",
    "\n",
    "    # This does the summary. For each group's data frame, return a vector with\n",
    "    # N, mean, and sd\n",
    "    datac <- ddply(data, groupvars, .drop=.drop,\n",
    "      .fun = function(xx, col) {\n",
    "        c(N    = length2(xx[[col]], na.rm=na.rm),\n",
    "          mean = mean   (xx[[col]], na.rm=na.rm),\n",
    "          sd   = sd     (xx[[col]], na.rm=na.rm)\n",
    "        )\n",
    "      },\n",
    "      measurevar\n",
    "    )\n",
    "\n",
    "    # Rename the \"mean\" column    \n",
    "    datac <- rename(datac, c(\"mean\" = measurevar))\n",
    "\n",
    "    datac$se <- datac$sd / sqrt(datac$N)  # Calculate standard error of the mean\n",
    "\n",
    "    # Confidence interval multiplier for standard error\n",
    "    # Calculate t-statistic for confidence interval: \n",
    "    # e.g., if conf.interval is .95, use .975 (above/below), and use df=N-1\n",
    "    ciMult <- qt(conf.interval/2 + .5, datac$N-1)\n",
    "    datac$ci <- datac$se * ciMult\n",
    "\n",
    "    return(datac)\n",
    "}"
   ]
  },
  {
   "cell_type": "code",
   "execution_count": 3,
   "metadata": {},
   "outputs": [
    {
     "data": {
      "text/html": [
       "6150"
      ],
      "text/latex": [
       "6150"
      ],
      "text/markdown": [
       "6150"
      ],
      "text/plain": [
       "[1] 6150"
      ]
     },
     "metadata": {},
     "output_type": "display_data"
    },
    {
     "data": {
      "text/html": [
       "<table class=\"dataframe\">\n",
       "<caption>A data.frame: 10 × 5</caption>\n",
       "<thead>\n",
       "\t<tr><th></th><th scope=col>name</th><th scope=col>Strategy</th><th scope=col>Measure</th><th scope=col>GameNb</th><th scope=col>Value</th></tr>\n",
       "\t<tr><th></th><th scope=col>&lt;chr&gt;</th><th scope=col>&lt;chr&gt;</th><th scope=col>&lt;chr&gt;</th><th scope=col>&lt;int&gt;</th><th scope=col>&lt;dbl&gt;</th></tr>\n",
       "</thead>\n",
       "<tbody>\n",
       "\t<tr><th scope=row>1</th><td>A122LRCSBAD6DC</td><td>streamed</td><td>Deflations</td><td> 1</td><td>39</td></tr>\n",
       "\t<tr><th scope=row>2</th><td>A122LRCSBAD6DC</td><td>streamed</td><td>Deflations</td><td> 2</td><td>20</td></tr>\n",
       "\t<tr><th scope=row>3</th><td>A122LRCSBAD6DC</td><td>streamed</td><td>Deflations</td><td> 3</td><td>25</td></tr>\n",
       "\t<tr><th scope=row>4</th><td>A122LRCSBAD6DC</td><td>streamed</td><td>Deflations</td><td> 4</td><td>23</td></tr>\n",
       "\t<tr><th scope=row>5</th><td>A122LRCSBAD6DC</td><td>streamed</td><td>Deflations</td><td> 5</td><td>26</td></tr>\n",
       "\t<tr><th scope=row>6</th><td>A122LRCSBAD6DC</td><td>streamed</td><td>Deflations</td><td> 6</td><td>30</td></tr>\n",
       "\t<tr><th scope=row>7</th><td>A122LRCSBAD6DC</td><td>streamed</td><td>Deflations</td><td> 7</td><td>27</td></tr>\n",
       "\t<tr><th scope=row>8</th><td>A122LRCSBAD6DC</td><td>streamed</td><td>Deflations</td><td> 8</td><td>37</td></tr>\n",
       "\t<tr><th scope=row>9</th><td>A122LRCSBAD6DC</td><td>streamed</td><td>Deflations</td><td> 9</td><td>16</td></tr>\n",
       "\t<tr><th scope=row>10</th><td>A122LRCSBAD6DC</td><td>streamed</td><td>Deflations</td><td>10</td><td>19</td></tr>\n",
       "</tbody>\n",
       "</table>\n"
      ],
      "text/latex": [
       "A data.frame: 10 × 5\n",
       "\\begin{tabular}{r|lllll}\n",
       "  & name & Strategy & Measure & GameNb & Value\\\\\n",
       "  & <chr> & <chr> & <chr> & <int> & <dbl>\\\\\n",
       "\\hline\n",
       "\t1 & A122LRCSBAD6DC & streamed & Deflations &  1 & 39\\\\\n",
       "\t2 & A122LRCSBAD6DC & streamed & Deflations &  2 & 20\\\\\n",
       "\t3 & A122LRCSBAD6DC & streamed & Deflations &  3 & 25\\\\\n",
       "\t4 & A122LRCSBAD6DC & streamed & Deflations &  4 & 23\\\\\n",
       "\t5 & A122LRCSBAD6DC & streamed & Deflations &  5 & 26\\\\\n",
       "\t6 & A122LRCSBAD6DC & streamed & Deflations &  6 & 30\\\\\n",
       "\t7 & A122LRCSBAD6DC & streamed & Deflations &  7 & 27\\\\\n",
       "\t8 & A122LRCSBAD6DC & streamed & Deflations &  8 & 37\\\\\n",
       "\t9 & A122LRCSBAD6DC & streamed & Deflations &  9 & 16\\\\\n",
       "\t10 & A122LRCSBAD6DC & streamed & Deflations & 10 & 19\\\\\n",
       "\\end{tabular}\n"
      ],
      "text/markdown": [
       "\n",
       "A data.frame: 10 × 5\n",
       "\n",
       "| <!--/--> | name &lt;chr&gt; | Strategy &lt;chr&gt; | Measure &lt;chr&gt; | GameNb &lt;int&gt; | Value &lt;dbl&gt; |\n",
       "|---|---|---|---|---|---|\n",
       "| 1 | A122LRCSBAD6DC | streamed | Deflations |  1 | 39 |\n",
       "| 2 | A122LRCSBAD6DC | streamed | Deflations |  2 | 20 |\n",
       "| 3 | A122LRCSBAD6DC | streamed | Deflations |  3 | 25 |\n",
       "| 4 | A122LRCSBAD6DC | streamed | Deflations |  4 | 23 |\n",
       "| 5 | A122LRCSBAD6DC | streamed | Deflations |  5 | 26 |\n",
       "| 6 | A122LRCSBAD6DC | streamed | Deflations |  6 | 30 |\n",
       "| 7 | A122LRCSBAD6DC | streamed | Deflations |  7 | 27 |\n",
       "| 8 | A122LRCSBAD6DC | streamed | Deflations |  8 | 37 |\n",
       "| 9 | A122LRCSBAD6DC | streamed | Deflations |  9 | 16 |\n",
       "| 10 | A122LRCSBAD6DC | streamed | Deflations | 10 | 19 |\n",
       "\n"
      ],
      "text/plain": [
       "   name           Strategy Measure    GameNb Value\n",
       "1  A122LRCSBAD6DC streamed Deflations  1     39   \n",
       "2  A122LRCSBAD6DC streamed Deflations  2     20   \n",
       "3  A122LRCSBAD6DC streamed Deflations  3     25   \n",
       "4  A122LRCSBAD6DC streamed Deflations  4     23   \n",
       "5  A122LRCSBAD6DC streamed Deflations  5     26   \n",
       "6  A122LRCSBAD6DC streamed Deflations  6     30   \n",
       "7  A122LRCSBAD6DC streamed Deflations  7     27   \n",
       "8  A122LRCSBAD6DC streamed Deflations  8     37   \n",
       "9  A122LRCSBAD6DC streamed Deflations  9     16   \n",
       "10 A122LRCSBAD6DC streamed Deflations 10     19   "
      ]
     },
     "metadata": {},
     "output_type": "display_data"
    }
   ],
   "source": [
    "DataPath <-'../Inputs/Humans_Part_II/R_Data/HumanData.txt'\n",
    "mydata <- read.delim(DataPath, sep=\"\\t\", header=T, stringsAsFactors=F)\n",
    "nb_rows<-nrow(mydata)\n",
    "nb_rows\n",
    "head(mydata,10)"
   ]
  },
  {
   "cell_type": "markdown",
   "metadata": {},
   "source": [
    "# Averaging data from last 3 games"
   ]
  },
  {
   "cell_type": "code",
   "execution_count": 4,
   "metadata": {},
   "outputs": [
    {
     "data": {
      "text/html": [
       "<table class=\"dataframe\">\n",
       "<caption>A data.frame: 10 × 5</caption>\n",
       "<thead>\n",
       "\t<tr><th></th><th scope=col>name</th><th scope=col>Strategy</th><th scope=col>Measure</th><th scope=col>GameNb</th><th scope=col>Value</th></tr>\n",
       "\t<tr><th></th><th scope=col>&lt;chr&gt;</th><th scope=col>&lt;chr&gt;</th><th scope=col>&lt;chr&gt;</th><th scope=col>&lt;int&gt;</th><th scope=col>&lt;dbl&gt;</th></tr>\n",
       "</thead>\n",
       "<tbody>\n",
       "\t<tr><th scope=row>1</th><td>A122LRCSBAD6DC</td><td>streamed</td><td>Deflations     </td><td>13</td><td> 8.0000000</td></tr>\n",
       "\t<tr><th scope=row>2</th><td>A122LRCSBAD6DC</td><td>streamed</td><td>Deflations     </td><td>14</td><td>16.0000000</td></tr>\n",
       "\t<tr><th scope=row>3</th><td>A122LRCSBAD6DC</td><td>streamed</td><td>Deflations     </td><td>15</td><td>12.0000000</td></tr>\n",
       "\t<tr><th scope=row>4</th><td>A122LRCSBAD6DC</td><td>streamed</td><td>Misses         </td><td>13</td><td>14.0000000</td></tr>\n",
       "\t<tr><th scope=row>5</th><td>A122LRCSBAD6DC</td><td>streamed</td><td>Misses         </td><td>14</td><td>37.0000000</td></tr>\n",
       "\t<tr><th scope=row>6</th><td>A122LRCSBAD6DC</td><td>streamed</td><td>Misses         </td><td>15</td><td>24.0000000</td></tr>\n",
       "\t<tr><th scope=row>7</th><td>A122LRCSBAD6DC</td><td>streamed</td><td>Resets         </td><td>13</td><td> 2.0000000</td></tr>\n",
       "\t<tr><th scope=row>8</th><td>A122LRCSBAD6DC</td><td>streamed</td><td>Resets         </td><td>14</td><td>15.0000000</td></tr>\n",
       "\t<tr><th scope=row>9</th><td>A122LRCSBAD6DC</td><td>streamed</td><td>Resets         </td><td>15</td><td> 8.0000000</td></tr>\n",
       "\t<tr><th scope=row>10</th><td>A122LRCSBAD6DC</td><td>streamed</td><td>Shot_Regularity</td><td>13</td><td> 0.1595687</td></tr>\n",
       "</tbody>\n",
       "</table>\n"
      ],
      "text/latex": [
       "A data.frame: 10 × 5\n",
       "\\begin{tabular}{r|lllll}\n",
       "  & name & Strategy & Measure & GameNb & Value\\\\\n",
       "  & <chr> & <chr> & <chr> & <int> & <dbl>\\\\\n",
       "\\hline\n",
       "\t1 & A122LRCSBAD6DC & streamed & Deflations      & 13 &  8.0000000\\\\\n",
       "\t2 & A122LRCSBAD6DC & streamed & Deflations      & 14 & 16.0000000\\\\\n",
       "\t3 & A122LRCSBAD6DC & streamed & Deflations      & 15 & 12.0000000\\\\\n",
       "\t4 & A122LRCSBAD6DC & streamed & Misses          & 13 & 14.0000000\\\\\n",
       "\t5 & A122LRCSBAD6DC & streamed & Misses          & 14 & 37.0000000\\\\\n",
       "\t6 & A122LRCSBAD6DC & streamed & Misses          & 15 & 24.0000000\\\\\n",
       "\t7 & A122LRCSBAD6DC & streamed & Resets          & 13 &  2.0000000\\\\\n",
       "\t8 & A122LRCSBAD6DC & streamed & Resets          & 14 & 15.0000000\\\\\n",
       "\t9 & A122LRCSBAD6DC & streamed & Resets          & 15 &  8.0000000\\\\\n",
       "\t10 & A122LRCSBAD6DC & streamed & Shot\\_Regularity & 13 &  0.1595687\\\\\n",
       "\\end{tabular}\n"
      ],
      "text/markdown": [
       "\n",
       "A data.frame: 10 × 5\n",
       "\n",
       "| <!--/--> | name &lt;chr&gt; | Strategy &lt;chr&gt; | Measure &lt;chr&gt; | GameNb &lt;int&gt; | Value &lt;dbl&gt; |\n",
       "|---|---|---|---|---|---|\n",
       "| 1 | A122LRCSBAD6DC | streamed | Deflations      | 13 |  8.0000000 |\n",
       "| 2 | A122LRCSBAD6DC | streamed | Deflations      | 14 | 16.0000000 |\n",
       "| 3 | A122LRCSBAD6DC | streamed | Deflations      | 15 | 12.0000000 |\n",
       "| 4 | A122LRCSBAD6DC | streamed | Misses          | 13 | 14.0000000 |\n",
       "| 5 | A122LRCSBAD6DC | streamed | Misses          | 14 | 37.0000000 |\n",
       "| 6 | A122LRCSBAD6DC | streamed | Misses          | 15 | 24.0000000 |\n",
       "| 7 | A122LRCSBAD6DC | streamed | Resets          | 13 |  2.0000000 |\n",
       "| 8 | A122LRCSBAD6DC | streamed | Resets          | 14 | 15.0000000 |\n",
       "| 9 | A122LRCSBAD6DC | streamed | Resets          | 15 |  8.0000000 |\n",
       "| 10 | A122LRCSBAD6DC | streamed | Shot_Regularity | 13 |  0.1595687 |\n",
       "\n"
      ],
      "text/plain": [
       "   name           Strategy Measure         GameNb Value     \n",
       "1  A122LRCSBAD6DC streamed Deflations      13      8.0000000\n",
       "2  A122LRCSBAD6DC streamed Deflations      14     16.0000000\n",
       "3  A122LRCSBAD6DC streamed Deflations      15     12.0000000\n",
       "4  A122LRCSBAD6DC streamed Misses          13     14.0000000\n",
       "5  A122LRCSBAD6DC streamed Misses          14     37.0000000\n",
       "6  A122LRCSBAD6DC streamed Misses          15     24.0000000\n",
       "7  A122LRCSBAD6DC streamed Resets          13      2.0000000\n",
       "8  A122LRCSBAD6DC streamed Resets          14     15.0000000\n",
       "9  A122LRCSBAD6DC streamed Resets          15      8.0000000\n",
       "10 A122LRCSBAD6DC streamed Shot_Regularity 13      0.1595687"
      ]
     },
     "metadata": {},
     "output_type": "display_data"
    }
   ],
   "source": [
    "#1) Filtering irrelevant data\n",
    "lastdata <- mydata %>% filter((GameNb==13 | GameNb==14 | GameNb==15))\n",
    "head(lastdata,10)"
   ]
  },
  {
   "cell_type": "code",
   "execution_count": 5,
   "metadata": {},
   "outputs": [
    {
     "name": "stderr",
     "output_type": "stream",
     "text": [
      "\u001b[1m\u001b[22m`summarise()` has grouped output by 'name', 'Strategy'. You can override using the `.groups` argument.\n"
     ]
    },
    {
     "data": {
      "text/html": [
       "<table class=\"dataframe\">\n",
       "<caption>A grouped_df: 10 × 4</caption>\n",
       "<thead>\n",
       "\t<tr><th scope=col>name</th><th scope=col>Strategy</th><th scope=col>Measure</th><th scope=col>Value</th></tr>\n",
       "\t<tr><th scope=col>&lt;chr&gt;</th><th scope=col>&lt;chr&gt;</th><th scope=col>&lt;chr&gt;</th><th scope=col>&lt;dbl&gt;</th></tr>\n",
       "</thead>\n",
       "<tbody>\n",
       "\t<tr><td>A11LNK1U3DT08V</td><td>coupled</td><td>Deflations       </td><td>  18.3333333</td></tr>\n",
       "\t<tr><td>A11LNK1U3DT08V</td><td>coupled</td><td>Entropy          </td><td>   2.5116635</td></tr>\n",
       "\t<tr><td>A11LNK1U3DT08V</td><td>coupled</td><td>LogCV            </td><td>  -1.5092415</td></tr>\n",
       "\t<tr><td>A11LNK1U3DT08V</td><td>coupled</td><td>Misses           </td><td>  26.0000000</td></tr>\n",
       "\t<tr><td>A11LNK1U3DT08V</td><td>coupled</td><td>Resets           </td><td>   3.0000000</td></tr>\n",
       "\t<tr><td>A11LNK1U3DT08V</td><td>coupled</td><td>Right_Periodicity</td><td> 496.0000000</td></tr>\n",
       "\t<tr><td>A11LNK1U3DT08V</td><td>coupled</td><td>Right_Regularity </td><td>   0.4003696</td></tr>\n",
       "\t<tr><td>A11LNK1U3DT08V</td><td>coupled</td><td>Score            </td><td>1850.0000000</td></tr>\n",
       "\t<tr><td>A11LNK1U3DT08V</td><td>coupled</td><td>Shot_Periodicity </td><td> 485.3333333</td></tr>\n",
       "\t<tr><td>A11LNK1U3DT08V</td><td>coupled</td><td>Shot_Regularity  </td><td>   0.4904794</td></tr>\n",
       "</tbody>\n",
       "</table>\n"
      ],
      "text/latex": [
       "A grouped\\_df: 10 × 4\n",
       "\\begin{tabular}{llll}\n",
       " name & Strategy & Measure & Value\\\\\n",
       " <chr> & <chr> & <chr> & <dbl>\\\\\n",
       "\\hline\n",
       "\t A11LNK1U3DT08V & coupled & Deflations        &   18.3333333\\\\\n",
       "\t A11LNK1U3DT08V & coupled & Entropy           &    2.5116635\\\\\n",
       "\t A11LNK1U3DT08V & coupled & LogCV             &   -1.5092415\\\\\n",
       "\t A11LNK1U3DT08V & coupled & Misses            &   26.0000000\\\\\n",
       "\t A11LNK1U3DT08V & coupled & Resets            &    3.0000000\\\\\n",
       "\t A11LNK1U3DT08V & coupled & Right\\_Periodicity &  496.0000000\\\\\n",
       "\t A11LNK1U3DT08V & coupled & Right\\_Regularity  &    0.4003696\\\\\n",
       "\t A11LNK1U3DT08V & coupled & Score             & 1850.0000000\\\\\n",
       "\t A11LNK1U3DT08V & coupled & Shot\\_Periodicity  &  485.3333333\\\\\n",
       "\t A11LNK1U3DT08V & coupled & Shot\\_Regularity   &    0.4904794\\\\\n",
       "\\end{tabular}\n"
      ],
      "text/markdown": [
       "\n",
       "A grouped_df: 10 × 4\n",
       "\n",
       "| name &lt;chr&gt; | Strategy &lt;chr&gt; | Measure &lt;chr&gt; | Value &lt;dbl&gt; |\n",
       "|---|---|---|---|\n",
       "| A11LNK1U3DT08V | coupled | Deflations        |   18.3333333 |\n",
       "| A11LNK1U3DT08V | coupled | Entropy           |    2.5116635 |\n",
       "| A11LNK1U3DT08V | coupled | LogCV             |   -1.5092415 |\n",
       "| A11LNK1U3DT08V | coupled | Misses            |   26.0000000 |\n",
       "| A11LNK1U3DT08V | coupled | Resets            |    3.0000000 |\n",
       "| A11LNK1U3DT08V | coupled | Right_Periodicity |  496.0000000 |\n",
       "| A11LNK1U3DT08V | coupled | Right_Regularity  |    0.4003696 |\n",
       "| A11LNK1U3DT08V | coupled | Score             | 1850.0000000 |\n",
       "| A11LNK1U3DT08V | coupled | Shot_Periodicity  |  485.3333333 |\n",
       "| A11LNK1U3DT08V | coupled | Shot_Regularity   |    0.4904794 |\n",
       "\n"
      ],
      "text/plain": [
       "   name           Strategy Measure           Value       \n",
       "1  A11LNK1U3DT08V coupled  Deflations          18.3333333\n",
       "2  A11LNK1U3DT08V coupled  Entropy              2.5116635\n",
       "3  A11LNK1U3DT08V coupled  LogCV               -1.5092415\n",
       "4  A11LNK1U3DT08V coupled  Misses              26.0000000\n",
       "5  A11LNK1U3DT08V coupled  Resets               3.0000000\n",
       "6  A11LNK1U3DT08V coupled  Right_Periodicity  496.0000000\n",
       "7  A11LNK1U3DT08V coupled  Right_Regularity     0.4003696\n",
       "8  A11LNK1U3DT08V coupled  Score             1850.0000000\n",
       "9  A11LNK1U3DT08V coupled  Shot_Periodicity   485.3333333\n",
       "10 A11LNK1U3DT08V coupled  Shot_Regularity      0.4904794"
      ]
     },
     "metadata": {},
     "output_type": "display_data"
    }
   ],
   "source": [
    "#2) average across game numbers\n",
    "avgdata <- lastdata %>% group_by(name,Strategy,Measure) %>% dplyr::summarize(Value = mean(Value))\n",
    "head(avgdata,10)"
   ]
  },
  {
   "cell_type": "code",
   "execution_count": 6,
   "metadata": {},
   "outputs": [
    {
     "data": {
      "text/html": [
       "<style>\n",
       ".list-inline {list-style: none; margin:0; padding: 0}\n",
       ".list-inline>li {display: inline-block}\n",
       ".list-inline>li:not(:last-child)::after {content: \"\\00b7\"; padding: 0 .5ex}\n",
       "</style>\n",
       "<ol class=list-inline><li>'Deflations'</li><li>'Entropy'</li><li>'LogCV'</li><li>'Misses'</li><li>'Resets'</li><li>'Right_Periodicity'</li><li>'Right_Regularity'</li><li>'Score'</li><li>'Shot_Periodicity'</li><li>'Shot_Regularity'</li></ol>\n"
      ],
      "text/latex": [
       "\\begin{enumerate*}\n",
       "\\item 'Deflations'\n",
       "\\item 'Entropy'\n",
       "\\item 'LogCV'\n",
       "\\item 'Misses'\n",
       "\\item 'Resets'\n",
       "\\item 'Right\\_Periodicity'\n",
       "\\item 'Right\\_Regularity'\n",
       "\\item 'Score'\n",
       "\\item 'Shot\\_Periodicity'\n",
       "\\item 'Shot\\_Regularity'\n",
       "\\end{enumerate*}\n"
      ],
      "text/markdown": [
       "1. 'Deflations'\n",
       "2. 'Entropy'\n",
       "3. 'LogCV'\n",
       "4. 'Misses'\n",
       "5. 'Resets'\n",
       "6. 'Right_Periodicity'\n",
       "7. 'Right_Regularity'\n",
       "8. 'Score'\n",
       "9. 'Shot_Periodicity'\n",
       "10. 'Shot_Regularity'\n",
       "\n",
       "\n"
      ],
      "text/plain": [
       " [1] \"Deflations\"        \"Entropy\"           \"LogCV\"            \n",
       " [4] \"Misses\"            \"Resets\"            \"Right_Periodicity\"\n",
       " [7] \"Right_Regularity\"  \"Score\"             \"Shot_Periodicity\" \n",
       "[10] \"Shot_Regularity\"  "
      ]
     },
     "metadata": {},
     "output_type": "display_data"
    }
   ],
   "source": [
    "AllMeasures <- as.factor(avgdata$Measure)\n",
    "Measure_Levels <- levels(AllMeasures)\n",
    "Measure_Levels\n",
    "avgdata$Strategy <- ordered(avgdata$Strategy, levels = c(\"streamed\", \"coupled\"))\n",
    "write.table(avgdata,\"Humans_T_test_data.txt\",sep=\"\\t\",row.names=FALSE)"
   ]
  },
  {
   "cell_type": "code",
   "execution_count": 7,
   "metadata": {},
   "outputs": [
    {
     "data": {
      "text/html": [
       "<table class=\"dataframe\">\n",
       "<caption>A grouped_df: 10 × 4</caption>\n",
       "<thead>\n",
       "\t<tr><th scope=col>name</th><th scope=col>Strategy</th><th scope=col>Measure</th><th scope=col>Value</th></tr>\n",
       "\t<tr><th scope=col>&lt;chr&gt;</th><th scope=col>&lt;ord&gt;</th><th scope=col>&lt;chr&gt;</th><th scope=col>&lt;dbl&gt;</th></tr>\n",
       "</thead>\n",
       "<tbody>\n",
       "\t<tr><td>A11LNK1U3DT08V</td><td>coupled</td><td>Deflations       </td><td>  18.3333333</td></tr>\n",
       "\t<tr><td>A11LNK1U3DT08V</td><td>coupled</td><td>Entropy          </td><td>   2.5116635</td></tr>\n",
       "\t<tr><td>A11LNK1U3DT08V</td><td>coupled</td><td>LogCV            </td><td>  -1.5092415</td></tr>\n",
       "\t<tr><td>A11LNK1U3DT08V</td><td>coupled</td><td>Misses           </td><td>  26.0000000</td></tr>\n",
       "\t<tr><td>A11LNK1U3DT08V</td><td>coupled</td><td>Resets           </td><td>   3.0000000</td></tr>\n",
       "\t<tr><td>A11LNK1U3DT08V</td><td>coupled</td><td>Right_Periodicity</td><td> 496.0000000</td></tr>\n",
       "\t<tr><td>A11LNK1U3DT08V</td><td>coupled</td><td>Right_Regularity </td><td>   0.4003696</td></tr>\n",
       "\t<tr><td>A11LNK1U3DT08V</td><td>coupled</td><td>Score            </td><td>1850.0000000</td></tr>\n",
       "\t<tr><td>A11LNK1U3DT08V</td><td>coupled</td><td>Shot_Periodicity </td><td> 485.3333333</td></tr>\n",
       "\t<tr><td>A11LNK1U3DT08V</td><td>coupled</td><td>Shot_Regularity  </td><td>   0.4904794</td></tr>\n",
       "</tbody>\n",
       "</table>\n"
      ],
      "text/latex": [
       "A grouped\\_df: 10 × 4\n",
       "\\begin{tabular}{llll}\n",
       " name & Strategy & Measure & Value\\\\\n",
       " <chr> & <ord> & <chr> & <dbl>\\\\\n",
       "\\hline\n",
       "\t A11LNK1U3DT08V & coupled & Deflations        &   18.3333333\\\\\n",
       "\t A11LNK1U3DT08V & coupled & Entropy           &    2.5116635\\\\\n",
       "\t A11LNK1U3DT08V & coupled & LogCV             &   -1.5092415\\\\\n",
       "\t A11LNK1U3DT08V & coupled & Misses            &   26.0000000\\\\\n",
       "\t A11LNK1U3DT08V & coupled & Resets            &    3.0000000\\\\\n",
       "\t A11LNK1U3DT08V & coupled & Right\\_Periodicity &  496.0000000\\\\\n",
       "\t A11LNK1U3DT08V & coupled & Right\\_Regularity  &    0.4003696\\\\\n",
       "\t A11LNK1U3DT08V & coupled & Score             & 1850.0000000\\\\\n",
       "\t A11LNK1U3DT08V & coupled & Shot\\_Periodicity  &  485.3333333\\\\\n",
       "\t A11LNK1U3DT08V & coupled & Shot\\_Regularity   &    0.4904794\\\\\n",
       "\\end{tabular}\n"
      ],
      "text/markdown": [
       "\n",
       "A grouped_df: 10 × 4\n",
       "\n",
       "| name &lt;chr&gt; | Strategy &lt;ord&gt; | Measure &lt;chr&gt; | Value &lt;dbl&gt; |\n",
       "|---|---|---|---|\n",
       "| A11LNK1U3DT08V | coupled | Deflations        |   18.3333333 |\n",
       "| A11LNK1U3DT08V | coupled | Entropy           |    2.5116635 |\n",
       "| A11LNK1U3DT08V | coupled | LogCV             |   -1.5092415 |\n",
       "| A11LNK1U3DT08V | coupled | Misses            |   26.0000000 |\n",
       "| A11LNK1U3DT08V | coupled | Resets            |    3.0000000 |\n",
       "| A11LNK1U3DT08V | coupled | Right_Periodicity |  496.0000000 |\n",
       "| A11LNK1U3DT08V | coupled | Right_Regularity  |    0.4003696 |\n",
       "| A11LNK1U3DT08V | coupled | Score             | 1850.0000000 |\n",
       "| A11LNK1U3DT08V | coupled | Shot_Periodicity  |  485.3333333 |\n",
       "| A11LNK1U3DT08V | coupled | Shot_Regularity   |    0.4904794 |\n",
       "\n"
      ],
      "text/plain": [
       "   name           Strategy Measure           Value       \n",
       "1  A11LNK1U3DT08V coupled  Deflations          18.3333333\n",
       "2  A11LNK1U3DT08V coupled  Entropy              2.5116635\n",
       "3  A11LNK1U3DT08V coupled  LogCV               -1.5092415\n",
       "4  A11LNK1U3DT08V coupled  Misses              26.0000000\n",
       "5  A11LNK1U3DT08V coupled  Resets               3.0000000\n",
       "6  A11LNK1U3DT08V coupled  Right_Periodicity  496.0000000\n",
       "7  A11LNK1U3DT08V coupled  Right_Regularity     0.4003696\n",
       "8  A11LNK1U3DT08V coupled  Score             1850.0000000\n",
       "9  A11LNK1U3DT08V coupled  Shot_Periodicity   485.3333333\n",
       "10 A11LNK1U3DT08V coupled  Shot_Regularity      0.4904794"
      ]
     },
     "metadata": {},
     "output_type": "display_data"
    }
   ],
   "source": [
    "#avgdata <- lastdata %>% group_by(name,Strategy,Measure) %>% dplyr::summarize(Value = mean(Value))\n",
    "head(avgdata,10)"
   ]
  },
  {
   "cell_type": "code",
   "execution_count": 8,
   "metadata": {},
   "outputs": [
    {
     "name": "stdout",
     "output_type": "stream",
     "text": [
      "\n",
      "\tWelch Two Sample t-test\n",
      "\n",
      "data:  Value by Strategy\n",
      "t = -12.155, df = 12.095, p-value = 3.859e-08\n",
      "alternative hypothesis: true difference in means between group streamed and group coupled is not equal to 0\n",
      "95 percent confidence interval:\n",
      " -152.9978 -106.5207\n",
      "sample estimates:\n",
      "mean in group streamed  mean in group coupled \n",
      "              356.7407               486.5000 \n",
      "\n"
     ]
    },
    {
     "name": "stderr",
     "output_type": "stream",
     "text": [
      "Warning message:\n",
      "\"\u001b[1m\u001b[22mThe `size` argument of `element_line()` is deprecated as of ggplot2 3.4.0.\n",
      "\u001b[36mi\u001b[39m Please use the `linewidth` argument instead.\"\n"
     ]
    },
    {
     "data": {
      "image/png": "[encoded data removed]",
      "text/plain": [
       "plot without title"
      ]
     },
     "metadata": {
      "image/png": {
       "height": 420,
       "width": 420
      }
     },
     "output_type": "display_data"
    }
   ],
   "source": [
    "#3) Violin plot to compare fast & slow groups\n",
    "\n",
    "#Shot_Periodicity\n",
    "PerData <- avgdata %>% filter(Measure=='Shot_Periodicity')\n",
    "m1<-t.test(Value ~ Strategy, data=PerData)\n",
    "print(m1)\n",
    "\n",
    "dp1<-ggplot(PerData, aes(x=Strategy, y=Value,fill=Strategy)) + \n",
    "  geom_violin(trim=FALSE)+\n",
    "  labs(title=\"Shot Periodicity\",x=\"Strategy\", y = \"Periodicity (ms)\")+\n",
    "  geom_boxplot(width=0.1,fill=\"darkgray\")\n",
    "dp1 <- dp1+scale_fill_manual(values=c(\"lightsalmon2\",\"mediumpurple1\")) + #\"violetred1\",\"royalblue\" #\"white\",\"gray45\"\n",
    "  theme_classic() +\n",
    "  scale_y_continuous(limits=c(250, 600)) +\n",
    "  theme(plot.title = element_text(size=30,hjust=0.5,face =\"bold\"),\n",
    "           axis.text = element_text(size = 28,color='black'),\n",
    "           axis.line = element_line(colour = 'black', size = 1),\n",
    "           axis.ticks = element_line(colour = \"black\", size = 1),\n",
    "           strip.text = element_text(size = 24,face = \"bold\",color='black'),\n",
    "           axis.title = element_text( size = 30, face = \"bold\" ),\n",
    "           axis.ticks.length = unit(0.25, \"cm\"),\n",
    "           legend.text = element_text(size=18),\n",
    "           legend.title = element_text(size=20),\n",
    "           legend.position=\"none\",\n",
    "           plot.background = element_blank(),\n",
    "           panel.background = element_blank(),\n",
    "           aspect.ratio = 1)\n",
    "dp1\n",
    "ggsave(\"./Figures_Humans/Shot_periodicity.png\",plot=dp1,width=12,height=8)"
   ]
  },
  {
   "cell_type": "code",
   "execution_count": 9,
   "metadata": {},
   "outputs": [
    {
     "name": "stdout",
     "output_type": "stream",
     "text": [
      "\n",
      "\tWelch Two Sample t-test\n",
      "\n",
      "data:  Value by Strategy\n",
      "t = -5.2871, df = 38.173, p-value = 5.334e-06\n",
      "alternative hypothesis: true difference in means between group streamed and group coupled is not equal to 0\n",
      "95 percent confidence interval:\n",
      " -21.665996  -9.669652\n",
      "sample estimates:\n",
      "mean in group streamed  mean in group coupled \n",
      "              15.92593               31.59375 \n",
      "\n"
     ]
    },
    {
     "name": "stderr",
     "output_type": "stream",
     "text": [
      "Warning message:\n",
      "\"Unknown or uninitialised column: `Deflations`.\"\n",
      "Warning message in min(thisData$Deflations):\n",
      "\"no non-missing arguments to min; returning Inf\"\n"
     ]
    },
    {
     "name": "stdout",
     "output_type": "stream",
     "text": [
      "[1] Inf\n"
     ]
    },
    {
     "name": "stderr",
     "output_type": "stream",
     "text": [
      "Warning message:\n",
      "\"\u001b[1m\u001b[22mRemoved 60 rows containing missing values (`geom_violin()`).\"\n",
      "Warning message:\n",
      "\"\u001b[1m\u001b[22mRemoved 60 rows containing missing values (`geom_violin()`).\"\n"
     ]
    },
    {
     "data": {
      "image/png": "[encoded data removed]",
      "text/plain": [
       "plot without title"
      ]
     },
     "metadata": {
      "image/png": {
       "height": 420,
       "width": 420
      }
     },
     "output_type": "display_data"
    }
   ],
   "source": [
    "#Deflations\n",
    "thisData <- avgdata %>% filter(Measure=='Deflations')\n",
    "mx<-t.test(Value ~ Strategy, data=thisData)\n",
    "print(mx)\n",
    "print(min(thisData$Deflations))\n",
    "\n",
    "dp2<-ggplot(thisData, aes(x=Strategy, y=Value,fill=Strategy)) + \n",
    "  geom_violin(trim=FALSE)+\n",
    "  labs(title=\"Deflations\",x=\"\", y = \"Deflation count\")+\n",
    "  geom_boxplot(width=0.1,fill=\"darkgray\")\n",
    "dp2 <- dp2+scale_fill_manual(values=c(\"lightsalmon2\",\"mediumpurple1\")) +\n",
    "  theme_classic() +\n",
    "  scale_y_continuous(limits=c(-5, 80)) +\n",
    "  theme(plot.title = element_text(size=30,hjust=0.5,face =\"bold\"),\n",
    "           axis.text = element_text(size = 28,color='black'),\n",
    "           axis.line = element_line(colour = 'black', size = 1),\n",
    "           axis.ticks = element_line(colour = \"black\", size = 1),\n",
    "           strip.text = element_text(size = 24,face = \"bold\",color='black'),\n",
    "           axis.title = element_text( size = 30, face = \"bold\" ),\n",
    "           axis.ticks.length = unit(0.25, \"cm\"),\n",
    "           legend.text = element_text(size=18),\n",
    "           legend.title = element_text(size=20),\n",
    "           legend.position=\"none\",\n",
    "           plot.background = element_blank(),\n",
    "           panel.background = element_blank(),\n",
    "           aspect.ratio = 1)\n",
    "dp2\n",
    "ggsave(\"./Figures_Humans/Deflations.png\",plot=dp2,width=12,height=8)"
   ]
  },
  {
   "cell_type": "code",
   "execution_count": 10,
   "metadata": {},
   "outputs": [
    {
     "name": "stdout",
     "output_type": "stream",
     "text": [
      "\n",
      "\tWelch Two Sample t-test\n",
      "\n",
      "data:  Value by Strategy\n",
      "t = 1.6457, df = 22.143, p-value = 0.1139\n",
      "alternative hypothesis: true difference in means between group streamed and group coupled is not equal to 0\n",
      "95 percent confidence interval:\n",
      " -0.8305392  7.2263726\n",
      "sample estimates:\n",
      "mean in group streamed  mean in group coupled \n",
      "              8.333333               5.135417 \n",
      "\n"
     ]
    },
    {
     "name": "stderr",
     "output_type": "stream",
     "text": [
      "Warning message:\n",
      "\"\u001b[1m\u001b[22mRemoved 1 rows containing missing values (`geom_violin()`).\"\n",
      "Warning message:\n",
      "\"\u001b[1m\u001b[22mRemoved 1 rows containing missing values (`geom_violin()`).\"\n"
     ]
    },
    {
     "data": {
      "image/png": "[encoded data removed]",
      "text/plain": [
       "plot without title"
      ]
     },
     "metadata": {
      "image/png": {
       "height": 420,
       "width": 420
      }
     },
     "output_type": "display_data"
    }
   ],
   "source": [
    "#Resets\n",
    "thisData <- avgdata %>% filter(Measure=='Resets')\n",
    "mx<-t.test(Value ~ Strategy, data=thisData)\n",
    "print(mx)\n",
    "\n",
    "dp3 <- ggplot(thisData, aes(x=Strategy, y=Value,fill=Strategy)) + \n",
    "  geom_violin(trim=FALSE)+\n",
    "  labs(title=\"Resets\",x=\"\", y = \"Reset count\")+\n",
    "  geom_boxplot(width=0.1,fill=\"darkgray\")\n",
    "dp3 <- dp3+scale_fill_manual(values=c(\"lightsalmon2\",\"mediumpurple1\")) +\n",
    "  theme_classic() +\n",
    "  scale_y_continuous(limits=c(-5, 45)) +\n",
    "  theme(plot.title = element_text(size=30,hjust=0.5,face =\"bold\"),\n",
    "           axis.text = element_text(size = 28,color='black'),\n",
    "           axis.line = element_line(colour = 'black', size = 1),\n",
    "           axis.ticks = element_line(colour = \"black\", size = 1),\n",
    "           strip.text = element_text(size = 24,face = \"bold\",color='black'),\n",
    "           axis.title = element_text( size = 30, face = \"bold\" ),\n",
    "           axis.ticks.length = unit(0.25, \"cm\"),\n",
    "           legend.text = element_text(size=18),\n",
    "           legend.title = element_text(size=20),\n",
    "           legend.position=\"none\",\n",
    "           plot.background = element_blank(),\n",
    "           panel.background = element_blank(),\n",
    "           aspect.ratio = 1)\n",
    "dp3\n",
    "ggsave(\"./Figures_Humans/Resets.png\",plot=dp3,width=12,height=8)"
   ]
  },
  {
   "cell_type": "code",
   "execution_count": 11,
   "metadata": {},
   "outputs": [
    {
     "name": "stdout",
     "output_type": "stream",
     "text": [
      "\n",
      "\tWelch Two Sample t-test\n",
      "\n",
      "data:  Value by Strategy\n",
      "t = -0.79904, df = 31.662, p-value = 0.4302\n",
      "alternative hypothesis: true difference in means between group streamed and group coupled is not equal to 0\n",
      "95 percent confidence interval:\n",
      " -18.20351   7.94888\n",
      "sample estimates:\n",
      "mean in group streamed  mean in group coupled \n",
      "              36.51852               41.64583 \n",
      "\n"
     ]
    },
    {
     "name": "stderr",
     "output_type": "stream",
     "text": [
      "Warning message:\n",
      "\"\u001b[1m\u001b[22mRemoved 77 rows containing missing values (`geom_violin()`).\"\n",
      "Warning message:\n",
      "\"\u001b[1m\u001b[22mRemoved 77 rows containing missing values (`geom_violin()`).\"\n"
     ]
    },
    {
     "data": {
      "image/png": "[encoded data removed]",
      "text/plain": [
       "plot without title"
      ]
     },
     "metadata": {
      "image/png": {
       "height": 420,
       "width": 420
      }
     },
     "output_type": "display_data"
    }
   ],
   "source": [
    "#Misses\n",
    "thisData <- avgdata %>% filter(Measure=='Misses')\n",
    "mx<-t.test(Value ~ Strategy, data=thisData)\n",
    "print(mx)\n",
    "\n",
    "dp4<-ggplot(thisData, aes(x=Strategy, y=Value,fill=Strategy)) + \n",
    "  geom_violin(trim=FALSE)+\n",
    "  labs(title=\"Misses\",x=\"\", y = \"Miss count\")+\n",
    "  geom_boxplot(width=0.1,fill=\"darkgray\")\n",
    "dp4 <- dp4+scale_fill_manual(values=c(\"lightsalmon2\",\"mediumpurple1\")) +\n",
    "  theme_classic() +\n",
    "  scale_y_continuous(limits=c(-5, 155)) +\n",
    "  theme(plot.title = element_text(size=30,hjust=0.5,face =\"bold\"),\n",
    "           axis.text = element_text(size = 28,color='black'),\n",
    "           axis.line = element_line(colour = 'black', size = 1),\n",
    "           axis.ticks = element_line(colour = \"black\", size = 1),\n",
    "           strip.text = element_text(size = 24,face = \"bold\",color='black'),\n",
    "           axis.title = element_text( size = 30, face = \"bold\" ),\n",
    "           axis.ticks.length = unit(0.25, \"cm\"),\n",
    "           legend.text = element_text(size=18),\n",
    "           legend.title = element_text(size=20),\n",
    "           legend.position=\"none\",\n",
    "           plot.background = element_blank(),\n",
    "           panel.background = element_blank(),\n",
    "           aspect.ratio = 1)\n",
    "dp4\n",
    "ggsave(\"./Figures_Humans/Misses.png\",plot=dp4,width=12,height=8)"
   ]
  },
  {
   "cell_type": "code",
   "execution_count": 12,
   "metadata": {},
   "outputs": [
    {
     "name": "stdout",
     "output_type": "stream",
     "text": [
      "\n",
      "\tWelch Two Sample t-test\n",
      "\n",
      "data:  Value by Strategy\n",
      "t = -0.11036, df = 38.878, p-value = 0.9127\n",
      "alternative hypothesis: true difference in means between group streamed and group coupled is not equal to 0\n",
      "95 percent confidence interval:\n",
      " -0.1465669  0.1314017\n",
      "sample estimates:\n",
      "mean in group streamed  mean in group coupled \n",
      "              2.754407               2.761989 \n",
      "\n"
     ]
    },
    {
     "data": {
      "image/png": "[encoded data removed]",
      "text/plain": [
       "plot without title"
      ]
     },
     "metadata": {
      "image/png": {
       "height": 420,
       "width": 420
      }
     },
     "output_type": "display_data"
    }
   ],
   "source": [
    "#Entropy\n",
    "thisData <- avgdata %>% filter(Measure=='Entropy')\n",
    "mx<-t.test(Value ~ Strategy, data=thisData)\n",
    "print(mx)\n",
    "\n",
    "dp5<-ggplot(thisData, aes(x=Strategy, y=Value,fill=Strategy)) + \n",
    "  geom_violin(trim=FALSE)+\n",
    "  labs(title=\"Sequential variability\",x=\"\", y = \"Entropy (bits)\")+\n",
    "  geom_boxplot(width=0.1,fill=\"darkgray\")\n",
    "dp5 <- dp5+scale_fill_manual(values=c(\"lightsalmon2\",\"mediumpurple1\")) +\n",
    "  theme_classic() +\n",
    "  theme(plot.title = element_text(size=30,hjust=0.5,face =\"bold\"),\n",
    "           axis.text = element_text(size = 28,color='black'),\n",
    "           axis.line = element_line(colour = 'black', size = 1),\n",
    "           axis.ticks = element_line(colour = \"black\", size = 1),\n",
    "           strip.text = element_text(size = 24,face = \"bold\",color='black'),\n",
    "           axis.title = element_text( size = 30, face = \"bold\" ),\n",
    "           axis.ticks.length = unit(0.25, \"cm\"),\n",
    "           legend.text = element_text(size=18),\n",
    "           legend.title = element_text(size=20),\n",
    "           legend.position=\"none\",\n",
    "           plot.background = element_blank(),\n",
    "           panel.background = element_blank(),\n",
    "           aspect.ratio = 1)\n",
    "dp5\n",
    "ggsave(\"./Figures_Humans/Entropy.png\",plot=dp5,width=12,height=8)"
   ]
  },
  {
   "cell_type": "code",
   "execution_count": 13,
   "metadata": {},
   "outputs": [
    {
     "name": "stdout",
     "output_type": "stream",
     "text": [
      "\n",
      "\tWelch Two Sample t-test\n",
      "\n",
      "data:  Value by Strategy\n",
      "t = -2.3906, df = 37.248, p-value = 0.02199\n",
      "alternative hypothesis: true difference in means between group streamed and group coupled is not equal to 0\n",
      "95 percent confidence interval:\n",
      " -0.24251093 -0.02003772\n",
      "sample estimates:\n",
      "mean in group streamed  mean in group coupled \n",
      "             -1.358421              -1.227146 \n",
      "\n"
     ]
    },
    {
     "data": {
      "image/png": "[encoded data removed]",
      "text/plain": [
       "plot without title"
      ]
     },
     "metadata": {
      "image/png": {
       "height": 420,
       "width": 420
      }
     },
     "output_type": "display_data"
    }
   ],
   "source": [
    "#LogCV\n",
    "thisData <- avgdata %>% filter(Measure=='LogCV')\n",
    "mx<-t.test(Value ~ Strategy, data=thisData)\n",
    "print(mx)\n",
    "\n",
    "dp6<-ggplot(thisData, aes(x=Strategy, y=Value,fill=Strategy)) + \n",
    "  geom_violin(trim=FALSE)+\n",
    "  labs(title=\"Shot timing variability\",x=\"\", y = \"Log CV ISI\")+\n",
    "  geom_boxplot(width=0.1,fill=\"darkgray\")\n",
    "dp6 <- dp6+scale_fill_manual(values=c(\"lightsalmon2\",\"mediumpurple1\")) +\n",
    "  theme_classic() +\n",
    "  theme(plot.title = element_text(size=30,hjust=0.5,face =\"bold\"),\n",
    "           axis.text = element_text(size = 28,color='black'),\n",
    "           axis.line = element_line(colour = 'black', size = 1),\n",
    "           axis.ticks = element_line(colour = \"black\", size = 1),\n",
    "           strip.text = element_text(size = 24,face = \"bold\",color='black'),\n",
    "           axis.title = element_text( size = 30, face = \"bold\" ),\n",
    "           axis.ticks.length = unit(0.25, \"cm\"),\n",
    "           legend.text = element_text(size=18),\n",
    "           legend.title = element_text(size=20),\n",
    "           legend.position=\"none\",\n",
    "           plot.background = element_blank(),\n",
    "           panel.background = element_blank(),\n",
    "           aspect.ratio = 1)\n",
    "dp6\n",
    "ggsave(\"./Figures_Humans/LogCV.png\",plot=dp6,width=12,height=8)"
   ]
  },
  {
   "cell_type": "code",
   "execution_count": 14,
   "metadata": {},
   "outputs": [
    {
     "data": {
      "text/html": [
       "2430.2962962963"
      ],
      "text/latex": [
       "2430.2962962963"
      ],
      "text/markdown": [
       "2430.2962962963"
      ],
      "text/plain": [
       "[1] 2430.296"
      ]
     },
     "metadata": {},
     "output_type": "display_data"
    },
    {
     "data": {
      "text/html": [
       "1308.64583333333"
      ],
      "text/latex": [
       "1308.64583333333"
      ],
      "text/markdown": [
       "1308.64583333333"
      ],
      "text/plain": [
       "[1] 1308.646"
      ]
     },
     "metadata": {},
     "output_type": "display_data"
    },
    {
     "data": {
      "text/html": [
       "279.981767483986"
      ],
      "text/latex": [
       "279.981767483986"
      ],
      "text/markdown": [
       "279.981767483986"
      ],
      "text/plain": [
       "[1] 279.9818"
      ]
     },
     "metadata": {},
     "output_type": "display_data"
    },
    {
     "data": {
      "text/html": [
       "560.43578753806"
      ],
      "text/latex": [
       "560.43578753806"
      ],
      "text/markdown": [
       "560.43578753806"
      ],
      "text/plain": [
       "[1] 560.4358"
      ]
     },
     "metadata": {},
     "output_type": "display_data"
    },
    {
     "data": {
      "text/html": [
       "<table class=\"dataframe\">\n",
       "<caption>A grouped_df: 9 × 4</caption>\n",
       "<thead>\n",
       "\t<tr><th scope=col>name</th><th scope=col>Strategy</th><th scope=col>Measure</th><th scope=col>Value</th></tr>\n",
       "\t<tr><th scope=col>&lt;chr&gt;</th><th scope=col>&lt;ord&gt;</th><th scope=col>&lt;chr&gt;</th><th scope=col>&lt;dbl&gt;</th></tr>\n",
       "</thead>\n",
       "<tbody>\n",
       "\t<tr><td>A122LRCSBAD6DC</td><td>streamed</td><td>Score</td><td>2517.333</td></tr>\n",
       "\t<tr><td>A13G6IRFQBEE8K</td><td>streamed</td><td>Score</td><td>2497.333</td></tr>\n",
       "\t<tr><td>A19X8IA9EKC3XH</td><td>streamed</td><td>Score</td><td>2886.667</td></tr>\n",
       "\t<tr><td>A1RH69F7I73LRW</td><td>streamed</td><td>Score</td><td>2285.333</td></tr>\n",
       "\t<tr><td>A1SISJL5ST2PWH</td><td>streamed</td><td>Score</td><td>2629.333</td></tr>\n",
       "\t<tr><td>A1U2A42K8FV3RA</td><td>streamed</td><td>Score</td><td>1930.000</td></tr>\n",
       "\t<tr><td>AAE1COF4E8740 </td><td>streamed</td><td>Score</td><td>2611.333</td></tr>\n",
       "\t<tr><td>ACGHHDT7RY1AH </td><td>streamed</td><td>Score</td><td>2299.333</td></tr>\n",
       "\t<tr><td>AFM65NU0UXIGP </td><td>streamed</td><td>Score</td><td>2216.000</td></tr>\n",
       "</tbody>\n",
       "</table>\n"
      ],
      "text/latex": [
       "A grouped\\_df: 9 × 4\n",
       "\\begin{tabular}{llll}\n",
       " name & Strategy & Measure & Value\\\\\n",
       " <chr> & <ord> & <chr> & <dbl>\\\\\n",
       "\\hline\n",
       "\t A122LRCSBAD6DC & streamed & Score & 2517.333\\\\\n",
       "\t A13G6IRFQBEE8K & streamed & Score & 2497.333\\\\\n",
       "\t A19X8IA9EKC3XH & streamed & Score & 2886.667\\\\\n",
       "\t A1RH69F7I73LRW & streamed & Score & 2285.333\\\\\n",
       "\t A1SISJL5ST2PWH & streamed & Score & 2629.333\\\\\n",
       "\t A1U2A42K8FV3RA & streamed & Score & 1930.000\\\\\n",
       "\t AAE1COF4E8740  & streamed & Score & 2611.333\\\\\n",
       "\t ACGHHDT7RY1AH  & streamed & Score & 2299.333\\\\\n",
       "\t AFM65NU0UXIGP  & streamed & Score & 2216.000\\\\\n",
       "\\end{tabular}\n"
      ],
      "text/markdown": [
       "\n",
       "A grouped_df: 9 × 4\n",
       "\n",
       "| name &lt;chr&gt; | Strategy &lt;ord&gt; | Measure &lt;chr&gt; | Value &lt;dbl&gt; |\n",
       "|---|---|---|---|\n",
       "| A122LRCSBAD6DC | streamed | Score | 2517.333 |\n",
       "| A13G6IRFQBEE8K | streamed | Score | 2497.333 |\n",
       "| A19X8IA9EKC3XH | streamed | Score | 2886.667 |\n",
       "| A1RH69F7I73LRW | streamed | Score | 2285.333 |\n",
       "| A1SISJL5ST2PWH | streamed | Score | 2629.333 |\n",
       "| A1U2A42K8FV3RA | streamed | Score | 1930.000 |\n",
       "| AAE1COF4E8740  | streamed | Score | 2611.333 |\n",
       "| ACGHHDT7RY1AH  | streamed | Score | 2299.333 |\n",
       "| AFM65NU0UXIGP  | streamed | Score | 2216.000 |\n",
       "\n"
      ],
      "text/plain": [
       "  name           Strategy Measure Value   \n",
       "1 A122LRCSBAD6DC streamed Score   2517.333\n",
       "2 A13G6IRFQBEE8K streamed Score   2497.333\n",
       "3 A19X8IA9EKC3XH streamed Score   2886.667\n",
       "4 A1RH69F7I73LRW streamed Score   2285.333\n",
       "5 A1SISJL5ST2PWH streamed Score   2629.333\n",
       "6 A1U2A42K8FV3RA streamed Score   1930.000\n",
       "7 AAE1COF4E8740  streamed Score   2611.333\n",
       "8 ACGHHDT7RY1AH  streamed Score   2299.333\n",
       "9 AFM65NU0UXIGP  streamed Score   2216.000"
      ]
     },
     "metadata": {},
     "output_type": "display_data"
    }
   ],
   "source": [
    "#Score\n",
    "thisData <- avgdata %>% filter(Measure=='Score')\n",
    "StreamPerf <- thisData %>% filter(Strategy=='streamed')\n",
    "coupledPerf <- thisData %>% filter(Strategy=='coupled')\n",
    "\n",
    "StreamData <- StreamPerf %>% filter(Measure=='Score')\n",
    "CoupledData <- coupledPerf %>% filter(Measure=='Score')\n",
    "mu1<-mean(StreamData$Value)\n",
    "mu1\n",
    "mu2 <- mean(CoupledData$Value)\n",
    "mu2\n",
    "sd1<-sd(StreamData$Value)\n",
    "sd1\n",
    "sd2<-sd(CoupledData$Value)\n",
    "sd2\n",
    "StreamData"
   ]
  },
  {
   "cell_type": "code",
   "execution_count": 15,
   "metadata": {},
   "outputs": [
    {
     "name": "stdout",
     "output_type": "stream",
     "text": [
      "\n",
      "\tWelch Two Sample t-test\n",
      "\n",
      "data:  Value by Strategy\n",
      "t = 8.2409, df = 27.257, p-value = 7.033e-09\n",
      "alternative hypothesis: true difference in means between group streamed and group coupled is not equal to 0\n",
      "95 percent confidence interval:\n",
      "  842.5042 1400.7967\n",
      "sample estimates:\n",
      "mean in group streamed  mean in group coupled \n",
      "              2430.296               1308.646 \n",
      "\n"
     ]
    },
    {
     "name": "stderr",
     "output_type": "stream",
     "text": [
      "Warning message:\n",
      "\"\u001b[1m\u001b[22mRemoved 56 rows containing missing values (`geom_violin()`).\"\n",
      "Warning message:\n",
      "\"\u001b[1m\u001b[22mRemoved 56 rows containing missing values (`geom_violin()`).\"\n"
     ]
    },
    {
     "data": {
      "image/png": "[encoded data removed]",
      "text/plain": [
       "plot without title"
      ]
     },
     "metadata": {
      "image/png": {
       "height": 420,
       "width": 420
      }
     },
     "output_type": "display_data"
    }
   ],
   "source": [
    "#Score\n",
    "thisData <- avgdata %>% filter(Measure=='Score')\n",
    "mx<-t.test(Value ~ Strategy, data=thisData)\n",
    "print(mx)\n",
    "\n",
    "dp7<-ggplot(thisData, aes(x=Strategy, y=Value,fill=Strategy)) + \n",
    "  geom_violin(trim=FALSE)+\n",
    "  labs(title=\"Performance\",x=\"\", y = \"Score (Points)\")+\n",
    "  geom_boxplot(width=0.1,fill=\"darkgray\")\n",
    "dp7 <- dp7+scale_fill_manual(values=c(\"lightsalmon2\",\"mediumpurple1\")) +\n",
    "  theme_classic() +\n",
    "  scale_y_continuous(limits=c(-5, 3300)) +\n",
    "  theme(plot.title = element_text(size=30,hjust=0.5,face =\"bold\"),\n",
    "           axis.text = element_text(size = 28,color='black'),\n",
    "           axis.line = element_line(colour = 'black', size = 1),\n",
    "           axis.ticks = element_line(colour = \"black\", size = 1),\n",
    "           strip.text = element_text(size = 24,face = \"bold\",color='black'),\n",
    "           axis.title = element_text( size = 30, face = \"bold\" ),\n",
    "           axis.ticks.length = unit(0.25, \"cm\"),\n",
    "           legend.text = element_text(size=18),\n",
    "           legend.title = element_text(size=20),\n",
    "           legend.position=\"none\",\n",
    "           plot.background = element_blank(),\n",
    "           panel.background = element_blank(),\n",
    "           aspect.ratio = 1)\n",
    "dp7\n",
    "ggsave(\"./Figures_Humans/Score.png\",plot=dp7,width=12,height=8)"
   ]
  },
  {
   "cell_type": "code",
   "execution_count": 16,
   "metadata": {},
   "outputs": [
    {
     "name": "stdout",
     "output_type": "stream",
     "text": [
      "\n",
      "\tWelch Two Sample t-test\n",
      "\n",
      "data:  Value by Strategy\n",
      "t = -9.3246, df = 38.999, p-value = 1.785e-11\n",
      "alternative hypothesis: true difference in means between group streamed and group coupled is not equal to 0\n",
      "95 percent confidence interval:\n",
      " -0.2982762 -0.1919391\n",
      "sample estimates:\n",
      "mean in group streamed  mean in group coupled \n",
      "             0.1156653              0.3607730 \n",
      "\n"
     ]
    },
    {
     "name": "stderr",
     "output_type": "stream",
     "text": [
      "Warning message:\n",
      "\"\u001b[1m\u001b[22mRemoved 24 rows containing missing values (`geom_violin()`).\"\n",
      "Warning message:\n",
      "\"\u001b[1m\u001b[22mRemoved 24 rows containing missing values (`geom_violin()`).\"\n"
     ]
    },
    {
     "data": {
      "image/png": "[encoded data removed]",
      "text/plain": [
       "plot without title"
      ]
     },
     "metadata": {
      "image/png": {
       "height": 420,
       "width": 420
      }
     },
     "output_type": "display_data"
    }
   ],
   "source": [
    "#Right Regularity\n",
    "thisData <- avgdata %>% filter(Measure=='Right_Regularity')\n",
    "mx<-t.test(Value ~ Strategy, data=thisData)\n",
    "print(mx)\n",
    "\n",
    "dp8<-ggplot(thisData, aes(x=Strategy, y=Value,fill=Strategy)) + \n",
    "  geom_violin(trim=FALSE)+\n",
    "  labs(title=\"Right Regularity\",x=\"Strategy\", y = \"Correlation coefficient (r)\")+\n",
    "  geom_boxplot(width=0.1,fill=\"darkgray\")\n",
    "dp8 <- dp8+scale_fill_manual(values=c(\"lightsalmon2\",\"mediumpurple1\")) +\n",
    "  theme_classic() +\n",
    "  scale_y_continuous(limits=c(-0.05, 0.81)) +\n",
    "  theme(plot.title = element_text(size=30,hjust=0.5,face =\"bold\"),\n",
    "           axis.text = element_text(size = 28,color='black'),\n",
    "           axis.line = element_line(colour = 'black', size = 1),\n",
    "           axis.ticks = element_line(colour = \"black\", size = 1),\n",
    "           strip.text = element_text(size = 24,face = \"bold\",color='black'),\n",
    "           axis.title = element_text( size = 30, face = \"bold\" ),\n",
    "           axis.ticks.length = unit(0.25, \"cm\"),\n",
    "           legend.text = element_text(size=18),\n",
    "           legend.title = element_text(size=20),\n",
    "           legend.position=\"none\",\n",
    "           plot.background = element_blank(),\n",
    "           panel.background = element_blank(),\n",
    "           aspect.ratio = 1)\n",
    "dp8\n",
    "ggsave(\"./Figures_Humans/RightRegularity.png\",plot=dp8,width=12,height=8)"
   ]
  },
  {
   "cell_type": "code",
   "execution_count": 17,
   "metadata": {},
   "outputs": [
    {
     "name": "stdout",
     "output_type": "stream",
     "text": [
      "\n",
      "\tWelch Two Sample t-test\n",
      "\n",
      "data:  Value by Strategy\n",
      "t = -0.48528, df = 12.904, p-value = 0.6356\n",
      "alternative hypothesis: true difference in means between group streamed and group coupled is not equal to 0\n",
      "95 percent confidence interval:\n",
      " -0.11935599  0.07559727\n",
      "sample estimates:\n",
      "mean in group streamed  mean in group coupled \n",
      "             0.3687086              0.3905880 \n",
      "\n"
     ]
    },
    {
     "data": {
      "image/png": "[encoded data removed]",
      "text/plain": [
       "plot without title"
      ]
     },
     "metadata": {
      "image/png": {
       "height": 420,
       "width": 420
      }
     },
     "output_type": "display_data"
    }
   ],
   "source": [
    "#Shot Regularity\n",
    "thisData <- avgdata %>% filter(Measure=='Shot_Regularity')\n",
    "mx<-t.test(Value ~ Strategy, data=thisData)\n",
    "print(mx)\n",
    "\n",
    "dp9<-ggplot(thisData, aes(x=Strategy, y=Value,fill=Strategy)) + \n",
    "  geom_violin(trim=FALSE)+\n",
    "  labs(title=\"Shot Regularity\",x=\"Strategy\", y = \"Correlation coefficient (r)\")+\n",
    "  geom_boxplot(width=0.1,fill=\"darkgray\")\n",
    "dp9 <- dp9+scale_fill_manual(values=c(\"lightsalmon2\",\"mediumpurple1\")) +\n",
    "  theme_classic() +\n",
    "  scale_y_continuous(limits=c(-0.05, 0.81)) +\n",
    "  theme(plot.title = element_text(size=30,hjust=0.5,face =\"bold\"),\n",
    "           axis.text = element_text(size = 28,color='black'),\n",
    "           axis.line = element_line(colour = 'black', size = 1),\n",
    "           axis.ticks = element_line(colour = \"black\", size = 1),\n",
    "           strip.text = element_text(size = 24,face = \"bold\",color='black'),\n",
    "           axis.title = element_text( size = 30, face = \"bold\" ),\n",
    "           axis.ticks.length = unit(0.25, \"cm\"),\n",
    "           legend.text = element_text(size=18),\n",
    "           legend.title = element_text(size=20),\n",
    "           legend.position=\"none\",\n",
    "           plot.background = element_blank(),\n",
    "           panel.background = element_blank(),\n",
    "           aspect.ratio = 1)\n",
    "dp9\n",
    "ggsave(\"./Figures_Humans/ShotRegularity.png\",plot=dp9,width=12,height=8)"
   ]
  },
  {
   "cell_type": "code",
   "execution_count": 18,
   "metadata": {},
   "outputs": [
    {
     "name": "stderr",
     "output_type": "stream",
     "text": [
      "Warning message:\n",
      "\"\u001b[1m\u001b[22mRemoved 56 rows containing missing values (`geom_violin()`).\"\n",
      "Warning message:\n",
      "\"\u001b[1m\u001b[22mRemoved 1 rows containing missing values (`geom_violin()`).\"\n",
      "Warning message:\n",
      "\"\u001b[1m\u001b[22mRemoved 60 rows containing missing values (`geom_violin()`).\"\n",
      "Warning message:\n",
      "\"\u001b[1m\u001b[22mRemoved 77 rows containing missing values (`geom_violin()`).\"\n",
      "Warning message:\n",
      "\"\u001b[1m\u001b[22mRemoved 24 rows containing missing values (`geom_violin()`).\"\n"
     ]
    }
   ],
   "source": [
    "# simple grid\n",
    "gg3 <- plot_grid(dp7,dp5,dp6,dp3,dp2,dp4,dp1,dp9,dp8,nrow=3)\n",
    "ggsave(\"./Figures_Humans/Multi_violin_plots.png\",gg3,width=22,height=18)"
   ]
  },
  {
   "cell_type": "code",
   "execution_count": null,
   "metadata": {},
   "outputs": [],
   "source": []
  },
  {
   "cell_type": "code",
   "execution_count": null,
   "metadata": {},
   "outputs": [],
   "source": []
  },
  {
   "cell_type": "code",
   "execution_count": null,
   "metadata": {},
   "outputs": [],
   "source": []
  }
 ],
 "metadata": {
  "kernelspec": {
   "display_name": "R",
   "language": "R",
   "name": "ir"
  },
  "language_info": {
   "codemirror_mode": "r",
   "file_extension": ".r",
   "mimetype": "text/x-r-source",
   "name": "R",
   "pygments_lexer": "r",
   "version": "4.1.3"
  }
 },
 "nbformat": 4,
 "nbformat_minor": 4
}
