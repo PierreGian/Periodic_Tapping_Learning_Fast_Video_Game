{
 "cells": [
  {
   "cell_type": "code",
   "execution_count": 1,
   "metadata": {},
   "outputs": [
    {
     "name": "stderr",
     "output_type": "stream",
     "text": [
      "Loading required package: Matrix\n",
      "\n",
      "\n",
      "Attaching package: 'dplyr'\n",
      "\n",
      "\n",
      "The following objects are masked from 'package:stats':\n",
      "\n",
      "    filter, lag\n",
      "\n",
      "\n",
      "The following objects are masked from 'package:base':\n",
      "\n",
      "    intersect, setdiff, setequal, union\n",
      "\n",
      "\n",
      "\n",
      "Attaching package: 'MASS'\n",
      "\n",
      "\n",
      "The following object is masked from 'package:dplyr':\n",
      "\n",
      "    select\n",
      "\n",
      "\n",
      "Loading required package: coda\n",
      "\n",
      "************\n",
      "Welcome to BayesFactor 0.9.12-4.4. If you have questions, please contact Richard Morey (richarddmorey@gmail.com).\n",
      "\n",
      "Type BFManual() to open the manual.\n",
      "************\n",
      "\n",
      "Loading required package: carData\n",
      "\n",
      "\n",
      "Attaching package: 'car'\n",
      "\n",
      "\n",
      "The following object is masked from 'package:dplyr':\n",
      "\n",
      "    recode\n",
      "\n",
      "\n",
      "\n",
      "Attaching package: 'lmerTest'\n",
      "\n",
      "\n",
      "The following object is masked from 'package:lme4':\n",
      "\n",
      "    lmer\n",
      "\n",
      "\n",
      "The following object is masked from 'package:stats':\n",
      "\n",
      "    step\n",
      "\n",
      "\n",
      "------------------------------------------------------------------------------\n",
      "\n",
      "You have loaded plyr after dplyr - this is likely to cause problems.\n",
      "If you need functions from both plyr and dplyr, please load plyr first, then dplyr:\n",
      "library(plyr); library(dplyr)\n",
      "\n",
      "------------------------------------------------------------------------------\n",
      "\n",
      "\n",
      "Attaching package: 'plyr'\n",
      "\n",
      "\n",
      "The following objects are masked from 'package:dplyr':\n",
      "\n",
      "    arrange, count, desc, failwith, id, mutate, rename, summarise,\n",
      "    summarize\n",
      "\n",
      "\n",
      "\n",
      "Attaching package: 'rstatix'\n",
      "\n",
      "\n",
      "The following objects are masked from 'package:plyr':\n",
      "\n",
      "    desc, mutate\n",
      "\n",
      "\n",
      "The following object is masked from 'package:MASS':\n",
      "\n",
      "    select\n",
      "\n",
      "\n",
      "The following object is masked from 'package:stats':\n",
      "\n",
      "    filter\n",
      "\n",
      "\n",
      "\n",
      "Attaching package: 'ggpubr'\n",
      "\n",
      "\n",
      "The following object is masked from 'package:plyr':\n",
      "\n",
      "    mutate\n",
      "\n",
      "\n",
      "corrplot 0.92 loaded\n",
      "\n",
      "\n",
      "Attaching package: 'cowplot'\n",
      "\n",
      "\n",
      "The following object is masked from 'package:ggpubr':\n",
      "\n",
      "    get_legend\n",
      "\n",
      "\n"
     ]
    }
   ],
   "source": [
    "library(\"lme4\")\n",
    "library(\"ggplot2\")\n",
    "library(\"dplyr\")\n",
    "library(MASS)\n",
    "library(\"BayesFactor\")\n",
    "library(\"car\")\n",
    "library(\"scales\")\n",
    "library(\"lmerTest\")\n",
    "#library(\"MuMIn\")\n",
    "library(\"plyr\")\n",
    "library(\"rstatix\")\n",
    "library(\"ggpubr\")\n",
    "library(\"knitr\")\n",
    "library(\"corrplot\")\n",
    "library(\"RColorBrewer\")\n",
    "library(\"svglite\")\n",
    "library(\"cowplot\")"
   ]
  },
  {
   "cell_type": "code",
   "execution_count": 2,
   "metadata": {},
   "outputs": [],
   "source": [
    "#Load the data => Here, we are filtering the cases in which subjects had a MuIFI of 0\n",
    "FinalPath<-'./R_Data_ALL.txt'\n",
    "data <- read.delim(FinalPath, sep=\"\\t\", header=T, stringsAsFactors=F)"
   ]
  },
  {
   "cell_type": "code",
   "execution_count": 3,
   "metadata": {},
   "outputs": [
    {
     "data": {
      "text/plain": [
       "                   \n",
       "                      1   2   3   4   5   6   7   8   9  10  11  12  13  14  15\n",
       "  Coupled           100 100 100 100 100 100 100 100 100 100 100 100 100 100 100\n",
       "  Coupled_Strategy   32  32  32  32  32  32  32  32  32  32  32  32  32  32  32\n",
       "  MS17              100 100 100 100 100 100 100 100 100 100 100 100 100 100 100\n",
       "  Streamed          100 100 100 100 100 100 100 100 100 100 100 100 100 100 100\n",
       "  Streamed_Strategy   9   9   9   9   9   9   9   9   9   9   9   9   9   9   9"
      ]
     },
     "metadata": {},
     "output_type": "display_data"
    }
   ],
   "source": [
    "table(data$Agent, data$GameNb)"
   ]
  },
  {
   "cell_type": "code",
   "execution_count": 4,
   "metadata": {},
   "outputs": [],
   "source": [
    "##Source for \"SummarySE\": http://www.cookbook-r.com/Manipulating_data/Summarizing_data/\n",
    "##\n",
    "##\n",
    "## Gives count, mean, standard deviation, standard error of the mean, and confidence interval (default 95%).\n",
    "##   data: a data frame.\n",
    "##   measurevar: the name of a column that contains the variable to be summariezed\n",
    "##   groupvars: a vector containing names of columns that contain grouping variables\n",
    "##   na.rm: a boolean that indicates whether to ignore NA's\n",
    "##   conf.interval: the percent range of the confidence interval (default is 95%)\n",
    "summarySE <- function(data=NULL, measurevar, groupvars=NULL, na.rm=FALSE,\n",
    "                      conf.interval=.95, .drop=TRUE) {\n",
    "    library(plyr)\n",
    "\n",
    "    # New version of length which can handle NA's: if na.rm==T, don't count them\n",
    "    length2 <- function (x, na.rm=FALSE) {\n",
    "        if (na.rm) sum(!is.na(x))\n",
    "        else       length(x)\n",
    "    }\n",
    "\n",
    "    # This does the summary. For each group's data frame, return a vector with\n",
    "    # N, mean, and sd\n",
    "    datac <- ddply(data, groupvars, .drop=.drop,\n",
    "      .fun = function(xx, col) {\n",
    "        c(N    = length2(xx[[col]], na.rm=na.rm),\n",
    "          mean = mean   (xx[[col]], na.rm=na.rm),\n",
    "          sd   = sd     (xx[[col]], na.rm=na.rm)\n",
    "        )\n",
    "      },\n",
    "      measurevar\n",
    "    )\n",
    "\n",
    "    # Rename the \"mean\" column    \n",
    "    datac <- rename(datac, c(\"mean\" = measurevar))\n",
    "\n",
    "    datac$se <- datac$sd / sqrt(datac$N)  # Calculate standard error of the mean\n",
    "\n",
    "    # Confidence interval multiplier for standard error\n",
    "    # Calculate t-statistic for confidence interval: \n",
    "    # e.g., if conf.interval is .95, use .975 (above/below), and use df=N-1\n",
    "    ciMult <- qt(conf.interval/2 + .5, datac$N-1)\n",
    "    datac$ci <- datac$se * ciMult\n",
    "\n",
    "    return(datac)\n",
    "}"
   ]
  },
  {
   "cell_type": "code",
   "execution_count": 5,
   "metadata": {},
   "outputs": [],
   "source": [
    "# Multiple plot function: source: http://www.cookbook-r.com/Graphs/Multiple_graphs_on_one_page_(ggplot2)/\n",
    "#\n",
    "# ggplot objects can be passed in ..., or to plotlist (as a list of ggplot objects)\n",
    "# - cols:   Number of columns in layout\n",
    "# - layout: A matrix specifying the layout. If present, 'cols' is ignored.\n",
    "#\n",
    "# If the layout is something like matrix(c(1,2,3,3), nrow=2, byrow=TRUE),\n",
    "# then plot 1 will go in the upper left, 2 will go in the upper right, and\n",
    "# 3 will go all the way across the bottom.\n",
    "#\n",
    "multiplot <- function(..., plotlist=NULL, file, cols=1, layout=NULL) {\n",
    "  library(grid)\n",
    "\n",
    "  # Make a list from the ... arguments and plotlist\n",
    "  plots <- c(list(...), plotlist)\n",
    "\n",
    "  numPlots = length(plots)\n",
    "\n",
    "  # If layout is NULL, then use 'cols' to determine layout\n",
    "  if (is.null(layout)) {\n",
    "    # Make the panel\n",
    "    # ncol: Number of columns of plots\n",
    "    # nrow: Number of rows needed, calculated from # of cols\n",
    "    layout <- matrix(seq(1, cols * ceiling(numPlots/cols)),\n",
    "                    ncol = cols, nrow = ceiling(numPlots/cols))\n",
    "  }\n",
    "\n",
    " if (numPlots==1) {\n",
    "    print(plots[[1]])\n",
    "\n",
    "  } else {\n",
    "    # Set up the page\n",
    "    grid.newpage()\n",
    "    pushViewport(viewport(layout = grid.layout(nrow(layout), ncol(layout))))\n",
    "\n",
    "    # Make each plot, in the correct location\n",
    "    for (i in 1:numPlots) {\n",
    "      # Get the i,j matrix positions of the regions that contain this subplot\n",
    "      matchidx <- as.data.frame(which(layout == i, arr.ind = TRUE))\n",
    "\n",
    "      print(plots[[i]], vp = viewport(layout.pos.row = matchidx$row,\n",
    "                                      layout.pos.col = matchidx$col))\n",
    "    }\n",
    "  }\n",
    "}"
   ]
  },
  {
   "cell_type": "markdown",
   "metadata": {},
   "source": [
    "# Compute RMSE for fast-shooting data"
   ]
  },
  {
   "cell_type": "code",
   "execution_count": 6,
   "metadata": {},
   "outputs": [
    {
     "data": {
      "text/html": [
       "<table class=\"dataframe\">\n",
       "<caption>A data.frame: 10 × 12</caption>\n",
       "<thead>\n",
       "\t<tr><th></th><th scope=col>Agent</th><th scope=col>subject</th><th scope=col>GameNb</th><th scope=col>Deflations</th><th scope=col>Misses</th><th scope=col>Resets</th><th scope=col>ShotReg</th><th scope=col>Entropy</th><th scope=col>LogCV</th><th scope=col>ShotPer</th><th scope=col>RightReg</th><th scope=col>Score</th></tr>\n",
       "\t<tr><th></th><th scope=col>&lt;chr&gt;</th><th scope=col>&lt;chr&gt;</th><th scope=col>&lt;int&gt;</th><th scope=col>&lt;dbl&gt;</th><th scope=col>&lt;dbl&gt;</th><th scope=col>&lt;dbl&gt;</th><th scope=col>&lt;dbl&gt;</th><th scope=col>&lt;dbl&gt;</th><th scope=col>&lt;dbl&gt;</th><th scope=col>&lt;dbl&gt;</th><th scope=col>&lt;dbl&gt;</th><th scope=col>&lt;dbl&gt;</th></tr>\n",
       "</thead>\n",
       "<tbody>\n",
       "\t<tr><th scope=row>1</th><td>Coupled</td><td>model_6592528450_1</td><td> 1</td><td>96</td><td> 63</td><td>3</td><td>0.2749406</td><td>2.938219</td><td>-0.9013436</td><td>480</td><td>0.1648576</td><td> 256</td></tr>\n",
       "\t<tr><th scope=row>2</th><td>Coupled</td><td>model_6592528450_1</td><td> 2</td><td>22</td><td>107</td><td>2</td><td>0.4118143</td><td>2.848877</td><td>-1.3099846</td><td>512</td><td>0.3605711</td><td> 888</td></tr>\n",
       "\t<tr><th scope=row>3</th><td>Coupled</td><td>model_6592528450_1</td><td> 3</td><td>15</td><td> 57</td><td>0</td><td>0.4774791</td><td>2.329245</td><td>-1.7767653</td><td>496</td><td>0.5570642</td><td>1486</td></tr>\n",
       "\t<tr><th scope=row>4</th><td>Coupled</td><td>model_6592528450_1</td><td> 4</td><td>12</td><td> 42</td><td>0</td><td>0.5218977</td><td>2.325269</td><td>-1.4100751</td><td>496</td><td>0.4901174</td><td>1718</td></tr>\n",
       "\t<tr><th scope=row>5</th><td>Coupled</td><td>model_6592528450_1</td><td> 5</td><td>15</td><td> 46</td><td>2</td><td>0.5070372</td><td>2.358500</td><td>-1.3223362</td><td>496</td><td>0.5357312</td><td>1508</td></tr>\n",
       "\t<tr><th scope=row>6</th><td>Coupled</td><td>model_6592528450_1</td><td> 6</td><td>20</td><td> 51</td><td>0</td><td>0.4869756</td><td>2.249658</td><td>-1.4796068</td><td>496</td><td>0.5706765</td><td>1198</td></tr>\n",
       "\t<tr><th scope=row>7</th><td>Coupled</td><td>model_6592528450_1</td><td> 7</td><td>19</td><td> 63</td><td>0</td><td>0.4852614</td><td>2.230736</td><td>-1.8959978</td><td>496</td><td>0.5582201</td><td>1174</td></tr>\n",
       "\t<tr><th scope=row>8</th><td>Coupled</td><td>model_6592528450_1</td><td> 8</td><td>16</td><td> 52</td><td>1</td><td>0.4792956</td><td>2.216584</td><td>-1.3405258</td><td>496</td><td>0.5472919</td><td>1398</td></tr>\n",
       "\t<tr><th scope=row>9</th><td>Coupled</td><td>model_6592528450_1</td><td> 9</td><td> 9</td><td> 23</td><td>1</td><td>0.4849891</td><td>1.970430</td><td>-1.5390336</td><td>496</td><td>0.5619010</td><td>1872</td></tr>\n",
       "\t<tr><th scope=row>10</th><td>Coupled</td><td>model_6592528450_1</td><td>10</td><td>17</td><td> 62</td><td>0</td><td>0.4301834</td><td>2.693542</td><td>-1.6470724</td><td>496</td><td>0.5445266</td><td>1078</td></tr>\n",
       "</tbody>\n",
       "</table>\n"
      ],
      "text/latex": [
       "A data.frame: 10 × 12\n",
       "\\begin{tabular}{r|llllllllllll}\n",
       "  & Agent & subject & GameNb & Deflations & Misses & Resets & ShotReg & Entropy & LogCV & ShotPer & RightReg & Score\\\\\n",
       "  & <chr> & <chr> & <int> & <dbl> & <dbl> & <dbl> & <dbl> & <dbl> & <dbl> & <dbl> & <dbl> & <dbl>\\\\\n",
       "\\hline\n",
       "\t1 & Coupled & model\\_6592528450\\_1 &  1 & 96 &  63 & 3 & 0.2749406 & 2.938219 & -0.9013436 & 480 & 0.1648576 &  256\\\\\n",
       "\t2 & Coupled & model\\_6592528450\\_1 &  2 & 22 & 107 & 2 & 0.4118143 & 2.848877 & -1.3099846 & 512 & 0.3605711 &  888\\\\\n",
       "\t3 & Coupled & model\\_6592528450\\_1 &  3 & 15 &  57 & 0 & 0.4774791 & 2.329245 & -1.7767653 & 496 & 0.5570642 & 1486\\\\\n",
       "\t4 & Coupled & model\\_6592528450\\_1 &  4 & 12 &  42 & 0 & 0.5218977 & 2.325269 & -1.4100751 & 496 & 0.4901174 & 1718\\\\\n",
       "\t5 & Coupled & model\\_6592528450\\_1 &  5 & 15 &  46 & 2 & 0.5070372 & 2.358500 & -1.3223362 & 496 & 0.5357312 & 1508\\\\\n",
       "\t6 & Coupled & model\\_6592528450\\_1 &  6 & 20 &  51 & 0 & 0.4869756 & 2.249658 & -1.4796068 & 496 & 0.5706765 & 1198\\\\\n",
       "\t7 & Coupled & model\\_6592528450\\_1 &  7 & 19 &  63 & 0 & 0.4852614 & 2.230736 & -1.8959978 & 496 & 0.5582201 & 1174\\\\\n",
       "\t8 & Coupled & model\\_6592528450\\_1 &  8 & 16 &  52 & 1 & 0.4792956 & 2.216584 & -1.3405258 & 496 & 0.5472919 & 1398\\\\\n",
       "\t9 & Coupled & model\\_6592528450\\_1 &  9 &  9 &  23 & 1 & 0.4849891 & 1.970430 & -1.5390336 & 496 & 0.5619010 & 1872\\\\\n",
       "\t10 & Coupled & model\\_6592528450\\_1 & 10 & 17 &  62 & 0 & 0.4301834 & 2.693542 & -1.6470724 & 496 & 0.5445266 & 1078\\\\\n",
       "\\end{tabular}\n"
      ],
      "text/markdown": [
       "\n",
       "A data.frame: 10 × 12\n",
       "\n",
       "| <!--/--> | Agent &lt;chr&gt; | subject &lt;chr&gt; | GameNb &lt;int&gt; | Deflations &lt;dbl&gt; | Misses &lt;dbl&gt; | Resets &lt;dbl&gt; | ShotReg &lt;dbl&gt; | Entropy &lt;dbl&gt; | LogCV &lt;dbl&gt; | ShotPer &lt;dbl&gt; | RightReg &lt;dbl&gt; | Score &lt;dbl&gt; |\n",
       "|---|---|---|---|---|---|---|---|---|---|---|---|---|\n",
       "| 1 | Coupled | model_6592528450_1 |  1 | 96 |  63 | 3 | 0.2749406 | 2.938219 | -0.9013436 | 480 | 0.1648576 |  256 |\n",
       "| 2 | Coupled | model_6592528450_1 |  2 | 22 | 107 | 2 | 0.4118143 | 2.848877 | -1.3099846 | 512 | 0.3605711 |  888 |\n",
       "| 3 | Coupled | model_6592528450_1 |  3 | 15 |  57 | 0 | 0.4774791 | 2.329245 | -1.7767653 | 496 | 0.5570642 | 1486 |\n",
       "| 4 | Coupled | model_6592528450_1 |  4 | 12 |  42 | 0 | 0.5218977 | 2.325269 | -1.4100751 | 496 | 0.4901174 | 1718 |\n",
       "| 5 | Coupled | model_6592528450_1 |  5 | 15 |  46 | 2 | 0.5070372 | 2.358500 | -1.3223362 | 496 | 0.5357312 | 1508 |\n",
       "| 6 | Coupled | model_6592528450_1 |  6 | 20 |  51 | 0 | 0.4869756 | 2.249658 | -1.4796068 | 496 | 0.5706765 | 1198 |\n",
       "| 7 | Coupled | model_6592528450_1 |  7 | 19 |  63 | 0 | 0.4852614 | 2.230736 | -1.8959978 | 496 | 0.5582201 | 1174 |\n",
       "| 8 | Coupled | model_6592528450_1 |  8 | 16 |  52 | 1 | 0.4792956 | 2.216584 | -1.3405258 | 496 | 0.5472919 | 1398 |\n",
       "| 9 | Coupled | model_6592528450_1 |  9 |  9 |  23 | 1 | 0.4849891 | 1.970430 | -1.5390336 | 496 | 0.5619010 | 1872 |\n",
       "| 10 | Coupled | model_6592528450_1 | 10 | 17 |  62 | 0 | 0.4301834 | 2.693542 | -1.6470724 | 496 | 0.5445266 | 1078 |\n",
       "\n"
      ],
      "text/plain": [
       "   Agent   subject            GameNb Deflations Misses Resets ShotReg  \n",
       "1  Coupled model_6592528450_1  1     96          63    3      0.2749406\n",
       "2  Coupled model_6592528450_1  2     22         107    2      0.4118143\n",
       "3  Coupled model_6592528450_1  3     15          57    0      0.4774791\n",
       "4  Coupled model_6592528450_1  4     12          42    0      0.5218977\n",
       "5  Coupled model_6592528450_1  5     15          46    2      0.5070372\n",
       "6  Coupled model_6592528450_1  6     20          51    0      0.4869756\n",
       "7  Coupled model_6592528450_1  7     19          63    0      0.4852614\n",
       "8  Coupled model_6592528450_1  8     16          52    1      0.4792956\n",
       "9  Coupled model_6592528450_1  9      9          23    1      0.4849891\n",
       "10 Coupled model_6592528450_1 10     17          62    0      0.4301834\n",
       "   Entropy  LogCV      ShotPer RightReg  Score\n",
       "1  2.938219 -0.9013436 480     0.1648576  256 \n",
       "2  2.848877 -1.3099846 512     0.3605711  888 \n",
       "3  2.329245 -1.7767653 496     0.5570642 1486 \n",
       "4  2.325269 -1.4100751 496     0.4901174 1718 \n",
       "5  2.358500 -1.3223362 496     0.5357312 1508 \n",
       "6  2.249658 -1.4796068 496     0.5706765 1198 \n",
       "7  2.230736 -1.8959978 496     0.5582201 1174 \n",
       "8  2.216584 -1.3405258 496     0.5472919 1398 \n",
       "9  1.970430 -1.5390336 496     0.5619010 1872 \n",
       "10 2.693542 -1.6470724 496     0.5445266 1078 "
      ]
     },
     "metadata": {},
     "output_type": "display_data"
    }
   ],
   "source": [
    "#RMSE function definition\n",
    "RMSE = function(mod, obs){\n",
    "  sqrt(mean((mod - obs)^2))\n",
    "}\n",
    "\n",
    "#Filtered data set\n",
    "fast_data <- data %>% filter(!Agent=='Coupled_Strategy')\n",
    "head(fast_data,10)"
   ]
  },
  {
   "cell_type": "code",
   "execution_count": 7,
   "metadata": {},
   "outputs": [
    {
     "data": {
      "text/html": [
       "0.982855319720309"
      ],
      "text/latex": [
       "0.982855319720309"
      ],
      "text/markdown": [
       "0.982855319720309"
      ],
      "text/plain": [
       "[1] 0.9828553"
      ]
     },
     "metadata": {},
     "output_type": "display_data"
    },
    {
     "data": {
      "text/html": [
       "92.5697432583324"
      ],
      "text/latex": [
       "92.5697432583324"
      ],
      "text/markdown": [
       "92.5697432583324"
      ],
      "text/plain": [
       "[1] 92.56974"
      ]
     },
     "metadata": {},
     "output_type": "display_data"
    },
    {
     "name": "stdout",
     "output_type": "stream",
     "text": [
      "[1] \"MS17 comparison\"\n"
     ]
    },
    {
     "data": {
      "text/html": [
       "0.890440197328716"
      ],
      "text/latex": [
       "0.890440197328716"
      ],
      "text/markdown": [
       "0.890440197328716"
      ],
      "text/plain": [
       "[1] 0.8904402"
      ]
     },
     "metadata": {},
     "output_type": "display_data"
    },
    {
     "data": {
      "text/html": [
       "1428.20891013556"
      ],
      "text/latex": [
       "1428.20891013556"
      ],
      "text/markdown": [
       "1428.20891013556"
      ],
      "text/plain": [
       "[1] 1428.209"
      ]
     },
     "metadata": {},
     "output_type": "display_data"
    },
    {
     "name": "stdout",
     "output_type": "stream",
     "text": [
      "[1] \"Blending comparison\"\n"
     ]
    },
    {
     "data": {
      "text/html": [
       "0.973624949526732"
      ],
      "text/latex": [
       "0.973624949526732"
      ],
      "text/markdown": [
       "0.973624949526732"
      ],
      "text/plain": [
       "[1] 0.9736249"
      ]
     },
     "metadata": {},
     "output_type": "display_data"
    },
    {
     "data": {
      "text/html": [
       "1059.55805829263"
      ],
      "text/latex": [
       "1059.55805829263"
      ],
      "text/markdown": [
       "1059.55805829263"
      ],
      "text/plain": [
       "[1] 1059.558"
      ]
     },
     "metadata": {},
     "output_type": "display_data"
    }
   ],
   "source": [
    "#1) Performance results\n",
    "muTab<-aggregate(fast_data$Score, by=list(fast_data$Agent,fast_data$GameNb), FUN=mean)\n",
    "colnames(muTab)<-c(\"Agent\",\"GameNb\",\"Score\")\n",
    "H_vec <- c(1:15)\n",
    "for (i in 1:15)\n",
    "{\n",
    "    H_vec[i] <- muTab[which(muTab$Agent==\"Streamed_Strategy\" & muTab$GameNb==i),]$Score\n",
    "}\n",
    "M_vec <- c(1:15)\n",
    "for (i in 1:15)\n",
    "{\n",
    "    M_vec[i] <- muTab[which(muTab$Agent==\"Streamed\" & muTab$GameNb==i),]$Score\n",
    "}\n",
    "\n",
    "#correlations & RMSE per condition\n",
    "#print(\"Performance correlations & RMSE\")\n",
    "r_perf <- cor(H_vec,M_vec,method = \"pearson\")\n",
    "rmse_perf <- RMSE(M_vec,H_vec)\n",
    "r_perf\n",
    "rmse_perf\n",
    "\n",
    "print(\"MS17 comparison\")\n",
    "M2_vec <- c(1:15)\n",
    "for (i in 1:15)\n",
    "{\n",
    "    M2_vec[i] <- muTab[which(muTab$Agent==\"MS17\" & muTab$GameNb==i),]$Score\n",
    "}\n",
    "\n",
    "r2_perf <- cor(H_vec,M2_vec,method = \"pearson\")\n",
    "rmse2_perf <- RMSE(M2_vec,H_vec)\n",
    "r2_perf\n",
    "rmse2_perf\n",
    "\n",
    "print(\"Blending comparison\")\n",
    "M3_vec <- c(1:15)\n",
    "for (i in 1:15)\n",
    "{\n",
    "    M3_vec[i] <- muTab[which(muTab$Agent==\"Coupled\" & muTab$GameNb==i),]$Score\n",
    "}\n",
    "\n",
    "r3_perf <- cor(H_vec,M3_vec,method = \"pearson\")\n",
    "rmse3_perf <- RMSE(M3_vec,H_vec)\n",
    "r3_perf\n",
    "rmse3_perf"
   ]
  },
  {
   "cell_type": "code",
   "execution_count": 9,
   "metadata": {},
   "outputs": [
    {
     "data": {
      "text/html": [
       "0.913890981515611"
      ],
      "text/latex": [
       "0.913890981515611"
      ],
      "text/markdown": [
       "0.913890981515611"
      ],
      "text/plain": [
       "[1] 0.913891"
      ]
     },
     "metadata": {},
     "output_type": "display_data"
    },
    {
     "data": {
      "text/html": [
       "0.0484618649325058"
      ],
      "text/latex": [
       "0.0484618649325058"
      ],
      "text/markdown": [
       "0.0484618649325058"
      ],
      "text/plain": [
       "[1] 0.04846186"
      ]
     },
     "metadata": {},
     "output_type": "display_data"
    },
    {
     "name": "stdout",
     "output_type": "stream",
     "text": [
      "[1] \"MS17 comparison\"\n"
     ]
    },
    {
     "data": {
      "text/html": [
       "0.0729011863474238"
      ],
      "text/latex": [
       "0.0729011863474238"
      ],
      "text/markdown": [
       "0.0729011863474238"
      ],
      "text/plain": [
       "[1] 0.07290119"
      ]
     },
     "metadata": {},
     "output_type": "display_data"
    },
    {
     "data": {
      "text/html": [
       "0.339539407221011"
      ],
      "text/latex": [
       "0.339539407221011"
      ],
      "text/markdown": [
       "0.339539407221011"
      ],
      "text/plain": [
       "[1] 0.3395394"
      ]
     },
     "metadata": {},
     "output_type": "display_data"
    },
    {
     "name": "stdout",
     "output_type": "stream",
     "text": [
      "[1] \"Blending comparison\"\n"
     ]
    },
    {
     "data": {
      "text/html": [
       "0.762280175520284"
      ],
      "text/latex": [
       "0.762280175520284"
      ],
      "text/markdown": [
       "0.762280175520284"
      ],
      "text/plain": [
       "[1] 0.7622802"
      ]
     },
     "metadata": {},
     "output_type": "display_data"
    },
    {
     "data": {
      "text/html": [
       "0.168134073449954"
      ],
      "text/latex": [
       "0.168134073449954"
      ],
      "text/markdown": [
       "0.168134073449954"
      ],
      "text/plain": [
       "[1] 0.1681341"
      ]
     },
     "metadata": {},
     "output_type": "display_data"
    }
   ],
   "source": [
    "#2) Entropy\n",
    "fast_data <- data %>% filter(!Agent=='Coupled_Strategy')\n",
    "fast_data <- fast_data %>% filter(!Entropy=='NaN')\n",
    "muTab<-aggregate(fast_data$Entropy, by=list(fast_data$Agent,fast_data$GameNb), FUN=mean)\n",
    "\n",
    "colnames(muTab)<-c(\"Agent\",\"GameNb\",\"Entropy\")\n",
    "H_vec <- c(1:15)\n",
    "for (i in 1:15)\n",
    "{\n",
    "    H_vec[i] <- muTab[which(muTab$Agent==\"Streamed_Strategy\" & muTab$GameNb==i),]$Entropy\n",
    "}\n",
    "M_vec <- c(1:15)\n",
    "for (i in 1:15)\n",
    "{\n",
    "    M_vec[i] <- muTab[which(muTab$Agent==\"Streamed\" & muTab$GameNb==i),]$Entropy\n",
    "}\n",
    "\n",
    "#correlations & RMSE per condition\n",
    "#print(\"Performance correlations & RMSE\")\n",
    "r_ent <- cor(H_vec,M_vec,method = \"pearson\")\n",
    "rmse_ent <- RMSE(M_vec,H_vec)\n",
    "r_ent\n",
    "rmse_ent\n",
    "\n",
    "print(\"MS17 comparison\")\n",
    "M2_vec <- c(1:15)\n",
    "for (i in 1:15)\n",
    "{\n",
    "    M2_vec[i] <- muTab[which(muTab$Agent==\"MS17\" & muTab$GameNb==i),]$Entropy\n",
    "}\n",
    "\n",
    "r2_ent <- cor(H_vec,M2_vec,method = \"pearson\")\n",
    "rmse2_ent <- RMSE(M2_vec,H_vec)\n",
    "r2_ent\n",
    "rmse2_ent\n",
    "\n",
    "print(\"Blending comparison\")\n",
    "M3_vec <- c(1:15)\n",
    "for (i in 1:15)\n",
    "{\n",
    "    M3_vec[i] <- muTab[which(muTab$Agent==\"Coupled\" & muTab$GameNb==i),]$Entropy\n",
    "}\n",
    "\n",
    "r3_ent <- cor(H_vec,M3_vec,method = \"pearson\")\n",
    "rmse3_ent <- RMSE(M3_vec,H_vec)\n",
    "r3_ent\n",
    "rmse3_ent"
   ]
  },
  {
   "cell_type": "code",
   "execution_count": 10,
   "metadata": {},
   "outputs": [
    {
     "data": {
      "text/html": [
       "0.945818644752935"
      ],
      "text/latex": [
       "0.945818644752935"
      ],
      "text/markdown": [
       "0.945818644752935"
      ],
      "text/plain": [
       "[1] 0.9458186"
      ]
     },
     "metadata": {},
     "output_type": "display_data"
    },
    {
     "data": {
      "text/html": [
       "0.108489097544949"
      ],
      "text/latex": [
       "0.108489097544949"
      ],
      "text/markdown": [
       "0.108489097544949"
      ],
      "text/plain": [
       "[1] 0.1084891"
      ]
     },
     "metadata": {},
     "output_type": "display_data"
    },
    {
     "name": "stdout",
     "output_type": "stream",
     "text": [
      "[1] \"MS17 comparison\"\n"
     ]
    },
    {
     "data": {
      "text/html": [
       "-0.910455329035234"
      ],
      "text/latex": [
       "-0.910455329035234"
      ],
      "text/markdown": [
       "-0.910455329035234"
      ],
      "text/plain": [
       "[1] -0.9104553"
      ]
     },
     "metadata": {},
     "output_type": "display_data"
    },
    {
     "data": {
      "text/html": [
       "0.525364975325288"
      ],
      "text/latex": [
       "0.525364975325288"
      ],
      "text/markdown": [
       "0.525364975325288"
      ],
      "text/plain": [
       "[1] 0.525365"
      ]
     },
     "metadata": {},
     "output_type": "display_data"
    },
    {
     "name": "stdout",
     "output_type": "stream",
     "text": [
      "[1] \"Blending comparison\"\n"
     ]
    },
    {
     "data": {
      "text/html": [
       "0.778844001966604"
      ],
      "text/latex": [
       "0.778844001966604"
      ],
      "text/markdown": [
       "0.778844001966604"
      ],
      "text/plain": [
       "[1] 0.778844"
      ]
     },
     "metadata": {},
     "output_type": "display_data"
    },
    {
     "data": {
      "text/html": [
       "0.150174291889893"
      ],
      "text/latex": [
       "0.150174291889893"
      ],
      "text/markdown": [
       "0.150174291889893"
      ],
      "text/plain": [
       "[1] 0.1501743"
      ]
     },
     "metadata": {},
     "output_type": "display_data"
    }
   ],
   "source": [
    "#3) Log CV ISI\n",
    "fast_data <- data %>% filter(!Agent=='Coupled_Strategy')\n",
    "fast_data <- fast_data %>% filter(!LogCV=='NaN')\n",
    "muTab<-aggregate(fast_data$LogCV, by=list(fast_data$Agent,fast_data$GameNb), FUN=mean)\n",
    "\n",
    "colnames(muTab)<-c(\"Agent\",\"GameNb\",\"LogCV\")\n",
    "H_vec <- c(1:15)\n",
    "for (i in 1:15)\n",
    "{\n",
    "    H_vec[i] <- muTab[which(muTab$Agent==\"Streamed_Strategy\" & muTab$GameNb==i),]$LogCV\n",
    "}\n",
    "M_vec <- c(1:15)\n",
    "for (i in 1:15)\n",
    "{\n",
    "    M_vec[i] <- muTab[which(muTab$Agent==\"Streamed\" & muTab$GameNb==i),]$LogCV\n",
    "}\n",
    "\n",
    "#correlations & RMSE per condition\n",
    "#print(\"Performance correlations & RMSE\")\n",
    "r_lcv <- cor(H_vec,M_vec,method = \"pearson\")\n",
    "rmse_lcv <- RMSE(M_vec,H_vec)\n",
    "r_lcv\n",
    "rmse_lcv\n",
    "\n",
    "print(\"MS17 comparison\")\n",
    "M2_vec <- c(1:15)\n",
    "for (i in 1:15)\n",
    "{\n",
    "    M2_vec[i] <- muTab[which(muTab$Agent==\"MS17\" & muTab$GameNb==i),]$LogCV\n",
    "}\n",
    "\n",
    "r2_lcv <- cor(H_vec,M2_vec,method = \"pearson\")\n",
    "rmse2_lcv <- RMSE(M2_vec,H_vec)\n",
    "r2_lcv\n",
    "rmse2_lcv\n",
    "\n",
    "print(\"Blending comparison\")\n",
    "M3_vec <- c(1:15)\n",
    "for (i in 1:15)\n",
    "{\n",
    "    M3_vec[i] <- muTab[which(muTab$Agent==\"Coupled\" & muTab$GameNb==i),]$LogCV\n",
    "}\n",
    "\n",
    "r3_lcv <- cor(H_vec,M3_vec,method = \"pearson\")\n",
    "rmse3_lcv <- RMSE(M3_vec,H_vec)\n",
    "r3_lcv\n",
    "rmse3_lcv"
   ]
  },
  {
   "cell_type": "code",
   "execution_count": 11,
   "metadata": {},
   "outputs": [
    {
     "data": {
      "text/html": [
       "0.566246102966661"
      ],
      "text/latex": [
       "0.566246102966661"
      ],
      "text/markdown": [
       "0.566246102966661"
      ],
      "text/plain": [
       "[1] 0.5662461"
      ]
     },
     "metadata": {},
     "output_type": "display_data"
    },
    {
     "data": {
      "text/html": [
       "3.96859171049493"
      ],
      "text/latex": [
       "3.96859171049493"
      ],
      "text/markdown": [
       "3.96859171049493"
      ],
      "text/plain": [
       "[1] 3.968592"
      ]
     },
     "metadata": {},
     "output_type": "display_data"
    },
    {
     "name": "stdout",
     "output_type": "stream",
     "text": [
      "[1] \"MS17 comparison\"\n"
     ]
    },
    {
     "data": {
      "text/html": [
       "-0.834856989930368"
      ],
      "text/latex": [
       "-0.834856989930368"
      ],
      "text/markdown": [
       "-0.834856989930368"
      ],
      "text/plain": [
       "[1] -0.834857"
      ]
     },
     "metadata": {},
     "output_type": "display_data"
    },
    {
     "data": {
      "text/html": [
       "9.88173587323162"
      ],
      "text/latex": [
       "9.88173587323162"
      ],
      "text/markdown": [
       "9.88173587323162"
      ],
      "text/plain": [
       "[1] 9.881736"
      ]
     },
     "metadata": {},
     "output_type": "display_data"
    },
    {
     "name": "stdout",
     "output_type": "stream",
     "text": [
      "[1] \"Blending comparison\"\n"
     ]
    },
    {
     "data": {
      "text/html": [
       "0.619038549001564"
      ],
      "text/latex": [
       "0.619038549001564"
      ],
      "text/markdown": [
       "0.619038549001564"
      ],
      "text/plain": [
       "[1] 0.6190385"
      ]
     },
     "metadata": {},
     "output_type": "display_data"
    },
    {
     "data": {
      "text/html": [
       "6.06727629551272"
      ],
      "text/latex": [
       "6.06727629551272"
      ],
      "text/markdown": [
       "6.06727629551272"
      ],
      "text/plain": [
       "[1] 6.067276"
      ]
     },
     "metadata": {},
     "output_type": "display_data"
    }
   ],
   "source": [
    "#4) Resets\n",
    "fast_data <- data %>% filter(!Agent=='Coupled_Strategy')\n",
    "#fast_data <- fast_data %>% filter(!LogCV=='NaN')\n",
    "muTab<-aggregate(fast_data$Resets, by=list(fast_data$Agent,fast_data$GameNb), FUN=mean)\n",
    "\n",
    "colnames(muTab)<-c(\"Agent\",\"GameNb\",\"Resets\")\n",
    "H_vec <- c(1:15)\n",
    "for (i in 1:15)\n",
    "{\n",
    "    H_vec[i] <- muTab[which(muTab$Agent==\"Streamed_Strategy\" & muTab$GameNb==i),]$Resets\n",
    "}\n",
    "M_vec <- c(1:15)\n",
    "for (i in 1:15)\n",
    "{\n",
    "    M_vec[i] <- muTab[which(muTab$Agent==\"Streamed\" & muTab$GameNb==i),]$Resets\n",
    "}\n",
    "\n",
    "#correlations & RMSE per condition\n",
    "r_res <- cor(H_vec,M_vec,method = \"pearson\")\n",
    "rmse_res <- RMSE(M_vec,H_vec)\n",
    "r_res\n",
    "rmse_res\n",
    "\n",
    "print(\"MS17 comparison\")\n",
    "M2_vec <- c(1:15)\n",
    "for (i in 1:15)\n",
    "{\n",
    "    M2_vec[i] <- muTab[which(muTab$Agent==\"MS17\" & muTab$GameNb==i),]$Resets\n",
    "}\n",
    "\n",
    "r2_res <- cor(H_vec,M2_vec,method = \"pearson\")\n",
    "rmse2_res <- RMSE(M2_vec,H_vec)\n",
    "r2_res\n",
    "rmse2_res\n",
    "\n",
    "print(\"Blending comparison\")\n",
    "M3_vec <- c(1:15)\n",
    "for (i in 1:15)\n",
    "{\n",
    "    M3_vec[i] <- muTab[which(muTab$Agent==\"Coupled\" & muTab$GameNb==i),]$Resets\n",
    "}\n",
    "\n",
    "r3_res <- cor(H_vec,M3_vec,method = \"pearson\")\n",
    "rmse3_res <- RMSE(M3_vec,H_vec)\n",
    "r3_res\n",
    "rmse3_res"
   ]
  },
  {
   "cell_type": "code",
   "execution_count": 12,
   "metadata": {},
   "outputs": [
    {
     "data": {
      "text/html": [
       "0.941831776626605"
      ],
      "text/latex": [
       "0.941831776626605"
      ],
      "text/markdown": [
       "0.941831776626605"
      ],
      "text/plain": [
       "[1] 0.9418318"
      ]
     },
     "metadata": {},
     "output_type": "display_data"
    },
    {
     "data": {
      "text/html": [
       "7.76547878904097"
      ],
      "text/latex": [
       "7.76547878904097"
      ],
      "text/markdown": [
       "7.76547878904097"
      ],
      "text/plain": [
       "[1] 7.765479"
      ]
     },
     "metadata": {},
     "output_type": "display_data"
    },
    {
     "name": "stdout",
     "output_type": "stream",
     "text": [
      "[1] \"MS17 comparison\"\n"
     ]
    },
    {
     "data": {
      "text/html": [
       "0.933620654016542"
      ],
      "text/latex": [
       "0.933620654016542"
      ],
      "text/markdown": [
       "0.933620654016542"
      ],
      "text/plain": [
       "[1] 0.9336207"
      ]
     },
     "metadata": {},
     "output_type": "display_data"
    },
    {
     "data": {
      "text/html": [
       "39.8647748167905"
      ],
      "text/latex": [
       "39.8647748167905"
      ],
      "text/markdown": [
       "39.8647748167905"
      ],
      "text/plain": [
       "[1] 39.86477"
      ]
     },
     "metadata": {},
     "output_type": "display_data"
    },
    {
     "name": "stdout",
     "output_type": "stream",
     "text": [
      "[1] \"Blending comparison\"\n"
     ]
    },
    {
     "data": {
      "text/html": [
       "0.896336401891544"
      ],
      "text/latex": [
       "0.896336401891544"
      ],
      "text/markdown": [
       "0.896336401891544"
      ],
      "text/plain": [
       "[1] 0.8963364"
      ]
     },
     "metadata": {},
     "output_type": "display_data"
    },
    {
     "data": {
      "text/html": [
       "20.5009405224377"
      ],
      "text/latex": [
       "20.5009405224377"
      ],
      "text/markdown": [
       "20.5009405224377"
      ],
      "text/plain": [
       "[1] 20.50094"
      ]
     },
     "metadata": {},
     "output_type": "display_data"
    }
   ],
   "source": [
    "#5) Deflations\n",
    "fast_data <- data %>% filter(!Agent=='Coupled_Strategy')\n",
    "#fast_data <- fast_data %>% filter(!LogCV=='NaN')\n",
    "muTab<-aggregate(fast_data$Deflations, by=list(fast_data$Agent,fast_data$GameNb), FUN=mean)\n",
    "\n",
    "colnames(muTab)<-c(\"Agent\",\"GameNb\",\"Deflations\")\n",
    "H_vec <- c(1:15)\n",
    "for (i in 1:15)\n",
    "{\n",
    "    H_vec[i] <- muTab[which(muTab$Agent==\"Streamed_Strategy\" & muTab$GameNb==i),]$Deflations\n",
    "}\n",
    "M_vec <- c(1:15)\n",
    "for (i in 1:15)\n",
    "{\n",
    "    M_vec[i] <- muTab[which(muTab$Agent==\"Streamed\" & muTab$GameNb==i),]$Deflations\n",
    "}\n",
    "\n",
    "#correlations & RMSE per condition\n",
    "r_def <- cor(H_vec,M_vec,method = \"pearson\")\n",
    "rmse_def <- RMSE(M_vec,H_vec)\n",
    "r_def\n",
    "rmse_def\n",
    "\n",
    "print(\"MS17 comparison\")\n",
    "M2_vec <- c(1:15)\n",
    "for (i in 1:15)\n",
    "{\n",
    "    M2_vec[i] <- muTab[which(muTab$Agent==\"MS17\" & muTab$GameNb==i),]$Deflations\n",
    "}\n",
    "\n",
    "r2_def <- cor(H_vec,M2_vec,method = \"pearson\")\n",
    "rmse2_def <- RMSE(M2_vec,H_vec)\n",
    "r2_def\n",
    "rmse2_def\n",
    "\n",
    "print(\"Blending comparison\")\n",
    "M3_vec <- c(1:15)\n",
    "for (i in 1:15)\n",
    "{\n",
    "    M3_vec[i] <- muTab[which(muTab$Agent==\"Coupled\" & muTab$GameNb==i),]$Deflations\n",
    "}\n",
    "\n",
    "r3_def <- cor(H_vec,M3_vec,method = \"pearson\")\n",
    "rmse3_def <- RMSE(M3_vec,H_vec)\n",
    "r3_def\n",
    "rmse3_def"
   ]
  },
  {
   "cell_type": "code",
   "execution_count": 13,
   "metadata": {},
   "outputs": [
    {
     "data": {
      "text/html": [
       "0.931187271632856"
      ],
      "text/latex": [
       "0.931187271632856"
      ],
      "text/markdown": [
       "0.931187271632856"
      ],
      "text/plain": [
       "[1] 0.9311873"
      ]
     },
     "metadata": {},
     "output_type": "display_data"
    },
    {
     "data": {
      "text/html": [
       "11.6302882781167"
      ],
      "text/latex": [
       "11.6302882781167"
      ],
      "text/markdown": [
       "11.6302882781167"
      ],
      "text/plain": [
       "[1] 11.63029"
      ]
     },
     "metadata": {},
     "output_type": "display_data"
    },
    {
     "name": "stdout",
     "output_type": "stream",
     "text": [
      "[1] \"MS17 comparison\"\n"
     ]
    },
    {
     "data": {
      "text/html": [
       "0.957034102511392"
      ],
      "text/latex": [
       "0.957034102511392"
      ],
      "text/markdown": [
       "0.957034102511392"
      ],
      "text/plain": [
       "[1] 0.9570341"
      ]
     },
     "metadata": {},
     "output_type": "display_data"
    },
    {
     "data": {
      "text/html": [
       "21.1509525279479"
      ],
      "text/latex": [
       "21.1509525279479"
      ],
      "text/markdown": [
       "21.1509525279479"
      ],
      "text/plain": [
       "[1] 21.15095"
      ]
     },
     "metadata": {},
     "output_type": "display_data"
    },
    {
     "name": "stdout",
     "output_type": "stream",
     "text": [
      "[1] \"Blending comparison\"\n"
     ]
    },
    {
     "data": {
      "text/html": [
       "0.602747049515118"
      ],
      "text/latex": [
       "0.602747049515118"
      ],
      "text/markdown": [
       "0.602747049515118"
      ],
      "text/plain": [
       "[1] 0.602747"
      ]
     },
     "metadata": {},
     "output_type": "display_data"
    },
    {
     "data": {
      "text/html": [
       "16.5591140247282"
      ],
      "text/latex": [
       "16.5591140247282"
      ],
      "text/markdown": [
       "16.5591140247282"
      ],
      "text/plain": [
       "[1] 16.55911"
      ]
     },
     "metadata": {},
     "output_type": "display_data"
    }
   ],
   "source": [
    "#6) Misses\n",
    "fast_data <- data %>% filter(!Agent=='Coupled_Strategy')\n",
    "#fast_data <- fast_data %>% filter(!LogCV=='NaN')\n",
    "muTab<-aggregate(fast_data$Misses, by=list(fast_data$Agent,fast_data$GameNb), FUN=mean)\n",
    "\n",
    "colnames(muTab)<-c(\"Agent\",\"GameNb\",\"Misses\")\n",
    "H_vec <- c(1:15)\n",
    "for (i in 1:15)\n",
    "{\n",
    "    H_vec[i] <- muTab[which(muTab$Agent==\"Streamed_Strategy\" & muTab$GameNb==i),]$Misses\n",
    "}\n",
    "M_vec <- c(1:15)\n",
    "for (i in 1:15)\n",
    "{\n",
    "    M_vec[i] <- muTab[which(muTab$Agent==\"Streamed\" & muTab$GameNb==i),]$Misses\n",
    "}\n",
    "\n",
    "#correlations & RMSE per condition\n",
    "r_mis <- cor(H_vec,M_vec,method = \"pearson\")\n",
    "rmse_mis <- RMSE(M_vec,H_vec)\n",
    "r_mis\n",
    "rmse_mis\n",
    "\n",
    "print(\"MS17 comparison\")\n",
    "M2_vec <- c(1:15)\n",
    "for (i in 1:15)\n",
    "{\n",
    "    M2_vec[i] <- muTab[which(muTab$Agent==\"MS17\" & muTab$GameNb==i),]$Misses\n",
    "}\n",
    "\n",
    "r2_mis <- cor(H_vec,M2_vec,method = \"pearson\")\n",
    "rmse2_mis <- RMSE(M2_vec,H_vec)\n",
    "r2_mis\n",
    "rmse2_mis\n",
    "\n",
    "print(\"Blending comparison\")\n",
    "M3_vec <- c(1:15)\n",
    "for (i in 1:15)\n",
    "{\n",
    "    M3_vec[i] <- muTab[which(muTab$Agent==\"Coupled\" & muTab$GameNb==i),]$Misses\n",
    "}\n",
    "\n",
    "r3_mis <- cor(H_vec,M3_vec,method = \"pearson\")\n",
    "rmse3_mis <- RMSE(M3_vec,H_vec)\n",
    "r3_mis\n",
    "rmse3_mis"
   ]
  },
  {
   "cell_type": "code",
   "execution_count": 14,
   "metadata": {},
   "outputs": [
    {
     "data": {
      "text/html": [
       "0.669280759215337"
      ],
      "text/latex": [
       "0.669280759215337"
      ],
      "text/markdown": [
       "0.669280759215337"
      ],
      "text/plain": [
       "[1] 0.6692808"
      ]
     },
     "metadata": {},
     "output_type": "display_data"
    },
    {
     "data": {
      "text/html": [
       "27.4222459520418"
      ],
      "text/latex": [
       "27.4222459520418"
      ],
      "text/markdown": [
       "27.4222459520418"
      ],
      "text/plain": [
       "[1] 27.42225"
      ]
     },
     "metadata": {},
     "output_type": "display_data"
    },
    {
     "name": "stdout",
     "output_type": "stream",
     "text": [
      "[1] \"MS17 comparison\"\n"
     ]
    },
    {
     "data": {
      "text/html": [
       "0.845805112359749"
      ],
      "text/latex": [
       "0.845805112359749"
      ],
      "text/markdown": [
       "0.845805112359749"
      ],
      "text/plain": [
       "[1] 0.8458051"
      ]
     },
     "metadata": {},
     "output_type": "display_data"
    },
    {
     "data": {
      "text/html": [
       "40.3607486410008"
      ],
      "text/latex": [
       "40.3607486410008"
      ],
      "text/markdown": [
       "40.3607486410008"
      ],
      "text/plain": [
       "[1] 40.36075"
      ]
     },
     "metadata": {},
     "output_type": "display_data"
    },
    {
     "name": "stdout",
     "output_type": "stream",
     "text": [
      "[1] \"Blending comparison\"\n"
     ]
    },
    {
     "data": {
      "text/html": [
       "-0.114744210096988"
      ],
      "text/latex": [
       "-0.114744210096988"
      ],
      "text/markdown": [
       "-0.114744210096988"
      ],
      "text/plain": [
       "[1] -0.1147442"
      ]
     },
     "metadata": {},
     "output_type": "display_data"
    },
    {
     "data": {
      "text/html": [
       "102.693860023377"
      ],
      "text/latex": [
       "102.693860023377"
      ],
      "text/markdown": [
       "102.693860023377"
      ],
      "text/plain": [
       "[1] 102.6939"
      ]
     },
     "metadata": {},
     "output_type": "display_data"
    }
   ],
   "source": [
    "#7) Shot periodicity\n",
    "fast_data <- data %>% filter(!Agent=='Coupled_Strategy')\n",
    "fast_data <- fast_data %>% filter(!ShotPer=='NaN')\n",
    "muTab<-aggregate(fast_data$ShotPer, by=list(fast_data$Agent,fast_data$GameNb), FUN=mean)\n",
    "\n",
    "colnames(muTab)<-c(\"Agent\",\"GameNb\",\"ShotPer\")\n",
    "H_vec <- c(1:15)\n",
    "for (i in 1:15)\n",
    "{\n",
    "    H_vec[i] <- muTab[which(muTab$Agent==\"Streamed_Strategy\" & muTab$GameNb==i),]$ShotPer\n",
    "}\n",
    "M_vec <- c(1:15)\n",
    "for (i in 1:15)\n",
    "{\n",
    "    M_vec[i] <- muTab[which(muTab$Agent==\"Streamed\" & muTab$GameNb==i),]$ShotPer\n",
    "}\n",
    "\n",
    "#correlations & RMSE per condition\n",
    "r_per <- cor(H_vec,M_vec,method = \"pearson\")\n",
    "rmse_per <- RMSE(M_vec,H_vec)\n",
    "r_per\n",
    "rmse_per\n",
    "\n",
    "print(\"MS17 comparison\")\n",
    "M2_vec <- c(1:15)\n",
    "for (i in 1:15)\n",
    "{\n",
    "    M2_vec[i] <- muTab[which(muTab$Agent==\"MS17\" & muTab$GameNb==i),]$ShotPer\n",
    "}\n",
    "\n",
    "r2_per <- cor(H_vec,M2_vec,method = \"pearson\")\n",
    "rmse2_per <- RMSE(M2_vec,H_vec)\n",
    "r2_per\n",
    "rmse2_per\n",
    "\n",
    "print(\"Blending comparison\")\n",
    "M3_vec <- c(1:15)\n",
    "for (i in 1:15)\n",
    "{\n",
    "    M3_vec[i] <- muTab[which(muTab$Agent==\"Coupled\" & muTab$GameNb==i),]$ShotPer\n",
    "}\n",
    "\n",
    "r3_per <- cor(H_vec,M3_vec,method = \"pearson\")\n",
    "rmse3_per <- RMSE(M3_vec,H_vec)\n",
    "r3_per\n",
    "rmse3_per"
   ]
  },
  {
   "cell_type": "code",
   "execution_count": 15,
   "metadata": {},
   "outputs": [
    {
     "data": {
      "text/html": [
       "0.670971719665615"
      ],
      "text/latex": [
       "0.670971719665615"
      ],
      "text/markdown": [
       "0.670971719665615"
      ],
      "text/plain": [
       "[1] 0.6709717"
      ]
     },
     "metadata": {},
     "output_type": "display_data"
    },
    {
     "data": {
      "text/html": [
       "0.0558390832288634"
      ],
      "text/latex": [
       "0.0558390832288634"
      ],
      "text/markdown": [
       "0.0558390832288634"
      ],
      "text/plain": [
       "[1] 0.05583908"
      ]
     },
     "metadata": {},
     "output_type": "display_data"
    },
    {
     "name": "stdout",
     "output_type": "stream",
     "text": [
      "[1] \"MS17 comparison\"\n"
     ]
    },
    {
     "data": {
      "text/html": [
       "0.0376829751596673"
      ],
      "text/latex": [
       "0.0376829751596673"
      ],
      "text/markdown": [
       "0.0376829751596673"
      ],
      "text/plain": [
       "[1] 0.03768298"
      ]
     },
     "metadata": {},
     "output_type": "display_data"
    },
    {
     "data": {
      "text/html": [
       "0.225339046673564"
      ],
      "text/latex": [
       "0.225339046673564"
      ],
      "text/markdown": [
       "0.225339046673564"
      ],
      "text/plain": [
       "[1] 0.225339"
      ]
     },
     "metadata": {},
     "output_type": "display_data"
    },
    {
     "name": "stdout",
     "output_type": "stream",
     "text": [
      "[1] \"Blending comparison\"\n"
     ]
    },
    {
     "data": {
      "text/html": [
       "0.637175979242418"
      ],
      "text/latex": [
       "0.637175979242418"
      ],
      "text/markdown": [
       "0.637175979242418"
      ],
      "text/plain": [
       "[1] 0.637176"
      ]
     },
     "metadata": {},
     "output_type": "display_data"
    },
    {
     "data": {
      "text/html": [
       "0.0487969422989935"
      ],
      "text/latex": [
       "0.0487969422989935"
      ],
      "text/markdown": [
       "0.0487969422989935"
      ],
      "text/plain": [
       "[1] 0.04879694"
      ]
     },
     "metadata": {},
     "output_type": "display_data"
    }
   ],
   "source": [
    "#8) Shot regularity\n",
    "fast_data <- data %>% filter(!Agent=='Coupled_Strategy')\n",
    "fast_data <- fast_data %>% filter(!ShotReg=='NaN')\n",
    "muTab<-aggregate(fast_data$ShotReg, by=list(fast_data$Agent,fast_data$GameNb), FUN=mean)\n",
    "\n",
    "colnames(muTab)<-c(\"Agent\",\"GameNb\",\"ShotReg\")\n",
    "H_vec <- c(1:15)\n",
    "for (i in 1:15)\n",
    "{\n",
    "    H_vec[i] <- muTab[which(muTab$Agent==\"Streamed_Strategy\" & muTab$GameNb==i),]$ShotReg\n",
    "}\n",
    "M_vec <- c(1:15)\n",
    "for (i in 1:15)\n",
    "{\n",
    "    M_vec[i] <- muTab[which(muTab$Agent==\"Streamed\" & muTab$GameNb==i),]$ShotReg\n",
    "}\n",
    "\n",
    "#correlations & RMSE per condition\n",
    "r_reg <- cor(H_vec,M_vec,method = \"pearson\")\n",
    "rmse_reg <- RMSE(M_vec,H_vec)\n",
    "r_reg\n",
    "rmse_reg\n",
    "\n",
    "print(\"MS17 comparison\")\n",
    "M2_vec <- c(1:15)\n",
    "for (i in 1:15)\n",
    "{\n",
    "    M2_vec[i] <- muTab[which(muTab$Agent==\"MS17\" & muTab$GameNb==i),]$ShotReg\n",
    "}\n",
    "\n",
    "r2_reg <- cor(H_vec,M2_vec,method = \"pearson\")\n",
    "rmse2_reg <- RMSE(M2_vec,H_vec)\n",
    "r2_reg\n",
    "rmse2_reg\n",
    "\n",
    "print(\"Blending comparison\")\n",
    "M3_vec <- c(1:15)\n",
    "for (i in 1:15)\n",
    "{\n",
    "    M3_vec[i] <- muTab[which(muTab$Agent==\"Coupled\" & muTab$GameNb==i),]$ShotReg\n",
    "}\n",
    "\n",
    "r3_reg <- cor(H_vec,M3_vec,method = \"pearson\")\n",
    "rmse3_reg <- RMSE(M3_vec,H_vec)\n",
    "r3_reg\n",
    "rmse3_reg"
   ]
  },
  {
   "cell_type": "code",
   "execution_count": 16,
   "metadata": {},
   "outputs": [
    {
     "data": {
      "text/html": [
       "-0.15560528164357"
      ],
      "text/latex": [
       "-0.15560528164357"
      ],
      "text/markdown": [
       "-0.15560528164357"
      ],
      "text/plain": [
       "[1] -0.1556053"
      ]
     },
     "metadata": {},
     "output_type": "display_data"
    },
    {
     "data": {
      "text/html": [
       "0.021007864960752"
      ],
      "text/latex": [
       "0.021007864960752"
      ],
      "text/markdown": [
       "0.021007864960752"
      ],
      "text/plain": [
       "[1] 0.02100786"
      ]
     },
     "metadata": {},
     "output_type": "display_data"
    },
    {
     "name": "stdout",
     "output_type": "stream",
     "text": [
      "[1] \"MS17 comparison\"\n"
     ]
    },
    {
     "data": {
      "text/html": [
       "0.424158624796964"
      ],
      "text/latex": [
       "0.424158624796964"
      ],
      "text/markdown": [
       "0.424158624796964"
      ],
      "text/plain": [
       "[1] 0.4241586"
      ]
     },
     "metadata": {},
     "output_type": "display_data"
    },
    {
     "data": {
      "text/html": [
       "0.0357653070242005"
      ],
      "text/latex": [
       "0.0357653070242005"
      ],
      "text/markdown": [
       "0.0357653070242005"
      ],
      "text/plain": [
       "[1] 0.03576531"
      ]
     },
     "metadata": {},
     "output_type": "display_data"
    },
    {
     "name": "stdout",
     "output_type": "stream",
     "text": [
      "[1] \"Blending comparison\"\n"
     ]
    },
    {
     "data": {
      "text/html": [
       "-0.460496148122628"
      ],
      "text/latex": [
       "-0.460496148122628"
      ],
      "text/markdown": [
       "-0.460496148122628"
      ],
      "text/plain": [
       "[1] -0.4604961"
      ]
     },
     "metadata": {},
     "output_type": "display_data"
    },
    {
     "data": {
      "text/html": [
       "0.237412674105315"
      ],
      "text/latex": [
       "0.237412674105315"
      ],
      "text/markdown": [
       "0.237412674105315"
      ],
      "text/plain": [
       "[1] 0.2374127"
      ]
     },
     "metadata": {},
     "output_type": "display_data"
    }
   ],
   "source": [
    "#9) Right regularity\n",
    "fast_data <- data %>% filter(!Agent=='Coupled_Strategy')\n",
    "fast_data <- fast_data %>% filter(!RightReg=='NaN')\n",
    "muTab<-aggregate(fast_data$RightReg, by=list(fast_data$Agent,fast_data$GameNb), FUN=mean)\n",
    "\n",
    "colnames(muTab)<-c(\"Agent\",\"GameNb\",\"RightReg\")\n",
    "H_vec <- c(1:15)\n",
    "for (i in 1:15)\n",
    "{\n",
    "    H_vec[i] <- muTab[which(muTab$Agent==\"Streamed_Strategy\" & muTab$GameNb==i),]$RightReg\n",
    "}\n",
    "M_vec <- c(1:15)\n",
    "for (i in 1:15)\n",
    "{\n",
    "    M_vec[i] <- muTab[which(muTab$Agent==\"Streamed\" & muTab$GameNb==i),]$RightReg\n",
    "}\n",
    "\n",
    "#correlations & RMSE per condition\n",
    "r_Rreg <- cor(H_vec,M_vec,method = \"pearson\")\n",
    "rmse_Rreg <- RMSE(M_vec,H_vec)\n",
    "r_Rreg\n",
    "rmse_Rreg\n",
    "\n",
    "print(\"MS17 comparison\")\n",
    "M2_vec <- c(1:15)\n",
    "for (i in 1:15)\n",
    "{\n",
    "    M2_vec[i] <- muTab[which(muTab$Agent==\"MS17\" & muTab$GameNb==i),]$RightReg\n",
    "}\n",
    "\n",
    "r2_Rreg <- cor(H_vec,M2_vec,method = \"pearson\")\n",
    "rmse2_Rreg <- RMSE(M2_vec,H_vec)\n",
    "r2_Rreg\n",
    "rmse2_Rreg\n",
    "\n",
    "print(\"Blending comparison\")\n",
    "M3_vec <- c(1:15)\n",
    "for (i in 1:15)\n",
    "{\n",
    "    M3_vec[i] <- muTab[which(muTab$Agent==\"Coupled\" & muTab$GameNb==i),]$RightReg\n",
    "}\n",
    "\n",
    "r3_Rreg <- cor(H_vec,M3_vec,method = \"pearson\")\n",
    "rmse3_Rreg <- RMSE(M3_vec,H_vec)\n",
    "r3_Rreg\n",
    "rmse3_Rreg"
   ]
  },
  {
   "cell_type": "markdown",
   "metadata": {},
   "source": [
    "# Compute RMSE for slow-shooting data"
   ]
  },
  {
   "cell_type": "code",
   "execution_count": 17,
   "metadata": {},
   "outputs": [
    {
     "data": {
      "text/html": [
       "<table class=\"dataframe\">\n",
       "<caption>A data.frame: 10 × 12</caption>\n",
       "<thead>\n",
       "\t<tr><th></th><th scope=col>Agent</th><th scope=col>subject</th><th scope=col>GameNb</th><th scope=col>Deflations</th><th scope=col>Misses</th><th scope=col>Resets</th><th scope=col>ShotReg</th><th scope=col>Entropy</th><th scope=col>LogCV</th><th scope=col>ShotPer</th><th scope=col>RightReg</th><th scope=col>Score</th></tr>\n",
       "\t<tr><th></th><th scope=col>&lt;chr&gt;</th><th scope=col>&lt;chr&gt;</th><th scope=col>&lt;int&gt;</th><th scope=col>&lt;dbl&gt;</th><th scope=col>&lt;dbl&gt;</th><th scope=col>&lt;dbl&gt;</th><th scope=col>&lt;dbl&gt;</th><th scope=col>&lt;dbl&gt;</th><th scope=col>&lt;dbl&gt;</th><th scope=col>&lt;dbl&gt;</th><th scope=col>&lt;dbl&gt;</th><th scope=col>&lt;dbl&gt;</th></tr>\n",
       "</thead>\n",
       "<tbody>\n",
       "\t<tr><th scope=row>1</th><td>Coupled</td><td>model_6592528450_1</td><td> 1</td><td>96</td><td> 63</td><td>3</td><td>0.2749406</td><td>2.938219</td><td>-0.9013436</td><td>480</td><td>0.1648576</td><td> 256</td></tr>\n",
       "\t<tr><th scope=row>2</th><td>Coupled</td><td>model_6592528450_1</td><td> 2</td><td>22</td><td>107</td><td>2</td><td>0.4118143</td><td>2.848877</td><td>-1.3099846</td><td>512</td><td>0.3605711</td><td> 888</td></tr>\n",
       "\t<tr><th scope=row>3</th><td>Coupled</td><td>model_6592528450_1</td><td> 3</td><td>15</td><td> 57</td><td>0</td><td>0.4774791</td><td>2.329245</td><td>-1.7767653</td><td>496</td><td>0.5570642</td><td>1486</td></tr>\n",
       "\t<tr><th scope=row>4</th><td>Coupled</td><td>model_6592528450_1</td><td> 4</td><td>12</td><td> 42</td><td>0</td><td>0.5218977</td><td>2.325269</td><td>-1.4100751</td><td>496</td><td>0.4901174</td><td>1718</td></tr>\n",
       "\t<tr><th scope=row>5</th><td>Coupled</td><td>model_6592528450_1</td><td> 5</td><td>15</td><td> 46</td><td>2</td><td>0.5070372</td><td>2.358500</td><td>-1.3223362</td><td>496</td><td>0.5357312</td><td>1508</td></tr>\n",
       "\t<tr><th scope=row>6</th><td>Coupled</td><td>model_6592528450_1</td><td> 6</td><td>20</td><td> 51</td><td>0</td><td>0.4869756</td><td>2.249658</td><td>-1.4796068</td><td>496</td><td>0.5706765</td><td>1198</td></tr>\n",
       "\t<tr><th scope=row>7</th><td>Coupled</td><td>model_6592528450_1</td><td> 7</td><td>19</td><td> 63</td><td>0</td><td>0.4852614</td><td>2.230736</td><td>-1.8959978</td><td>496</td><td>0.5582201</td><td>1174</td></tr>\n",
       "\t<tr><th scope=row>8</th><td>Coupled</td><td>model_6592528450_1</td><td> 8</td><td>16</td><td> 52</td><td>1</td><td>0.4792956</td><td>2.216584</td><td>-1.3405258</td><td>496</td><td>0.5472919</td><td>1398</td></tr>\n",
       "\t<tr><th scope=row>9</th><td>Coupled</td><td>model_6592528450_1</td><td> 9</td><td> 9</td><td> 23</td><td>1</td><td>0.4849891</td><td>1.970430</td><td>-1.5390336</td><td>496</td><td>0.5619010</td><td>1872</td></tr>\n",
       "\t<tr><th scope=row>10</th><td>Coupled</td><td>model_6592528450_1</td><td>10</td><td>17</td><td> 62</td><td>0</td><td>0.4301834</td><td>2.693542</td><td>-1.6470724</td><td>496</td><td>0.5445266</td><td>1078</td></tr>\n",
       "</tbody>\n",
       "</table>\n"
      ],
      "text/latex": [
       "A data.frame: 10 × 12\n",
       "\\begin{tabular}{r|llllllllllll}\n",
       "  & Agent & subject & GameNb & Deflations & Misses & Resets & ShotReg & Entropy & LogCV & ShotPer & RightReg & Score\\\\\n",
       "  & <chr> & <chr> & <int> & <dbl> & <dbl> & <dbl> & <dbl> & <dbl> & <dbl> & <dbl> & <dbl> & <dbl>\\\\\n",
       "\\hline\n",
       "\t1 & Coupled & model\\_6592528450\\_1 &  1 & 96 &  63 & 3 & 0.2749406 & 2.938219 & -0.9013436 & 480 & 0.1648576 &  256\\\\\n",
       "\t2 & Coupled & model\\_6592528450\\_1 &  2 & 22 & 107 & 2 & 0.4118143 & 2.848877 & -1.3099846 & 512 & 0.3605711 &  888\\\\\n",
       "\t3 & Coupled & model\\_6592528450\\_1 &  3 & 15 &  57 & 0 & 0.4774791 & 2.329245 & -1.7767653 & 496 & 0.5570642 & 1486\\\\\n",
       "\t4 & Coupled & model\\_6592528450\\_1 &  4 & 12 &  42 & 0 & 0.5218977 & 2.325269 & -1.4100751 & 496 & 0.4901174 & 1718\\\\\n",
       "\t5 & Coupled & model\\_6592528450\\_1 &  5 & 15 &  46 & 2 & 0.5070372 & 2.358500 & -1.3223362 & 496 & 0.5357312 & 1508\\\\\n",
       "\t6 & Coupled & model\\_6592528450\\_1 &  6 & 20 &  51 & 0 & 0.4869756 & 2.249658 & -1.4796068 & 496 & 0.5706765 & 1198\\\\\n",
       "\t7 & Coupled & model\\_6592528450\\_1 &  7 & 19 &  63 & 0 & 0.4852614 & 2.230736 & -1.8959978 & 496 & 0.5582201 & 1174\\\\\n",
       "\t8 & Coupled & model\\_6592528450\\_1 &  8 & 16 &  52 & 1 & 0.4792956 & 2.216584 & -1.3405258 & 496 & 0.5472919 & 1398\\\\\n",
       "\t9 & Coupled & model\\_6592528450\\_1 &  9 &  9 &  23 & 1 & 0.4849891 & 1.970430 & -1.5390336 & 496 & 0.5619010 & 1872\\\\\n",
       "\t10 & Coupled & model\\_6592528450\\_1 & 10 & 17 &  62 & 0 & 0.4301834 & 2.693542 & -1.6470724 & 496 & 0.5445266 & 1078\\\\\n",
       "\\end{tabular}\n"
      ],
      "text/markdown": [
       "\n",
       "A data.frame: 10 × 12\n",
       "\n",
       "| <!--/--> | Agent &lt;chr&gt; | subject &lt;chr&gt; | GameNb &lt;int&gt; | Deflations &lt;dbl&gt; | Misses &lt;dbl&gt; | Resets &lt;dbl&gt; | ShotReg &lt;dbl&gt; | Entropy &lt;dbl&gt; | LogCV &lt;dbl&gt; | ShotPer &lt;dbl&gt; | RightReg &lt;dbl&gt; | Score &lt;dbl&gt; |\n",
       "|---|---|---|---|---|---|---|---|---|---|---|---|---|\n",
       "| 1 | Coupled | model_6592528450_1 |  1 | 96 |  63 | 3 | 0.2749406 | 2.938219 | -0.9013436 | 480 | 0.1648576 |  256 |\n",
       "| 2 | Coupled | model_6592528450_1 |  2 | 22 | 107 | 2 | 0.4118143 | 2.848877 | -1.3099846 | 512 | 0.3605711 |  888 |\n",
       "| 3 | Coupled | model_6592528450_1 |  3 | 15 |  57 | 0 | 0.4774791 | 2.329245 | -1.7767653 | 496 | 0.5570642 | 1486 |\n",
       "| 4 | Coupled | model_6592528450_1 |  4 | 12 |  42 | 0 | 0.5218977 | 2.325269 | -1.4100751 | 496 | 0.4901174 | 1718 |\n",
       "| 5 | Coupled | model_6592528450_1 |  5 | 15 |  46 | 2 | 0.5070372 | 2.358500 | -1.3223362 | 496 | 0.5357312 | 1508 |\n",
       "| 6 | Coupled | model_6592528450_1 |  6 | 20 |  51 | 0 | 0.4869756 | 2.249658 | -1.4796068 | 496 | 0.5706765 | 1198 |\n",
       "| 7 | Coupled | model_6592528450_1 |  7 | 19 |  63 | 0 | 0.4852614 | 2.230736 | -1.8959978 | 496 | 0.5582201 | 1174 |\n",
       "| 8 | Coupled | model_6592528450_1 |  8 | 16 |  52 | 1 | 0.4792956 | 2.216584 | -1.3405258 | 496 | 0.5472919 | 1398 |\n",
       "| 9 | Coupled | model_6592528450_1 |  9 |  9 |  23 | 1 | 0.4849891 | 1.970430 | -1.5390336 | 496 | 0.5619010 | 1872 |\n",
       "| 10 | Coupled | model_6592528450_1 | 10 | 17 |  62 | 0 | 0.4301834 | 2.693542 | -1.6470724 | 496 | 0.5445266 | 1078 |\n",
       "\n"
      ],
      "text/plain": [
       "   Agent   subject            GameNb Deflations Misses Resets ShotReg  \n",
       "1  Coupled model_6592528450_1  1     96          63    3      0.2749406\n",
       "2  Coupled model_6592528450_1  2     22         107    2      0.4118143\n",
       "3  Coupled model_6592528450_1  3     15          57    0      0.4774791\n",
       "4  Coupled model_6592528450_1  4     12          42    0      0.5218977\n",
       "5  Coupled model_6592528450_1  5     15          46    2      0.5070372\n",
       "6  Coupled model_6592528450_1  6     20          51    0      0.4869756\n",
       "7  Coupled model_6592528450_1  7     19          63    0      0.4852614\n",
       "8  Coupled model_6592528450_1  8     16          52    1      0.4792956\n",
       "9  Coupled model_6592528450_1  9      9          23    1      0.4849891\n",
       "10 Coupled model_6592528450_1 10     17          62    0      0.4301834\n",
       "   Entropy  LogCV      ShotPer RightReg  Score\n",
       "1  2.938219 -0.9013436 480     0.1648576  256 \n",
       "2  2.848877 -1.3099846 512     0.3605711  888 \n",
       "3  2.329245 -1.7767653 496     0.5570642 1486 \n",
       "4  2.325269 -1.4100751 496     0.4901174 1718 \n",
       "5  2.358500 -1.3223362 496     0.5357312 1508 \n",
       "6  2.249658 -1.4796068 496     0.5706765 1198 \n",
       "7  2.230736 -1.8959978 496     0.5582201 1174 \n",
       "8  2.216584 -1.3405258 496     0.5472919 1398 \n",
       "9  1.970430 -1.5390336 496     0.5619010 1872 \n",
       "10 2.693542 -1.6470724 496     0.5445266 1078 "
      ]
     },
     "metadata": {},
     "output_type": "display_data"
    }
   ],
   "source": [
    "#RMSE function definition\n",
    "RMSE = function(mod, obs){\n",
    "  sqrt(mean((mod - obs)^2))\n",
    "}\n",
    "\n",
    "#Filtered data set\n",
    "slow_data <- data %>% filter(!Agent=='Streamed_Strategy')\n",
    "head(slow_data,10)"
   ]
  },
  {
   "cell_type": "code",
   "execution_count": 18,
   "metadata": {},
   "outputs": [
    {
     "data": {
      "text/html": [
       "0.970611674148882"
      ],
      "text/latex": [
       "0.970611674148882"
      ],
      "text/markdown": [
       "0.970611674148882"
      ],
      "text/plain": [
       "[1] 0.9706117"
      ]
     },
     "metadata": {},
     "output_type": "display_data"
    },
    {
     "data": {
      "text/html": [
       "131.216158102131"
      ],
      "text/latex": [
       "131.216158102131"
      ],
      "text/markdown": [
       "131.216158102131"
      ],
      "text/plain": [
       "[1] 131.2162"
      ]
     },
     "metadata": {},
     "output_type": "display_data"
    },
    {
     "name": "stdout",
     "output_type": "stream",
     "text": [
      "[1] \"MS17 comparison\"\n"
     ]
    },
    {
     "data": {
      "text/html": [
       "0.973586770133972"
      ],
      "text/latex": [
       "0.973586770133972"
      ],
      "text/markdown": [
       "0.973586770133972"
      ],
      "text/plain": [
       "[1] 0.9735868"
      ]
     },
     "metadata": {},
     "output_type": "display_data"
    },
    {
     "data": {
      "text/html": [
       "283.591015902156"
      ],
      "text/latex": [
       "283.591015902156"
      ],
      "text/markdown": [
       "283.591015902156"
      ],
      "text/plain": [
       "[1] 283.591"
      ]
     },
     "metadata": {},
     "output_type": "display_data"
    },
    {
     "name": "stdout",
     "output_type": "stream",
     "text": [
      "[1] \"Hybrid comparison\"\n"
     ]
    },
    {
     "data": {
      "text/html": [
       "0.887413303755814"
      ],
      "text/latex": [
       "0.887413303755814"
      ],
      "text/markdown": [
       "0.887413303755814"
      ],
      "text/plain": [
       "[1] 0.8874133"
      ]
     },
     "metadata": {},
     "output_type": "display_data"
    },
    {
     "data": {
      "text/html": [
       "1194.1757611621"
      ],
      "text/latex": [
       "1194.1757611621"
      ],
      "text/markdown": [
       "1194.1757611621"
      ],
      "text/plain": [
       "[1] 1194.176"
      ]
     },
     "metadata": {},
     "output_type": "display_data"
    }
   ],
   "source": [
    "#1) Performance results\n",
    "muTab<-aggregate(slow_data$Score, by=list(slow_data$Agent,slow_data$GameNb), FUN=mean)\n",
    "colnames(muTab)<-c(\"Agent\",\"GameNb\",\"Score\")\n",
    "H_vec <- c(1:15)\n",
    "for (i in 1:15)\n",
    "{\n",
    "    H_vec[i] <- muTab[which(muTab$Agent==\"Coupled_Strategy\" & muTab$GameNb==i),]$Score\n",
    "}\n",
    "M_vec <- c(1:15)\n",
    "for (i in 1:15)\n",
    "{\n",
    "    M_vec[i] <- muTab[which(muTab$Agent==\"Coupled\" & muTab$GameNb==i),]$Score\n",
    "}\n",
    "\n",
    "#correlations & RMSE per condition\n",
    "r_perf <- cor(H_vec,M_vec,method = \"pearson\")\n",
    "rmse_perf <- RMSE(M_vec,H_vec)\n",
    "r_perf\n",
    "rmse_perf\n",
    "\n",
    "print(\"MS17 comparison\")\n",
    "M2_vec <- c(1:15)\n",
    "for (i in 1:15)\n",
    "{\n",
    "    M2_vec[i] <- muTab[which(muTab$Agent==\"MS17\" & muTab$GameNb==i),]$Score\n",
    "}\n",
    "\n",
    "r2_perf <- cor(H_vec,M2_vec,method = \"pearson\")\n",
    "rmse2_perf <- RMSE(M2_vec,H_vec)\n",
    "r2_perf\n",
    "rmse2_perf\n",
    "\n",
    "print(\"Hybrid comparison\")\n",
    "M3_vec <- c(1:15)\n",
    "for (i in 1:15)\n",
    "{\n",
    "    M3_vec[i] <- muTab[which(muTab$Agent==\"Streamed\" & muTab$GameNb==i),]$Score\n",
    "}\n",
    "\n",
    "r3_perf <- cor(H_vec,M3_vec,method = \"pearson\")\n",
    "rmse3_perf <- RMSE(M3_vec,H_vec)\n",
    "r3_perf\n",
    "rmse3_perf"
   ]
  },
  {
   "cell_type": "code",
   "execution_count": 19,
   "metadata": {},
   "outputs": [
    {
     "data": {
      "text/html": [
       "0.928518092024582"
      ],
      "text/latex": [
       "0.928518092024582"
      ],
      "text/markdown": [
       "0.928518092024582"
      ],
      "text/plain": [
       "[1] 0.9285181"
      ]
     },
     "metadata": {},
     "output_type": "display_data"
    },
    {
     "data": {
      "text/html": [
       "0.187863167613125"
      ],
      "text/latex": [
       "0.187863167613125"
      ],
      "text/markdown": [
       "0.187863167613125"
      ],
      "text/plain": [
       "[1] 0.1878632"
      ]
     },
     "metadata": {},
     "output_type": "display_data"
    },
    {
     "name": "stdout",
     "output_type": "stream",
     "text": [
      "[1] \"MS17 comparison\"\n"
     ]
    },
    {
     "data": {
      "text/html": [
       "0.520658756562333"
      ],
      "text/latex": [
       "0.520658756562333"
      ],
      "text/markdown": [
       "0.520658756562333"
      ],
      "text/plain": [
       "[1] 0.5206588"
      ]
     },
     "metadata": {},
     "output_type": "display_data"
    },
    {
     "data": {
      "text/html": [
       "0.295262209147702"
      ],
      "text/latex": [
       "0.295262209147702"
      ],
      "text/markdown": [
       "0.295262209147702"
      ],
      "text/plain": [
       "[1] 0.2952622"
      ]
     },
     "metadata": {},
     "output_type": "display_data"
    },
    {
     "name": "stdout",
     "output_type": "stream",
     "text": [
      "[1] \"Hybrid comparison\"\n"
     ]
    },
    {
     "data": {
      "text/html": [
       "0.577137840023334"
      ],
      "text/latex": [
       "0.577137840023334"
      ],
      "text/markdown": [
       "0.577137840023334"
      ],
      "text/plain": [
       "[1] 0.5771378"
      ]
     },
     "metadata": {},
     "output_type": "display_data"
    },
    {
     "data": {
      "text/html": [
       "0.101409741346124"
      ],
      "text/latex": [
       "0.101409741346124"
      ],
      "text/markdown": [
       "0.101409741346124"
      ],
      "text/plain": [
       "[1] 0.1014097"
      ]
     },
     "metadata": {},
     "output_type": "display_data"
    }
   ],
   "source": [
    "#2) Entropy\n",
    "slow_data <- data %>% filter(!Agent=='Streamed_Strategy')\n",
    "slow_data <- slow_data %>% filter(!Entropy=='NaN')\n",
    "muTab<-aggregate(slow_data$Entropy, by=list(slow_data$Agent,slow_data$GameNb), FUN=mean)\n",
    "\n",
    "colnames(muTab)<-c(\"Agent\",\"GameNb\",\"Entropy\")\n",
    "H_vec <- c(1:15)\n",
    "for (i in 1:15)\n",
    "{\n",
    "    H_vec[i] <- muTab[which(muTab$Agent==\"Coupled_Strategy\" & muTab$GameNb==i),]$Entropy\n",
    "}\n",
    "M_vec <- c(1:15)\n",
    "for (i in 1:15)\n",
    "{\n",
    "    M_vec[i] <- muTab[which(muTab$Agent==\"Coupled\" & muTab$GameNb==i),]$Entropy\n",
    "}\n",
    "\n",
    "#correlations & RMSE per condition\n",
    "r_ent <- cor(H_vec,M_vec,method = \"pearson\")\n",
    "rmse_ent <- RMSE(M_vec,H_vec)\n",
    "r_ent\n",
    "rmse_ent\n",
    "\n",
    "print(\"MS17 comparison\")\n",
    "M2_vec <- c(1:15)\n",
    "for (i in 1:15)\n",
    "{\n",
    "    M2_vec[i] <- muTab[which(muTab$Agent==\"MS17\" & muTab$GameNb==i),]$Entropy\n",
    "}\n",
    "\n",
    "r2_ent <- cor(H_vec,M2_vec,method = \"pearson\")\n",
    "rmse2_ent <- RMSE(M2_vec,H_vec)\n",
    "r2_ent\n",
    "rmse2_ent\n",
    "\n",
    "print(\"Hybrid comparison\")\n",
    "M3_vec <- c(1:15)\n",
    "for (i in 1:15)\n",
    "{\n",
    "    M3_vec[i] <- muTab[which(muTab$Agent==\"Streamed\" & muTab$GameNb==i),]$Entropy\n",
    "}\n",
    "\n",
    "r3_ent <- cor(H_vec,M3_vec,method = \"pearson\")\n",
    "rmse3_ent <- RMSE(M3_vec,H_vec)\n",
    "r3_ent\n",
    "rmse3_ent"
   ]
  },
  {
   "cell_type": "code",
   "execution_count": 20,
   "metadata": {},
   "outputs": [
    {
     "data": {
      "text/html": [
       "0.852939306545512"
      ],
      "text/latex": [
       "0.852939306545512"
      ],
      "text/markdown": [
       "0.852939306545512"
      ],
      "text/plain": [
       "[1] 0.8529393"
      ]
     },
     "metadata": {},
     "output_type": "display_data"
    },
    {
     "data": {
      "text/html": [
       "0.106451422356134"
      ],
      "text/latex": [
       "0.106451422356134"
      ],
      "text/markdown": [
       "0.106451422356134"
      ],
      "text/plain": [
       "[1] 0.1064514"
      ]
     },
     "metadata": {},
     "output_type": "display_data"
    },
    {
     "name": "stdout",
     "output_type": "stream",
     "text": [
      "[1] \"MS17 comparison\"\n"
     ]
    },
    {
     "data": {
      "text/html": [
       "-0.720839330198374"
      ],
      "text/latex": [
       "-0.720839330198374"
      ],
      "text/markdown": [
       "-0.720839330198374"
      ],
      "text/plain": [
       "[1] -0.7208393"
      ]
     },
     "metadata": {},
     "output_type": "display_data"
    },
    {
     "data": {
      "text/html": [
       "0.319402569277265"
      ],
      "text/latex": [
       "0.319402569277265"
      ],
      "text/markdown": [
       "0.319402569277265"
      ],
      "text/plain": [
       "[1] 0.3194026"
      ]
     },
     "metadata": {},
     "output_type": "display_data"
    },
    {
     "name": "stdout",
     "output_type": "stream",
     "text": [
      "[1] \"Hybrid comparison\"\n"
     ]
    },
    {
     "data": {
      "text/html": [
       "0.65504564689444"
      ],
      "text/latex": [
       "0.65504564689444"
      ],
      "text/markdown": [
       "0.65504564689444"
      ],
      "text/plain": [
       "[1] 0.6550456"
      ]
     },
     "metadata": {},
     "output_type": "display_data"
    },
    {
     "data": {
      "text/html": [
       "0.155265083320299"
      ],
      "text/latex": [
       "0.155265083320299"
      ],
      "text/markdown": [
       "0.155265083320299"
      ],
      "text/plain": [
       "[1] 0.1552651"
      ]
     },
     "metadata": {},
     "output_type": "display_data"
    }
   ],
   "source": [
    "#3) Log CV ISI\n",
    "slow_data <- data %>% filter(!Agent=='Streamed_Strategy')\n",
    "slow_data <- slow_data %>% filter(!LogCV=='NaN')\n",
    "muTab<-aggregate(slow_data$LogCV, by=list(slow_data$Agent,slow_data$GameNb), FUN=mean)\n",
    "\n",
    "colnames(muTab)<-c(\"Agent\",\"GameNb\",\"LogCV\")\n",
    "H_vec <- c(1:15)\n",
    "for (i in 1:15)\n",
    "{\n",
    "    H_vec[i] <- muTab[which(muTab$Agent==\"Coupled_Strategy\" & muTab$GameNb==i),]$LogCV\n",
    "}\n",
    "M_vec <- c(1:15)\n",
    "for (i in 1:15)\n",
    "{\n",
    "    M_vec[i] <- muTab[which(muTab$Agent==\"Coupled\" & muTab$GameNb==i),]$LogCV\n",
    "}\n",
    "\n",
    "#correlations & RMSE per condition\n",
    "#print(\"Performance correlations & RMSE\")\n",
    "r_lcv <- cor(H_vec,M_vec,method = \"pearson\")\n",
    "rmse_lcv <- RMSE(M_vec,H_vec)\n",
    "r_lcv\n",
    "rmse_lcv\n",
    "\n",
    "print(\"MS17 comparison\")\n",
    "M2_vec <- c(1:15)\n",
    "for (i in 1:15)\n",
    "{\n",
    "    M2_vec[i] <- muTab[which(muTab$Agent==\"MS17\" & muTab$GameNb==i),]$LogCV\n",
    "}\n",
    "\n",
    "r2_lcv <- cor(H_vec,M2_vec,method = \"pearson\")\n",
    "rmse2_lcv <- RMSE(M2_vec,H_vec)\n",
    "r2_lcv\n",
    "rmse2_lcv\n",
    "\n",
    "print(\"Hybrid comparison\")\n",
    "M3_vec <- c(1:15)\n",
    "for (i in 1:15)\n",
    "{\n",
    "    M3_vec[i] <- muTab[which(muTab$Agent==\"Streamed\" & muTab$GameNb==i),]$LogCV\n",
    "}\n",
    "\n",
    "r3_lcv <- cor(H_vec,M3_vec,method = \"pearson\")\n",
    "rmse3_lcv <- RMSE(M3_vec,H_vec)\n",
    "r3_lcv\n",
    "rmse3_lcv"
   ]
  },
  {
   "cell_type": "code",
   "execution_count": 21,
   "metadata": {},
   "outputs": [
    {
     "data": {
      "text/html": [
       "0.966723554232601"
      ],
      "text/latex": [
       "0.966723554232601"
      ],
      "text/markdown": [
       "0.966723554232601"
      ],
      "text/plain": [
       "[1] 0.9667236"
      ]
     },
     "metadata": {},
     "output_type": "display_data"
    },
    {
     "data": {
      "text/html": [
       "7.97155698274601"
      ],
      "text/latex": [
       "7.97155698274601"
      ],
      "text/markdown": [
       "7.97155698274601"
      ],
      "text/plain": [
       "[1] 7.971557"
      ]
     },
     "metadata": {},
     "output_type": "display_data"
    },
    {
     "name": "stdout",
     "output_type": "stream",
     "text": [
      "[1] \"MS17 comparison\"\n"
     ]
    },
    {
     "data": {
      "text/html": [
       "-0.186939072565439"
      ],
      "text/latex": [
       "-0.186939072565439"
      ],
      "text/markdown": [
       "-0.186939072565439"
      ],
      "text/plain": [
       "[1] -0.1869391"
      ]
     },
     "metadata": {},
     "output_type": "display_data"
    },
    {
     "data": {
      "text/html": [
       "9.24803280320559"
      ],
      "text/latex": [
       "9.24803280320559"
      ],
      "text/markdown": [
       "9.24803280320559"
      ],
      "text/plain": [
       "[1] 9.248033"
      ]
     },
     "metadata": {},
     "output_type": "display_data"
    },
    {
     "name": "stdout",
     "output_type": "stream",
     "text": [
      "[1] \"Hybrid comparison\"\n"
     ]
    },
    {
     "data": {
      "text/html": [
       "0.833619129004941"
      ],
      "text/latex": [
       "0.833619129004941"
      ],
      "text/markdown": [
       "0.833619129004941"
      ],
      "text/plain": [
       "[1] 0.8336191"
      ]
     },
     "metadata": {},
     "output_type": "display_data"
    },
    {
     "data": {
      "text/html": [
       "5.57205429464753"
      ],
      "text/latex": [
       "5.57205429464753"
      ],
      "text/markdown": [
       "5.57205429464753"
      ],
      "text/plain": [
       "[1] 5.572054"
      ]
     },
     "metadata": {},
     "output_type": "display_data"
    }
   ],
   "source": [
    "#4) Resets\n",
    "slow_data <- data %>% filter(!Agent=='Streamed_Strategy')\n",
    "muTab<-aggregate(slow_data$Resets, by=list(slow_data$Agent,slow_data$GameNb), FUN=mean)\n",
    "\n",
    "colnames(muTab)<-c(\"Agent\",\"GameNb\",\"Resets\")\n",
    "H_vec <- c(1:15)\n",
    "for (i in 1:15)\n",
    "{\n",
    "    H_vec[i] <- muTab[which(muTab$Agent==\"Coupled_Strategy\" & muTab$GameNb==i),]$Resets\n",
    "}\n",
    "M_vec <- c(1:15)\n",
    "for (i in 1:15)\n",
    "{\n",
    "    M_vec[i] <- muTab[which(muTab$Agent==\"Coupled\" & muTab$GameNb==i),]$Resets\n",
    "}\n",
    "\n",
    "#correlations & RMSE per condition\n",
    "r_res <- cor(H_vec,M_vec,method = \"pearson\")\n",
    "rmse_res <- RMSE(M_vec,H_vec)\n",
    "r_res\n",
    "rmse_res\n",
    "\n",
    "print(\"MS17 comparison\")\n",
    "M2_vec <- c(1:15)\n",
    "for (i in 1:15)\n",
    "{\n",
    "    M2_vec[i] <- muTab[which(muTab$Agent==\"MS17\" & muTab$GameNb==i),]$Resets\n",
    "}\n",
    "\n",
    "r2_res <- cor(H_vec,M2_vec,method = \"pearson\")\n",
    "rmse2_res <- RMSE(M2_vec,H_vec)\n",
    "r2_res\n",
    "rmse2_res\n",
    "\n",
    "print(\"Hybrid comparison\")\n",
    "M3_vec <- c(1:15)\n",
    "for (i in 1:15)\n",
    "{\n",
    "    M3_vec[i] <- muTab[which(muTab$Agent==\"Streamed\" & muTab$GameNb==i),]$Resets\n",
    "}\n",
    "\n",
    "r3_res <- cor(H_vec,M3_vec,method = \"pearson\")\n",
    "rmse3_res <- RMSE(M3_vec,H_vec)\n",
    "r3_res\n",
    "rmse3_res"
   ]
  },
  {
   "cell_type": "code",
   "execution_count": 22,
   "metadata": {},
   "outputs": [
    {
     "data": {
      "text/html": [
       "0.565608111206359"
      ],
      "text/latex": [
       "0.565608111206359"
      ],
      "text/markdown": [
       "0.565608111206359"
      ],
      "text/plain": [
       "[1] 0.5656081"
      ]
     },
     "metadata": {},
     "output_type": "display_data"
    },
    {
     "data": {
      "text/html": [
       "12.4661757284127"
      ],
      "text/latex": [
       "12.4661757284127"
      ],
      "text/markdown": [
       "12.4661757284127"
      ],
      "text/plain": [
       "[1] 12.46618"
      ]
     },
     "metadata": {},
     "output_type": "display_data"
    },
    {
     "name": "stdout",
     "output_type": "stream",
     "text": [
      "[1] \"MS17 comparison\"\n"
     ]
    },
    {
     "data": {
      "text/html": [
       "0.855195795769013"
      ],
      "text/latex": [
       "0.855195795769013"
      ],
      "text/markdown": [
       "0.855195795769013"
      ],
      "text/plain": [
       "[1] 0.8551958"
      ]
     },
     "metadata": {},
     "output_type": "display_data"
    },
    {
     "data": {
      "text/html": [
       "25.0813921521846"
      ],
      "text/latex": [
       "25.0813921521846"
      ],
      "text/markdown": [
       "25.0813921521846"
      ],
      "text/plain": [
       "[1] 25.08139"
      ]
     },
     "metadata": {},
     "output_type": "display_data"
    },
    {
     "name": "stdout",
     "output_type": "stream",
     "text": [
      "[1] \"Hybrid comparison\"\n"
     ]
    },
    {
     "data": {
      "text/html": [
       "0.702664384118653"
      ],
      "text/latex": [
       "0.702664384118653"
      ],
      "text/markdown": [
       "0.702664384118653"
      ],
      "text/plain": [
       "[1] 0.7026644"
      ]
     },
     "metadata": {},
     "output_type": "display_data"
    },
    {
     "data": {
      "text/html": [
       "17.3986683099119"
      ],
      "text/latex": [
       "17.3986683099119"
      ],
      "text/markdown": [
       "17.3986683099119"
      ],
      "text/plain": [
       "[1] 17.39867"
      ]
     },
     "metadata": {},
     "output_type": "display_data"
    }
   ],
   "source": [
    "#5) Deflations\n",
    "slow_data <- data %>% filter(!Agent=='Streamed_Strategy')\n",
    "muTab<-aggregate(slow_data$Deflations, by=list(slow_data$Agent,slow_data$GameNb), FUN=mean)\n",
    "\n",
    "colnames(muTab)<-c(\"Agent\",\"GameNb\",\"Deflations\")\n",
    "H_vec <- c(1:15)\n",
    "for (i in 1:15)\n",
    "{\n",
    "    H_vec[i] <- muTab[which(muTab$Agent==\"Coupled_Strategy\" & muTab$GameNb==i),]$Deflations\n",
    "}\n",
    "M_vec <- c(1:15)\n",
    "for (i in 1:15)\n",
    "{\n",
    "    M_vec[i] <- muTab[which(muTab$Agent==\"Coupled\" & muTab$GameNb==i),]$Deflations\n",
    "}\n",
    "\n",
    "#correlations & RMSE per condition\n",
    "r_def <- cor(H_vec,M_vec,method = \"pearson\")\n",
    "rmse_def <- RMSE(M_vec,H_vec)\n",
    "r_def\n",
    "rmse_def\n",
    "\n",
    "print(\"MS17 comparison\")\n",
    "M2_vec <- c(1:15)\n",
    "for (i in 1:15)\n",
    "{\n",
    "    M2_vec[i] <- muTab[which(muTab$Agent==\"MS17\" & muTab$GameNb==i),]$Deflations\n",
    "}\n",
    "\n",
    "r2_def <- cor(H_vec,M2_vec,method = \"pearson\")\n",
    "rmse2_def <- RMSE(M2_vec,H_vec)\n",
    "r2_def\n",
    "rmse2_def\n",
    "\n",
    "print(\"Hybrid comparison\")\n",
    "M3_vec <- c(1:15)\n",
    "for (i in 1:15)\n",
    "{\n",
    "    M3_vec[i] <- muTab[which(muTab$Agent==\"Streamed\" & muTab$GameNb==i),]$Deflations\n",
    "}\n",
    "\n",
    "r3_def <- cor(H_vec,M3_vec,method = \"pearson\")\n",
    "rmse3_def <- RMSE(M3_vec,H_vec)\n",
    "r3_def\n",
    "rmse3_def"
   ]
  },
  {
   "cell_type": "code",
   "execution_count": 23,
   "metadata": {},
   "outputs": [
    {
     "data": {
      "text/html": [
       "0.94393502874013"
      ],
      "text/latex": [
       "0.94393502874013"
      ],
      "text/markdown": [
       "0.94393502874013"
      ],
      "text/plain": [
       "[1] 0.943935"
      ]
     },
     "metadata": {},
     "output_type": "display_data"
    },
    {
     "data": {
      "text/html": [
       "11.3349173326275"
      ],
      "text/latex": [
       "11.3349173326275"
      ],
      "text/markdown": [
       "11.3349173326275"
      ],
      "text/plain": [
       "[1] 11.33492"
      ]
     },
     "metadata": {},
     "output_type": "display_data"
    },
    {
     "name": "stdout",
     "output_type": "stream",
     "text": [
      "[1] \"MS17 comparison\"\n"
     ]
    },
    {
     "data": {
      "text/html": [
       "0.802177222500115"
      ],
      "text/latex": [
       "0.802177222500115"
      ],
      "text/markdown": [
       "0.802177222500115"
      ],
      "text/plain": [
       "[1] 0.8021772"
      ]
     },
     "metadata": {},
     "output_type": "display_data"
    },
    {
     "data": {
      "text/html": [
       "42.7558080569666"
      ],
      "text/latex": [
       "42.7558080569666"
      ],
      "text/markdown": [
       "42.7558080569666"
      ],
      "text/plain": [
       "[1] 42.75581"
      ]
     },
     "metadata": {},
     "output_type": "display_data"
    },
    {
     "name": "stdout",
     "output_type": "stream",
     "text": [
      "[1] \"Hybrid comparison\"\n"
     ]
    },
    {
     "data": {
      "text/html": [
       "0.846093665196879"
      ],
      "text/latex": [
       "0.846093665196879"
      ],
      "text/markdown": [
       "0.846093665196879"
      ],
      "text/plain": [
       "[1] 0.8460937"
      ]
     },
     "metadata": {},
     "output_type": "display_data"
    },
    {
     "data": {
      "text/html": [
       "14.4317376271016"
      ],
      "text/latex": [
       "14.4317376271016"
      ],
      "text/markdown": [
       "14.4317376271016"
      ],
      "text/plain": [
       "[1] 14.43174"
      ]
     },
     "metadata": {},
     "output_type": "display_data"
    }
   ],
   "source": [
    "#6) Misses\n",
    "slow_data <- data %>% filter(!Agent=='Streamed_Strategy')\n",
    "muTab<-aggregate(slow_data$Misses, by=list(slow_data$Agent,slow_data$GameNb), FUN=mean)\n",
    "\n",
    "colnames(muTab)<-c(\"Agent\",\"GameNb\",\"Misses\")\n",
    "H_vec <- c(1:15)\n",
    "for (i in 1:15)\n",
    "{\n",
    "    H_vec[i] <- muTab[which(muTab$Agent==\"Coupled_Strategy\" & muTab$GameNb==i),]$Misses\n",
    "}\n",
    "M_vec <- c(1:15)\n",
    "for (i in 1:15)\n",
    "{\n",
    "    M_vec[i] <- muTab[which(muTab$Agent==\"Coupled\" & muTab$GameNb==i),]$Misses\n",
    "}\n",
    "\n",
    "#correlations & RMSE per condition\n",
    "r_mis <- cor(H_vec,M_vec,method = \"pearson\")\n",
    "rmse_mis <- RMSE(M_vec,H_vec)\n",
    "r_mis\n",
    "rmse_mis\n",
    "\n",
    "print(\"MS17 comparison\")\n",
    "M2_vec <- c(1:15)\n",
    "for (i in 1:15)\n",
    "{\n",
    "    M2_vec[i] <- muTab[which(muTab$Agent==\"MS17\" & muTab$GameNb==i),]$Misses\n",
    "}\n",
    "\n",
    "r2_mis <- cor(H_vec,M2_vec,method = \"pearson\")\n",
    "rmse2_mis <- RMSE(M2_vec,H_vec)\n",
    "r2_mis\n",
    "rmse2_mis\n",
    "\n",
    "print(\"Hybrid comparison\")\n",
    "M3_vec <- c(1:15)\n",
    "for (i in 1:15)\n",
    "{\n",
    "    M3_vec[i] <- muTab[which(muTab$Agent==\"Streamed\" & muTab$GameNb==i),]$Misses\n",
    "}\n",
    "\n",
    "r3_mis <- cor(H_vec,M3_vec,method = \"pearson\")\n",
    "rmse3_mis <- RMSE(M3_vec,H_vec)\n",
    "r3_mis\n",
    "rmse3_mis"
   ]
  },
  {
   "cell_type": "code",
   "execution_count": 24,
   "metadata": {},
   "outputs": [
    {
     "data": {
      "text/html": [
       "0.716391124142658"
      ],
      "text/latex": [
       "0.716391124142658"
      ],
      "text/markdown": [
       "0.716391124142658"
      ],
      "text/plain": [
       "[1] 0.7163911"
      ]
     },
     "metadata": {},
     "output_type": "display_data"
    },
    {
     "data": {
      "text/html": [
       "9.61289153844983"
      ],
      "text/latex": [
       "9.61289153844983"
      ],
      "text/markdown": [
       "9.61289153844983"
      ],
      "text/plain": [
       "[1] 9.612892"
      ]
     },
     "metadata": {},
     "output_type": "display_data"
    },
    {
     "name": "stdout",
     "output_type": "stream",
     "text": [
      "[1] \"MS17 comparison\"\n"
     ]
    },
    {
     "data": {
      "text/html": [
       "0.538970979570996"
      ],
      "text/latex": [
       "0.538970979570996"
      ],
      "text/markdown": [
       "0.538970979570996"
      ],
      "text/plain": [
       "[1] 0.538971"
      ]
     },
     "metadata": {},
     "output_type": "display_data"
    },
    {
     "data": {
      "text/html": [
       "72.1210422214684"
      ],
      "text/latex": [
       "72.1210422214684"
      ],
      "text/markdown": [
       "72.1210422214684"
      ],
      "text/plain": [
       "[1] 72.12104"
      ]
     },
     "metadata": {},
     "output_type": "display_data"
    },
    {
     "name": "stdout",
     "output_type": "stream",
     "text": [
      "[1] \"Hybrid comparison\"\n"
     ]
    },
    {
     "data": {
      "text/html": [
       "0.433137315785146"
      ],
      "text/latex": [
       "0.433137315785146"
      ],
      "text/markdown": [
       "0.433137315785146"
      ],
      "text/plain": [
       "[1] 0.4331373"
      ]
     },
     "metadata": {},
     "output_type": "display_data"
    },
    {
     "data": {
      "text/html": [
       "122.898004891527"
      ],
      "text/latex": [
       "122.898004891527"
      ],
      "text/markdown": [
       "122.898004891527"
      ],
      "text/plain": [
       "[1] 122.898"
      ]
     },
     "metadata": {},
     "output_type": "display_data"
    }
   ],
   "source": [
    "#7) Shot periodicity\n",
    "slow_data <- data %>% filter(!Agent=='Streamed_Strategy')\n",
    "slow_data <- slow_data %>% filter(!ShotPer=='NaN')\n",
    "muTab<-aggregate(slow_data$ShotPer, by=list(slow_data$Agent,slow_data$GameNb), FUN=mean)\n",
    "\n",
    "colnames(muTab)<-c(\"Agent\",\"GameNb\",\"ShotPer\")\n",
    "H_vec <- c(1:15)\n",
    "for (i in 1:15)\n",
    "{\n",
    "    H_vec[i] <- muTab[which(muTab$Agent==\"Coupled_Strategy\" & muTab$GameNb==i),]$ShotPer\n",
    "}\n",
    "M_vec <- c(1:15)\n",
    "for (i in 1:15)\n",
    "{\n",
    "    M_vec[i] <- muTab[which(muTab$Agent==\"Coupled\" & muTab$GameNb==i),]$ShotPer\n",
    "}\n",
    "\n",
    "#correlations & RMSE per condition\n",
    "r_per <- cor(H_vec,M_vec,method = \"pearson\")\n",
    "rmse_per <- RMSE(M_vec,H_vec)\n",
    "r_per\n",
    "rmse_per\n",
    "\n",
    "print(\"MS17 comparison\")\n",
    "M2_vec <- c(1:15)\n",
    "for (i in 1:15)\n",
    "{\n",
    "    M2_vec[i] <- muTab[which(muTab$Agent==\"MS17\" & muTab$GameNb==i),]$ShotPer\n",
    "}\n",
    "\n",
    "r2_per <- cor(H_vec,M2_vec,method = \"pearson\")\n",
    "rmse2_per <- RMSE(M2_vec,H_vec)\n",
    "r2_per\n",
    "rmse2_per\n",
    "\n",
    "print(\"Hybrid comparison\")\n",
    "M3_vec <- c(1:15)\n",
    "for (i in 1:15)\n",
    "{\n",
    "    M3_vec[i] <- muTab[which(muTab$Agent==\"Streamed\" & muTab$GameNb==i),]$ShotPer\n",
    "}\n",
    "\n",
    "r3_per <- cor(H_vec,M3_vec,method = \"pearson\")\n",
    "rmse3_per <- RMSE(M3_vec,H_vec)\n",
    "r3_per\n",
    "rmse3_per"
   ]
  },
  {
   "cell_type": "code",
   "execution_count": 25,
   "metadata": {},
   "outputs": [
    {
     "data": {
      "text/html": [
       "0.413410356314347"
      ],
      "text/latex": [
       "0.413410356314347"
      ],
      "text/markdown": [
       "0.413410356314347"
      ],
      "text/plain": [
       "[1] 0.4134104"
      ]
     },
     "metadata": {},
     "output_type": "display_data"
    },
    {
     "data": {
      "text/html": [
       "0.0552468110122045"
      ],
      "text/latex": [
       "0.0552468110122045"
      ],
      "text/markdown": [
       "0.0552468110122045"
      ],
      "text/plain": [
       "[1] 0.05524681"
      ]
     },
     "metadata": {},
     "output_type": "display_data"
    },
    {
     "name": "stdout",
     "output_type": "stream",
     "text": [
      "[1] \"MS17 comparison\"\n"
     ]
    },
    {
     "data": {
      "text/html": [
       "-0.837050751119928"
      ],
      "text/latex": [
       "-0.837050751119928"
      ],
      "text/markdown": [
       "-0.837050751119928"
      ],
      "text/plain": [
       "[1] -0.8370508"
      ]
     },
     "metadata": {},
     "output_type": "display_data"
    },
    {
     "data": {
      "text/html": [
       "0.228894539327066"
      ],
      "text/latex": [
       "0.228894539327066"
      ],
      "text/markdown": [
       "0.228894539327066"
      ],
      "text/plain": [
       "[1] 0.2288945"
      ]
     },
     "metadata": {},
     "output_type": "display_data"
    },
    {
     "name": "stdout",
     "output_type": "stream",
     "text": [
      "[1] \"Hybrid comparison\"\n"
     ]
    },
    {
     "data": {
      "text/html": [
       "0.54289407892048"
      ],
      "text/latex": [
       "0.54289407892048"
      ],
      "text/markdown": [
       "0.54289407892048"
      ],
      "text/plain": [
       "[1] 0.5428941"
      ]
     },
     "metadata": {},
     "output_type": "display_data"
    },
    {
     "data": {
      "text/html": [
       "0.056625719400677"
      ],
      "text/latex": [
       "0.056625719400677"
      ],
      "text/markdown": [
       "0.056625719400677"
      ],
      "text/plain": [
       "[1] 0.05662572"
      ]
     },
     "metadata": {},
     "output_type": "display_data"
    }
   ],
   "source": [
    "#8) Shot regularity\n",
    "slow_data <- data %>% filter(!Agent=='Streamed_Strategy')\n",
    "slow_data <- slow_data %>% filter(!ShotReg=='NaN')\n",
    "muTab<-aggregate(slow_data$ShotReg, by=list(slow_data$Agent,slow_data$GameNb), FUN=mean)\n",
    "\n",
    "colnames(muTab)<-c(\"Agent\",\"GameNb\",\"ShotReg\")\n",
    "H_vec <- c(1:15)\n",
    "for (i in 1:15)\n",
    "{\n",
    "    H_vec[i] <- muTab[which(muTab$Agent==\"Coupled_Strategy\" & muTab$GameNb==i),]$ShotReg\n",
    "}\n",
    "M_vec <- c(1:15)\n",
    "for (i in 1:15)\n",
    "{\n",
    "    M_vec[i] <- muTab[which(muTab$Agent==\"Coupled\" & muTab$GameNb==i),]$ShotReg\n",
    "}\n",
    "\n",
    "#correlations & RMSE per condition\n",
    "r_reg <- cor(H_vec,M_vec,method = \"pearson\")\n",
    "rmse_reg <- RMSE(M_vec,H_vec)\n",
    "r_reg\n",
    "rmse_reg\n",
    "\n",
    "print(\"MS17 comparison\")\n",
    "M2_vec <- c(1:15)\n",
    "for (i in 1:15)\n",
    "{\n",
    "    M2_vec[i] <- muTab[which(muTab$Agent==\"MS17\" & muTab$GameNb==i),]$ShotReg\n",
    "}\n",
    "\n",
    "r2_reg <- cor(H_vec,M2_vec,method = \"pearson\")\n",
    "rmse2_reg <- RMSE(M2_vec,H_vec)\n",
    "r2_reg\n",
    "rmse2_reg\n",
    "\n",
    "print(\"Hybrid comparison\")\n",
    "M3_vec <- c(1:15)\n",
    "for (i in 1:15)\n",
    "{\n",
    "    M3_vec[i] <- muTab[which(muTab$Agent==\"Streamed\" & muTab$GameNb==i),]$ShotReg\n",
    "}\n",
    "\n",
    "r3_reg <- cor(H_vec,M3_vec,method = \"pearson\")\n",
    "rmse3_reg <- RMSE(M3_vec,H_vec)\n",
    "r3_reg\n",
    "rmse3_reg"
   ]
  },
  {
   "cell_type": "code",
   "execution_count": 26,
   "metadata": {},
   "outputs": [
    {
     "data": {
      "text/html": [
       "0.429501897877429"
      ],
      "text/latex": [
       "0.429501897877429"
      ],
      "text/markdown": [
       "0.429501897877429"
      ],
      "text/plain": [
       "[1] 0.4295019"
      ]
     },
     "metadata": {},
     "output_type": "display_data"
    },
    {
     "data": {
      "text/html": [
       "0.0697377734404773"
      ],
      "text/latex": [
       "0.0697377734404773"
      ],
      "text/markdown": [
       "0.0697377734404773"
      ],
      "text/plain": [
       "[1] 0.06973777"
      ]
     },
     "metadata": {},
     "output_type": "display_data"
    },
    {
     "name": "stdout",
     "output_type": "stream",
     "text": [
      "[1] \"MS17 comparison\"\n"
     ]
    },
    {
     "data": {
      "text/html": [
       "-0.559966414720055"
      ],
      "text/latex": [
       "-0.559966414720055"
      ],
      "text/markdown": [
       "-0.559966414720055"
      ],
      "text/plain": [
       "[1] -0.5599664"
      ]
     },
     "metadata": {},
     "output_type": "display_data"
    },
    {
     "data": {
      "text/html": [
       "0.158629358860918"
      ],
      "text/latex": [
       "0.158629358860918"
      ],
      "text/markdown": [
       "0.158629358860918"
      ],
      "text/plain": [
       "[1] 0.1586294"
      ]
     },
     "metadata": {},
     "output_type": "display_data"
    },
    {
     "name": "stdout",
     "output_type": "stream",
     "text": [
      "[1] \"Hybrid comparison\"\n"
     ]
    },
    {
     "data": {
      "text/html": [
       "-0.0486858625648028"
      ],
      "text/latex": [
       "-0.0486858625648028"
      ],
      "text/markdown": [
       "-0.0486858625648028"
      ],
      "text/plain": [
       "[1] -0.04868586"
      ]
     },
     "metadata": {},
     "output_type": "display_data"
    },
    {
     "data": {
      "text/html": [
       "0.17418801438792"
      ],
      "text/latex": [
       "0.17418801438792"
      ],
      "text/markdown": [
       "0.17418801438792"
      ],
      "text/plain": [
       "[1] 0.174188"
      ]
     },
     "metadata": {},
     "output_type": "display_data"
    }
   ],
   "source": [
    "#9) Right regularity\n",
    "slow_data <- data %>% filter(!Agent=='Streamed_Strategy')\n",
    "slow_data <- slow_data %>% filter(!RightReg=='NaN')\n",
    "muTab<-aggregate(slow_data$RightReg, by=list(slow_data$Agent,slow_data$GameNb), FUN=mean)\n",
    "\n",
    "colnames(muTab)<-c(\"Agent\",\"GameNb\",\"RightReg\")\n",
    "H_vec <- c(1:15)\n",
    "for (i in 1:15)\n",
    "{\n",
    "    H_vec[i] <- muTab[which(muTab$Agent==\"Coupled_Strategy\" & muTab$GameNb==i),]$RightReg\n",
    "}\n",
    "M_vec <- c(1:15)\n",
    "for (i in 1:15)\n",
    "{\n",
    "    M_vec[i] <- muTab[which(muTab$Agent==\"Coupled\" & muTab$GameNb==i),]$RightReg\n",
    "}\n",
    "\n",
    "#correlations & RMSE per condition\n",
    "r_Rreg <- cor(H_vec,M_vec,method = \"pearson\")\n",
    "rmse_Rreg <- RMSE(M_vec,H_vec)\n",
    "r_Rreg\n",
    "rmse_Rreg\n",
    "\n",
    "print(\"MS17 comparison\")\n",
    "M2_vec <- c(1:15)\n",
    "for (i in 1:15)\n",
    "{\n",
    "    M2_vec[i] <- muTab[which(muTab$Agent==\"MS17\" & muTab$GameNb==i),]$RightReg\n",
    "}\n",
    "\n",
    "r2_Rreg <- cor(H_vec,M2_vec,method = \"pearson\")\n",
    "rmse2_Rreg <- RMSE(M2_vec,H_vec)\n",
    "r2_Rreg\n",
    "rmse2_Rreg\n",
    "\n",
    "print(\"Hybrid comparison\")\n",
    "M3_vec <- c(1:15)\n",
    "for (i in 1:15)\n",
    "{\n",
    "    M3_vec[i] <- muTab[which(muTab$Agent==\"Streamed\" & muTab$GameNb==i),]$RightReg\n",
    "}\n",
    "\n",
    "r3_Rreg <- cor(H_vec,M3_vec,method = \"pearson\")\n",
    "rmse3_Rreg <- RMSE(M3_vec,H_vec)\n",
    "r3_Rreg\n",
    "rmse3_Rreg"
   ]
  },
  {
   "cell_type": "markdown",
   "metadata": {},
   "source": [
    "# Plot line graphs - Fast-shooting data"
   ]
  },
  {
   "cell_type": "code",
   "execution_count": 27,
   "metadata": {},
   "outputs": [],
   "source": [
    "cur_strategy <- 'Streamed_Strategy'"
   ]
  },
  {
   "cell_type": "code",
   "execution_count": 28,
   "metadata": {},
   "outputs": [
    {
     "name": "stderr",
     "output_type": "stream",
     "text": [
      "Warning message:\n",
      "\"\u001b[1m\u001b[22mUsing `size` aesthetic for lines was deprecated in ggplot2 3.4.0.\n",
      "\u001b[36mi\u001b[39m Please use `linewidth` instead.\"\n",
      "Warning message:\n",
      "\"\u001b[1m\u001b[22mThe `size` argument of `element_line()` is deprecated as of ggplot2 3.4.0.\n",
      "\u001b[36mi\u001b[39m Please use the `linewidth` argument instead.\"\n"
     ]
    },
    {
     "data": {
      "image/png": "[encoded data removed]",
      "text/plain": [
       "plot without title"
      ]
     },
     "metadata": {
      "image/png": {
       "height": 420,
       "width": 420
      }
     },
     "output_type": "display_data"
    }
   ],
   "source": [
    "#Performance\n",
    "fast_data <- data %>% filter(!Agent=='Coupled_Strategy')\n",
    "Shaded <- fast_data %>% filter(Agent==cur_strategy)\n",
    "Hybrid_data <- fast_data %>% filter(Agent=='Streamed')\n",
    "MS17_data <- fast_data %>% filter(Agent=='MS17')\n",
    "coupled_data <- fast_data %>% filter(Agent=='Coupled')\n",
    "\n",
    "ar <- 0.4\n",
    "datac2 <- summarySE(Shaded, measurevar=\"Score\", groupvars=c(\"GameNb\",\"Agent\"))\n",
    "datac3 <- summarySE(Hybrid_data, measurevar=\"Score\", groupvars=c(\"GameNb\",\"Agent\"))\n",
    "datac4 <- summarySE(MS17_data, measurevar=\"Score\", groupvars=c(\"GameNb\",\"Agent\"))\n",
    "datac5 <- summarySE(coupled_data, measurevar=\"Score\", groupvars=c(\"GameNb\",\"Agent\"))\n",
    "\n",
    "p0 <- ggplot(datac2) +  geom_line(aes(x=GameNb, y=Score,colour=Agent),size=1.0) + geom_ribbon(aes(x=GameNb, ymin=Score-sd, ymax=Score+sd, fill=\"Streamed_Strategy\")) +\n",
    "      theme_classic() +\n",
    "      ggtitle(\"Performance\") +\n",
    "      theme(plot.title = element_text(size=40,hjust=0.5,face =\"bold\"),\n",
    "           axis.text = element_text(size = 36,color='black'),\n",
    "           axis.line = element_line(colour = 'black', size = 1),\n",
    "           axis.ticks = element_line(colour = \"black\", size = 1),\n",
    "           strip.text = element_text(size = 42,face =\"bold\",color='black'),\n",
    "           axis.title = element_text( size = 36, face = \"bold\" ),\n",
    "           axis.ticks.length = unit(0.25, \"cm\"),\n",
    "           legend.text = element_text( size = 40),\n",
    "           legend.title = element_text( size = 40),\n",
    "           legend.position = 'none', #change the legend here\n",
    "           aspect.ratio=ar\n",
    "          ) \n",
    "p0 <- p0+ geom_line(data = datac3, aes(x=GameNb, y=Score,color=\"Streamed\"),linewidth=0.6) +\n",
    "      geom_line(data = datac5, aes(x=GameNb, y=Score,color=\"Coupled\"),linewidth=0.6) +\n",
    "      geom_point(data = datac3, color = \"red\", aes(x=GameNb, y=Score), shape=19,size = 3.2) +\n",
    "      geom_point(data = datac5, color = \"blue\", aes(x=GameNb, y=Score), shape=15,size = 3.2) +\n",
    "      guides(color = guide_legend(override.aes = list(size=2))) +\n",
    "      scale_fill_manual(values = alpha(c(\"sandybrown\"), .25), name = \"Variation (SD)\") + \n",
    "      scale_color_manual(values = c(\"blue\",\"red\",\"sienna4\"), name = \"Agent means\",labels=c(\"Coupled Model\",\"Fast Humans\",\"Hybrid Model\")) + \n",
    "      scale_x_continuous(name=\"\", breaks=seq(0,15,5)) +\n",
    "      scale_y_continuous(name=\"Score (Points)\", limits=c(-300, 3500))\n",
    "\n",
    "p0\n",
    "pathFig <- './Figures/Performance_lines.png'\n",
    "ggsave(pathFig,p0,width=10,height=7)"
   ]
  },
  {
   "cell_type": "code",
   "execution_count": 29,
   "metadata": {},
   "outputs": [
    {
     "data": {
      "image/png": "[encoded data removed]",
      "text/plain": [
       "plot without title"
      ]
     },
     "metadata": {
      "image/png": {
       "height": 420,
       "width": 420
      }
     },
     "output_type": "display_data"
    }
   ],
   "source": [
    "#Entropy - Sequential variability\n",
    "fast_data <- data %>% filter(!Agent=='Coupled_Strategy')\n",
    "#print(nrow(fast_data))\n",
    "filtered_data <- fast_data %>% filter(!Entropy=='NaN')\n",
    "#print(nrow(filtered_data))\n",
    "Shaded <- filtered_data %>% filter(Agent==cur_strategy)\n",
    "Hybrid_data <- filtered_data %>% filter(Agent=='Streamed')\n",
    "MS17_data <- filtered_data %>% filter(Agent=='MS17')\n",
    "coupled_data <- filtered_data %>% filter(Agent=='Coupled')\n",
    "\n",
    "datac2 <- summarySE(Shaded, measurevar=\"Entropy\", groupvars=c(\"GameNb\",\"Agent\"))\n",
    "datac3 <-  summarySE(Hybrid_data, measurevar=\"Entropy\", groupvars=c(\"GameNb\",\"Agent\"))\n",
    "datac4 <-  summarySE(MS17_data, measurevar=\"Entropy\", groupvars=c(\"GameNb\",\"Agent\"))\n",
    "datac5 <- summarySE(coupled_data, measurevar=\"Entropy\", groupvars=c(\"GameNb\",\"Agent\"))\n",
    "\n",
    "p1 <- ggplot(datac2) +  geom_line(aes(x=GameNb, y=Entropy,colour=Agent),size=1.0) + geom_ribbon(aes(x=GameNb, ymin=Entropy-sd, ymax=Entropy+sd, fill=\"Streamed_Strategy\")) +\n",
    "      theme_classic() +\n",
    "      ggtitle(\"Sequential variability\") +\n",
    "      theme(plot.title = element_text(size=40,hjust=0.5,face =\"bold\"),\n",
    "           axis.text = element_text(size = 36,color='black'),\n",
    "           axis.line = element_line(colour = 'black', size = 1),\n",
    "           axis.ticks = element_line(colour = \"black\", size = 1),\n",
    "           strip.text = element_text(size = 42,face =\"bold\",color='black'),\n",
    "           axis.title = element_text( size = 36, face = \"bold\" ),\n",
    "           axis.ticks.length = unit(0.25, \"cm\"),\n",
    "           legend.text = element_text( size = 40),\n",
    "           legend.title = element_text( size = 40),\n",
    "           legend.position = 'none', #change the legend here\n",
    "           aspect.ratio=ar\n",
    "          ) \n",
    "p1 <- p1+ geom_line(data = datac3, aes(x=GameNb, y=Entropy,color=\"Streamed\"),linewidth=0.6) +      \n",
    "      geom_line(data = datac5, aes(x=GameNb, y=Entropy,color=\"Coupled\"),linewidth=0.6) +\n",
    "      geom_point(data = datac3, color = \"red\", aes(x=GameNb, y=Entropy), shape=19,size = 3.2) +\n",
    "      geom_point(data = datac5, color = \"blue\", aes(x=GameNb, y=Entropy), shape=15,size = 3.2) +\n",
    "      guides(color = guide_legend(override.aes = list(size=2))) +\n",
    "      scale_fill_manual(values = alpha(c(\"sandybrown\"), .25), name = \"Variation (SD)\") + \n",
    "      scale_color_manual(values = c(\"blue\",\"red\",\"sienna4\"), name = \"Agent means\",labels=c(\"Coupled Model\",\"Fast Humans\",\"Hybrid Model\")) + \n",
    "      scale_x_continuous(name=\"\", breaks=seq(0,15,5)) +\n",
    "      scale_y_continuous(name=\"Entropy (bits)\", limits=c(2.0,4.0))\n",
    "\n",
    "p1\n",
    "pathFig <- './Figures/Entropy_lines.png'\n",
    "ggsave(pathFig,p1,width=10,height=7)"
   ]
  },
  {
   "cell_type": "code",
   "execution_count": 30,
   "metadata": {},
   "outputs": [
    {
     "data": {
      "image/png": "[encoded data removed]",
      "text/plain": [
       "plot without title"
      ]
     },
     "metadata": {
      "image/png": {
       "height": 420,
       "width": 420
      }
     },
     "output_type": "display_data"
    }
   ],
   "source": [
    "#Log CV ISI - Shot timing variability\n",
    "fast_data <- data %>% filter(!Agent=='Coupled_Strategy')\n",
    "#print(nrow(fast_data))\n",
    "filtered_data <- fast_data %>% filter(!LogCV=='NaN')\n",
    "#print(nrow(filtered_data))\n",
    "Shaded <- filtered_data %>% filter(Agent==cur_strategy)\n",
    "Hybrid_data <- filtered_data %>% filter(Agent=='Streamed')\n",
    "MS17_data <- filtered_data %>% filter(Agent=='MS17')\n",
    "coupled_data <- filtered_data %>% filter(Agent=='Coupled')\n",
    "\n",
    "datac2 <- summarySE(Shaded, measurevar=\"LogCV\", groupvars=c(\"GameNb\",\"Agent\"))\n",
    "datac3 <-  summarySE(Hybrid_data, measurevar=\"LogCV\", groupvars=c(\"GameNb\",\"Agent\"))\n",
    "datac4 <-  summarySE(MS17_data, measurevar=\"LogCV\", groupvars=c(\"GameNb\",\"Agent\"))\n",
    "datac5 <- summarySE(coupled_data, measurevar=\"LogCV\", groupvars=c(\"GameNb\",\"Agent\"))\n",
    "\n",
    "p2 <- ggplot(datac2) +  geom_line(aes(x=GameNb, y=LogCV,colour=Agent),size=1.0) + geom_ribbon(aes(x=GameNb, ymin=LogCV-sd, ymax=LogCV+sd, fill=\"Streamed_Strategy\")) +\n",
    "      theme_classic() +\n",
    "      ggtitle(\"Shot timing variability\") +\n",
    "      theme(plot.title = element_text(size=40,hjust=0.7,face =\"bold\"),\n",
    "           axis.text = element_text(size = 36,color='black'),\n",
    "           axis.line = element_line(colour = 'black', size = 1),\n",
    "           axis.ticks = element_line(colour = \"black\", size = 1),\n",
    "           strip.text = element_text(size = 42,face =\"bold\",color='black'),\n",
    "           axis.title = element_text( size = 36, face = \"bold\" ),\n",
    "           axis.ticks.length = unit(0.25, \"cm\"),\n",
    "           legend.text = element_text( size = 40),\n",
    "           legend.title = element_text( size = 40),\n",
    "           legend.position = 'none', #change the legend here\n",
    "           aspect.ratio=ar\n",
    "          ) \n",
    "p2 <- p2+ geom_line(data = datac3, aes(x=GameNb, y=LogCV,color=\"Streamed\"),linewidth=0.6) +\n",
    "      geom_line(data = datac5, aes(x=GameNb, y=LogCV,color=\"Coupled\"),linewidth=0.6) +\n",
    "      geom_point(data = datac3, color = \"red\", aes(x=GameNb, y=LogCV), shape=19,size = 3.2) +\n",
    "      geom_point(data = datac5, color = \"blue\", aes(x=GameNb, y=LogCV), shape=15,size = 3.2) +\n",
    "      guides(color = guide_legend(override.aes = list(size=2))) +\n",
    "      scale_fill_manual(values = alpha(c(\"sandybrown\"), .25), name = \"Variation (SD)\") + \n",
    "      scale_color_manual(values = c(\"blue\",\"red\",\"sienna4\"), name = \"Agent means\",labels=c(\"Coupled Model\",\"Fast Humans\",\"Hybrid Model\")) + \n",
    "      scale_x_continuous(name=\"\", breaks=seq(0,15,5)) +\n",
    "      scale_y_continuous(name=\"Log CV ISI\", limits=c(-2.0,0.5))\n",
    "\n",
    "p2\n",
    "pathFig <- './Figures/LogCV_lines.png'\n",
    "ggsave(pathFig,p2,width=10,height=7)"
   ]
  },
  {
   "cell_type": "code",
   "execution_count": 31,
   "metadata": {},
   "outputs": [
    {
     "data": {
      "image/png": "[encoded data removed]",
      "text/plain": [
       "plot without title"
      ]
     },
     "metadata": {
      "image/png": {
       "height": 420,
       "width": 420
      }
     },
     "output_type": "display_data"
    }
   ],
   "source": [
    "#Resets\n",
    "fast_data <- data %>% filter(!Agent=='Coupled_Strategy')\n",
    "Shaded <- fast_data %>% filter(Agent==cur_strategy)\n",
    "Hybrid_data <- fast_data %>% filter(Agent=='Streamed')\n",
    "MS17_data <- fast_data %>% filter(Agent=='MS17')\n",
    "coupled_data <- fast_data %>% filter(Agent=='Coupled')\n",
    "\n",
    "datac2 <- summarySE(Shaded, measurevar=\"Resets\", groupvars=c(\"GameNb\",\"Agent\"))\n",
    "datac3 <-  summarySE(Hybrid_data, measurevar=\"Resets\", groupvars=c(\"GameNb\",\"Agent\"))\n",
    "datac4 <-  summarySE(MS17_data, measurevar=\"Resets\", groupvars=c(\"GameNb\",\"Agent\"))\n",
    "datac5 <- summarySE(coupled_data, measurevar=\"Resets\", groupvars=c(\"GameNb\",\"Agent\"))\n",
    "\n",
    "p3 <- ggplot(datac2) +  geom_line(aes(x=GameNb, y=Resets,colour=Agent),size=1.0) + geom_ribbon(aes(x=GameNb, ymin=Resets-sd, ymax=Resets+sd, fill=\"Streamed_Strategy\")) +\n",
    "      theme_classic() +\n",
    "      ggtitle(\"Resets\") +\n",
    "      theme(plot.title = element_text(size=40,hjust=0.5,face =\"bold\"),\n",
    "           axis.text = element_text(size = 36,color='black'),\n",
    "           axis.line = element_line(colour = 'black', size = 1),\n",
    "           axis.ticks = element_line(colour = \"black\", size = 1),\n",
    "           strip.text = element_text(size = 42,face =\"bold\",color='black'),\n",
    "           axis.title = element_text( size = 36, face = \"bold\" ),\n",
    "           axis.ticks.length = unit(0.25, \"cm\"),\n",
    "           legend.text = element_text( size = 40),\n",
    "           legend.title = element_text( size = 40),\n",
    "           legend.position = 'none', #change the legend here\n",
    "           aspect.ratio=ar\n",
    "          ) \n",
    "p3 <- p3+ geom_line(data = datac3, aes(x=GameNb, y=Resets,color=\"Streamed\"),linewidth=0.6) +\n",
    "      geom_line(data = datac5, aes(x=GameNb, y=Resets,color=\"Coupled\"),linewidth=0.6) +\n",
    "      geom_point(data = datac3, color = \"red\", aes(x=GameNb, y=Resets), shape=19,size = 3.2) +\n",
    "      geom_point(data = datac5, color = \"blue\", aes(x=GameNb, y=Resets), shape=15,size = 3.2) +\n",
    "      guides(color = guide_legend(override.aes = list(size=2))) +\n",
    "      scale_fill_manual(values = alpha(c(\"sandybrown\"), .25), name = \"Variation (SD)\") + \n",
    "      scale_color_manual(values = c(\"blue\",\"red\",\"sienna4\"), name = \"Agent means\",labels=c(\"Coupled Model\",\"Fast Humans\",\"Hybrid Model\")) + \n",
    "      scale_x_continuous(name=\"\", breaks=seq(0,15,5)) +\n",
    "      scale_y_continuous(name=\"Reset count\", limits=c(-20,60))\n",
    "\n",
    "p3\n",
    "pathFig <- './Figures/Resets_lines.png'\n",
    "ggsave(pathFig,p3,width=10,height=7)"
   ]
  },
  {
   "cell_type": "code",
   "execution_count": 32,
   "metadata": {},
   "outputs": [
    {
     "data": {
      "image/png": "[encoded data removed]",
      "text/plain": [
       "plot without title"
      ]
     },
     "metadata": {
      "image/png": {
       "height": 420,
       "width": 420
      }
     },
     "output_type": "display_data"
    }
   ],
   "source": [
    "#Deflations\n",
    "fast_data <- data %>% filter(!Agent=='Coupled_Strategy')\n",
    "Shaded <- fast_data %>% filter(Agent==cur_strategy)\n",
    "Hybrid_data <- fast_data %>% filter(Agent=='Streamed')\n",
    "MS17_data <- fast_data %>% filter(Agent=='MS17')\n",
    "coupled_data <- fast_data %>% filter(Agent=='Coupled')\n",
    "\n",
    "datac2 <- summarySE(Shaded, measurevar=\"Deflations\", groupvars=c(\"GameNb\",\"Agent\"))\n",
    "datac3 <-  summarySE(Hybrid_data, measurevar=\"Deflations\", groupvars=c(\"GameNb\",\"Agent\"))\n",
    "datac4 <-  summarySE(MS17_data, measurevar=\"Deflations\", groupvars=c(\"GameNb\",\"Agent\"))\n",
    "datac5 <- summarySE(coupled_data, measurevar=\"Deflations\", groupvars=c(\"GameNb\",\"Agent\"))\n",
    "\n",
    "p4 <- ggplot(datac2) +  geom_line(aes(x=GameNb, y=Deflations,colour=Agent),size=1.0) + geom_ribbon(aes(x=GameNb, ymin=Deflations-sd, ymax=Deflations+sd, fill=\"Streamed_Strategy\")) +\n",
    "      theme_classic() +\n",
    "      ggtitle(\"Deflations\") +\n",
    "      theme(plot.title = element_text(size=40,hjust=0.5,face =\"bold\"),\n",
    "           axis.text = element_text(size = 36,color='black'),\n",
    "           axis.line = element_line(colour = 'black', size = 1),\n",
    "           axis.ticks = element_line(colour = \"black\", size = 1),\n",
    "           strip.text = element_text(size = 42,face =\"bold\",color='black'),\n",
    "           axis.title = element_text( size = 36, face = \"bold\" ),\n",
    "           axis.ticks.length = unit(0.25, \"cm\"),\n",
    "           legend.text = element_text( size = 40),\n",
    "           legend.title = element_text( size = 40),\n",
    "           legend.position = 'none', #change the legend here\n",
    "           aspect.ratio=ar\n",
    "          ) \n",
    "p4 <- p4+ geom_line(data = datac3, aes(x=GameNb, y=Deflations,color=\"Streamed\"),linewidth=0.6) +\n",
    "      geom_line(data = datac5, aes(x=GameNb, y=Deflations,color=\"Coupled\"),linewidth=0.6) +\n",
    "      geom_point(data = datac3, color = \"red\", aes(x=GameNb, y=Deflations), shape=19,size = 3.2) +\n",
    "      geom_point(data = datac5, color = \"blue\", aes(x=GameNb, y=Deflations), shape=15,size = 3.2) +\n",
    "      guides(color = guide_legend(override.aes = list(size=2))) +\n",
    "      scale_fill_manual(values = alpha(c(\"sandybrown\"), .25), name = \"Variation (SD)\") + \n",
    "      scale_color_manual(values = c(\"blue\",\"red\",\"sienna4\"), name = \"Agent means\",labels=c(\"Coupled Model\",\"Fast Humans\",\"Hybrid Model\")) + \n",
    "      scale_x_continuous(name=\"\", breaks=seq(0,15,5)) +\n",
    "      scale_y_continuous(name=\"Deflation count\", limits=c(0,100))\n",
    "\n",
    "p4\n",
    "pathFig <- './Figures/Deflations_lines.png'\n",
    "ggsave(pathFig,p4,width=10,height=7)"
   ]
  },
  {
   "cell_type": "code",
   "execution_count": 33,
   "metadata": {},
   "outputs": [
    {
     "data": {
      "image/png": "[encoded data removed]",
      "text/plain": [
       "plot without title"
      ]
     },
     "metadata": {
      "image/png": {
       "height": 420,
       "width": 420
      }
     },
     "output_type": "display_data"
    }
   ],
   "source": [
    "#Misses\n",
    "fast_data <- data %>% filter(!Agent=='Coupled_Strategy')\n",
    "Shaded <- fast_data %>% filter(Agent==cur_strategy)\n",
    "Hybrid_data <- fast_data %>% filter(Agent=='Streamed')\n",
    "MS17_data <- fast_data %>% filter(Agent=='MS17')\n",
    "coupled_data <- fast_data %>% filter(Agent=='Coupled')\n",
    "\n",
    "datac2 <- summarySE(Shaded, measurevar=\"Misses\", groupvars=c(\"GameNb\",\"Agent\"))\n",
    "datac3 <-  summarySE(Hybrid_data, measurevar=\"Misses\", groupvars=c(\"GameNb\",\"Agent\"))\n",
    "datac4 <-  summarySE(MS17_data, measurevar=\"Misses\", groupvars=c(\"GameNb\",\"Agent\"))\n",
    "datac5 <- summarySE(coupled_data, measurevar=\"Misses\", groupvars=c(\"GameNb\",\"Agent\"))\n",
    "\n",
    "p5 <- ggplot(datac2) +  geom_line(aes(x=GameNb, y=Misses,colour=Agent),size=1.0) + geom_ribbon(aes(x=GameNb, ymin=Misses-sd, ymax=Misses+sd, fill=\"Streamed_Strategy\")) +\n",
    "      theme_classic() +\n",
    "      ggtitle(\"Misses\") +\n",
    "      theme(plot.title = element_text(size=40,hjust=0.5,face =\"bold\"),\n",
    "           axis.text = element_text(size = 36,color='black'),\n",
    "           axis.line = element_line(colour = 'black', size = 1),\n",
    "           axis.ticks = element_line(colour = \"black\", size = 1),\n",
    "           strip.text = element_text(size = 42,face =\"bold\",color='black'),\n",
    "           axis.title = element_text( size = 36, face = \"bold\" ),\n",
    "           axis.ticks.length = unit(0.25, \"cm\"),\n",
    "           legend.text = element_text( size = 40),\n",
    "           legend.title = element_text( size = 40),\n",
    "           legend.position = 'none', #change the legend here\n",
    "           aspect.ratio=ar\n",
    "          ) \n",
    "p5 <- p5+ geom_line(data = datac3, aes(x=GameNb, y=Misses,color=\"Streamed\"),linewidth=0.6) +\n",
    "      geom_line(data = datac5, aes(x=GameNb, y=Misses,color=\"Coupled\"),linewidth=0.6) +\n",
    "      geom_point(data = datac3, color = \"red\", aes(x=GameNb, y=Misses), shape=19,size = 3.2) +\n",
    "      geom_point(data = datac5, color = \"blue\", aes(x=GameNb, y=Misses), shape=15,size = 3.2) +\n",
    "      guides(color = guide_legend(override.aes = list(size=2))) +\n",
    "      scale_fill_manual(values = alpha(c(\"sandybrown\"), .25), name = \"Variation (SD)\") + \n",
    "      scale_color_manual(values = c(\"blue\",\"red\",\"sienna4\"), name = \"Agent means\",labels=c(\"Coupled Model\",\"Fast Humans\",\"Hybrid Model\")) + \n",
    "      scale_x_continuous(name=\"\", breaks=seq(0,15,5)) +\n",
    "      scale_y_continuous(name=\"Miss count\", limits=c(10,160))\n",
    "\n",
    "p5\n",
    "pathFig <- './Figures/Misses_lines.png'\n",
    "ggsave(pathFig,p5,width=10,height=7)"
   ]
  },
  {
   "cell_type": "code",
   "execution_count": 34,
   "metadata": {},
   "outputs": [
    {
     "data": {
      "image/png": "[encoded data removed]",
      "text/plain": [
       "plot without title"
      ]
     },
     "metadata": {
      "image/png": {
       "height": 420,
       "width": 420
      }
     },
     "output_type": "display_data"
    }
   ],
   "source": [
    "#Shot periodicity\n",
    "fast_data <- data %>% filter(!Agent=='Coupled_Strategy')\n",
    "#print(nrow(fast_data))\n",
    "filtered_data <- fast_data %>% filter(!ShotPer=='NaN')\n",
    "#print(nrow(filtered_data))\n",
    "Shaded <- filtered_data %>% filter(Agent==cur_strategy)\n",
    "Hybrid_data <- filtered_data %>% filter(Agent=='Streamed')\n",
    "MS17_data <- filtered_data %>% filter(Agent=='MS17')\n",
    "coupled_data <- filtered_data %>% filter(Agent=='Coupled')\n",
    "\n",
    "datac2 <- summarySE(Shaded, measurevar=\"ShotPer\", groupvars=c(\"GameNb\",\"Agent\"))\n",
    "datac3 <-  summarySE(Hybrid_data, measurevar=\"ShotPer\", groupvars=c(\"GameNb\",\"Agent\"))\n",
    "datac4 <-  summarySE(MS17_data, measurevar=\"ShotPer\", groupvars=c(\"GameNb\",\"Agent\"))\n",
    "datac5 <- summarySE(coupled_data, measurevar=\"ShotPer\", groupvars=c(\"GameNb\",\"Agent\"))\n",
    "\n",
    "p6 <- ggplot(datac2) +  geom_line(aes(x=GameNb, y=ShotPer,colour=Agent),size=1.0) + geom_ribbon(aes(x=GameNb, ymin=ShotPer-sd, ymax=ShotPer+sd, fill=\"Streamed_Strategy\")) +\n",
    "      theme_classic() +\n",
    "      ggtitle(\"Shot Periodicity\") +\n",
    "      theme(plot.title = element_text(size=40,hjust=0.5,face =\"bold\"),\n",
    "           axis.text = element_text(size = 36,color='black'),\n",
    "           axis.line = element_line(colour = 'black', size = 1),\n",
    "           axis.ticks = element_line(colour = \"black\", size = 1),\n",
    "           strip.text = element_text(size = 42,face =\"bold\",color='black'),\n",
    "           axis.title = element_text( size = 36, face = \"bold\" ),\n",
    "           axis.ticks.length = unit(0.25, \"cm\"),\n",
    "           legend.text = element_text( size = 40),\n",
    "           legend.title = element_text( size = 40),\n",
    "           legend.position = 'none', #change the legend here\n",
    "           aspect.ratio=ar\n",
    "          ) \n",
    "p6 <- p6+ geom_line(data = datac3, aes(x=GameNb, y=ShotPer,color=\"Streamed\"),linewidth=0.6) +\n",
    "      geom_line(data = datac5, aes(x=GameNb, y=ShotPer,color=\"Coupled\"),linewidth=0.6) +\n",
    "      geom_point(data = datac3, color = \"red\", aes(x=GameNb, y=ShotPer), shape=19,size = 3.2) +\n",
    "      geom_point(data = datac5, color = \"blue\", aes(x=GameNb, y=ShotPer), shape=15,size = 3.2) +\n",
    "      guides(color = guide_legend(override.aes = list(size=2))) +\n",
    "      scale_fill_manual(values = alpha(c(\"sandybrown\"), .25), name = \"Variation (SD)\") + \n",
    "      scale_color_manual(values = c(\"blue\",\"red\",\"sienna4\"), name = \"Agent means\",labels=c(\"Coupled Model\",\"Fast Humans\",\"Hybrid Model\")) + \n",
    "      scale_x_continuous(name=\"Game Number\", breaks=seq(0,15,5)) +\n",
    "      scale_y_continuous(name=\"Periodicity (ms)\", limits=c(0,700))\n",
    "\n",
    "p6\n",
    "pathFig <- './Figures/ShotPeriodicity_lines.png'\n",
    "ggsave(pathFig,p6,width=10,height=7)"
   ]
  },
  {
   "cell_type": "code",
   "execution_count": 35,
   "metadata": {},
   "outputs": [
    {
     "data": {
      "image/png": "[encoded data removed]",
      "text/plain": [
       "plot without title"
      ]
     },
     "metadata": {
      "image/png": {
       "height": 420,
       "width": 420
      }
     },
     "output_type": "display_data"
    }
   ],
   "source": [
    "#Shot regularity\n",
    "fast_data <- data %>% filter(!Agent=='Coupled_Strategy')\n",
    "#print(nrow(fast_data))\n",
    "filtered_data <- fast_data %>% filter(!ShotReg=='NaN')\n",
    "#print(nrow(filtered_data))\n",
    "Shaded <- filtered_data %>% filter(Agent==cur_strategy)\n",
    "Hybrid_data <- filtered_data %>% filter(Agent=='Streamed')\n",
    "MS17_data <- filtered_data %>% filter(Agent=='MS17')\n",
    "coupled_data <- filtered_data %>% filter(Agent=='Coupled')\n",
    "\n",
    "datac2 <- summarySE(Shaded, measurevar=\"ShotReg\", groupvars=c(\"GameNb\",\"Agent\"))\n",
    "datac3 <-  summarySE(Hybrid_data, measurevar=\"ShotReg\", groupvars=c(\"GameNb\",\"Agent\"))\n",
    "datac4 <-  summarySE(MS17_data, measurevar=\"ShotReg\", groupvars=c(\"GameNb\",\"Agent\"))\n",
    "datac5 <- summarySE(coupled_data, measurevar=\"ShotReg\", groupvars=c(\"GameNb\",\"Agent\"))\n",
    "\n",
    "p7 <- ggplot(datac2) +  geom_line(aes(x=GameNb, y=ShotReg,colour=Agent),size=1.0) + geom_ribbon(aes(x=GameNb, ymin=ShotReg-sd, ymax=ShotReg+sd, fill=\"Streamed_Strategy\")) +\n",
    "      theme_classic() +\n",
    "      ggtitle(\"Shot Regularity\") +\n",
    "      theme(plot.title = element_text(size=40,hjust=0.5,face =\"bold\"),\n",
    "           axis.text = element_text(size = 36,color='black'),\n",
    "           axis.line = element_line(colour = 'black', size = 1),\n",
    "           axis.ticks = element_line(colour = \"black\", size = 1),\n",
    "           strip.text = element_text(size = 42,face =\"bold\",color='black'),\n",
    "           axis.title = element_text( size = 36, face = \"bold\" ),\n",
    "           axis.ticks.length = unit(0.25, \"cm\"),\n",
    "           legend.text = element_text( size = 40),\n",
    "           legend.title = element_text( size = 40),\n",
    "           legend.position = 'none', #change the legend here\n",
    "           aspect.ratio=ar\n",
    "          ) \n",
    "p7 <- p7+ geom_line(data = datac3, aes(x=GameNb, y=ShotReg,color=\"Streamed\"),linewidth=0.6) +\n",
    "      geom_line(data = datac5, aes(x=GameNb, y=ShotReg,color=\"Coupled\"),linewidth=0.6) +\n",
    "      geom_point(data = datac3, color = \"red\", aes(x=GameNb, y=ShotReg), shape=19,size = 3.2) +\n",
    "      geom_point(data = datac5, color = \"blue\", aes(x=GameNb, y=ShotReg), shape=15,size = 3.2) +\n",
    "      guides(color = guide_legend(override.aes = list(size=2))) +\n",
    "      scale_fill_manual(values = alpha(c(\"sandybrown\"), .25), name = \"Variation (SD)\") + \n",
    "      scale_color_manual(values = c(\"blue\",\"red\",\"sienna4\"), name = \"Agent means\",labels=c(\"Coupled Model\",\"Fast Humans\",\"Hybrid Model\")) + \n",
    "      scale_x_continuous(name=\"Game Number\", breaks=seq(0,15,5)) +\n",
    "      scale_y_continuous(name=\"Regularity (r)\", limits=c(0.0,0.6))\n",
    "\n",
    "p7\n",
    "pathFig <- './Figures/ShotRegularity_lines.png'\n",
    "ggsave(pathFig,p7,width=10,height=7)"
   ]
  },
  {
   "cell_type": "code",
   "execution_count": 36,
   "metadata": {},
   "outputs": [
    {
     "data": {
      "image/png": "[encoded data removed]",
      "text/plain": [
       "plot without title"
      ]
     },
     "metadata": {
      "image/png": {
       "height": 420,
       "width": 420
      }
     },
     "output_type": "display_data"
    }
   ],
   "source": [
    "#Right regularity\n",
    "fast_data <- data %>% filter(!Agent=='Coupled_Strategy')\n",
    "#print(nrow(fast_data))\n",
    "filtered_data <- fast_data %>% filter(!ShotReg=='NaN')\n",
    "#print(nrow(filtered_data))\n",
    "Shaded <- filtered_data %>% filter(Agent==cur_strategy)\n",
    "Hybrid_data <- filtered_data %>% filter(Agent=='Streamed')\n",
    "MS17_data <- filtered_data %>% filter(Agent=='MS17')\n",
    "coupled_data <- filtered_data %>% filter(Agent=='Coupled')\n",
    "\n",
    "datac2 <- summarySE(Shaded, measurevar=\"RightReg\", groupvars=c(\"GameNb\",\"Agent\"))\n",
    "datac3 <-  summarySE(Hybrid_data, measurevar=\"RightReg\", groupvars=c(\"GameNb\",\"Agent\"))\n",
    "datac4 <-  summarySE(MS17_data, measurevar=\"RightReg\", groupvars=c(\"GameNb\",\"Agent\"))\n",
    "datac5 <- summarySE(coupled_data, measurevar=\"RightReg\", groupvars=c(\"GameNb\",\"Agent\"))\n",
    "\n",
    "p8 <- ggplot(datac2) +  geom_line(aes(x=GameNb, y=RightReg,colour=Agent),size=1.0) + geom_ribbon(aes(x=GameNb, ymin=RightReg-sd, ymax=RightReg+sd, fill=\"Streamed_Strategy\")) +\n",
    "      theme_classic() +\n",
    "      ggtitle(\"Right regularity\") +\n",
    "      theme(plot.title = element_text(size=40,hjust=0.5,face =\"bold\"),\n",
    "           axis.text = element_text(size = 36,color='black'),\n",
    "           axis.line = element_line(colour = 'black', size = 1),\n",
    "           axis.ticks = element_line(colour = \"black\", size = 1),\n",
    "           strip.text = element_text(size = 42,face =\"bold\",color='black'),\n",
    "           axis.title = element_text( size = 36, face = \"bold\" ),\n",
    "           axis.ticks.length = unit(0.25, \"cm\"),\n",
    "           legend.text = element_text( size = 40),\n",
    "           legend.title = element_text( size = 40),\n",
    "           legend.position = 'none', #change the legend here\n",
    "           aspect.ratio=ar\n",
    "          ) \n",
    "p8 <- p8+ geom_line(data = datac3, aes(x=GameNb, y=RightReg,color=\"Streamed\"),linewidth=0.6) +\n",
    "      geom_line(data = datac5, aes(x=GameNb, y=RightReg,color=\"Coupled\"),linewidth=0.6) +\n",
    "      geom_point(data = datac3, color = \"red\", aes(x=GameNb, y=RightReg), shape=19,size = 3.2) +\n",
    "      geom_point(data = datac5, color = \"blue\", aes(x=GameNb, y=RightReg), shape=15,size = 3.2) +\n",
    "      guides(color = guide_legend(override.aes = list(size=2))) +\n",
    "      scale_fill_manual(values = alpha(c(\"sandybrown\"), .25), name = \"Variation (SD)\") + \n",
    "      scale_color_manual(values = c(\"blue\",\"red\",\"sienna4\"), name = \"Agent means\",labels=c(\"Coupled Model\",\"Fast Humans\",\"Hybrid Model\")) + \n",
    "      scale_x_continuous(name=\"Game Number\", breaks=seq(0,15,5)) +\n",
    "      scale_y_continuous(name=\"Regularity (r)\", limits=c(0,0.6))\n",
    "\n",
    "p8\n",
    "pathFig <- './Figures/RightRegularity_lines.png'\n",
    "ggsave(pathFig,p8,width=10,height=7)"
   ]
  },
  {
   "cell_type": "code",
   "execution_count": 37,
   "metadata": {},
   "outputs": [],
   "source": [
    "# simple grid\n",
    "gg <- plot_grid(p0,p1,p2,p3,p4,p5,p6,p7,p8,nrow=3)\n",
    "ggsave(\"./Figures/Multi_LineGraphs_fast.png\",gg,width=25,height=13)"
   ]
  },
  {
   "cell_type": "markdown",
   "metadata": {},
   "source": [
    "# Plot line graphs - Slow-shooting data"
   ]
  },
  {
   "cell_type": "code",
   "execution_count": 39,
   "metadata": {},
   "outputs": [],
   "source": [
    "cur_strategy <- 'Coupled_Strategy'"
   ]
  },
  {
   "cell_type": "code",
   "execution_count": 40,
   "metadata": {},
   "outputs": [
    {
     "data": {
      "image/png": "[encoded data removed]",
      "text/plain": [
       "plot without title"
      ]
     },
     "metadata": {
      "image/png": {
       "height": 420,
       "width": 420
      }
     },
     "output_type": "display_data"
    }
   ],
   "source": [
    "#Performance\n",
    "slow_data <- data %>% filter(!Agent=='Streamed_Strategy')\n",
    "Shaded <- slow_data %>% filter(Agent==cur_strategy)\n",
    "Blending_data <- slow_data %>% filter(Agent=='Coupled')\n",
    "MS17_data <- slow_data %>% filter(Agent=='MS17')\n",
    "Hybrid_data <- slow_data %>% filter(Agent=='Streamed')\n",
    "\n",
    "ar <- 0.4\n",
    "datac2 <- summarySE(Shaded, measurevar=\"Score\", groupvars=c(\"GameNb\",\"Agent\"),na.rm=TRUE)\n",
    "datac3 <-  summarySE(Blending_data, measurevar=\"Score\", groupvars=c(\"GameNb\",\"Agent\"),na.rm=TRUE)\n",
    "datac4 <-  summarySE(MS17_data, measurevar=\"Score\", groupvars=c(\"GameNb\",\"Agent\"),na.rm=TRUE)\n",
    "datac5 <- summarySE(Hybrid_data, measurevar=\"Score\", groupvars=c(\"GameNb\",\"Agent\"),na.rm=TRUE)\n",
    "\n",
    "p0 <- ggplot(datac2) +  geom_line(aes(x=GameNb, y=Score,colour=Agent),size=1.0) + geom_ribbon(aes(x=GameNb, ymin=Score-sd, ymax=Score+sd, fill=\"Coupled_Strategy\")) +\n",
    "      theme_classic() +\n",
    "      ggtitle(\"Performance\") +\n",
    "      theme(plot.title = element_text(size=40,hjust=0.5,face =\"bold\"),\n",
    "           axis.text = element_text(size = 36,color='black'),\n",
    "           axis.line = element_line(colour = 'black', size = 1),\n",
    "           axis.ticks = element_line(colour = \"black\", size = 1),\n",
    "           strip.text = element_text(size = 42,face =\"bold\",color='black'),\n",
    "           axis.title = element_text( size = 36, face = \"bold\" ),\n",
    "           axis.ticks.length = unit(0.25, \"cm\"),\n",
    "           legend.text = element_text( size = 40),\n",
    "           legend.title = element_text( size = 40),\n",
    "           legend.position = 'none', #change the legend here\n",
    "           aspect.ratio=ar\n",
    "          ) \n",
    "p0 <- p0+ geom_line(data = datac3, aes(x=GameNb, y=Score,color=\"Coupled\"),linewidth=0.6) +\n",
    "      geom_line(data = datac5, aes(x=GameNb, y=Score,color=\"Streamed\"),linewidth=0.6) +\n",
    "      geom_point(data = datac3, color = \"blue\", aes(x=GameNb, y=Score), shape=15,size = 3.2) +\n",
    "      geom_point(data = datac5, color = \"red\", aes(x=GameNb, y=Score), shape=19,size = 3.2) +\n",
    "      guides(color = guide_legend(override.aes = list(size=2))) +\n",
    "      scale_fill_manual(values = alpha(c(\"mediumpurple4\"), .25), name = \"Variation (SD)\") + \n",
    "      scale_color_manual(values = c(\"blue\",\"mediumpurple3\",\"red\"), name = \"Agent means\",labels=c(\"Coupled Model\",\"Slow Humans\",\"Hybrid Model\")) + \n",
    "      scale_x_continuous(name=\"\", breaks=seq(0,15,5)) +\n",
    "      scale_y_continuous(name=\"Score (Points)\", limits=c(-300, 3500))\n",
    "\n",
    "p0\n",
    "pathFig <- './Figures_Slow/Performance_lines.png'\n",
    "ggsave(pathFig,p0,width=10,height=7)"
   ]
  },
  {
   "cell_type": "code",
   "execution_count": 41,
   "metadata": {},
   "outputs": [
    {
     "data": {
      "image/png": "[encoded data removed]",
      "text/plain": [
       "plot without title"
      ]
     },
     "metadata": {
      "image/png": {
       "height": 420,
       "width": 420
      }
     },
     "output_type": "display_data"
    }
   ],
   "source": [
    "#Entropy - Sequential variability\n",
    "slow_data <- data %>% filter(!Agent=='Streamed_Strategy')\n",
    "#print(nrow(slow_data))\n",
    "filtered_data <- slow_data %>% filter(!Entropy=='NaN') %>% filter(!Entropy=='NA')\n",
    "#print(nrow(filtered_data))\n",
    "Shaded <- filtered_data %>% filter(Agent==cur_strategy)\n",
    "Blending_data <- filtered_data %>% filter(Agent=='Coupled')\n",
    "MS17_data <- filtered_data %>% filter(Agent=='MS17')\n",
    "Hybrid_data <- filtered_data %>% filter(Agent=='Streamed')\n",
    "\n",
    "datac2 <- summarySE(Shaded, measurevar=\"Entropy\", groupvars=c(\"GameNb\",\"Agent\"),na.rm=TRUE)\n",
    "datac3 <-  summarySE(Blending_data, measurevar=\"Entropy\", groupvars=c(\"GameNb\",\"Agent\"),na.rm=TRUE)\n",
    "datac4 <-  summarySE(MS17_data, measurevar=\"Entropy\", groupvars=c(\"GameNb\",\"Agent\"),na.rm=TRUE)\n",
    "datac5 <- summarySE(Hybrid_data, measurevar=\"Entropy\", groupvars=c(\"GameNb\",\"Agent\"),na.rm=TRUE)\n",
    "\n",
    "p1 <- ggplot(datac2) +  geom_line(aes(x=GameNb, y=Entropy,colour=Agent),size=1.0) + geom_ribbon(aes(x=GameNb, ymin=Entropy-sd, ymax=Entropy+sd, fill=\"Coupled_Strategy\")) +\n",
    "      theme_classic() +\n",
    "      ggtitle(\"Sequential variability\") +\n",
    "      theme(plot.title = element_text(size=40,hjust=0.5,face =\"bold\"),\n",
    "           axis.text = element_text(size = 36,color='black'),\n",
    "           axis.line = element_line(colour = 'black', size = 1),\n",
    "           axis.ticks = element_line(colour = \"black\", size = 1),\n",
    "           strip.text = element_text(size = 42,face =\"bold\",color='black'),\n",
    "           axis.title = element_text( size = 36, face = \"bold\" ),\n",
    "           axis.ticks.length = unit(0.25, \"cm\"),\n",
    "           legend.text = element_text( size = 40),\n",
    "           legend.title = element_text( size = 40),\n",
    "           legend.position = 'none', #change the legend here\n",
    "           aspect.ratio=ar\n",
    "          ) \n",
    "p1 <- p1+ geom_line(data = datac3, aes(x=GameNb, y=Entropy,color=\"Coupled\"),linewidth=0.6) +\n",
    "      geom_line(data = datac5, aes(x=GameNb, y=Entropy,color=\"Streamed\"),linewidth=0.6) +\n",
    "      geom_point(data = datac3, color = \"blue\", aes(x=GameNb, y=Entropy), shape=15,size = 3.2) +\n",
    "      geom_point(data = datac5, color = \"red\", aes(x=GameNb, y=Entropy), shape=19,size = 3.2) +\n",
    "      guides(color = guide_legend(override.aes = list(size=2))) +\n",
    "      scale_fill_manual(values = alpha(c(\"mediumpurple4\"), .25), name = \"Variation (SD)\") + \n",
    "      scale_color_manual(values = c(\"blue\",\"mediumpurple3\",\"red\"), name = \"Agent means\",labels=c(\"Coupled Model\",\"Slow Humans\",\"Hybrid Model\")) + \n",
    "      scale_x_continuous(name=\"\", breaks=seq(0,15,5)) +\n",
    "      scale_y_continuous(name=\"Entropy (bits)\", limits=c(2.0,4.0))\n",
    "\n",
    "p1\n",
    "pathFig <- './Figures_Slow/Entropy_lines.png'\n",
    "ggsave(pathFig,p1,width=10,height=7)"
   ]
  },
  {
   "cell_type": "code",
   "execution_count": 42,
   "metadata": {},
   "outputs": [
    {
     "data": {
      "image/png": "[encoded data removed]",
      "text/plain": [
       "plot without title"
      ]
     },
     "metadata": {
      "image/png": {
       "height": 420,
       "width": 420
      }
     },
     "output_type": "display_data"
    }
   ],
   "source": [
    "#Log CV ISI - Shot timing variability\n",
    "slow_data <- data %>% filter(!Agent=='Streamed_Strategy')\n",
    "#print(nrow(slow_data))\n",
    "filtered_data <- slow_data %>% filter(!LogCV=='NaN')\n",
    "#print(nrow(filtered_data))\n",
    "Shaded <- filtered_data %>% filter(Agent==cur_strategy)\n",
    "Blending_data <- filtered_data %>% filter(Agent=='Coupled')\n",
    "MS17_data <- filtered_data %>% filter(Agent=='MS17')\n",
    "Hybrid_data <- filtered_data %>% filter(Agent=='Streamed')\n",
    "\n",
    "datac2 <- summarySE(Shaded, measurevar=\"LogCV\", groupvars=c(\"GameNb\",\"Agent\"),na.rm=TRUE)\n",
    "datac3 <-  summarySE(Blending_data, measurevar=\"LogCV\", groupvars=c(\"GameNb\",\"Agent\"),na.rm=TRUE)\n",
    "datac4 <-  summarySE(MS17_data, measurevar=\"LogCV\", groupvars=c(\"GameNb\",\"Agent\"),na.rm=TRUE)\n",
    "datac5 <- summarySE(Hybrid_data, measurevar=\"LogCV\", groupvars=c(\"GameNb\",\"Agent\"),na.rm=TRUE)\n",
    "\n",
    "p2 <- ggplot(datac2) +  geom_line(aes(x=GameNb, y=LogCV,colour=Agent),size=1.0) + geom_ribbon(aes(x=GameNb, ymin=LogCV-sd, ymax=LogCV+sd, fill=\"Streamed_Strategy\")) +\n",
    "      theme_classic() +\n",
    "      ggtitle(\"Shot timing variability\") +\n",
    "      theme(plot.title = element_text(size=40,hjust=0.5,face =\"bold\"),\n",
    "           axis.text = element_text(size = 36,color='black'),\n",
    "           axis.line = element_line(colour = 'black', size = 1),\n",
    "           axis.ticks = element_line(colour = \"black\", size = 1),\n",
    "           strip.text = element_text(size = 42,face =\"bold\",color='black'),\n",
    "           axis.title = element_text( size = 36, face = \"bold\" ),\n",
    "           axis.ticks.length = unit(0.25, \"cm\"),\n",
    "           legend.text = element_text( size = 40),\n",
    "           legend.title = element_text( size = 40),\n",
    "           legend.position = 'none', #change the legend here\n",
    "           aspect.ratio=ar\n",
    "          ) \n",
    "p2 <- p2+ geom_line(data = datac3, aes(x=GameNb, y=LogCV,color=\"Coupled\"),linewidth=0.6) +\n",
    "      geom_line(data = datac5, aes(x=GameNb, y=LogCV,color=\"Streamed\"),linewidth=0.6) +\n",
    "      geom_point(data = datac3, color = \"blue\", aes(x=GameNb, y=LogCV), shape=15,size = 3.2) +\n",
    "      geom_point(data = datac5, color = \"red\", aes(x=GameNb, y=LogCV), shape=19,size = 3.2) +\n",
    "      guides(color = guide_legend(override.aes = list(size=2))) +\n",
    "      scale_fill_manual(values = alpha(c(\"mediumpurple4\"), .25), name = \"Variation (SD)\") + \n",
    "      scale_color_manual(values = c(\"blue\",\"mediumpurple3\",\"red\"), name = \"Agent means\",labels=c(\"Coupled Model\",\"Slow Humans\",\"Hybrid Model\")) + \n",
    "      scale_x_continuous(name=\"\", breaks=seq(0,15,5)) +\n",
    "      scale_y_continuous(name=\"Log CV ISI\", limits=c(-2.0,0.5))\n",
    "\n",
    "p2\n",
    "pathFig <- './Figures_Slow/LogCV_lines.png'\n",
    "ggsave(pathFig,p2,width=10,height=7)"
   ]
  },
  {
   "cell_type": "code",
   "execution_count": 43,
   "metadata": {},
   "outputs": [
    {
     "data": {
      "image/png": "[encoded data removed]",
      "text/plain": [
       "plot without title"
      ]
     },
     "metadata": {
      "image/png": {
       "height": 420,
       "width": 420
      }
     },
     "output_type": "display_data"
    }
   ],
   "source": [
    "#Resets\n",
    "slow_data <- data %>% filter(!Agent=='Streamed_Strategy')\n",
    "Shaded <- slow_data %>% filter(Agent==cur_strategy)\n",
    "Blending_data <- slow_data %>% filter(Agent=='Coupled')\n",
    "MS17_data <- slow_data %>% filter(Agent=='MS17')\n",
    "Hybrid_data <- slow_data %>% filter(Agent=='Streamed')\n",
    "\n",
    "datac2 <- summarySE(Shaded, measurevar=\"Resets\", groupvars=c(\"GameNb\",\"Agent\"),na.rm=TRUE)\n",
    "datac3 <-  summarySE(Blending_data, measurevar=\"Resets\", groupvars=c(\"GameNb\",\"Agent\"),na.rm=TRUE)\n",
    "datac4 <-  summarySE(MS17_data, measurevar=\"Resets\", groupvars=c(\"GameNb\",\"Agent\"),na.rm=TRUE)\n",
    "datac5 <- summarySE(Hybrid_data, measurevar=\"Resets\", groupvars=c(\"GameNb\",\"Agent\"),na.rm=TRUE)\n",
    "\n",
    "p3 <- ggplot(datac2) +  geom_line(aes(x=GameNb, y=Resets,colour=Agent),size=1.0) + geom_ribbon(aes(x=GameNb, ymin=Resets-sd, ymax=Resets+sd, fill=\"Streamed_Strategy\")) +\n",
    "      theme_classic() +\n",
    "      ggtitle(\"Resets\") +\n",
    "      theme(plot.title = element_text(size=40,hjust=0.5,face =\"bold\"),\n",
    "           axis.text = element_text(size = 36,color='black'),\n",
    "           axis.line = element_line(colour = 'black', size = 1),\n",
    "           axis.ticks = element_line(colour = \"black\", size = 1),\n",
    "           strip.text = element_text(size = 42,face =\"bold\",color='black'),\n",
    "           axis.title = element_text( size = 36, face = \"bold\" ),\n",
    "           axis.ticks.length = unit(0.25, \"cm\"),\n",
    "           legend.text = element_text( size = 40),\n",
    "           legend.title = element_text( size = 40),\n",
    "           legend.position = 'none', #change the legend here\n",
    "           aspect.ratio=ar\n",
    "          ) \n",
    "p3 <- p3+ geom_line(data = datac3, aes(x=GameNb, y=Resets,color=\"Coupled\"),linewidth=0.6) +\n",
    "      geom_line(data = datac5, aes(x=GameNb, y=Resets,color=\"Streamed\"),linewidth=0.6) +\n",
    "      geom_point(data = datac3, color = \"blue\", aes(x=GameNb, y=Resets), shape=15,size = 3.2) +\n",
    "      geom_point(data = datac5, color = \"red\", aes(x=GameNb, y=Resets), shape=19,size = 3.2) +\n",
    "      guides(color = guide_legend(override.aes = list(size=2))) +\n",
    "      scale_fill_manual(values = alpha(c(\"mediumpurple4\"), .25), name = \"Variation (SD)\") + \n",
    "      scale_color_manual(values = c(\"blue\",\"mediumpurple3\",\"red\"), name = \"Agent means\",labels=c(\"Coupled Model\",\"MS17 Model\",\"Slow Humans\",\"Hybrid Model\")) + \n",
    "      scale_x_continuous(name=\"\", breaks=seq(0,15,5)) +\n",
    "      scale_y_continuous(name=\"Reset count\", limits=c(-20,60))\n",
    "\n",
    "p3\n",
    "pathFig <- './Figures_Slow/Resets_lines.png'\n",
    "ggsave(pathFig,p3,width=10,height=7)"
   ]
  },
  {
   "cell_type": "code",
   "execution_count": 44,
   "metadata": {},
   "outputs": [
    {
     "data": {
      "image/png": "[encoded data removed]",
      "text/plain": [
       "plot without title"
      ]
     },
     "metadata": {
      "image/png": {
       "height": 420,
       "width": 420
      }
     },
     "output_type": "display_data"
    }
   ],
   "source": [
    "#Deflations\n",
    "slow_data <- data %>% filter(!Agent=='Streamed_Strategy')\n",
    "#filtered_data <- slow_data %>% filter(!Deflations=='NaN')\n",
    "Shaded <- slow_data %>% filter(Agent==cur_strategy)\n",
    "Blending_data <- slow_data %>% filter(Agent=='Coupled')\n",
    "MS17_data <- slow_data %>% filter(Agent=='MS17')\n",
    "Hybrid_data <- slow_data %>% filter(Agent=='Streamed')\n",
    "\n",
    "datac2 <- summarySE(Shaded, measurevar=\"Deflations\", groupvars=c(\"GameNb\",\"Agent\"),na.rm=TRUE)\n",
    "datac3 <-  summarySE(Blending_data, measurevar=\"Deflations\", groupvars=c(\"GameNb\",\"Agent\"),na.rm=TRUE)\n",
    "datac4 <-  summarySE(MS17_data, measurevar=\"Deflations\", groupvars=c(\"GameNb\",\"Agent\"),na.rm=TRUE)\n",
    "datac5 <- summarySE(Hybrid_data, measurevar=\"Deflations\", groupvars=c(\"GameNb\",\"Agent\"),na.rm=TRUE)\n",
    "\n",
    "p4 <- ggplot(datac2) +  geom_line(aes(x=GameNb, y=Deflations,colour=Agent),size=1.0) + geom_ribbon(aes(x=GameNb, ymin=Deflations-sd, ymax=Deflations+sd, fill=\"Streamed_Strategy\")) +\n",
    "      theme_classic() +\n",
    "      ggtitle(\"Deflations\") +\n",
    "      theme(plot.title = element_text(size=40,hjust=0.5,face =\"bold\"),\n",
    "           axis.text = element_text(size = 36,color='black'),\n",
    "           axis.line = element_line(colour = 'black', size = 1),\n",
    "           axis.ticks = element_line(colour = \"black\", size = 1),\n",
    "           strip.text = element_text(size = 42,face =\"bold\",color='black'),\n",
    "           axis.title = element_text( size = 36, face = \"bold\" ),\n",
    "           axis.ticks.length = unit(0.25, \"cm\"),\n",
    "           legend.text = element_text( size = 40),\n",
    "           legend.title = element_text( size = 40),\n",
    "           legend.position = 'none', #change the legend here\n",
    "           aspect.ratio=ar\n",
    "          ) \n",
    "p4 <- p4+ geom_line(data = datac3, aes(x=GameNb, y=Deflations,color=\"Coupled\"),linewidth=0.6) +\n",
    "      geom_line(data = datac5, aes(x=GameNb, y=Deflations,color=\"Streamed\"),linewidth=0.6) +\n",
    "      geom_point(data = datac3, color = \"blue\", aes(x=GameNb, y=Deflations), shape=15,size = 3.2) +\n",
    "      geom_point(data = datac5, color = \"red\", aes(x=GameNb, y=Deflations), shape=19,size = 3.2) +\n",
    "      guides(color = guide_legend(override.aes = list(size=2))) +\n",
    "      scale_fill_manual(values = alpha(c(\"mediumpurple4\"), .25), name = \"Variation (SD)\") + \n",
    "      scale_color_manual(values = c(\"blue\",\"mediumpurple3\",\"red\"), name = \"Agent means\",labels=c(\"Coupled Model\",\"Slow Humans\",\"Hybrid Model\")) + \n",
    "      scale_x_continuous(name=\"\", breaks=seq(0,15,5)) +\n",
    "      scale_y_continuous(name=\"Deflation count\", limits=c(0,100))\n",
    "\n",
    "p4\n",
    "pathFig <- './Figures_Slow/Deflations_lines.png'\n",
    "ggsave(pathFig,p4,width=10,height=7)"
   ]
  },
  {
   "cell_type": "code",
   "execution_count": 45,
   "metadata": {},
   "outputs": [
    {
     "data": {
      "image/png": "[encoded data removed]",
      "text/plain": [
       "plot without title"
      ]
     },
     "metadata": {
      "image/png": {
       "height": 420,
       "width": 420
      }
     },
     "output_type": "display_data"
    }
   ],
   "source": [
    "#Misses\n",
    "slow_data <- data %>% filter(!Agent=='Streamed_Strategy')\n",
    "Shaded <- slow_data %>% filter(Agent==cur_strategy)\n",
    "Blending_data <- slow_data %>% filter(Agent=='Coupled')\n",
    "MS17_data <- slow_data %>% filter(Agent=='MS17')\n",
    "Hybrid_data <- slow_data %>% filter(Agent=='Streamed')\n",
    "\n",
    "datac2 <- summarySE(Shaded, measurevar=\"Misses\", groupvars=c(\"GameNb\",\"Agent\"),na.rm=TRUE)\n",
    "datac3 <-  summarySE(Blending_data, measurevar=\"Misses\", groupvars=c(\"GameNb\",\"Agent\"),na.rm=TRUE)\n",
    "datac4 <-  summarySE(MS17_data, measurevar=\"Misses\", groupvars=c(\"GameNb\",\"Agent\"),na.rm=TRUE)\n",
    "datac5 <- summarySE(Hybrid_data, measurevar=\"Misses\", groupvars=c(\"GameNb\",\"Agent\"),na.rm=TRUE)\n",
    "\n",
    "p5 <- ggplot(datac2) +  geom_line(aes(x=GameNb, y=Misses,colour=Agent),size=1.0) + geom_ribbon(aes(x=GameNb, ymin=Misses-sd, ymax=Misses+sd, fill=\"Streamed_Strategy\")) +\n",
    "      theme_classic() +\n",
    "      ggtitle(\"Misses\") +\n",
    "      theme(plot.title = element_text(size=40,hjust=0.5,face =\"bold\"),\n",
    "           axis.text = element_text(size = 36,color='black'),\n",
    "           axis.line = element_line(colour = 'black', size = 1),\n",
    "           axis.ticks = element_line(colour = \"black\", size = 1),\n",
    "           strip.text = element_text(size = 42,face =\"bold\",color='black'),\n",
    "           axis.title = element_text( size = 36, face = \"bold\" ),\n",
    "           axis.ticks.length = unit(0.25, \"cm\"),\n",
    "           legend.text = element_text( size = 40),\n",
    "           legend.title = element_text( size = 40),\n",
    "           legend.position = 'none', #change the legend here\n",
    "           aspect.ratio=ar\n",
    "          ) \n",
    "p5 <- p5+ geom_line(data = datac3, aes(x=GameNb, y=Misses,color=\"Coupled\"),linewidth=0.6) +\n",
    "      geom_line(data = datac5, aes(x=GameNb, y=Misses,color=\"Streamed\"),linewidth=0.6) +\n",
    "      geom_point(data = datac3, color = \"blue\", aes(x=GameNb, y=Misses), shape=15,size = 3.2) +\n",
    "      geom_point(data = datac5, color = \"red\", aes(x=GameNb, y=Misses), shape=19,size = 3.2) +\n",
    "      guides(color = guide_legend(override.aes = list(size=2))) +\n",
    "      scale_fill_manual(values = alpha(c(\"mediumpurple4\"), .25), name = \"Variation (SD)\") + \n",
    "      scale_color_manual(values = c(\"blue\",\"mediumpurple3\",\"red\"), name = \"Agent means\",labels=c(\"Coupled Model\",\"Slow Humans\",\"Hybrid Model\")) + \n",
    "      scale_x_continuous(name=\"\", breaks=seq(0,15,5)) +\n",
    "      scale_y_continuous(name=\"Miss count\", limits=c(10,160))\n",
    "\n",
    "p5\n",
    "pathFig <- './Figures_Slow/Misses_lines.png'\n",
    "ggsave(pathFig,p5,width=10,height=7)"
   ]
  },
  {
   "cell_type": "code",
   "execution_count": 46,
   "metadata": {},
   "outputs": [
    {
     "data": {
      "image/png": "[encoded data removed]",
      "text/plain": [
       "plot without title"
      ]
     },
     "metadata": {
      "image/png": {
       "height": 420,
       "width": 420
      }
     },
     "output_type": "display_data"
    }
   ],
   "source": [
    "#Shot periodicity\n",
    "slow_data <- data %>% filter(!Agent=='Streamed_Strategy')\n",
    "#print(nrow(slow_data))\n",
    "filtered_data <- slow_data %>% filter(!ShotPer=='NaN')\n",
    "#print(nrow(filtered_data))\n",
    "Shaded <- filtered_data %>% filter(Agent==cur_strategy)\n",
    "Blending_data <- filtered_data %>% filter(Agent=='Coupled')\n",
    "MS17_data <- filtered_data %>% filter(Agent=='MS17')\n",
    "Hybrid_data <- filtered_data %>% filter(Agent=='Streamed')\n",
    "\n",
    "datac2 <- summarySE(Shaded, measurevar=\"ShotPer\", groupvars=c(\"GameNb\",\"Agent\"),na.rm=TRUE)\n",
    "datac3 <-  summarySE(Blending_data, measurevar=\"ShotPer\", groupvars=c(\"GameNb\",\"Agent\"),na.rm=TRUE)\n",
    "datac4 <-  summarySE(MS17_data, measurevar=\"ShotPer\", groupvars=c(\"GameNb\",\"Agent\"),na.rm=TRUE)\n",
    "datac5 <- summarySE(Hybrid_data, measurevar=\"ShotPer\", groupvars=c(\"GameNb\",\"Agent\"),na.rm=TRUE)\n",
    "\n",
    "p6 <- ggplot(datac2) +  geom_line(aes(x=GameNb, y=ShotPer,colour=Agent),size=1.0) + geom_ribbon(aes(x=GameNb, ymin=ShotPer-sd, ymax=ShotPer+sd, fill=\"Streamed_Strategy\")) +\n",
    "      theme_classic() +\n",
    "      ggtitle(\"Shot Periodicity\") +\n",
    "      theme(plot.title = element_text(size=40,hjust=0.5,face =\"bold\"),\n",
    "           axis.text = element_text(size = 36,color='black'),\n",
    "           axis.line = element_line(colour = 'black', size = 1),\n",
    "           axis.ticks = element_line(colour = \"black\", size = 1),\n",
    "           strip.text = element_text(size = 42,face =\"bold\",color='black'),\n",
    "           axis.title = element_text( size = 36, face = \"bold\" ),\n",
    "           axis.ticks.length = unit(0.25, \"cm\"),\n",
    "           legend.text = element_text( size = 40),\n",
    "           legend.title = element_text( size = 40),\n",
    "           legend.position = 'none', #change the legend here\n",
    "           aspect.ratio=ar\n",
    "          ) \n",
    "p6 <- p6+ geom_line(data = datac3, aes(x=GameNb, y=ShotPer,color=\"Coupled\"),size=0.6) +\n",
    "      geom_line(data = datac5, aes(x=GameNb, y=ShotPer,color=\"Streamed\"),size=0.6) +\n",
    "      geom_point(data = datac3, color = \"blue\", aes(x=GameNb, y=ShotPer), shape=15,size = 3.2) +\n",
    "      geom_point(data = datac5, color = \"red\", aes(x=GameNb, y=ShotPer), shape=19,size = 3.2) +\n",
    "      guides(color = guide_legend(override.aes = list(size=2))) +\n",
    "      scale_fill_manual(values = alpha(c(\"mediumpurple4\"), .25), name = \"Variation (SD)\") + \n",
    "      scale_color_manual(values = c(\"blue\",\"mediumpurple3\",\"red\"), name = \"Agent means\",labels=c(\"Coupled Model\",\"Slow Humans\",\"Hybrid Model\")) + \n",
    "      scale_x_continuous(name=\"Game Number\", breaks=seq(0,15,5)) +\n",
    "      scale_y_continuous(name=\"Periodicity (ms)\", limits=c(0,700))\n",
    "\n",
    "p6\n",
    "pathFig <- './Figures_Slow/ShotPeriodicity_lines.png'\n",
    "ggsave(pathFig,p6,width=10,height=7)"
   ]
  },
  {
   "cell_type": "code",
   "execution_count": 47,
   "metadata": {},
   "outputs": [
    {
     "data": {
      "image/png": "[encoded data removed]",
      "text/plain": [
       "plot without title"
      ]
     },
     "metadata": {
      "image/png": {
       "height": 420,
       "width": 420
      }
     },
     "output_type": "display_data"
    }
   ],
   "source": [
    "#Shot regularity\n",
    "slow_data <- data %>% filter(!Agent=='Streamed_Strategy')\n",
    "#print(nrow(slow_data))\n",
    "filtered_data <- slow_data %>% filter(!ShotReg=='NaN')\n",
    "#print(nrow(filtered_data))\n",
    "Shaded <- filtered_data %>% filter(Agent==cur_strategy)\n",
    "Blending_data <- filtered_data %>% filter(Agent=='Coupled')\n",
    "MS17_data <- filtered_data %>% filter(Agent=='MS17')\n",
    "Hybrid_data <- filtered_data %>% filter(Agent=='Streamed')\n",
    "\n",
    "datac2 <- summarySE(Shaded, measurevar=\"ShotReg\", groupvars=c(\"GameNb\",\"Agent\"),na.rm=TRUE)\n",
    "datac3 <-  summarySE(Blending_data, measurevar=\"ShotReg\", groupvars=c(\"GameNb\",\"Agent\"),na.rm=TRUE)\n",
    "datac4 <-  summarySE(MS17_data, measurevar=\"ShotReg\", groupvars=c(\"GameNb\",\"Agent\"),na.rm=TRUE)\n",
    "datac5 <- summarySE(Hybrid_data, measurevar=\"ShotReg\", groupvars=c(\"GameNb\",\"Agent\"),na.rm=TRUE)\n",
    "\n",
    "p7 <- ggplot(datac2) +  geom_line(aes(x=GameNb, y=ShotReg,colour=Agent),size=1.0) + geom_ribbon(aes(x=GameNb, ymin=ShotReg-sd, ymax=ShotReg+sd, fill=\"Streamed_Strategy\")) +\n",
    "      theme_classic() +\n",
    "      ggtitle(\"Shot Regularity\") +\n",
    "      theme(plot.title = element_text(size=40,hjust=0.5,face =\"bold\"),\n",
    "           axis.text = element_text(size = 36,color='black'),\n",
    "           axis.line = element_line(colour = 'black', size = 1),\n",
    "           axis.ticks = element_line(colour = \"black\", size = 1),\n",
    "           strip.text = element_text(size = 42,face =\"bold\",color='black'),\n",
    "           axis.title = element_text( size = 36, face = \"bold\" ),\n",
    "           axis.ticks.length = unit(0.25, \"cm\"),\n",
    "           legend.text = element_text( size = 40),\n",
    "           legend.title = element_text( size = 40),\n",
    "           legend.position = 'none', #change the legend here\n",
    "           aspect.ratio=ar\n",
    "          ) \n",
    "p7 <- p7+ geom_line(data = datac3, aes(x=GameNb, y=ShotReg,color=\"Coupled\"),linewidth=0.6) +\n",
    "      geom_line(data = datac5, aes(x=GameNb, y=ShotReg,color=\"Streamed\"),linewidth=0.6) +\n",
    "      geom_point(data = datac3, color = \"blue\", aes(x=GameNb, y=ShotReg), shape=15,size = 3.2) +\n",
    "      geom_point(data = datac5, color = \"red\", aes(x=GameNb, y=ShotReg), shape=19,size = 3.2) +\n",
    "      guides(color = guide_legend(override.aes = list(size=2))) +\n",
    "      scale_fill_manual(values = alpha(c(\"mediumpurple4\"), .25), name = \"Variation (SD)\") + \n",
    "      scale_color_manual(values = c(\"blue\",\"mediumpurple3\",\"red\"), name = \"Agent means\",labels=c(\"Coupled Model\",\"Slow Humans\",\"Hybrid Model\")) + \n",
    "      scale_x_continuous(name=\"Game Number\", breaks=seq(0,15,5)) +\n",
    "      scale_y_continuous(name=\"Regularity (r)\", limits=c(0.0,0.6))\n",
    "\n",
    "p7\n",
    "pathFig <- './Figures_Slow/ShotRegularity_lines.png'\n",
    "ggsave(pathFig,p7,width=10,height=7)"
   ]
  },
  {
   "cell_type": "code",
   "execution_count": 48,
   "metadata": {},
   "outputs": [
    {
     "data": {
      "image/png": "[encoded data removed]",
      "text/plain": [
       "plot without title"
      ]
     },
     "metadata": {
      "image/png": {
       "height": 420,
       "width": 420
      }
     },
     "output_type": "display_data"
    }
   ],
   "source": [
    "#Right regularity\n",
    "slow_data <- data %>% filter(!Agent=='Streamed_Strategy')\n",
    "#print(nrow(slow_data))\n",
    "filtered_data <- slow_data %>% filter(!ShotReg=='NaN')\n",
    "#print(nrow(filtered_data))\n",
    "Shaded <- filtered_data %>% filter(Agent==cur_strategy)\n",
    "Blending_data <- filtered_data %>% filter(Agent=='Coupled')\n",
    "MS17_data <- filtered_data %>% filter(Agent=='MS17')\n",
    "Hybrid_data <- filtered_data %>% filter(Agent=='Streamed')\n",
    "\n",
    "datac2 <- summarySE(Shaded, measurevar=\"RightReg\", groupvars=c(\"GameNb\",\"Agent\"),na.rm=TRUE)\n",
    "datac3 <-  summarySE(Blending_data, measurevar=\"RightReg\", groupvars=c(\"GameNb\",\"Agent\"),na.rm=TRUE)\n",
    "datac4 <-  summarySE(MS17_data, measurevar=\"RightReg\", groupvars=c(\"GameNb\",\"Agent\"),na.rm=TRUE)\n",
    "datac5 <- summarySE(Hybrid_data, measurevar=\"RightReg\", groupvars=c(\"GameNb\",\"Agent\"),na.rm=TRUE)\n",
    "\n",
    "p8 <- ggplot(datac2) +  geom_line(aes(x=GameNb, y=RightReg,colour=Agent),size=1.0) + geom_ribbon(aes(x=GameNb, ymin=RightReg-sd, ymax=RightReg+sd, fill=\"Streamed_Strategy\")) +\n",
    "      theme_classic() +\n",
    "      ggtitle(\"Right Regularity\") +\n",
    "      theme(plot.title = element_text(size=40,hjust=0.5,face =\"bold\"),\n",
    "           axis.text = element_text(size = 36,color='black'),\n",
    "           axis.line = element_line(colour = 'black', size = 1),\n",
    "           axis.ticks = element_line(colour = \"black\", size = 1),\n",
    "           strip.text = element_text(size = 42,face =\"bold\",color='black'),\n",
    "           axis.title = element_text( size = 36, face = \"bold\" ),\n",
    "           axis.ticks.length = unit(0.25, \"cm\"),\n",
    "           legend.text = element_text( size = 40),\n",
    "           legend.title = element_text( size = 40),\n",
    "           legend.position = 'none', #change the legend here\n",
    "           aspect.ratio=ar\n",
    "          ) \n",
    "p8 <- p8+ geom_line(data = datac3, aes(x=GameNb, y=RightReg,color=\"Coupled\"),linewidth=0.6) +\n",
    "      geom_line(data = datac5, aes(x=GameNb, y=RightReg,color=\"Streamed\"),linewidth=0.6) +\n",
    "      geom_point(data = datac3, color = \"blue\", aes(x=GameNb, y=RightReg), shape=15,size = 3.2) +\n",
    "      geom_point(data = datac5, color = \"red\", aes(x=GameNb, y=RightReg), shape=19,size = 3.2) +\n",
    "      guides(color = guide_legend(override.aes = list(size=2))) +\n",
    "      scale_fill_manual(values = alpha(c(\"mediumpurple4\"), .25), name = \"Variation (SD)\") + \n",
    "      scale_color_manual(values = c(\"blue\",\"mediumpurple3\",\"red\"), name = \"Agent means\",labels=c(\"Coupled Model\",\"Slow Humans\",\"Hybrid Model\")) + \n",
    "      scale_x_continuous(name=\"Game Number\", breaks=seq(0,15,5)) +\n",
    "      scale_y_continuous(name=\"Regularity (r)\", limits=c(0,0.6))\n",
    "\n",
    "p8\n",
    "pathFig <- './Figures_Slow/RightRegularity_lines.png'\n",
    "ggsave(pathFig,p8,width=10,height=7)"
   ]
  },
  {
   "cell_type": "code",
   "execution_count": 49,
   "metadata": {},
   "outputs": [],
   "source": [
    "# simple grid\n",
    "gg2 <- plot_grid(p0,p1,p2,p3,p4,p5,p6,p7,p8,nrow=3)\n",
    "ggsave(\"./Figures_Slow/Multi_LineGraphs_slow.png\",gg2,width=25,height=13)"
   ]
  },
  {
   "cell_type": "code",
   "execution_count": null,
   "metadata": {},
   "outputs": [],
   "source": []
  },
  {
   "cell_type": "code",
   "execution_count": null,
   "metadata": {},
   "outputs": [],
   "source": []
  },
  {
   "cell_type": "code",
   "execution_count": null,
   "metadata": {},
   "outputs": [],
   "source": []
  }
 ],
 "metadata": {
  "kernelspec": {
   "display_name": "R",
   "language": "R",
   "name": "ir"
  },
  "language_info": {
   "codemirror_mode": "r",
   "file_extension": ".r",
   "mimetype": "text/x-r-source",
   "name": "R",
   "pygments_lexer": "r",
   "version": "4.1.3"
  }
 },
 "nbformat": 4,
 "nbformat_minor": 4
}
