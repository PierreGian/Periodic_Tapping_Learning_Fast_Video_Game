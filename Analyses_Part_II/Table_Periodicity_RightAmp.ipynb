{
 "cells": [
  {
   "cell_type": "code",
   "execution_count": 1,
   "metadata": {},
   "outputs": [],
   "source": [
    "import numpy as np\n",
    "import matplotlib.pyplot as plt\n",
    "import pylab\n",
    "from scipy import stats\n",
    "import glob"
   ]
  },
  {
   "cell_type": "code",
   "execution_count": 2,
   "metadata": {},
   "outputs": [],
   "source": [
    "#Function to identify the subject index of a given subject name\n",
    "def FindSubIdx(name,all_names):\n",
    "    for el,nn in enumerate(all_names):\n",
    "        if(nn==name):\n",
    "            return el"
   ]
  },
  {
   "cell_type": "code",
   "execution_count": 5,
   "metadata": {},
   "outputs": [
    {
     "name": "stdout",
     "output_type": "stream",
     "text": [
      "['Participant', 'condition1', 'condition2', 'Game 1', 'Game 2', 'Game 3', 'Game 4', 'Game 5', 'Game 6', 'Game 7', 'Game 8', 'Game 9', 'Game 10', 'Game 11', 'Game 12', 'Game 13', 'Game 14', 'Game 15']\n",
      "['A11LNK1U3DT08V', 'fast', 'fast', '526', '1626', '1604', '1640', '1408', '1640', '1840', '1844', '1656', '1638', '1644', '1948', '1860', '1956', '1734']\n"
     ]
    }
   ],
   "source": [
    "##### Load prepared Excel data file with scores\n",
    "GameNb=15\n",
    "SubjNb = 41\n",
    "names=[j for j in range(SubjNb)]\n",
    "conds=[('','') for j in range(SubjNb)]\n",
    "avgs=np.zeros(SubjNb)\n",
    "SeqFile = '../Inputs/Humans_Part_I/Fast/Summary_Scores_FFF.txt'\n",
    "f_toOpen = open(SeqFile,\"r\") \n",
    "lines = [line.rstrip().split(\"\\t\") for line in f_toOpen]\n",
    "cats = lines[0]\n",
    "print(cats)\n",
    "print(lines[1])\n",
    "idx=0\n",
    "for ii in np.arange(1,len(lines)):\n",
    "    cur_line=lines[ii]\n",
    "    names[idx] = cur_line[0]\n",
    "    conds[idx] = (cur_line[1],cur_line[2])\n",
    "    idx=idx+1"
   ]
  },
  {
   "cell_type": "markdown",
   "metadata": {},
   "source": [
    "# Load periodicity outputs"
   ]
  },
  {
   "cell_type": "code",
   "execution_count": 6,
   "metadata": {},
   "outputs": [
    {
     "name": "stdout",
     "output_type": "stream",
     "text": [
      "['Subject', 'condition1', 'condition2', '1', '2', '3', '4', '5', '6', '7', '8', '9', '10', '11', '12', '13', '14', '15']\n"
     ]
    }
   ],
   "source": [
    "pathOutput = '../Inputs/Humans_Part_I/Fast/'\n",
    "Per_Path = pathOutput+'Periodicity_Transfer_Humans_SORTED.txt'\n",
    "fileOpen = open(Per_Path,\"r\")\n",
    "lines = [line.rstrip().split(\"\\t\") for line in fileOpen]\n",
    "data = lines[1:]\n",
    "print(lines[0])"
   ]
  },
  {
   "cell_type": "code",
   "execution_count": 7,
   "metadata": {},
   "outputs": [
    {
     "name": "stdout",
     "output_type": "stream",
     "text": [
      "[('A11LNK1U3DT08V', 485.33), ('A122LRCSBAD6DC', 373.33), ('A13B8594JIUFDF', 490.67), ('A13G6IRFQBEE8K', 314.67), ('A13YOOKZFZJJ10', 517.33), ('A19X8IA9EKC3XH', 346.67), ('A1DHJE69R494AH', 485.33), ('A1EP3XESXAG0EP', 448.0), ('A1FG2G0J8M9Q0N', 490.67), ('A1RH69F7I73LRW', 373.33), ('A1RV2LERVS0A4H', 496.0), ('A1SISJL5ST2PWH', 341.33), ('A1U2A42K8FV3RA', 384.0), ('A1U6L1L2CUQNU5', 501.33), ('A25W2106F90G7L', 442.67), ('A2BFFKEYMCBFWW', 490.67), ('A2DMUU9GE8QA5Q', 458.67), ('A2FM6APZP3FN22', 464.0), ('A2PW5825FIRONK', 426.67), ('A2RY4MK1FONYH1', 458.67), ('A2W8TJXW68442D', 442.67), ('A376AZWIBALRC', 501.33), ('A38V6MB0UIXY0N', 506.67), ('A3D1QQ8BEO75C6', 512.0), ('A3H2KP0VBENV3N', 501.33), ('A3IGG3RX4HXUV9', 517.33), ('A3LA0JBSIW4MUI', 506.67), ('A3LNWWZ7HGAGGM', 496.0), ('A3Q4Y5ONYPSQGF', 480.0), ('A7OZPNXIVO1FX', 469.33), ('AAE1COF4E8740', 320.0), ('ACGHHDT7RY1AH', 400.0), ('AFM65NU0UXIGP', 357.33), ('AJZYNIL3ITOK0', 506.67), ('AQXRHIMQ7UK7O', 490.67), ('ASZBND3G5UYJG', 512.0), ('AUPXYEKITX8UT', 442.67), ('AXMPSUNKUBEIL', 506.67), ('AY4PZPXHSRCP5', 538.67), ('AY5OS6NZWVX22', 496.0), ('AZ8NBOTCBCLKG', 485.33)]\n"
     ]
    }
   ],
   "source": [
    "cond_list = ['FFF']\n",
    "lastF =  {'FFF':14} #index of last fast speed game\n",
    "Per_list = []\n",
    "Fast_lists = []\n",
    "for line in data:\n",
    "    c_name = line[0]\n",
    "    subIdx = FindSubIdx(c_name,names)\n",
    "    c_pers = [int(float(line[ii])) for ii in np.arange(3,18)]\n",
    "    c_pers[c_pers == 0] = np.nan\n",
    "    avg_all = round(np.nanmean(np.array(c_pers[-3:])),2)\n",
    "    Per_list.append(avg_all)\n",
    "    Fast_lists.append((c_name,avg_all))\n",
    "print(Fast_lists)"
   ]
  },
  {
   "cell_type": "markdown",
   "metadata": {},
   "source": [
    "# Load right amplitude outputs"
   ]
  },
  {
   "cell_type": "code",
   "execution_count": 8,
   "metadata": {},
   "outputs": [
    {
     "name": "stdout",
     "output_type": "stream",
     "text": [
      "['Subject', 'condition1', 'condition2', '1', '2', '3', '4', '5', '6', '7', '8', '9', '10', '11', '12', '13', '14', '15']\n"
     ]
    }
   ],
   "source": [
    "pathOutput = '../Inputs/Humans_Part_I/Fast/'\n",
    "Right_Path = pathOutput+'RightAmp_Transfer_Humans_SORTED.txt'\n",
    "fileOpen = open(Right_Path,\"r\")\n",
    "lines = [line.rstrip().split(\"\\t\") for line in fileOpen]\n",
    "data = lines[1:]\n",
    "print(lines[0])"
   ]
  },
  {
   "cell_type": "code",
   "execution_count": 9,
   "metadata": {},
   "outputs": [],
   "source": [
    "cond_names = {('fast', 'fast'):'FFF'}\n",
    "cond_list = ['FFF']\n",
    "lastF =  {'FFF':14} #index of last fast speed game\n",
    "Rights_list = []\n",
    "for line in data:\n",
    "    c_name = line[0]\n",
    "    subIdx = FindSubIdx(c_name,names)\n",
    "    c_cond = ('fast', 'fast')\n",
    "    speedName = cond_names[c_cond]\n",
    "    c_rights = [float(line[ii]) for ii in np.arange(3,18)]\n",
    "    c_rights[c_rights == 0] = np.nan\n",
    "    avgR_all = round(np.nanmean(np.array(c_rights[-3:])),2)\n",
    "    Rights_list.append(avgR_all)"
   ]
  },
  {
   "cell_type": "code",
   "execution_count": 10,
   "metadata": {},
   "outputs": [
    {
     "name": "stdout",
     "output_type": "stream",
     "text": [
      "[0.4, 0.1, 0.43, 0.11, 0.52, 0.11, 0.42, 0.05, 0.36, 0.08, 0.27, 0.11, 0.15, 0.24, 0.21, 0.36, 0.35, 0.32, 0.24, 0.3, 0.29, 0.42, 0.39, 0.31, 0.64, 0.32, 0.29, 0.55, 0.51, 0.17, 0.06, 0.18, 0.14, 0.56, 0.24, 0.35, 0.17, 0.58, 0.39, 0.46, 0.4]\n"
     ]
    }
   ],
   "source": [
    "print(Rights_list)"
   ]
  },
  {
   "cell_type": "code",
   "execution_count": 12,
   "metadata": {},
   "outputs": [
    {
     "name": "stdout",
     "output_type": "stream",
     "text": [
      "FFF\n",
      "A11LNK1U3DT08V\t485\t0.4\n",
      "A122LRCSBAD6DC\t373\t0.1\n",
      "A13B8594JIUFDF\t490\t0.43\n",
      "A13G6IRFQBEE8K\t314\t0.11\n",
      "A13YOOKZFZJJ10\t517\t0.52\n",
      "A19X8IA9EKC3XH\t346\t0.11\n",
      "A1DHJE69R494AH\t485\t0.42\n",
      "A1EP3XESXAG0EP\t448\t0.05\n",
      "A1FG2G0J8M9Q0N\t490\t0.36\n",
      "A1RH69F7I73LRW\t373\t0.08\n",
      "A1RV2LERVS0A4H\t496\t0.27\n",
      "A1SISJL5ST2PWH\t341\t0.11\n",
      "A1U2A42K8FV3RA\t384\t0.15\n",
      "A1U6L1L2CUQNU5\t501\t0.24\n",
      "A25W2106F90G7L\t442\t0.21\n",
      "A2BFFKEYMCBFWW\t490\t0.36\n",
      "A2DMUU9GE8QA5Q\t458\t0.35\n",
      "A2FM6APZP3FN22\t464\t0.32\n",
      "A2PW5825FIRONK\t426\t0.24\n",
      "A2RY4MK1FONYH1\t458\t0.3\n",
      "A2W8TJXW68442D\t442\t0.29\n",
      "A376AZWIBALRC\t501\t0.42\n",
      "A38V6MB0UIXY0N\t506\t0.39\n",
      "A3D1QQ8BEO75C6\t512\t0.31\n",
      "A3H2KP0VBENV3N\t501\t0.64\n",
      "A3IGG3RX4HXUV9\t517\t0.32\n",
      "A3LA0JBSIW4MUI\t506\t0.29\n",
      "A3LNWWZ7HGAGGM\t496\t0.55\n",
      "A3Q4Y5ONYPSQGF\t480\t0.51\n",
      "A7OZPNXIVO1FX\t469\t0.17\n",
      "AAE1COF4E8740\t320\t0.06\n",
      "ACGHHDT7RY1AH\t400\t0.18\n",
      "AFM65NU0UXIGP\t357\t0.14\n",
      "AJZYNIL3ITOK0\t506\t0.56\n",
      "AQXRHIMQ7UK7O\t490\t0.24\n",
      "ASZBND3G5UYJG\t512\t0.35\n",
      "AUPXYEKITX8UT\t442\t0.17\n",
      "AXMPSUNKUBEIL\t506\t0.58\n",
      "AY4PZPXHSRCP5\t538\t0.39\n",
      "AY5OS6NZWVX22\t496\t0.46\n",
      "AZ8NBOTCBCLKG\t485\t0.4\n"
     ]
    }
   ],
   "source": [
    "#Print periodicity - subjects\n",
    "ii=0\n",
    "print(cond_list[ii])\n",
    "for idx,tup in enumerate(Fast_lists):\n",
    "    index = FindSubIdx(tup[0],names)\n",
    "    these_conds = conds[index]\n",
    "    this_right = Rights_list[idx]\n",
    "    print(\"%s\\t%i\\t%s\"%(tup[0],tup[1],this_right))"
   ]
  },
  {
   "cell_type": "code",
   "execution_count": 15,
   "metadata": {},
   "outputs": [],
   "source": [
    "Fast_subj = []\n",
    "Slow_subj = []\n",
    "for tup in Fast_lists:\n",
    "    cur_name = tup[0]\n",
    "    cur_idx = FindSubIdx(cur_name,names)\n",
    "    if(tup[1]>0): #we are not considering subjects with no completed game cycles\n",
    "        if(tup[1]<=400):\n",
    "            Fast_subj.append(tup)\n",
    "        else:\n",
    "            Slow_subj.append(tup)"
   ]
  },
  {
   "cell_type": "code",
   "execution_count": 16,
   "metadata": {},
   "outputs": [
    {
     "name": "stdout",
     "output_type": "stream",
     "text": [
      "FFF\n",
      "Streamed\n",
      "[('A122LRCSBAD6DC', 373.33), ('A13G6IRFQBEE8K', 314.67), ('A19X8IA9EKC3XH', 346.67), ('A1RH69F7I73LRW', 373.33), ('A1SISJL5ST2PWH', 341.33), ('A1U2A42K8FV3RA', 384.0), ('AAE1COF4E8740', 320.0), ('ACGHHDT7RY1AH', 400.0), ('AFM65NU0UXIGP', 357.33)]\n",
      "Coupled\n",
      "[('A11LNK1U3DT08V', 485.33), ('A13B8594JIUFDF', 490.67), ('A13YOOKZFZJJ10', 517.33), ('A1DHJE69R494AH', 485.33), ('A1EP3XESXAG0EP', 448.0), ('A1FG2G0J8M9Q0N', 490.67), ('A1RV2LERVS0A4H', 496.0), ('A1U6L1L2CUQNU5', 501.33), ('A25W2106F90G7L', 442.67), ('A2BFFKEYMCBFWW', 490.67), ('A2DMUU9GE8QA5Q', 458.67), ('A2FM6APZP3FN22', 464.0), ('A2PW5825FIRONK', 426.67), ('A2RY4MK1FONYH1', 458.67), ('A2W8TJXW68442D', 442.67), ('A376AZWIBALRC', 501.33), ('A38V6MB0UIXY0N', 506.67), ('A3D1QQ8BEO75C6', 512.0), ('A3H2KP0VBENV3N', 501.33), ('A3IGG3RX4HXUV9', 517.33), ('A3LA0JBSIW4MUI', 506.67), ('A3LNWWZ7HGAGGM', 496.0), ('A3Q4Y5ONYPSQGF', 480.0), ('A7OZPNXIVO1FX', 469.33), ('AJZYNIL3ITOK0', 506.67), ('AQXRHIMQ7UK7O', 490.67), ('ASZBND3G5UYJG', 512.0), ('AUPXYEKITX8UT', 442.67), ('AXMPSUNKUBEIL', 506.67), ('AY4PZPXHSRCP5', 538.67), ('AY5OS6NZWVX22', 496.0), ('AZ8NBOTCBCLKG', 485.33)]\n"
     ]
    }
   ],
   "source": [
    "print(cond_list[0])\n",
    "print(\"Streamed\")\n",
    "print(Fast_subj)\n",
    "print(\"Coupled\")\n",
    "print(Slow_subj)"
   ]
  },
  {
   "cell_type": "code",
   "execution_count": 17,
   "metadata": {},
   "outputs": [
    {
     "name": "stdout",
     "output_type": "stream",
     "text": [
      "Streamed names\n",
      "['A122LRCSBAD6DC', 'A13G6IRFQBEE8K', 'A19X8IA9EKC3XH', 'A1RH69F7I73LRW', 'A1SISJL5ST2PWH', 'A1U2A42K8FV3RA', 'AAE1COF4E8740', 'ACGHHDT7RY1AH', 'AFM65NU0UXIGP']\n",
      "Coupled names\n",
      "['A11LNK1U3DT08V', 'A13B8594JIUFDF', 'A13YOOKZFZJJ10', 'A1DHJE69R494AH', 'A1EP3XESXAG0EP', 'A1FG2G0J8M9Q0N', 'A1RV2LERVS0A4H', 'A1U6L1L2CUQNU5', 'A25W2106F90G7L', 'A2BFFKEYMCBFWW', 'A2DMUU9GE8QA5Q', 'A2FM6APZP3FN22', 'A2PW5825FIRONK', 'A2RY4MK1FONYH1', 'A2W8TJXW68442D', 'A376AZWIBALRC', 'A38V6MB0UIXY0N', 'A3D1QQ8BEO75C6', 'A3H2KP0VBENV3N', 'A3IGG3RX4HXUV9', 'A3LA0JBSIW4MUI', 'A3LNWWZ7HGAGGM', 'A3Q4Y5ONYPSQGF', 'A7OZPNXIVO1FX', 'AJZYNIL3ITOK0', 'AQXRHIMQ7UK7O', 'ASZBND3G5UYJG', 'AUPXYEKITX8UT', 'AXMPSUNKUBEIL', 'AY4PZPXHSRCP5', 'AY5OS6NZWVX22', 'AZ8NBOTCBCLKG']\n"
     ]
    }
   ],
   "source": [
    "Fast_names = []\n",
    "Slow_names = []\n",
    "for tup in Fast_subj:\n",
    "    Fast_names.append(tup[0])\n",
    "for tup in Slow_subj:\n",
    "    Slow_names.append(tup[0])\n",
    "print(\"Streamed names\")\n",
    "print(Fast_names)\n",
    "print(\"Coupled names\")\n",
    "print(Slow_names)"
   ]
  },
  {
   "cell_type": "code",
   "execution_count": null,
   "metadata": {},
   "outputs": [],
   "source": []
  },
  {
   "cell_type": "code",
   "execution_count": null,
   "metadata": {},
   "outputs": [],
   "source": []
  }
 ],
 "metadata": {
  "kernelspec": {
   "display_name": "Python 3 (ipykernel)",
   "language": "python",
   "name": "python3"
  },
  "language_info": {
   "codemirror_mode": {
    "name": "ipython",
    "version": 3
   },
   "file_extension": ".py",
   "mimetype": "text/x-python",
   "name": "python",
   "nbconvert_exporter": "python",
   "pygments_lexer": "ipython3",
   "version": "3.9.13"
  }
 },
 "nbformat": 4,
 "nbformat_minor": 4
}
