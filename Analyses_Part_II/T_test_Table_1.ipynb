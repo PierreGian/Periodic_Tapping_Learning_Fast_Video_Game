{
 "cells": [
  {
   "cell_type": "code",
   "execution_count": 19,
   "metadata": {},
   "outputs": [],
   "source": [
    "import numpy as np\n",
    "import matplotlib.pyplot as plt\n",
    "import pylab\n",
    "from scipy import stats\n",
    "import glob\n",
    "import math"
   ]
  },
  {
   "cell_type": "code",
   "execution_count": 2,
   "metadata": {},
   "outputs": [
    {
     "name": "stdout",
     "output_type": "stream",
     "text": [
      "['name', 'Strategy', 'Measure', 'Value']\n",
      "['A19X8IA9EKC3XH', 'streamed', 'Right_Regularity', '0.114278710097203']\n"
     ]
    }
   ],
   "source": [
    "#Loading events text file to read information\n",
    "this_file = \"./Humans_T_test_data.txt\"\n",
    "file = open(this_file,\"r\") #open file with 'r' extension\n",
    "lines = [line.rstrip().split(\"\\t\") for line in file] #read lines in file\n",
    "lines = [[st.replace(\"\\\"\",\"\") for st in line] for line in lines] #remove quotation marks in the different strings\n",
    "cats = lines[0]\n",
    "data = lines[1:]\n",
    "print(cats)\n",
    "print(data[56])"
   ]
  },
  {
   "cell_type": "code",
   "execution_count": 3,
   "metadata": {},
   "outputs": [],
   "source": [
    "Measures = {\"Score\":0,\"Entropy\":1,\"LogCV\":2,\"Shot_Periodicity\":3,\"Shot_Regularity\":4,\"Right_Regularity\":5,\"Right_Periodicity\":6,\"Resets\":7,\"Deflations\":8,\"Misses\":9}\n",
    "Strategy = {\"streamed\":0,\"coupled\":1} #Strategy mapping\n",
    "Measure_List = list(Measures.keys())\n",
    "Strategy_List = list(Strategy.keys())\n",
    "Measure_Nb = len(Measure_List)\n",
    "Strategy_Nb = len(Strategy_List)\n",
    "\n",
    "Human_Data = [[[] for jj in range(Measure_Nb)] for ii in range(Strategy_Nb)]\n",
    "\n",
    "for curline in data:\n",
    "    cur_Strategy = curline[1]\n",
    "    strat_idx = Strategy[cur_Strategy]\n",
    "    curMeasure = curline[2]\n",
    "    measure_idx = Measures[curMeasure]\n",
    "    this_val = curline[3]\n",
    "    Human_Data[strat_idx][measure_idx].append(float(this_val))"
   ]
  },
  {
   "cell_type": "code",
   "execution_count": 6,
   "metadata": {},
   "outputs": [],
   "source": [
    "def cohend(d1, d2):\n",
    "    n1, n2 = d1.size, d2.size  #sample sizes\n",
    "    s1, s2 = np.var(d1, ddof=1), np.var(d2, ddof=1) #variances  for each sample\n",
    "    s = np.sqrt(((n1 - 1) * s1 + (n2 - 1) * s2) / (n1 + n2 - 2))  #pooled standard deviations\n",
    "    u1, u2 = np.mean(d1), np.mean(d2) #Means\n",
    "    ToReturn = (u1 - u2) / s\n",
    "    return ToReturn"
   ]
  },
  {
   "cell_type": "code",
   "execution_count": 8,
   "metadata": {},
   "outputs": [
    {
     "name": "stdout",
     "output_type": "stream",
     "text": [
      "Measure: Score\n",
      "M\tt\tp\td\n",
      "1121.65\t8.24\t7e-09\t2.18\n",
      "\n",
      "Measure: Entropy\n",
      "M\tt\tp\td\n",
      "-0.01\t-0.11\t0.9126889468\t-0.02\n",
      "\n",
      "Measure: LogCV\n",
      "M\tt\tp\td\n",
      "-0.13\t-2.39\t0.0219854007\t-0.5\n",
      "\n",
      "Measure: Shot_Periodicity\n",
      "M\tt\tp\td\n",
      "-129.76\t-12.16\t3.86e-08\t-4.81\n",
      "\n",
      "Measure: Shot_Regularity\n",
      "M\tt\tp\td\n",
      "-0.02\t-0.49\t0.6356136736\t-0.18\n",
      "\n",
      "Measure: Right_Regularity\n",
      "M\tt\tp\td\n",
      "-0.25\t-9.32\t0.0\t-2.06\n",
      "\n",
      "Measure: Right_Periodicity\n",
      "M\tt\tp\td\n",
      "-86.94\t-9.04\t1.6437e-06\t-3.79\n",
      "\n",
      "Measure: Resets\n",
      "M\tt\tp\td\n",
      "3.2\t1.65\t0.1139495049\t0.47\n",
      "\n",
      "Measure: Deflations\n",
      "M\tt\tp\td\n",
      "-15.67\t-5.29\t5.3336e-06\t-1.21\n",
      "\n",
      "Measure: Misses\n",
      "M\tt\tp\td\n",
      "-5.13\t-0.8\t0.4302219764\t-0.2\n",
      "\n"
     ]
    }
   ],
   "source": [
    "#Print all t-test results\n",
    "for mm in range(Measure_Nb):\n",
    "    c_Mea = Measure_List[mm]\n",
    "    ToPrint1 =\"Measure: \"+str(c_Mea)\n",
    "    print(ToPrint1)\n",
    "\n",
    "    streamed_dat = np.array(Human_Data[0][mm])\n",
    "    coupled_dat = np.array(Human_Data[1][mm])\n",
    "    u1, u2 = np.mean(streamed_dat), np.mean(coupled_dat) #Means\n",
    "    M_D = (u1 - u2)\n",
    "\n",
    "    (t,p)=stats.ttest_ind(streamed_dat, coupled_dat, equal_var=False) #Welch t-test which assumes unequal variances\n",
    "    c = cohend(streamed_dat, coupled_dat)\n",
    "\n",
    "    ToPrint2 = \"M\\tt\\tp\\td\\n\"+str(round(M_D,2))+\"\\t\"+str(round(t,2))+\"\\t\"+str(round(p,10))+\"\\t\"+str(round(c,2))+\"\\n\"\n",
    "    print(ToPrint2)"
   ]
  },
  {
   "cell_type": "code",
   "execution_count": 16,
   "metadata": {},
   "outputs": [
    {
     "name": "stdout",
     "output_type": "stream",
     "text": [
      "41\n",
      "41\n",
      "(0.7592651673513323, 8.704100311247966e-09)\n"
     ]
    }
   ],
   "source": [
    "#Compute correlation\n",
    "All_shot_per = Human_Data[0][3] + Human_Data[1][3]\n",
    "All_right_reg = Human_Data[0][5] + Human_Data[1][5]\n",
    "r_size = len(All_shot_per)\n",
    "print(len(All_shot_per))\n",
    "print(len(All_right_reg))\n",
    "\n",
    "res = stats.pearsonr(All_shot_per, All_right_reg)\n",
    "print(res)\n",
    "#print(res.confidence_interval())"
   ]
  },
  {
   "cell_type": "code",
   "execution_count": 20,
   "metadata": {},
   "outputs": [],
   "source": [
    "#Confidence interval - reference\n",
    "#https://onlinestatbook.com/2/estimation/correlation_ci.html\n",
    "#https://stackoverflow.com/questions/33176049/how-do-you-compute-the-confidence-interval-for-pearsons-r-in-python\n",
    "#\n",
    "def r_to_z(r):\n",
    "    return math.log((1 + r) / (1 - r)) / 2.0\n",
    "\n",
    "def z_to_r(z):\n",
    "    e = math.exp(2 * z)\n",
    "    return((e - 1) / (e + 1))\n",
    "\n",
    "def r_confidence_interval(r, alpha, n):\n",
    "    z = r_to_z(r)\n",
    "    se = 1.0 / math.sqrt(n - 3)\n",
    "    z_crit = stats.norm.ppf(1 - alpha/2)  # 2-tailed z critical value\n",
    "\n",
    "    lo = z - z_crit * se\n",
    "    hi = z + z_crit * se\n",
    "\n",
    "    # Return a sequence\n",
    "    return (z_to_r(lo), z_to_r(hi))"
   ]
  },
  {
   "cell_type": "code",
   "execution_count": 21,
   "metadata": {},
   "outputs": [
    {
     "name": "stdout",
     "output_type": "stream",
     "text": [
      "(0.5892586229706419, 0.8648879379348754)\n"
     ]
    }
   ],
   "source": [
    "CI = r_confidence_interval(res[0],0.05,r_size)\n",
    "print(CI)"
   ]
  },
  {
   "cell_type": "code",
   "execution_count": null,
   "metadata": {},
   "outputs": [],
   "source": []
  }
 ],
 "metadata": {
  "kernelspec": {
   "display_name": "Python 3 (ipykernel)",
   "language": "python",
   "name": "python3"
  },
  "language_info": {
   "codemirror_mode": {
    "name": "ipython",
    "version": 3
   },
   "file_extension": ".py",
   "mimetype": "text/x-python",
   "name": "python",
   "nbconvert_exporter": "python",
   "pygments_lexer": "ipython3",
   "version": "3.9.13"
  }
 },
 "nbformat": 4,
 "nbformat_minor": 4
}
