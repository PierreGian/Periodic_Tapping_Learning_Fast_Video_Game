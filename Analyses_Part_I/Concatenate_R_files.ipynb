{
 "cells": [
  {
   "cell_type": "code",
   "execution_count": 1,
   "metadata": {},
   "outputs": [],
   "source": [
    "import numpy as np\n",
    "import matplotlib.pyplot as plt\n",
    "from scipy.stats import pearsonr\n",
    "import pylab\n",
    "import glob\n",
    "import os"
   ]
  },
  {
   "cell_type": "code",
   "execution_count": 2,
   "metadata": {},
   "outputs": [
    {
     "name": "stdout",
     "output_type": "stream",
     "text": [
      "['./R_Data_Human_FFF.txt', './R_Data_MS17_FFF.txt']\n"
     ]
    }
   ],
   "source": [
    "List_Agents = ['Human_FFF','MS17_FFF']\n",
    "List_Files = ['./R_Data_'+name+'.txt' for name in List_Agents]\n",
    "print(List_Files)"
   ]
  },
  {
   "cell_type": "code",
   "execution_count": 3,
   "metadata": {},
   "outputs": [
    {
     "name": "stdout",
     "output_type": "stream",
     "text": [
      "./R_Data_ALL.txt\n"
     ]
    }
   ],
   "source": [
    "new_file = \"./R_Data_ALL.txt\"\n",
    "print(new_file)\n",
    "cfile = open(new_file,\"w+\")\n",
    "ToWrite = \"Type\\tSpeed\\tAgent\\tsubject\\tGameNb\\tDeflations\\tMisses\\tResets\\tShotReg\\tEntropy\\tLogCV\\tShotPer\\tRightReg\\tRightPer\\tScore\\n\"\n",
    "cfile.write(ToWrite)\n",
    "\n",
    "for cIDX,curFile in enumerate(List_Files):\n",
    "    fName = curFile\n",
    "    thisfile = open(fName,\"r\")\n",
    "    rawlines = thisfile.readlines()\n",
    "    for line in rawlines[1:]:\n",
    "        cfile.write(line)\n",
    "    thisfile.close()\n",
    "    \n",
    "cfile.close()"
   ]
  },
  {
   "cell_type": "code",
   "execution_count": null,
   "metadata": {},
   "outputs": [],
   "source": []
  },
  {
   "cell_type": "code",
   "execution_count": null,
   "metadata": {},
   "outputs": [],
   "source": []
  },
  {
   "cell_type": "code",
   "execution_count": null,
   "metadata": {},
   "outputs": [],
   "source": []
  }
 ],
 "metadata": {
  "kernelspec": {
   "display_name": "Python 3 (ipykernel)",
   "language": "python",
   "name": "python3"
  },
  "language_info": {
   "codemirror_mode": {
    "name": "ipython",
    "version": 3
   },
   "file_extension": ".py",
   "mimetype": "text/x-python",
   "name": "python",
   "nbconvert_exporter": "python",
   "pygments_lexer": "ipython3",
   "version": "3.9.13"
  }
 },
 "nbformat": 4,
 "nbformat_minor": 4
}
