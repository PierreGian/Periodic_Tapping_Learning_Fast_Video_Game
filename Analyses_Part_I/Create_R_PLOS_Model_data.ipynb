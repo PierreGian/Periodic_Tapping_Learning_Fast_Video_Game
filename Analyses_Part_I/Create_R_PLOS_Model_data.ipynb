{
 "cells": [
  {
   "cell_type": "code",
   "execution_count": 1,
   "metadata": {},
   "outputs": [],
   "source": [
    "import numpy as np\n",
    "import matplotlib.pyplot as plt\n",
    "import pylab\n",
    "from scipy import stats\n",
    "import glob\n",
    "import os\n",
    "import shutil"
   ]
  },
  {
   "cell_type": "code",
   "execution_count": 2,
   "metadata": {},
   "outputs": [],
   "source": [
    "#Function to identify the subject index of a given subject name\n",
    "def FindSubIdx(name,all_names):\n",
    "    for el,nn in enumerate(all_names):\n",
    "        if(nn==name):\n",
    "            return el"
   ]
  },
  {
   "cell_type": "markdown",
   "metadata": {},
   "source": [
    "# Load MS17_FFF"
   ]
  },
  {
   "cell_type": "code",
   "execution_count": 3,
   "metadata": {},
   "outputs": [],
   "source": [
    "GameNb=15\n",
    "AgentN = 100\n",
    "MeasureN = 10\n",
    "ModelName = \"MS17_FFF\"\n",
    "\n",
    "def getList(dict):\n",
    "    return dict.keys()"
   ]
  },
  {
   "cell_type": "code",
   "execution_count": 4,
   "metadata": {},
   "outputs": [
    {
     "name": "stdout",
     "output_type": "stream",
     "text": [
      "['FFF_Deflations.txt', 'FFF_Misses.txt', 'FFF_Resets.txt', 'Amplitude_FFF_Transfer.txt', 'Entropy_FFF_Transfer.txt', 'logCVIFI_FFF_MS17_FFF.txt', 'Periodicity_FFF_Transfer.txt', 'Rights_Amplitude_FFF_Transfer.txt', 'Rights_Periodicity_FFF_Transfer.txt', 'AllScores_FFF.txt']\n"
     ]
    }
   ],
   "source": [
    "measures = {'Score':0,'Entropy':1,'Amplitude':2,'Periodicity':3,'Deflations':4,'Misses':5,'Resets':6,'Right_Amplitude':7,'LogCV':8}\n",
    "allMeasures = [ee for ee in measures.keys()]\n",
    "cv_name = \"logCVIFI_FFF_\"+ModelName+\".txt\"\n",
    "#print(allMeasures)\n",
    "Map_File_Fast = {\"FFF_Deflations.txt\":'Deflations',\"FFF_Misses.txt\":'Misses',\n",
    "                \"FFF_Resets.txt\":'Resets',\"Amplitude_FFF_Transfer.txt\":'Amplitude',\n",
    "                \"Entropy_FFF_Transfer.txt\":'Entropy',cv_name:'LogCV',\n",
    "                \"Periodicity_FFF_Transfer.txt\":'Periodicity',\"Rights_Amplitude_FFF_Transfer.txt\":'Right_Amplitude',\n",
    "                \"Rights_Periodicity_FFF_Transfer.txt\":'Right-Periodicity',\n",
    "                \"AllScores_FFF.txt\":'Score'}\n",
    "List_Files = list(getList(Map_File_Fast))\n",
    "print(List_Files)\n",
    "pb_idx = [3,4,5,6,7,8] #problem indices"
   ]
  },
  {
   "cell_type": "code",
   "execution_count": 5,
   "metadata": {},
   "outputs": [
    {
     "name": "stdout",
     "output_type": "stream",
     "text": [
      "C:\\Users\\pierregianferrara\\Documents\\Academic\\CMU_PhD\\Research\\Papers\\Paper2_2022\\KiltHub_v2\\Code\\Analyses_Part_I\n",
      "MS17_FFF\n",
      "./R_Data_MS17_FFF.txt\n"
     ]
    },
    {
     "data": {
      "text/plain": [
       "111"
      ]
     },
     "execution_count": 5,
     "metadata": {},
     "output_type": "execute_result"
    }
   ],
   "source": [
    "import os \n",
    "#current dir\n",
    "cwd = os.getcwd()\n",
    "print(cwd)\n",
    "\n",
    "#Open a new file and write to file every single line (not last line if empty): make sure to use a different name\n",
    "cur_path = cwd\n",
    "print(ModelName)\n",
    "new_file = \"./R_Data_\"+ModelName+\".txt\"\n",
    "print(new_file)\n",
    "cfile = open(new_file,\"w+\")\n",
    "ToWrite = \"Type\\tSpeed\\tAgent\\tsubject\\tGameNb\\tDeflations\\tMisses\\tResets\\tShotReg\\tEntropy\\tLogCV\\tShotPer\\tRightReg\\tRightPer\\tScore\\n\"\n",
    "cfile.write(ToWrite)"
   ]
  },
  {
   "cell_type": "code",
   "execution_count": 6,
   "metadata": {},
   "outputs": [
    {
     "name": "stdout",
     "output_type": "stream",
     "text": [
      "../Inputs/Models_Part_I/MS17_FFF/FFF_Deflations.txt\n",
      "../Inputs/Models_Part_I/MS17_FFF/FFF_Misses.txt\n",
      "../Inputs/Models_Part_I/MS17_FFF/FFF_Resets.txt\n",
      "../Inputs/Models_Part_I/MS17_FFF/Amplitude_FFF_Transfer.txt\n",
      "../Inputs/Models_Part_I/MS17_FFF/Entropy_FFF_Transfer.txt\n",
      "../Inputs/Models_Part_I/MS17_FFF/logCVIFI_FFF_MS17_FFF.txt\n",
      "../Inputs/Models_Part_I/MS17_FFF/Periodicity_FFF_Transfer.txt\n",
      "../Inputs/Models_Part_I/MS17_FFF/Rights_Amplitude_FFF_Transfer.txt\n",
      "../Inputs/Models_Part_I/MS17_FFF/Rights_Periodicity_FFF_Transfer.txt\n",
      "../Inputs/Models_Part_I/MS17_FFF/AllScores_FFF.txt\n"
     ]
    }
   ],
   "source": [
    "#loop across speeds here\n",
    "#print(ModelName)\n",
    "AllData = np.zeros((MeasureN,AgentN,GameNb))\n",
    "names = []\n",
    "\n",
    "for cIDX,curFile in enumerate(List_Files):\n",
    "    measure_File= '../Inputs/Models_Part_I/'+ModelName+'/'+curFile\n",
    "    print(measure_File)\n",
    "    thisfile = open(measure_File,\"r\")\n",
    "    AllLines = [line.rstrip().split(\"\\t\") for line in thisfile]\n",
    "    this_data = np.array([[float(ee) for ee in rr] for rr in [el[1:] for el in AllLines[1:]]]) #read lines in file\n",
    "    if(cIDX==0):\n",
    "        names = [el[0] for el in AllLines[1:]]\n",
    "    thisfile.close()\n",
    "    this_Measure = Map_File_Fast[curFile]\n",
    "    cur_speed = 'FFF'\n",
    "    \n",
    "    #Get all means and standard deviations and write to file\n",
    "    if(not(cIDX in pb_idx)):\n",
    "        #add to data\n",
    "        for nn in range(AgentN):\n",
    "            line_data = this_data[nn]\n",
    "            c_name = AllLines[1:][nn][0] #get this specific name\n",
    "            nameIDX = FindSubIdx(c_name,names) #find corresponding index\n",
    "            for gg in range(GameNb):\n",
    "                AllData[cIDX,nameIDX,gg] = line_data[gg]\n",
    "    else:\n",
    "        if(cIDX==4):\n",
    "            this_data[this_data>4.70] = np.nan\n",
    "            #add to data\n",
    "            for nn in range(AgentN):\n",
    "                line_data = this_data[nn]\n",
    "                c_name = AllLines[1:][nn][0] #get this specific name\n",
    "                nameIDX = FindSubIdx(c_name,names) #find corresponding index\n",
    "                for gg in range(GameNb):\n",
    "                    AllData[cIDX,nameIDX,gg] = line_data[gg]\n",
    "        else:\n",
    "            this_data[this_data==0.0] = np.nan\n",
    "            #add to data\n",
    "            for nn in range(AgentN):\n",
    "                line_data = this_data[nn]\n",
    "                c_name = AllLines[1:][nn][0] #get this specific name\n",
    "                nameIDX = FindSubIdx(c_name,names) #find corresponding index\n",
    "                for gg in range(GameNb):\n",
    "                    AllData[cIDX,nameIDX,gg] = line_data[gg]\n",
    "\n",
    "for nn in range(AgentN):\n",
    "    for gg in range(GameNb):\n",
    "        #Write to File\n",
    "        ToWrite = \"Model\\tFFF\\t\"+ModelName+'\\t'+names[nn]+'\\t'+str(gg+1)\n",
    "        for iii in range(MeasureN):\n",
    "            ToWrite = ToWrite + '\\t' + str(AllData[iii,nn,gg])\n",
    "        ToWrite = ToWrite + '\\n'\n",
    "        cfile.write(ToWrite)\n",
    "        \n",
    "#Finally, close file when done\n",
    "cfile.close()"
   ]
  },
  {
   "cell_type": "code",
   "execution_count": null,
   "metadata": {},
   "outputs": [],
   "source": []
  },
  {
   "cell_type": "code",
   "execution_count": null,
   "metadata": {},
   "outputs": [],
   "source": []
  }
 ],
 "metadata": {
  "kernelspec": {
   "display_name": "Python 3 (ipykernel)",
   "language": "python",
   "name": "python3"
  },
  "language_info": {
   "codemirror_mode": {
    "name": "ipython",
    "version": 3
   },
   "file_extension": ".py",
   "mimetype": "text/x-python",
   "name": "python",
   "nbconvert_exporter": "python",
   "pygments_lexer": "ipython3",
   "version": "3.9.13"
  }
 },
 "nbformat": 4,
 "nbformat_minor": 4
}
