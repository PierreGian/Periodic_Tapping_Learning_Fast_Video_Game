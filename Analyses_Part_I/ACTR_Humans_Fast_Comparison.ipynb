{
 "cells": [
  {
   "cell_type": "code",
   "execution_count": 1,
   "id": "a15ed13f",
   "metadata": {},
   "outputs": [
    {
     "name": "stderr",
     "output_type": "stream",
     "text": [
      "Loading required package: Matrix\n",
      "\n",
      "\n",
      "Attaching package: 'dplyr'\n",
      "\n",
      "\n",
      "The following objects are masked from 'package:stats':\n",
      "\n",
      "    filter, lag\n",
      "\n",
      "\n",
      "The following objects are masked from 'package:base':\n",
      "\n",
      "    intersect, setdiff, setequal, union\n",
      "\n",
      "\n",
      "\n",
      "Attaching package: 'MASS'\n",
      "\n",
      "\n",
      "The following object is masked from 'package:dplyr':\n",
      "\n",
      "    select\n",
      "\n",
      "\n",
      "Loading required package: coda\n",
      "\n",
      "************\n",
      "Welcome to BayesFactor 0.9.12-4.4. If you have questions, please contact Richard Morey (richarddmorey@gmail.com).\n",
      "\n",
      "Type BFManual() to open the manual.\n",
      "************\n",
      "\n",
      "Loading required package: carData\n",
      "\n",
      "\n",
      "Attaching package: 'car'\n",
      "\n",
      "\n",
      "The following object is masked from 'package:dplyr':\n",
      "\n",
      "    recode\n",
      "\n",
      "\n",
      "\n",
      "Attaching package: 'lmerTest'\n",
      "\n",
      "\n",
      "The following object is masked from 'package:lme4':\n",
      "\n",
      "    lmer\n",
      "\n",
      "\n",
      "The following object is masked from 'package:stats':\n",
      "\n",
      "    step\n",
      "\n",
      "\n",
      "------------------------------------------------------------------------------\n",
      "\n",
      "You have loaded plyr after dplyr - this is likely to cause problems.\n",
      "If you need functions from both plyr and dplyr, please load plyr first, then dplyr:\n",
      "library(plyr); library(dplyr)\n",
      "\n",
      "------------------------------------------------------------------------------\n",
      "\n",
      "\n",
      "Attaching package: 'plyr'\n",
      "\n",
      "\n",
      "The following objects are masked from 'package:dplyr':\n",
      "\n",
      "    arrange, count, desc, failwith, id, mutate, rename, summarise,\n",
      "    summarize\n",
      "\n",
      "\n",
      "corrplot 0.92 loaded\n",
      "\n",
      "\n",
      "Attaching package: 'rstatix'\n",
      "\n",
      "\n",
      "The following objects are masked from 'package:plyr':\n",
      "\n",
      "    desc, mutate\n",
      "\n",
      "\n",
      "The following object is masked from 'package:MASS':\n",
      "\n",
      "    select\n",
      "\n",
      "\n",
      "The following object is masked from 'package:stats':\n",
      "\n",
      "    filter\n",
      "\n",
      "\n",
      "\n",
      "Attaching package: 'ggpubr'\n",
      "\n",
      "\n",
      "The following object is masked from 'package:plyr':\n",
      "\n",
      "    mutate\n",
      "\n",
      "\n",
      "\n",
      "Attaching package: 'correlation'\n",
      "\n",
      "\n",
      "The following object is masked from 'package:rstatix':\n",
      "\n",
      "    cor_test\n",
      "\n",
      "\n",
      "\n",
      "Attaching package: 'cowplot'\n",
      "\n",
      "\n",
      "The following object is masked from 'package:ggpubr':\n",
      "\n",
      "    get_legend\n",
      "\n",
      "\n"
     ]
    }
   ],
   "source": [
    "library(\"lme4\")\n",
    "library(\"ggplot2\")\n",
    "library(\"dplyr\")\n",
    "library(MASS)\n",
    "library(\"BayesFactor\")\n",
    "library(\"car\")\n",
    "library(\"scales\")\n",
    "library(\"lmerTest\")\n",
    "#library(\"MuMIn\")\n",
    "library(\"plyr\")\n",
    "library(\"knitr\")\n",
    "library(\"MASS\")\n",
    "library(\"corrplot\")\n",
    "library(\"RColorBrewer\")\n",
    "library(\"rstatix\")\n",
    "library(\"ggpubr\")\n",
    "#library(\"rgr\")\n",
    "library(\"lattice\")\n",
    "library(\"correlation\")\n",
    "library(\"cowplot\")"
   ]
  },
  {
   "cell_type": "code",
   "execution_count": 2,
   "id": "cb5dd457",
   "metadata": {},
   "outputs": [],
   "source": [
    "##Source for \"SummarySE\": http://www.cookbook-r.com/Manipulating_data/Summarizing_data/\n",
    "##\n",
    "##\n",
    "## Gives count, mean, standard deviation, standard error of the mean, and confidence interval (default 95%).\n",
    "##   data: a data frame.\n",
    "##   measurevar: the name of a column that contains the variable to be summariezed\n",
    "##   groupvars: a vector containing names of columns that contain grouping variables\n",
    "##   na.rm: a boolean that indicates whether to ignore NA's\n",
    "##   conf.interval: the percent range of the confidence interval (default is 95%)\n",
    "summarySE <- function(data=NULL, measurevar, groupvars=NULL, na.rm=FALSE,\n",
    "                      conf.interval=.95, .drop=TRUE) {\n",
    "    library(plyr)\n",
    "\n",
    "    # New version of length which can handle NA's: if na.rm==T, don't count them\n",
    "    length2 <- function (x, na.rm=FALSE) {\n",
    "        if (na.rm) sum(!is.na(x))\n",
    "        else       length(x)\n",
    "    }\n",
    "\n",
    "    # This does the summary. For each group's data frame, return a vector with\n",
    "    # N, mean, and sd\n",
    "    datac <- ddply(data, groupvars, .drop=.drop,\n",
    "      .fun = function(xx, col) {\n",
    "        c(N    = length2(xx[[col]], na.rm=na.rm),\n",
    "          mean = mean   (xx[[col]], na.rm=na.rm),\n",
    "          sd   = sd     (xx[[col]], na.rm=na.rm)\n",
    "        )\n",
    "      },\n",
    "      measurevar\n",
    "    )\n",
    "\n",
    "    # Rename the \"mean\" column    \n",
    "    datac <- rename(datac, c(\"mean\" = measurevar))\n",
    "\n",
    "    datac$se <- datac$sd / sqrt(datac$N)  # Calculate standard error of the mean\n",
    "\n",
    "    # Confidence interval multiplier for standard error\n",
    "    # Calculate t-statistic for confidence interval: \n",
    "    # e.g., if conf.interval is .95, use .975 (above/below), and use df=N-1\n",
    "    ciMult <- qt(conf.interval/2 + .5, datac$N-1)\n",
    "    datac$ci <- datac$se * ciMult\n",
    "\n",
    "    return(datac)\n",
    "}"
   ]
  },
  {
   "cell_type": "code",
   "execution_count": 3,
   "id": "bd97509a",
   "metadata": {},
   "outputs": [
    {
     "data": {
      "text/html": [
       "2115"
      ],
      "text/latex": [
       "2115"
      ],
      "text/markdown": [
       "2115"
      ],
      "text/plain": [
       "[1] 2115"
      ]
     },
     "metadata": {},
     "output_type": "display_data"
    },
    {
     "data": {
      "text/html": [
       "<table class=\"dataframe\">\n",
       "<caption>A data.frame: 10 × 15</caption>\n",
       "<thead>\n",
       "\t<tr><th></th><th scope=col>Type</th><th scope=col>Speed</th><th scope=col>Agent</th><th scope=col>subject</th><th scope=col>GameNb</th><th scope=col>Deflations</th><th scope=col>Misses</th><th scope=col>Resets</th><th scope=col>ShotReg</th><th scope=col>Entropy</th><th scope=col>LogCV</th><th scope=col>ShotPer</th><th scope=col>RightReg</th><th scope=col>RightPer</th><th scope=col>Score</th></tr>\n",
       "\t<tr><th></th><th scope=col>&lt;chr&gt;</th><th scope=col>&lt;chr&gt;</th><th scope=col>&lt;chr&gt;</th><th scope=col>&lt;chr&gt;</th><th scope=col>&lt;int&gt;</th><th scope=col>&lt;dbl&gt;</th><th scope=col>&lt;dbl&gt;</th><th scope=col>&lt;dbl&gt;</th><th scope=col>&lt;dbl&gt;</th><th scope=col>&lt;dbl&gt;</th><th scope=col>&lt;dbl&gt;</th><th scope=col>&lt;dbl&gt;</th><th scope=col>&lt;dbl&gt;</th><th scope=col>&lt;dbl&gt;</th><th scope=col>&lt;dbl&gt;</th></tr>\n",
       "</thead>\n",
       "<tbody>\n",
       "\t<tr><th scope=row>1</th><td>Human</td><td>FFF</td><td>Human_FFF</td><td>A11LNK1U3DT08V</td><td> 1</td><td>23</td><td>45</td><td>17</td><td>0.5308518</td><td>3.117663</td><td>-1.045539</td><td>512</td><td>0.3869265</td><td>528</td><td> 526</td></tr>\n",
       "\t<tr><th scope=row>2</th><td>Human</td><td>FFF</td><td>Human_FFF</td><td>A11LNK1U3DT08V</td><td> 2</td><td>15</td><td>39</td><td> 9</td><td>0.4488193</td><td>3.063328</td><td>-1.257139</td><td>496</td><td>0.3037540</td><td>496</td><td>1626</td></tr>\n",
       "\t<tr><th scope=row>3</th><td>Human</td><td>FFF</td><td>Human_FFF</td><td>A11LNK1U3DT08V</td><td> 3</td><td>19</td><td>50</td><td>10</td><td>0.3585762</td><td>3.053468</td><td>-1.233135</td><td>480</td><td>0.2317211</td><td>496</td><td>1604</td></tr>\n",
       "\t<tr><th scope=row>4</th><td>Human</td><td>FFF</td><td>Human_FFF</td><td>A11LNK1U3DT08V</td><td> 4</td><td>11</td><td>33</td><td>11</td><td>0.4825653</td><td>2.692394</td><td>-1.325335</td><td>512</td><td>0.3582805</td><td>512</td><td>1640</td></tr>\n",
       "\t<tr><th scope=row>5</th><td>Human</td><td>FFF</td><td>Human_FFF</td><td>A11LNK1U3DT08V</td><td> 5</td><td>19</td><td>49</td><td>12</td><td>0.3362358</td><td>3.552236</td><td>-1.092696</td><td>432</td><td>0.1994396</td><td>432</td><td>1408</td></tr>\n",
       "\t<tr><th scope=row>6</th><td>Human</td><td>FFF</td><td>Human_FFF</td><td>A11LNK1U3DT08V</td><td> 6</td><td>12</td><td>31</td><td> 4</td><td>0.6172684</td><td>2.654637</td><td>-1.510542</td><td>496</td><td>0.4029821</td><td>496</td><td>1640</td></tr>\n",
       "\t<tr><th scope=row>7</th><td>Human</td><td>FFF</td><td>Human_FFF</td><td>A11LNK1U3DT08V</td><td> 7</td><td>12</td><td>30</td><td> 2</td><td>0.5474491</td><td>2.438955</td><td>-1.556296</td><td>496</td><td>0.3957245</td><td>496</td><td>1840</td></tr>\n",
       "\t<tr><th scope=row>8</th><td>Human</td><td>FFF</td><td>Human_FFF</td><td>A11LNK1U3DT08V</td><td> 8</td><td>18</td><td>30</td><td> 7</td><td>0.4991873</td><td>2.795948</td><td>-1.378016</td><td>480</td><td>0.2724625</td><td>496</td><td>1844</td></tr>\n",
       "\t<tr><th scope=row>9</th><td>Human</td><td>FFF</td><td>Human_FFF</td><td>A11LNK1U3DT08V</td><td> 9</td><td>18</td><td>25</td><td> 4</td><td>0.5047437</td><td>2.747487</td><td>-1.326809</td><td>496</td><td>0.3023007</td><td>496</td><td>1656</td></tr>\n",
       "\t<tr><th scope=row>10</th><td>Human</td><td>FFF</td><td>Human_FFF</td><td>A11LNK1U3DT08V</td><td>10</td><td>19</td><td>31</td><td> 5</td><td>0.4750273</td><td>2.765256</td><td>-1.404229</td><td>512</td><td>0.3182475</td><td>512</td><td>1638</td></tr>\n",
       "</tbody>\n",
       "</table>\n"
      ],
      "text/latex": [
       "A data.frame: 10 × 15\n",
       "\\begin{tabular}{r|lllllllllllllll}\n",
       "  & Type & Speed & Agent & subject & GameNb & Deflations & Misses & Resets & ShotReg & Entropy & LogCV & ShotPer & RightReg & RightPer & Score\\\\\n",
       "  & <chr> & <chr> & <chr> & <chr> & <int> & <dbl> & <dbl> & <dbl> & <dbl> & <dbl> & <dbl> & <dbl> & <dbl> & <dbl> & <dbl>\\\\\n",
       "\\hline\n",
       "\t1 & Human & FFF & Human\\_FFF & A11LNK1U3DT08V &  1 & 23 & 45 & 17 & 0.5308518 & 3.117663 & -1.045539 & 512 & 0.3869265 & 528 &  526\\\\\n",
       "\t2 & Human & FFF & Human\\_FFF & A11LNK1U3DT08V &  2 & 15 & 39 &  9 & 0.4488193 & 3.063328 & -1.257139 & 496 & 0.3037540 & 496 & 1626\\\\\n",
       "\t3 & Human & FFF & Human\\_FFF & A11LNK1U3DT08V &  3 & 19 & 50 & 10 & 0.3585762 & 3.053468 & -1.233135 & 480 & 0.2317211 & 496 & 1604\\\\\n",
       "\t4 & Human & FFF & Human\\_FFF & A11LNK1U3DT08V &  4 & 11 & 33 & 11 & 0.4825653 & 2.692394 & -1.325335 & 512 & 0.3582805 & 512 & 1640\\\\\n",
       "\t5 & Human & FFF & Human\\_FFF & A11LNK1U3DT08V &  5 & 19 & 49 & 12 & 0.3362358 & 3.552236 & -1.092696 & 432 & 0.1994396 & 432 & 1408\\\\\n",
       "\t6 & Human & FFF & Human\\_FFF & A11LNK1U3DT08V &  6 & 12 & 31 &  4 & 0.6172684 & 2.654637 & -1.510542 & 496 & 0.4029821 & 496 & 1640\\\\\n",
       "\t7 & Human & FFF & Human\\_FFF & A11LNK1U3DT08V &  7 & 12 & 30 &  2 & 0.5474491 & 2.438955 & -1.556296 & 496 & 0.3957245 & 496 & 1840\\\\\n",
       "\t8 & Human & FFF & Human\\_FFF & A11LNK1U3DT08V &  8 & 18 & 30 &  7 & 0.4991873 & 2.795948 & -1.378016 & 480 & 0.2724625 & 496 & 1844\\\\\n",
       "\t9 & Human & FFF & Human\\_FFF & A11LNK1U3DT08V &  9 & 18 & 25 &  4 & 0.5047437 & 2.747487 & -1.326809 & 496 & 0.3023007 & 496 & 1656\\\\\n",
       "\t10 & Human & FFF & Human\\_FFF & A11LNK1U3DT08V & 10 & 19 & 31 &  5 & 0.4750273 & 2.765256 & -1.404229 & 512 & 0.3182475 & 512 & 1638\\\\\n",
       "\\end{tabular}\n"
      ],
      "text/markdown": [
       "\n",
       "A data.frame: 10 × 15\n",
       "\n",
       "| <!--/--> | Type &lt;chr&gt; | Speed &lt;chr&gt; | Agent &lt;chr&gt; | subject &lt;chr&gt; | GameNb &lt;int&gt; | Deflations &lt;dbl&gt; | Misses &lt;dbl&gt; | Resets &lt;dbl&gt; | ShotReg &lt;dbl&gt; | Entropy &lt;dbl&gt; | LogCV &lt;dbl&gt; | ShotPer &lt;dbl&gt; | RightReg &lt;dbl&gt; | RightPer &lt;dbl&gt; | Score &lt;dbl&gt; |\n",
       "|---|---|---|---|---|---|---|---|---|---|---|---|---|---|---|---|\n",
       "| 1 | Human | FFF | Human_FFF | A11LNK1U3DT08V |  1 | 23 | 45 | 17 | 0.5308518 | 3.117663 | -1.045539 | 512 | 0.3869265 | 528 |  526 |\n",
       "| 2 | Human | FFF | Human_FFF | A11LNK1U3DT08V |  2 | 15 | 39 |  9 | 0.4488193 | 3.063328 | -1.257139 | 496 | 0.3037540 | 496 | 1626 |\n",
       "| 3 | Human | FFF | Human_FFF | A11LNK1U3DT08V |  3 | 19 | 50 | 10 | 0.3585762 | 3.053468 | -1.233135 | 480 | 0.2317211 | 496 | 1604 |\n",
       "| 4 | Human | FFF | Human_FFF | A11LNK1U3DT08V |  4 | 11 | 33 | 11 | 0.4825653 | 2.692394 | -1.325335 | 512 | 0.3582805 | 512 | 1640 |\n",
       "| 5 | Human | FFF | Human_FFF | A11LNK1U3DT08V |  5 | 19 | 49 | 12 | 0.3362358 | 3.552236 | -1.092696 | 432 | 0.1994396 | 432 | 1408 |\n",
       "| 6 | Human | FFF | Human_FFF | A11LNK1U3DT08V |  6 | 12 | 31 |  4 | 0.6172684 | 2.654637 | -1.510542 | 496 | 0.4029821 | 496 | 1640 |\n",
       "| 7 | Human | FFF | Human_FFF | A11LNK1U3DT08V |  7 | 12 | 30 |  2 | 0.5474491 | 2.438955 | -1.556296 | 496 | 0.3957245 | 496 | 1840 |\n",
       "| 8 | Human | FFF | Human_FFF | A11LNK1U3DT08V |  8 | 18 | 30 |  7 | 0.4991873 | 2.795948 | -1.378016 | 480 | 0.2724625 | 496 | 1844 |\n",
       "| 9 | Human | FFF | Human_FFF | A11LNK1U3DT08V |  9 | 18 | 25 |  4 | 0.5047437 | 2.747487 | -1.326809 | 496 | 0.3023007 | 496 | 1656 |\n",
       "| 10 | Human | FFF | Human_FFF | A11LNK1U3DT08V | 10 | 19 | 31 |  5 | 0.4750273 | 2.765256 | -1.404229 | 512 | 0.3182475 | 512 | 1638 |\n",
       "\n"
      ],
      "text/plain": [
       "   Type  Speed Agent     subject        GameNb Deflations Misses Resets\n",
       "1  Human FFF   Human_FFF A11LNK1U3DT08V  1     23         45     17    \n",
       "2  Human FFF   Human_FFF A11LNK1U3DT08V  2     15         39      9    \n",
       "3  Human FFF   Human_FFF A11LNK1U3DT08V  3     19         50     10    \n",
       "4  Human FFF   Human_FFF A11LNK1U3DT08V  4     11         33     11    \n",
       "5  Human FFF   Human_FFF A11LNK1U3DT08V  5     19         49     12    \n",
       "6  Human FFF   Human_FFF A11LNK1U3DT08V  6     12         31      4    \n",
       "7  Human FFF   Human_FFF A11LNK1U3DT08V  7     12         30      2    \n",
       "8  Human FFF   Human_FFF A11LNK1U3DT08V  8     18         30      7    \n",
       "9  Human FFF   Human_FFF A11LNK1U3DT08V  9     18         25      4    \n",
       "10 Human FFF   Human_FFF A11LNK1U3DT08V 10     19         31      5    \n",
       "   ShotReg   Entropy  LogCV     ShotPer RightReg  RightPer Score\n",
       "1  0.5308518 3.117663 -1.045539 512     0.3869265 528       526 \n",
       "2  0.4488193 3.063328 -1.257139 496     0.3037540 496      1626 \n",
       "3  0.3585762 3.053468 -1.233135 480     0.2317211 496      1604 \n",
       "4  0.4825653 2.692394 -1.325335 512     0.3582805 512      1640 \n",
       "5  0.3362358 3.552236 -1.092696 432     0.1994396 432      1408 \n",
       "6  0.6172684 2.654637 -1.510542 496     0.4029821 496      1640 \n",
       "7  0.5474491 2.438955 -1.556296 496     0.3957245 496      1840 \n",
       "8  0.4991873 2.795948 -1.378016 480     0.2724625 496      1844 \n",
       "9  0.5047437 2.747487 -1.326809 496     0.3023007 496      1656 \n",
       "10 0.4750273 2.765256 -1.404229 512     0.3182475 512      1638 "
      ]
     },
     "metadata": {},
     "output_type": "display_data"
    }
   ],
   "source": [
    "DataPath <-'./R_Data_ALL.txt'\n",
    "data <- read.delim(DataPath, sep=\"\\t\", header=T, stringsAsFactors=F)\n",
    "nb_rows<-nrow(data)\n",
    "nb_rows\n",
    "head(data,10)"
   ]
  },
  {
   "cell_type": "code",
   "execution_count": 4,
   "id": "1ddb864c",
   "metadata": {},
   "outputs": [
    {
     "data": {
      "text/plain": [
       "           \n",
       "              1   2   3   4   5   6   7   8   9  10  11  12  13  14  15\n",
       "  Human_FFF  41  41  41  41  41  41  41  41  41  41  41  41  41  41  41\n",
       "  MS17_FFF  100 100 100 100 100 100 100 100 100 100 100 100 100 100 100"
      ]
     },
     "metadata": {},
     "output_type": "display_data"
    }
   ],
   "source": [
    "table(data$Agent, data$GameNb)"
   ]
  },
  {
   "cell_type": "code",
   "execution_count": 5,
   "id": "739266a1",
   "metadata": {},
   "outputs": [],
   "source": [
    "fast_data <- data\n",
    "\n",
    "ar <- 0.4\n",
    "just_ratio <- 0.5\n",
    "sz_line <- 0.6"
   ]
  },
  {
   "cell_type": "markdown",
   "id": "cee9721e",
   "metadata": {},
   "source": [
    "# Compute RMSE for FFF data"
   ]
  },
  {
   "cell_type": "code",
   "execution_count": 6,
   "id": "98e9cb71",
   "metadata": {},
   "outputs": [
    {
     "data": {
      "text/html": [
       "<table class=\"dataframe\">\n",
       "<caption>A data.frame: 10 × 15</caption>\n",
       "<thead>\n",
       "\t<tr><th></th><th scope=col>Type</th><th scope=col>Speed</th><th scope=col>Agent</th><th scope=col>subject</th><th scope=col>GameNb</th><th scope=col>Deflations</th><th scope=col>Misses</th><th scope=col>Resets</th><th scope=col>ShotReg</th><th scope=col>Entropy</th><th scope=col>LogCV</th><th scope=col>ShotPer</th><th scope=col>RightReg</th><th scope=col>RightPer</th><th scope=col>Score</th></tr>\n",
       "\t<tr><th></th><th scope=col>&lt;chr&gt;</th><th scope=col>&lt;chr&gt;</th><th scope=col>&lt;chr&gt;</th><th scope=col>&lt;chr&gt;</th><th scope=col>&lt;int&gt;</th><th scope=col>&lt;dbl&gt;</th><th scope=col>&lt;dbl&gt;</th><th scope=col>&lt;dbl&gt;</th><th scope=col>&lt;dbl&gt;</th><th scope=col>&lt;dbl&gt;</th><th scope=col>&lt;dbl&gt;</th><th scope=col>&lt;dbl&gt;</th><th scope=col>&lt;dbl&gt;</th><th scope=col>&lt;dbl&gt;</th><th scope=col>&lt;dbl&gt;</th></tr>\n",
       "</thead>\n",
       "<tbody>\n",
       "\t<tr><th scope=row>1</th><td>Human</td><td>FFF</td><td>Human_FFF</td><td>A11LNK1U3DT08V</td><td> 1</td><td>23</td><td>45</td><td>17</td><td>0.5308518</td><td>3.117663</td><td>-1.045539</td><td>512</td><td>0.3869265</td><td>528</td><td> 526</td></tr>\n",
       "\t<tr><th scope=row>2</th><td>Human</td><td>FFF</td><td>Human_FFF</td><td>A11LNK1U3DT08V</td><td> 2</td><td>15</td><td>39</td><td> 9</td><td>0.4488193</td><td>3.063328</td><td>-1.257139</td><td>496</td><td>0.3037540</td><td>496</td><td>1626</td></tr>\n",
       "\t<tr><th scope=row>3</th><td>Human</td><td>FFF</td><td>Human_FFF</td><td>A11LNK1U3DT08V</td><td> 3</td><td>19</td><td>50</td><td>10</td><td>0.3585762</td><td>3.053468</td><td>-1.233135</td><td>480</td><td>0.2317211</td><td>496</td><td>1604</td></tr>\n",
       "\t<tr><th scope=row>4</th><td>Human</td><td>FFF</td><td>Human_FFF</td><td>A11LNK1U3DT08V</td><td> 4</td><td>11</td><td>33</td><td>11</td><td>0.4825653</td><td>2.692394</td><td>-1.325335</td><td>512</td><td>0.3582805</td><td>512</td><td>1640</td></tr>\n",
       "\t<tr><th scope=row>5</th><td>Human</td><td>FFF</td><td>Human_FFF</td><td>A11LNK1U3DT08V</td><td> 5</td><td>19</td><td>49</td><td>12</td><td>0.3362358</td><td>3.552236</td><td>-1.092696</td><td>432</td><td>0.1994396</td><td>432</td><td>1408</td></tr>\n",
       "\t<tr><th scope=row>6</th><td>Human</td><td>FFF</td><td>Human_FFF</td><td>A11LNK1U3DT08V</td><td> 6</td><td>12</td><td>31</td><td> 4</td><td>0.6172684</td><td>2.654637</td><td>-1.510542</td><td>496</td><td>0.4029821</td><td>496</td><td>1640</td></tr>\n",
       "\t<tr><th scope=row>7</th><td>Human</td><td>FFF</td><td>Human_FFF</td><td>A11LNK1U3DT08V</td><td> 7</td><td>12</td><td>30</td><td> 2</td><td>0.5474491</td><td>2.438955</td><td>-1.556296</td><td>496</td><td>0.3957245</td><td>496</td><td>1840</td></tr>\n",
       "\t<tr><th scope=row>8</th><td>Human</td><td>FFF</td><td>Human_FFF</td><td>A11LNK1U3DT08V</td><td> 8</td><td>18</td><td>30</td><td> 7</td><td>0.4991873</td><td>2.795948</td><td>-1.378016</td><td>480</td><td>0.2724625</td><td>496</td><td>1844</td></tr>\n",
       "\t<tr><th scope=row>9</th><td>Human</td><td>FFF</td><td>Human_FFF</td><td>A11LNK1U3DT08V</td><td> 9</td><td>18</td><td>25</td><td> 4</td><td>0.5047437</td><td>2.747487</td><td>-1.326809</td><td>496</td><td>0.3023007</td><td>496</td><td>1656</td></tr>\n",
       "\t<tr><th scope=row>10</th><td>Human</td><td>FFF</td><td>Human_FFF</td><td>A11LNK1U3DT08V</td><td>10</td><td>19</td><td>31</td><td> 5</td><td>0.4750273</td><td>2.765256</td><td>-1.404229</td><td>512</td><td>0.3182475</td><td>512</td><td>1638</td></tr>\n",
       "</tbody>\n",
       "</table>\n"
      ],
      "text/latex": [
       "A data.frame: 10 × 15\n",
       "\\begin{tabular}{r|lllllllllllllll}\n",
       "  & Type & Speed & Agent & subject & GameNb & Deflations & Misses & Resets & ShotReg & Entropy & LogCV & ShotPer & RightReg & RightPer & Score\\\\\n",
       "  & <chr> & <chr> & <chr> & <chr> & <int> & <dbl> & <dbl> & <dbl> & <dbl> & <dbl> & <dbl> & <dbl> & <dbl> & <dbl> & <dbl>\\\\\n",
       "\\hline\n",
       "\t1 & Human & FFF & Human\\_FFF & A11LNK1U3DT08V &  1 & 23 & 45 & 17 & 0.5308518 & 3.117663 & -1.045539 & 512 & 0.3869265 & 528 &  526\\\\\n",
       "\t2 & Human & FFF & Human\\_FFF & A11LNK1U3DT08V &  2 & 15 & 39 &  9 & 0.4488193 & 3.063328 & -1.257139 & 496 & 0.3037540 & 496 & 1626\\\\\n",
       "\t3 & Human & FFF & Human\\_FFF & A11LNK1U3DT08V &  3 & 19 & 50 & 10 & 0.3585762 & 3.053468 & -1.233135 & 480 & 0.2317211 & 496 & 1604\\\\\n",
       "\t4 & Human & FFF & Human\\_FFF & A11LNK1U3DT08V &  4 & 11 & 33 & 11 & 0.4825653 & 2.692394 & -1.325335 & 512 & 0.3582805 & 512 & 1640\\\\\n",
       "\t5 & Human & FFF & Human\\_FFF & A11LNK1U3DT08V &  5 & 19 & 49 & 12 & 0.3362358 & 3.552236 & -1.092696 & 432 & 0.1994396 & 432 & 1408\\\\\n",
       "\t6 & Human & FFF & Human\\_FFF & A11LNK1U3DT08V &  6 & 12 & 31 &  4 & 0.6172684 & 2.654637 & -1.510542 & 496 & 0.4029821 & 496 & 1640\\\\\n",
       "\t7 & Human & FFF & Human\\_FFF & A11LNK1U3DT08V &  7 & 12 & 30 &  2 & 0.5474491 & 2.438955 & -1.556296 & 496 & 0.3957245 & 496 & 1840\\\\\n",
       "\t8 & Human & FFF & Human\\_FFF & A11LNK1U3DT08V &  8 & 18 & 30 &  7 & 0.4991873 & 2.795948 & -1.378016 & 480 & 0.2724625 & 496 & 1844\\\\\n",
       "\t9 & Human & FFF & Human\\_FFF & A11LNK1U3DT08V &  9 & 18 & 25 &  4 & 0.5047437 & 2.747487 & -1.326809 & 496 & 0.3023007 & 496 & 1656\\\\\n",
       "\t10 & Human & FFF & Human\\_FFF & A11LNK1U3DT08V & 10 & 19 & 31 &  5 & 0.4750273 & 2.765256 & -1.404229 & 512 & 0.3182475 & 512 & 1638\\\\\n",
       "\\end{tabular}\n"
      ],
      "text/markdown": [
       "\n",
       "A data.frame: 10 × 15\n",
       "\n",
       "| <!--/--> | Type &lt;chr&gt; | Speed &lt;chr&gt; | Agent &lt;chr&gt; | subject &lt;chr&gt; | GameNb &lt;int&gt; | Deflations &lt;dbl&gt; | Misses &lt;dbl&gt; | Resets &lt;dbl&gt; | ShotReg &lt;dbl&gt; | Entropy &lt;dbl&gt; | LogCV &lt;dbl&gt; | ShotPer &lt;dbl&gt; | RightReg &lt;dbl&gt; | RightPer &lt;dbl&gt; | Score &lt;dbl&gt; |\n",
       "|---|---|---|---|---|---|---|---|---|---|---|---|---|---|---|---|\n",
       "| 1 | Human | FFF | Human_FFF | A11LNK1U3DT08V |  1 | 23 | 45 | 17 | 0.5308518 | 3.117663 | -1.045539 | 512 | 0.3869265 | 528 |  526 |\n",
       "| 2 | Human | FFF | Human_FFF | A11LNK1U3DT08V |  2 | 15 | 39 |  9 | 0.4488193 | 3.063328 | -1.257139 | 496 | 0.3037540 | 496 | 1626 |\n",
       "| 3 | Human | FFF | Human_FFF | A11LNK1U3DT08V |  3 | 19 | 50 | 10 | 0.3585762 | 3.053468 | -1.233135 | 480 | 0.2317211 | 496 | 1604 |\n",
       "| 4 | Human | FFF | Human_FFF | A11LNK1U3DT08V |  4 | 11 | 33 | 11 | 0.4825653 | 2.692394 | -1.325335 | 512 | 0.3582805 | 512 | 1640 |\n",
       "| 5 | Human | FFF | Human_FFF | A11LNK1U3DT08V |  5 | 19 | 49 | 12 | 0.3362358 | 3.552236 | -1.092696 | 432 | 0.1994396 | 432 | 1408 |\n",
       "| 6 | Human | FFF | Human_FFF | A11LNK1U3DT08V |  6 | 12 | 31 |  4 | 0.6172684 | 2.654637 | -1.510542 | 496 | 0.4029821 | 496 | 1640 |\n",
       "| 7 | Human | FFF | Human_FFF | A11LNK1U3DT08V |  7 | 12 | 30 |  2 | 0.5474491 | 2.438955 | -1.556296 | 496 | 0.3957245 | 496 | 1840 |\n",
       "| 8 | Human | FFF | Human_FFF | A11LNK1U3DT08V |  8 | 18 | 30 |  7 | 0.4991873 | 2.795948 | -1.378016 | 480 | 0.2724625 | 496 | 1844 |\n",
       "| 9 | Human | FFF | Human_FFF | A11LNK1U3DT08V |  9 | 18 | 25 |  4 | 0.5047437 | 2.747487 | -1.326809 | 496 | 0.3023007 | 496 | 1656 |\n",
       "| 10 | Human | FFF | Human_FFF | A11LNK1U3DT08V | 10 | 19 | 31 |  5 | 0.4750273 | 2.765256 | -1.404229 | 512 | 0.3182475 | 512 | 1638 |\n",
       "\n"
      ],
      "text/plain": [
       "   Type  Speed Agent     subject        GameNb Deflations Misses Resets\n",
       "1  Human FFF   Human_FFF A11LNK1U3DT08V  1     23         45     17    \n",
       "2  Human FFF   Human_FFF A11LNK1U3DT08V  2     15         39      9    \n",
       "3  Human FFF   Human_FFF A11LNK1U3DT08V  3     19         50     10    \n",
       "4  Human FFF   Human_FFF A11LNK1U3DT08V  4     11         33     11    \n",
       "5  Human FFF   Human_FFF A11LNK1U3DT08V  5     19         49     12    \n",
       "6  Human FFF   Human_FFF A11LNK1U3DT08V  6     12         31      4    \n",
       "7  Human FFF   Human_FFF A11LNK1U3DT08V  7     12         30      2    \n",
       "8  Human FFF   Human_FFF A11LNK1U3DT08V  8     18         30      7    \n",
       "9  Human FFF   Human_FFF A11LNK1U3DT08V  9     18         25      4    \n",
       "10 Human FFF   Human_FFF A11LNK1U3DT08V 10     19         31      5    \n",
       "   ShotReg   Entropy  LogCV     ShotPer RightReg  RightPer Score\n",
       "1  0.5308518 3.117663 -1.045539 512     0.3869265 528       526 \n",
       "2  0.4488193 3.063328 -1.257139 496     0.3037540 496      1626 \n",
       "3  0.3585762 3.053468 -1.233135 480     0.2317211 496      1604 \n",
       "4  0.4825653 2.692394 -1.325335 512     0.3582805 512      1640 \n",
       "5  0.3362358 3.552236 -1.092696 432     0.1994396 432      1408 \n",
       "6  0.6172684 2.654637 -1.510542 496     0.4029821 496      1640 \n",
       "7  0.5474491 2.438955 -1.556296 496     0.3957245 496      1840 \n",
       "8  0.4991873 2.795948 -1.378016 480     0.2724625 496      1844 \n",
       "9  0.5047437 2.747487 -1.326809 496     0.3023007 496      1656 \n",
       "10 0.4750273 2.765256 -1.404229 512     0.3182475 512      1638 "
      ]
     },
     "metadata": {},
     "output_type": "display_data"
    }
   ],
   "source": [
    "#RMSE function definition\n",
    "RMSE = function(mod, obs){\n",
    "  sqrt(mean((mod - obs)^2))\n",
    "}\n",
    "\n",
    "#Filtered data set\n",
    "head(fast_data,10)"
   ]
  },
  {
   "cell_type": "code",
   "execution_count": 7,
   "id": "225b6baa",
   "metadata": {},
   "outputs": [
    {
     "data": {
      "text/html": [
       "0.965540179664111"
      ],
      "text/latex": [
       "0.965540179664111"
      ],
      "text/markdown": [
       "0.965540179664111"
      ],
      "text/plain": [
       "[1] 0.9655402"
      ]
     },
     "metadata": {},
     "output_type": "display_data"
    },
    {
     "data": {
      "text/html": [
       "532.14131539173"
      ],
      "text/latex": [
       "532.14131539173"
      ],
      "text/markdown": [
       "532.14131539173"
      ],
      "text/plain": [
       "[1] 532.1413"
      ]
     },
     "metadata": {},
     "output_type": "display_data"
    }
   ],
   "source": [
    "#1) Performance results\n",
    "muTab<-aggregate(fast_data$Score, by=list(fast_data$Agent,fast_data$GameNb), FUN=mean)\n",
    "colnames(muTab)<-c(\"Agent\",\"GameNb\",\"Score\")\n",
    "H_vec <- c(1:15)\n",
    "for (i in 1:15)\n",
    "{\n",
    "    H_vec[i] <- muTab[which(muTab$Agent==\"Human_FFF\" & muTab$GameNb==i),]$Score\n",
    "}\n",
    "M_vec <- c(1:15)\n",
    "for (i in 1:15)\n",
    "{\n",
    "    M_vec[i] <- muTab[which(muTab$Agent==\"MS17_FFF\" & muTab$GameNb==i),]$Score\n",
    "}\n",
    "\n",
    "#correlations & RMSE per condition\n",
    "#print(\"Performance correlations & RMSE\")\n",
    "r_perf <- cor(H_vec,M_vec,method = \"pearson\")\n",
    "rmse_perf <- RMSE(M_vec,H_vec)\n",
    "r_perf\n",
    "rmse_perf"
   ]
  },
  {
   "cell_type": "code",
   "execution_count": 8,
   "id": "e80f03f9",
   "metadata": {},
   "outputs": [
    {
     "data": {
      "text/html": [
       "0.325129927929595"
      ],
      "text/latex": [
       "0.325129927929595"
      ],
      "text/markdown": [
       "0.325129927929595"
      ],
      "text/plain": [
       "[1] 0.3251299"
      ]
     },
     "metadata": {},
     "output_type": "display_data"
    },
    {
     "data": {
      "text/html": [
       "0.303915279464173"
      ],
      "text/latex": [
       "0.303915279464173"
      ],
      "text/markdown": [
       "0.303915279464173"
      ],
      "text/plain": [
       "[1] 0.3039153"
      ]
     },
     "metadata": {},
     "output_type": "display_data"
    }
   ],
   "source": [
    "#2) Entropy results\n",
    "fast_data <- data\n",
    "fast_data <- fast_data %>% filter(!Entropy=='NaN')\n",
    "muTab<-aggregate(fast_data$Entropy, by=list(fast_data$Agent,fast_data$GameNb), FUN=mean)\n",
    "colnames(muTab)<-c(\"Agent\",\"GameNb\",\"Entropy\")\n",
    "H_vec <- c(1:15)\n",
    "for (i in 1:15)\n",
    "{\n",
    "    H_vec[i] <- muTab[which(muTab$Agent==\"Human_FFF\" & muTab$GameNb==i),]$Entropy\n",
    "}\n",
    "M_vec <- c(1:15)\n",
    "for (i in 1:15)\n",
    "{\n",
    "    M_vec[i] <- muTab[which(muTab$Agent==\"MS17_FFF\" & muTab$GameNb==i),]$Entropy\n",
    "}\n",
    "\n",
    "#correlations & RMSE per condition\n",
    "#print(\"Performance correlations & RMSE\")\n",
    "r_ent <- cor(H_vec,M_vec,method = \"pearson\")\n",
    "rmse_ent <- RMSE(M_vec,H_vec)\n",
    "r_ent\n",
    "rmse_ent"
   ]
  },
  {
   "cell_type": "code",
   "execution_count": 9,
   "id": "fb86cf9d",
   "metadata": {},
   "outputs": [
    {
     "data": {
      "text/html": [
       "-0.856769471431467"
      ],
      "text/latex": [
       "-0.856769471431467"
      ],
      "text/markdown": [
       "-0.856769471431467"
      ],
      "text/plain": [
       "[1] -0.8567695"
      ]
     },
     "metadata": {},
     "output_type": "display_data"
    },
    {
     "data": {
      "text/html": [
       "0.364678050189892"
      ],
      "text/latex": [
       "0.364678050189892"
      ],
      "text/markdown": [
       "0.364678050189892"
      ],
      "text/plain": [
       "[1] 0.3646781"
      ]
     },
     "metadata": {},
     "output_type": "display_data"
    }
   ],
   "source": [
    "#3) Log CV ISI\n",
    "fast_data <- data \n",
    "fast_data <- fast_data %>% filter(!LogCV=='NaN')\n",
    "muTab<-aggregate(fast_data$LogCV, by=list(fast_data$Agent,fast_data$GameNb), FUN=mean)\n",
    "\n",
    "colnames(muTab)<-c(\"Agent\",\"GameNb\",\"LogCV\")\n",
    "H_vec <- c(1:15)\n",
    "for (i in 1:15)\n",
    "{\n",
    "    H_vec[i] <- muTab[which(muTab$Agent==\"Human_FFF\" & muTab$GameNb==i),]$LogCV\n",
    "}\n",
    "M_vec <- c(1:15)\n",
    "for (i in 1:15)\n",
    "{\n",
    "    M_vec[i] <- muTab[which(muTab$Agent==\"MS17_FFF\" & muTab$GameNb==i),]$LogCV\n",
    "}\n",
    "\n",
    "#correlations & RMSE per condition\n",
    "#print(\"Performance correlations & RMSE\")\n",
    "r_lcv <- cor(H_vec,M_vec,method = \"pearson\")\n",
    "rmse_lcv <- RMSE(M_vec,H_vec)\n",
    "r_lcv\n",
    "rmse_lcv"
   ]
  },
  {
   "cell_type": "code",
   "execution_count": 10,
   "id": "2e52d1d1",
   "metadata": {},
   "outputs": [
    {
     "data": {
      "text/html": [
       "-0.303105027807957"
      ],
      "text/latex": [
       "-0.303105027807957"
      ],
      "text/markdown": [
       "-0.303105027807957"
      ],
      "text/plain": [
       "[1] -0.303105"
      ]
     },
     "metadata": {},
     "output_type": "display_data"
    },
    {
     "data": {
      "text/html": [
       "9.07173005259386"
      ],
      "text/latex": [
       "9.07173005259386"
      ],
      "text/markdown": [
       "9.07173005259386"
      ],
      "text/plain": [
       "[1] 9.07173"
      ]
     },
     "metadata": {},
     "output_type": "display_data"
    }
   ],
   "source": [
    "#4) Resets\n",
    "#fast_data <- fast_data %>% filter(!LogCV=='NaN')\n",
    "fast_data <- data \n",
    "muTab<-aggregate(fast_data$Resets, by=list(fast_data$Agent,fast_data$GameNb), FUN=mean)\n",
    "\n",
    "colnames(muTab)<-c(\"Agent\",\"GameNb\",\"Resets\")\n",
    "H_vec <- c(1:15)\n",
    "for (i in 1:15)\n",
    "{\n",
    "    H_vec[i] <- muTab[which(muTab$Agent==\"Human_FFF\" & muTab$GameNb==i),]$Resets\n",
    "}\n",
    "M_vec <- c(1:15)\n",
    "for (i in 1:15)\n",
    "{\n",
    "    M_vec[i] <- muTab[which(muTab$Agent==\"MS17_FFF\" & muTab$GameNb==i),]$Resets\n",
    "}\n",
    "\n",
    "#correlations & RMSE per condition\n",
    "r_res <- cor(H_vec,M_vec,method = \"pearson\")\n",
    "rmse_res <- RMSE(M_vec,H_vec)\n",
    "r_res\n",
    "rmse_res"
   ]
  },
  {
   "cell_type": "code",
   "execution_count": 11,
   "id": "e57ebb7c",
   "metadata": {},
   "outputs": [
    {
     "data": {
      "text/html": [
       "0.930915238571778"
      ],
      "text/latex": [
       "0.930915238571778"
      ],
      "text/markdown": [
       "0.930915238571778"
      ],
      "text/plain": [
       "[1] 0.9309152"
      ]
     },
     "metadata": {},
     "output_type": "display_data"
    },
    {
     "data": {
      "text/html": [
       "28.2516032086467"
      ],
      "text/latex": [
       "28.2516032086467"
      ],
      "text/markdown": [
       "28.2516032086467"
      ],
      "text/plain": [
       "[1] 28.2516"
      ]
     },
     "metadata": {},
     "output_type": "display_data"
    }
   ],
   "source": [
    "#5) Deflations\n",
    "#fast_data <- fast_data %>% filter(!LogCV=='NaN')\n",
    "fast_data <- data \n",
    "muTab<-aggregate(fast_data$Deflations, by=list(fast_data$Agent,fast_data$GameNb), FUN=mean)\n",
    "\n",
    "colnames(muTab)<-c(\"Agent\",\"GameNb\",\"Deflations\")\n",
    "H_vec <- c(1:15)\n",
    "for (i in 1:15)\n",
    "{\n",
    "    H_vec[i] <- muTab[which(muTab$Agent==\"Human_FFF\" & muTab$GameNb==i),]$Deflations\n",
    "}\n",
    "M_vec <- c(1:15)\n",
    "for (i in 1:15)\n",
    "{\n",
    "    M_vec[i] <- muTab[which(muTab$Agent==\"MS17_FFF\" & muTab$GameNb==i),]$Deflations\n",
    "}\n",
    "\n",
    "#correlations & RMSE per condition\n",
    "r_def <- cor(H_vec,M_vec,method = \"pearson\")\n",
    "rmse_def <- RMSE(M_vec,H_vec)\n",
    "r_def\n",
    "rmse_def"
   ]
  },
  {
   "cell_type": "code",
   "execution_count": 12,
   "id": "437d2d02",
   "metadata": {},
   "outputs": [
    {
     "data": {
      "text/html": [
       "0.842829928006141"
      ],
      "text/latex": [
       "0.842829928006141"
      ],
      "text/markdown": [
       "0.842829928006141"
      ],
      "text/plain": [
       "[1] 0.8428299"
      ]
     },
     "metadata": {},
     "output_type": "display_data"
    },
    {
     "data": {
      "text/html": [
       "37.7303752600413"
      ],
      "text/latex": [
       "37.7303752600413"
      ],
      "text/markdown": [
       "37.7303752600413"
      ],
      "text/plain": [
       "[1] 37.73038"
      ]
     },
     "metadata": {},
     "output_type": "display_data"
    }
   ],
   "source": [
    "#6) Misses\n",
    "#fast_data <- fast_data %>% filter(!LogCV=='NaN')\n",
    "fast_data <- data \n",
    "muTab<-aggregate(fast_data$Misses, by=list(fast_data$Agent,fast_data$GameNb), FUN=mean)\n",
    "\n",
    "colnames(muTab)<-c(\"Agent\",\"GameNb\",\"Misses\")\n",
    "H_vec <- c(1:15)\n",
    "for (i in 1:15)\n",
    "{\n",
    "    H_vec[i] <- muTab[which(muTab$Agent==\"Human_FFF\" & muTab$GameNb==i),]$Misses\n",
    "}\n",
    "M_vec <- c(1:15)\n",
    "for (i in 1:15)\n",
    "{\n",
    "    M_vec[i] <- muTab[which(muTab$Agent==\"MS17_FFF\" & muTab$GameNb==i),]$Misses\n",
    "}\n",
    "\n",
    "#correlations & RMSE per condition\n",
    "r_mis <- cor(H_vec,M_vec,method = \"pearson\")\n",
    "rmse_mis <- RMSE(M_vec,H_vec)\n",
    "r_mis\n",
    "rmse_mis"
   ]
  },
  {
   "cell_type": "code",
   "execution_count": 13,
   "id": "c302d993",
   "metadata": {},
   "outputs": [
    {
     "data": {
      "text/html": [
       "0.617020935024905"
      ],
      "text/latex": [
       "0.617020935024905"
      ],
      "text/markdown": [
       "0.617020935024905"
      ],
      "text/plain": [
       "[1] 0.6170209"
      ]
     },
     "metadata": {},
     "output_type": "display_data"
    },
    {
     "data": {
      "text/html": [
       "51.1460373088867"
      ],
      "text/latex": [
       "51.1460373088867"
      ],
      "text/markdown": [
       "51.1460373088867"
      ],
      "text/plain": [
       "[1] 51.14604"
      ]
     },
     "metadata": {},
     "output_type": "display_data"
    }
   ],
   "source": [
    "#7) Shot periodicity\n",
    "fast_data <- data\n",
    "fast_data <- fast_data %>% filter(!ShotPer=='NaN')\n",
    "muTab<-aggregate(fast_data$ShotPer, by=list(fast_data$Agent,fast_data$GameNb), FUN=mean)\n",
    "\n",
    "colnames(muTab)<-c(\"Agent\",\"GameNb\",\"ShotPer\")\n",
    "H_vec <- c(1:15)\n",
    "for (i in 1:15)\n",
    "{\n",
    "    H_vec[i] <- muTab[which(muTab$Agent==\"Human_FFF\" & muTab$GameNb==i),]$ShotPer\n",
    "}\n",
    "M_vec <- c(1:15)\n",
    "for (i in 1:15)\n",
    "{\n",
    "    M_vec[i] <- muTab[which(muTab$Agent==\"MS17_FFF\" & muTab$GameNb==i),]$ShotPer\n",
    "}\n",
    "\n",
    "#correlations & RMSE per condition\n",
    "r_per <- cor(H_vec,M_vec,method = \"pearson\")\n",
    "rmse_per <- RMSE(M_vec,H_vec)\n",
    "r_per\n",
    "rmse_per"
   ]
  },
  {
   "cell_type": "code",
   "execution_count": 14,
   "id": "0fc5268f",
   "metadata": {},
   "outputs": [
    {
     "data": {
      "text/html": [
       "-0.671631556385257"
      ],
      "text/latex": [
       "-0.671631556385257"
      ],
      "text/markdown": [
       "-0.671631556385257"
      ],
      "text/plain": [
       "[1] -0.6716316"
      ]
     },
     "metadata": {},
     "output_type": "display_data"
    },
    {
     "data": {
      "text/html": [
       "0.227511455216147"
      ],
      "text/latex": [
       "0.227511455216147"
      ],
      "text/markdown": [
       "0.227511455216147"
      ],
      "text/plain": [
       "[1] 0.2275115"
      ]
     },
     "metadata": {},
     "output_type": "display_data"
    }
   ],
   "source": [
    "#8) Shot regularity\n",
    "fast_data <- data \n",
    "fast_data <- fast_data %>% filter(!ShotReg=='NaN')\n",
    "muTab<-aggregate(fast_data$ShotReg, by=list(fast_data$Agent,fast_data$GameNb), FUN=mean)\n",
    "\n",
    "colnames(muTab)<-c(\"Agent\",\"GameNb\",\"ShotReg\")\n",
    "H_vec <- c(1:15)\n",
    "for (i in 1:15)\n",
    "{\n",
    "    H_vec[i] <- muTab[which(muTab$Agent==\"Human_FFF\" & muTab$GameNb==i),]$ShotReg\n",
    "}\n",
    "M_vec <- c(1:15)\n",
    "for (i in 1:15)\n",
    "{\n",
    "    M_vec[i] <- muTab[which(muTab$Agent==\"MS17_FFF\" & muTab$GameNb==i),]$ShotReg\n",
    "}\n",
    "\n",
    "#correlations & RMSE per condition\n",
    "r_reg <- cor(H_vec,M_vec,method = \"pearson\")\n",
    "rmse_reg <- RMSE(M_vec,H_vec)\n",
    "r_reg\n",
    "rmse_reg"
   ]
  },
  {
   "cell_type": "code",
   "execution_count": 15,
   "id": "2bbb7eb2",
   "metadata": {},
   "outputs": [
    {
     "data": {
      "text/html": [
       "-0.716534331851449"
      ],
      "text/latex": [
       "-0.716534331851449"
      ],
      "text/markdown": [
       "-0.716534331851449"
      ],
      "text/plain": [
       "[1] -0.7165343"
      ]
     },
     "metadata": {},
     "output_type": "display_data"
    },
    {
     "data": {
      "text/html": [
       "0.113495231595353"
      ],
      "text/latex": [
       "0.113495231595353"
      ],
      "text/markdown": [
       "0.113495231595353"
      ],
      "text/plain": [
       "[1] 0.1134952"
      ]
     },
     "metadata": {},
     "output_type": "display_data"
    }
   ],
   "source": [
    "#9) Right regularity\n",
    "fast_data <- data\n",
    "fast_data <- fast_data %>% filter(!RightReg=='NaN')\n",
    "muTab<-aggregate(fast_data$RightReg, by=list(fast_data$Agent,fast_data$GameNb), FUN=mean)\n",
    "\n",
    "colnames(muTab)<-c(\"Agent\",\"GameNb\",\"RightReg\")\n",
    "H_vec <- c(1:15)\n",
    "for (i in 1:15)\n",
    "{\n",
    "    H_vec[i] <- muTab[which(muTab$Agent==\"Human_FFF\" & muTab$GameNb==i),]$RightReg\n",
    "}\n",
    "M_vec <- c(1:15)\n",
    "for (i in 1:15)\n",
    "{\n",
    "    M_vec[i] <- muTab[which(muTab$Agent==\"MS17_FFF\" & muTab$GameNb==i),]$RightReg\n",
    "}\n",
    "\n",
    "#correlations & RMSE per condition\n",
    "r_Rreg <- cor(H_vec,M_vec,method = \"pearson\")\n",
    "rmse_Rreg <- RMSE(M_vec,H_vec)\n",
    "r_Rreg\n",
    "rmse_Rreg"
   ]
  },
  {
   "cell_type": "markdown",
   "id": "6d1210b3",
   "metadata": {},
   "source": [
    "# Compare Humans and ACT-R models"
   ]
  },
  {
   "cell_type": "code",
   "execution_count": 16,
   "id": "7e33495a",
   "metadata": {},
   "outputs": [],
   "source": [
    "fast_data <- data \n",
    "ar <- 0.4\n",
    "just_ratio <- 0.5\n",
    "sz_line <- 0.6"
   ]
  },
  {
   "cell_type": "code",
   "execution_count": 17,
   "id": "9a1d63fe",
   "metadata": {},
   "outputs": [
    {
     "name": "stderr",
     "output_type": "stream",
     "text": [
      "Warning message:\n",
      "\"\u001b[1m\u001b[22mThe `size` argument of `element_line()` is deprecated as of ggplot2 3.4.0.\n",
      "\u001b[36mi\u001b[39m Please use the `linewidth` argument instead.\"\n",
      "Warning message:\n",
      "\"\u001b[1m\u001b[22mUsing `size` aesthetic for lines was deprecated in ggplot2 3.4.0.\n",
      "\u001b[36mi\u001b[39m Please use `linewidth` instead.\"\n"
     ]
    },
    {
     "data": {
      "image/png": "[encoded data removed]",
      "text/plain": [
       "plot without title"
      ]
     },
     "metadata": {
      "image/png": {
       "height": 420,
       "width": 420
      }
     },
     "output_type": "display_data"
    }
   ],
   "source": [
    "#Performance\n",
    "Shaded <- fast_data %>% filter(Agent==\"Human_FFF\")\n",
    "datac_fast <- summarySE(Shaded, measurevar=\"Score\", groupvars=c(\"GameNb\",\"Agent\"))\n",
    "ACTR <- fast_data %>% filter(Agent=='MS17_FFF')\n",
    "datac_model <- summarySE(ACTR, measurevar=\"Score\", groupvars=c(\"GameNb\",\"Agent\"))\n",
    "\n",
    "p2 <- ggplot(datac_fast) +  geom_line(aes(x=GameNb, y=Score,colour=Agent),linewidth=sz_line) + geom_ribbon(aes(x=GameNb, ymin=Score-sd, ymax=Score+sd, fill=\"Human\")) +\n",
    "     theme_classic() +\n",
    "      ggtitle(\"Performance\") +\n",
    "      theme(plot.title = element_text(size=40,hjust=just_ratio,face =\"bold\"),\n",
    "           axis.text = element_text(size = 36,color='black'),\n",
    "           axis.line = element_line(colour = 'black', linewidth = 1),\n",
    "           axis.ticks = element_line(colour = \"black\", size = 1),\n",
    "           strip.text = element_text(size = 42,face =\"bold\",color='black'),\n",
    "           axis.title = element_text( size = 36 ,face =\"bold\"),\n",
    "           axis.ticks.length = unit(0.25, \"cm\"),\n",
    "           legend.text = element_text( size = 40),\n",
    "           legend.title = element_text( size = 40),\n",
    "           legend.position = 'none', #change the legend here\n",
    "           aspect.ratio=ar\n",
    "          ) +\n",
    "     guides(color = guide_legend(override.aes = list(size=2))) +\n",
    "     scale_fill_manual(values = alpha(c(\"brown1\"), .2), name = \"Variation (SD)\") + \n",
    "     scale_color_manual(values = c(\"black\",\"red\"), name = \"Agent means\",labels=c(\"Human\",\"Baseline model\")) + \n",
    "     scale_x_continuous(name=\"\", breaks=seq(0,15,5)) +\n",
    "     scale_y_continuous(name=\"Score (Points)\", limits=c(-200, 2500))\n",
    "p2 <- p2+ geom_line(data = datac_model, aes(x=GameNb, y=Score,color=\"Baseline model\"),size=sz_line) +\n",
    "      geom_point(data = datac_model, color = \"black\", aes(x=GameNb, y=Score), shape=17,size = 3.2)\n",
    "p2\n",
    "\n",
    "pathFig <- './Figures_B/Performance.png'\n",
    "ggsave(pathFig,p2,width=15,height=5)"
   ]
  },
  {
   "cell_type": "code",
   "execution_count": 20,
   "id": "e5bd59d1",
   "metadata": {},
   "outputs": [
    {
     "data": {
      "image/png": "[encoded data removed]",
      "text/plain": [
       "plot without title"
      ]
     },
     "metadata": {
      "image/png": {
       "height": 420,
       "width": 420
      }
     },
     "output_type": "display_data"
    }
   ],
   "source": [
    "#Right regularity\n",
    "Shaded <- fast_data %>% filter(Agent==\"Human_FFF\") %>% filter(!RightReg=='NaN')\n",
    "datac_fast <- summarySE(Shaded, measurevar=\"RightReg\", groupvars=c(\"GameNb\",\"Agent\"))\n",
    "ACTR <- fast_data %>% filter(Agent=='MS17_FFF') %>% filter(!RightReg=='NaN')\n",
    "datac_model <- summarySE(ACTR, measurevar=\"RightReg\", groupvars=c(\"GameNb\",\"Agent\"))\n",
    "\n",
    "p1 <- ggplot(datac_fast) +  geom_line(aes(x=GameNb, y=RightReg,colour=Agent),size=sz_line) + geom_ribbon(aes(x=GameNb, ymin=RightReg-sd, ymax=RightReg+sd, fill=\"Human\")) +\n",
    "     theme_classic() +\n",
    "      ggtitle(\"Right Regularity\") +\n",
    "      theme(plot.title = element_text(size=40,hjust=just_ratio,face =\"bold\"),\n",
    "           axis.text = element_text(size = 36,color='black'),\n",
    "           axis.line = element_line(colour = 'black', linewidth = 1),\n",
    "           axis.ticks = element_line(colour = \"black\", size = 1),\n",
    "           strip.text = element_text(size = 42,face =\"bold\",color='black'),\n",
    "           axis.title = element_text( size = 36 ,face =\"bold\"),\n",
    "           axis.ticks.length = unit(0.25, \"cm\"),\n",
    "           legend.text = element_text( size = 40),\n",
    "           legend.title = element_text( size = 40),\n",
    "           legend.position = 'none', #change the legend here\n",
    "           aspect.ratio=ar\n",
    "          ) +\n",
    "     guides(color = guide_legend(override.aes = list(size=2))) +\n",
    "     scale_fill_manual(values = alpha(c(\"brown1\"), .2), name = \"Variation (SD)\") + \n",
    "     scale_color_manual(values = c(\"black\",\"red\"), name = \"Agent means\",labels=c(\"Human\",\"Baseline model\")) + \n",
    "     scale_x_continuous(name=\"Game Number\", breaks=seq(0,15,5)) +\n",
    "     scale_y_continuous(name=\"Regularity (r)\", limits=c(0, 0.52))\n",
    "p1 <- p1+ geom_line(data = datac_model, aes(x=GameNb, y=RightReg,color=\"Baseline model\"),size=sz_line) +\n",
    "      geom_point(data = datac_model, color = \"black\", aes(x=GameNb, y=RightReg), shape=17,size = 3.2)\n",
    "p1\n",
    "\n",
    "pathFig <- './Figures_B/Right_Regularity.png'\n",
    "ggsave(pathFig,p1,width=15,height=5)"
   ]
  },
  {
   "cell_type": "code",
   "execution_count": 21,
   "id": "701c60c7",
   "metadata": {},
   "outputs": [
    {
     "data": {
      "image/png": "[encoded data removed]",
      "text/plain": [
       "plot without title"
      ]
     },
     "metadata": {
      "image/png": {
       "height": 420,
       "width": 420
      }
     },
     "output_type": "display_data"
    }
   ],
   "source": [
    "#Shot regularity\n",
    "Shaded <- fast_data %>% filter(Agent==\"Human_FFF\") %>% filter(!RightReg=='NaN')\n",
    "datac_fast <- summarySE(Shaded, measurevar=\"ShotReg\", groupvars=c(\"GameNb\",\"Agent\"))\n",
    "ACTR <- fast_data %>% filter(Agent=='MS17_FFF') %>% filter(!RightReg=='NaN')\n",
    "datac_model <- summarySE(ACTR, measurevar=\"ShotReg\", groupvars=c(\"GameNb\",\"Agent\"))\n",
    "\n",
    "p3 <- ggplot(datac_fast) +  geom_line(aes(x=GameNb, y=ShotReg,colour=Agent),size=sz_line) + geom_ribbon(aes(x=GameNb, ymin=ShotReg-sd, ymax=ShotReg+sd, fill=\"Human\")) +\n",
    "     theme_classic() +\n",
    "      ggtitle(\"Shot Regularity\") +\n",
    "      theme(plot.title = element_text(size=40,hjust=just_ratio,face =\"bold\"),\n",
    "           axis.text = element_text(size = 36,color='black'),\n",
    "           axis.line = element_line(colour = 'black', linewidth = 1),\n",
    "           axis.ticks = element_line(colour = \"black\", size = 1),\n",
    "           strip.text = element_text(size = 42,face =\"bold\",color='black'),\n",
    "           axis.title = element_text( size = 36 ,face =\"bold\"),\n",
    "           axis.ticks.length = unit(0.25, \"cm\"),\n",
    "           legend.text = element_text( size = 40),\n",
    "           legend.title = element_text( size = 40),\n",
    "           legend.position = 'none', #change the legend here\n",
    "           aspect.ratio=ar\n",
    "          ) +\n",
    "     guides(color = guide_legend(override.aes = list(size=2))) +\n",
    "     scale_fill_manual(values = alpha(c(\"brown1\"), .2), name = \"Variation (SD)\") + \n",
    "     scale_color_manual(values = c(\"black\",\"red\"), name = \"Agent means\",labels=c(\"Human\",\"Baseline model\")) + \n",
    "     scale_x_continuous(name=\"Game Number\", breaks=seq(0,15,5)) +\n",
    "     scale_y_continuous(name=\"Regularity (r)\", limits=c(0, 0.52))\n",
    "p3 <- p3+ geom_line(data = datac_model, aes(x=GameNb, y=ShotReg,color=\"Baseline model\"),size=sz_line) +\n",
    "      geom_point(data = datac_model, color = \"black\", aes(x=GameNb, y=ShotReg), shape=17,size = 3.2)\n",
    "p3\n",
    "\n",
    "pathFig <- './Figures_B/Shot_Regularity.png'\n",
    "ggsave(pathFig,p3,width=15,height=5)"
   ]
  },
  {
   "cell_type": "code",
   "execution_count": 19,
   "id": "5823cf11",
   "metadata": {},
   "outputs": [
    {
     "data": {
      "image/png": "[encoded data removed]",
      "text/plain": [
       "plot without title"
      ]
     },
     "metadata": {
      "image/png": {
       "height": 420,
       "width": 420
      }
     },
     "output_type": "display_data"
    }
   ],
   "source": [
    "#Shot periodicity\n",
    "Shaded <- fast_data %>% filter(Agent==\"Human_FFF\") %>% filter(!ShotPer=='NaN')\n",
    "datac_fast <- summarySE(Shaded, measurevar=\"ShotPer\", groupvars=c(\"GameNb\",\"Agent\"))\n",
    "ACTR <- fast_data %>% filter(Agent=='MS17_FFF') %>% filter(!ShotPer=='NaN')\n",
    "datac_model <- summarySE(ACTR, measurevar=\"ShotPer\", groupvars=c(\"GameNb\",\"Agent\"))\n",
    "\n",
    "p4 <- ggplot(datac_fast) +  geom_line(aes(x=GameNb, y=ShotPer,colour=Agent),size=sz_line) + geom_ribbon(aes(x=GameNb, ymin=ShotPer-sd, ymax=ShotPer+sd, fill=\"Human\")) +\n",
    "     theme_classic() +\n",
    "      ggtitle(\"Shot Periodicity\") +\n",
    "      theme(plot.title = element_text(size=40,hjust=just_ratio,face =\"bold\"),\n",
    "           axis.text = element_text(size = 36,color='black'),\n",
    "           axis.line = element_line(colour = 'black', linewidth = 1),\n",
    "           axis.ticks = element_line(colour = \"black\", size = 1),\n",
    "           strip.text = element_text(size = 42,face =\"bold\",color='black'),\n",
    "           axis.title = element_text( size = 36 ,face =\"bold\"),\n",
    "           axis.ticks.length = unit(0.25, \"cm\"),\n",
    "           legend.text = element_text( size = 40),\n",
    "           legend.title = element_text( size = 40),\n",
    "           legend.position = 'none', #change the legend here\n",
    "           aspect.ratio=ar\n",
    "          ) +\n",
    "     guides(color = guide_legend(override.aes = list(size=2))) +\n",
    "     scale_fill_manual(values = alpha(c(\"brown1\"), .2), name = \"Variation (SD)\") + \n",
    "     scale_color_manual(values = c(\"black\",\"red\"), name = \"Agent means\",labels=c(\"Human\",\"Baseline model\")) + \n",
    "     scale_x_continuous(name=\"Game Number\", breaks=seq(0,15,5)) +\n",
    "     scale_y_continuous(name=\"Periodicity (ms)\", limits=c(300,600))\n",
    "p4 <- p4+ geom_line(data = datac_model, aes(x=GameNb, y=ShotPer,color=\"Baseline model\"),size=sz_line) +\n",
    "      geom_point(data = datac_model, color = \"black\", aes(x=GameNb, y=ShotPer), shape=17,size = 3.2)\n",
    "p4\n",
    "\n",
    "pathFig <- './Figures_B/Shot_Periodicity.png'\n",
    "ggsave(pathFig,p4,width=15,height=5)"
   ]
  },
  {
   "cell_type": "code",
   "execution_count": 23,
   "id": "c857b00d",
   "metadata": {},
   "outputs": [
    {
     "data": {
      "image/png": "[encoded data removed]",
      "text/plain": [
       "plot without title"
      ]
     },
     "metadata": {
      "image/png": {
       "height": 420,
       "width": 420
      }
     },
     "output_type": "display_data"
    }
   ],
   "source": [
    "#Right periodicity\n",
    "Shaded <- fast_data %>% filter(Agent==\"Human_FFF\") %>% filter(!RightPer=='NaN')\n",
    "datac_fast <- summarySE(Shaded, measurevar=\"RightPer\", groupvars=c(\"GameNb\",\"Agent\"))\n",
    "ACTR <- fast_data %>% filter(Agent=='MS17_FFF') %>% filter(!RightPer=='NaN')\n",
    "datac_model <- summarySE(ACTR, measurevar=\"RightPer\", groupvars=c(\"GameNb\",\"Agent\"))\n",
    "\n",
    "p4b <- ggplot(datac_fast) +  geom_line(aes(x=GameNb, y=RightPer,colour=Agent),size=sz_line) + geom_ribbon(aes(x=GameNb, ymin=RightPer-sd, ymax=RightPer+sd, fill=\"Human\")) +\n",
    "     theme_classic() +\n",
    "      ggtitle(\"Right Periodicity\") +\n",
    "      theme(plot.title = element_text(size=40,hjust=just_ratio,face =\"bold\"),\n",
    "           axis.text = element_text(size = 36,color='black'),\n",
    "           axis.line = element_line(colour = 'black', linewidth = 1),\n",
    "           axis.ticks = element_line(colour = \"black\", size = 1),\n",
    "           strip.text = element_text(size = 42,face =\"bold\",color='black'),\n",
    "           axis.title = element_text( size = 36 ,face =\"bold\"),\n",
    "           axis.ticks.length = unit(0.25, \"cm\"),\n",
    "           legend.text = element_text( size = 40),\n",
    "           legend.title = element_text( size = 40),\n",
    "           legend.position = 'none', #change the legend here\n",
    "           aspect.ratio=ar\n",
    "          ) +\n",
    "     guides(color = guide_legend(override.aes = list(size=2))) +\n",
    "     scale_fill_manual(values = alpha(c(\"brown1\"), .2), name = \"Variation (SD)\") + \n",
    "     scale_color_manual(values = c(\"black\",\"red\"), name = \"Agent means\",labels=c(\"Human\",\"Baseline model\")) + \n",
    "     scale_x_continuous(name=\"Game Number\", breaks=seq(0,15,5)) +\n",
    "     scale_y_continuous(name=\"Periodicity (ms)\", limits=c(300,600))\n",
    "p4b <- p4b+ geom_line(data = datac_model, aes(x=GameNb, y=RightPer,color=\"Baseline model\"),size=sz_line) +\n",
    "      geom_point(data = datac_model, color = \"black\", aes(x=GameNb, y=RightPer), shape=17,size = 3.2)\n",
    "p4b\n",
    "\n",
    "pathFig <- './Figures_B/Right_Periodicity.png'\n",
    "ggsave(pathFig,p4b,width=15,height=5)"
   ]
  },
  {
   "cell_type": "code",
   "execution_count": 24,
   "id": "de15c83f",
   "metadata": {},
   "outputs": [
    {
     "data": {
      "image/png": "[encoded data removed]",
      "text/plain": [
       "plot without title"
      ]
     },
     "metadata": {
      "image/png": {
       "height": 420,
       "width": 420
      }
     },
     "output_type": "display_data"
    }
   ],
   "source": [
    "#Deflations\n",
    "Shaded <- fast_data %>% filter(Agent==\"Human_FFF\")\n",
    "datac_fast <- summarySE(Shaded, measurevar=\"Deflations\", groupvars=c(\"GameNb\",\"Agent\"))\n",
    "ACTR <- fast_data %>% filter(Agent=='MS17_FFF')\n",
    "datac_model <- summarySE(ACTR, measurevar=\"Deflations\", groupvars=c(\"GameNb\",\"Agent\"))\n",
    "\n",
    "p5 <- ggplot(datac_fast) +  geom_line(aes(x=GameNb, y=Deflations,colour=Agent),size=sz_line) + geom_ribbon(aes(x=GameNb, ymin=Deflations-sd, ymax=Deflations+sd, fill=\"Human\")) +\n",
    "     theme_classic() +\n",
    "      ggtitle(\"Deflations\") +\n",
    "      theme(plot.title = element_text(size=40,hjust=just_ratio,face =\"bold\"),\n",
    "           axis.text = element_text(size = 36,color='black'),\n",
    "           axis.line = element_line(colour = 'black', linewidth = 1),\n",
    "           axis.ticks = element_line(colour = \"black\", size = 1),\n",
    "           strip.text = element_text(size = 42,face =\"bold\",color='black'),\n",
    "           axis.title = element_text( size = 36 ,face =\"bold\"),\n",
    "           axis.ticks.length = unit(0.25, \"cm\"),\n",
    "           legend.text = element_text( size = 40),\n",
    "           legend.title = element_text( size = 40),\n",
    "           legend.position = 'none', #change the legend here\n",
    "           aspect.ratio=ar\n",
    "          ) +\n",
    "     guides(color = guide_legend(override.aes = list(size=2))) +\n",
    "     scale_fill_manual(values = alpha(c(\"brown1\"), .2), name = \"Variation (SD)\") + \n",
    "     scale_color_manual(values = c(\"black\",\"red\"), name = \"Agent means\",labels=c(\"Human\",\"Baseline model\")) + \n",
    "     scale_x_continuous(name=\"\", breaks=seq(0,15,5)) +\n",
    "     scale_y_continuous(name=\"Deflation count\", limits=c(0,100))\n",
    "p5 <- p5+ geom_line(data = datac_model, aes(x=GameNb, y=Deflations,color=\"Baseline model\"),size=sz_line) +\n",
    "      geom_point(data = datac_model, color = \"black\", aes(x=GameNb, y=Deflations), shape=17,size = 3.2)\n",
    "p5\n",
    "\n",
    "pathFig <- './Figures_B/Deflations.png'\n",
    "ggsave(pathFig,p5,width=15,height=5)"
   ]
  },
  {
   "cell_type": "code",
   "execution_count": 25,
   "id": "1208cf85",
   "metadata": {},
   "outputs": [
    {
     "data": {
      "image/png": "[encoded data removed]",
      "text/plain": [
       "plot without title"
      ]
     },
     "metadata": {
      "image/png": {
       "height": 420,
       "width": 420
      }
     },
     "output_type": "display_data"
    }
   ],
   "source": [
    "#Misses\n",
    "Shaded <- fast_data %>% filter(Agent==\"Human_FFF\")\n",
    "datac_fast <- summarySE(Shaded, measurevar=\"Misses\", groupvars=c(\"GameNb\",\"Agent\"))\n",
    "ACTR <- fast_data %>% filter(Agent=='MS17_FFF')\n",
    "datac_model <- summarySE(ACTR, measurevar=\"Misses\", groupvars=c(\"GameNb\",\"Agent\"))\n",
    "\n",
    "p6 <- ggplot(datac_fast) +  geom_line(aes(x=GameNb, y=Misses,colour=Agent),size=sz_line) + geom_ribbon(aes(x=GameNb, ymin=Misses-sd, ymax=Misses+sd, fill=\"Human\")) +\n",
    "     theme_classic() +\n",
    "      ggtitle(\"Misses\") +\n",
    "      theme(plot.title = element_text(size=40,hjust=just_ratio,face =\"bold\"),\n",
    "           axis.text = element_text(size = 36,color='black'),\n",
    "           axis.line = element_line(colour = 'black', linewidth = 1),\n",
    "           axis.ticks = element_line(colour = \"black\", size = 1),\n",
    "           strip.text = element_text(size = 42,face =\"bold\",color='black'),\n",
    "           axis.title = element_text( size = 36 ,face =\"bold\"),\n",
    "           axis.ticks.length = unit(0.25, \"cm\"),\n",
    "           legend.text = element_text( size = 40),\n",
    "           legend.title = element_text( size = 40),\n",
    "           legend.position = 'none', #change the legend here\n",
    "           aspect.ratio=ar\n",
    "          ) +\n",
    "     guides(color = guide_legend(override.aes = list(size=2))) +\n",
    "     scale_fill_manual(values = alpha(c(\"brown1\"), .2), name = \"Variation (SD)\") + \n",
    "     scale_color_manual(values = c(\"black\",\"red\"), name = \"Agent means\",labels=c(\"Human\",\"Baseline model\")) + \n",
    "     scale_x_continuous(name=\"\", breaks=seq(0,15,5)) +\n",
    "     scale_y_continuous(name=\"Miss count\", limits=c(0,150))\n",
    "p6 <- p6+ geom_line(data = datac_model, aes(x=GameNb, y=Misses,color=\"Baseline model\"),size=sz_line) +\n",
    "      geom_point(data = datac_model, color = \"black\", aes(x=GameNb, y=Misses), shape=17,size = 3.2)\n",
    "p6\n",
    "\n",
    "pathFig <- './Figures_B/Misses.png'\n",
    "ggsave(pathFig,p6,width=15,height=5)"
   ]
  },
  {
   "cell_type": "code",
   "execution_count": 26,
   "id": "684df15c",
   "metadata": {},
   "outputs": [
    {
     "data": {
      "image/png": "[encoded data removed]",
      "text/plain": [
       "plot without title"
      ]
     },
     "metadata": {
      "image/png": {
       "height": 420,
       "width": 420
      }
     },
     "output_type": "display_data"
    }
   ],
   "source": [
    "#Resets\n",
    "Shaded <- fast_data %>% filter(Agent==\"Human_FFF\")\n",
    "datac_fast <- summarySE(Shaded, measurevar=\"Resets\", groupvars=c(\"GameNb\",\"Agent\"))\n",
    "ACTR <- fast_data %>% filter(Agent=='MS17_FFF')\n",
    "datac_model <- summarySE(ACTR, measurevar=\"Resets\", groupvars=c(\"GameNb\",\"Agent\"))\n",
    "\n",
    "p7 <- ggplot(datac_fast) +  geom_line(aes(x=GameNb, y=Resets,colour=Agent),size=sz_line) + geom_ribbon(aes(x=GameNb, ymin=Resets-sd, ymax=Resets+sd, fill=\"Human\")) +\n",
    "     theme_classic() +\n",
    "      ggtitle(\"Resets\") +\n",
    "      theme(plot.title = element_text(size=40,hjust=just_ratio,face =\"bold\"),\n",
    "           axis.text = element_text(size = 36,color='black'),\n",
    "           axis.line = element_line(colour = 'black', linewidth = 1),\n",
    "           axis.ticks = element_line(colour = \"black\", size = 1),\n",
    "           strip.text = element_text(size = 42,face =\"bold\",color='black'),\n",
    "           axis.title = element_text( size = 36 ,face =\"bold\"),\n",
    "           axis.ticks.length = unit(0.25, \"cm\"),\n",
    "           legend.text = element_text( size = 40),\n",
    "           legend.title = element_text( size = 40),\n",
    "           legend.position = 'none', #change the legend here\n",
    "           aspect.ratio=ar\n",
    "          ) +\n",
    "     guides(color = guide_legend(override.aes = list(size=2))) +\n",
    "     scale_fill_manual(values = alpha(c(\"brown1\"), .2), name = \"Variation (SD)\") + \n",
    "     scale_color_manual(values = c(\"black\",\"red\"), name = \"Agent means\",labels=c(\"Human\",\"Baseline model\")) + \n",
    "     scale_x_continuous(name=\"\", breaks=seq(0,15,5)) +\n",
    "     scale_y_continuous(name=\"Reset count\", limits=c(-15,60))\n",
    "p7 <- p7+ geom_line(data = datac_model, aes(x=GameNb, y=Resets,color=\"Baseline model\"),size=sz_line) +\n",
    "      geom_point(data = datac_model, color = \"black\", aes(x=GameNb, y=Resets), shape=17,size = 3.2)\n",
    "p7\n",
    "\n",
    "pathFig <- './Figures_B/Resets.png'\n",
    "ggsave(pathFig,p7,width=15,height=5)"
   ]
  },
  {
   "cell_type": "code",
   "execution_count": 27,
   "id": "8596d6a9",
   "metadata": {},
   "outputs": [
    {
     "data": {
      "image/png": "[encoded data removed]",
      "text/plain": [
       "plot without title"
      ]
     },
     "metadata": {
      "image/png": {
       "height": 420,
       "width": 420
      }
     },
     "output_type": "display_data"
    }
   ],
   "source": [
    "#Entropy\n",
    "Shaded <- fast_data %>% filter(Agent==\"Human_FFF\") %>% filter(!Entropy=='NaN')\n",
    "datac_fast <- summarySE(Shaded, measurevar=\"Entropy\", groupvars=c(\"GameNb\",\"Agent\"))\n",
    "ACTR <- fast_data %>% filter(Agent=='MS17_FFF') %>% filter(!Entropy=='NaN')\n",
    "datac_model <- summarySE(ACTR, measurevar=\"Entropy\", groupvars=c(\"GameNb\",\"Agent\"))\n",
    "\n",
    "p8 <- ggplot(datac_fast) +  geom_line(aes(x=GameNb, y=Entropy,colour=Agent),size=sz_line) + geom_ribbon(aes(x=GameNb, ymin=Entropy-sd, ymax=Entropy+sd, fill=\"Human\")) +\n",
    "     theme_classic() +\n",
    "      ggtitle(\"Sequential variability\") +\n",
    "      theme(plot.title = element_text(size=40,hjust=just_ratio,face =\"bold\"),\n",
    "           axis.text = element_text(size = 36,color='black'),\n",
    "           axis.line = element_line(colour = 'black', linewidth = 1),\n",
    "           axis.ticks = element_line(colour = \"black\", size = 1),\n",
    "           strip.text = element_text(size = 42,face =\"bold\",color='black'),\n",
    "           axis.title = element_text( size = 36 ,face =\"bold\"),\n",
    "           axis.ticks.length = unit(0.25, \"cm\"),\n",
    "           legend.text = element_text( size = 40),\n",
    "           legend.title = element_text( size = 40),\n",
    "           legend.position = 'none', #change the legend here\n",
    "           aspect.ratio=ar\n",
    "          ) +\n",
    "     guides(color = guide_legend(override.aes = list(size=2))) +\n",
    "     scale_fill_manual(values = alpha(c(\"brown1\"), .2), name = \"Variation (SD)\") + \n",
    "     scale_color_manual(values = c(\"black\",\"red\"), name = \"Agent means\",labels=c(\"Human\",\"Baseline model\")) + \n",
    "     scale_x_continuous(name=\"\", breaks=seq(0,15,5)) +\n",
    "     scale_y_continuous(name=\"Entropy(bits)\", limits=c(2,4))\n",
    "p8 <- p8+ geom_line(data = datac_model, aes(x=GameNb, y=Entropy,color=\"Baseline model\"),size=sz_line) +\n",
    "      geom_point(data = datac_model, color = \"black\", aes(x=GameNb, y=Entropy), shape=17,size = 3.2)\n",
    "p8\n",
    "\n",
    "pathFig <- './Figures_B/Entropy.png'\n",
    "ggsave(pathFig,p8,width=15,height=5)"
   ]
  },
  {
   "cell_type": "code",
   "execution_count": 28,
   "id": "6faeb768",
   "metadata": {},
   "outputs": [
    {
     "data": {
      "image/png": "[encoded data removed]",
      "text/plain": [
       "plot without title"
      ]
     },
     "metadata": {
      "image/png": {
       "height": 420,
       "width": 420
      }
     },
     "output_type": "display_data"
    }
   ],
   "source": [
    "#Log CV ISI\n",
    "Shaded <- fast_data %>% filter(Agent==\"Human_FFF\") %>% filter(!LogCV=='NaN')\n",
    "datac_fast <- summarySE(Shaded, measurevar=\"LogCV\", groupvars=c(\"GameNb\",\"Agent\"))\n",
    "ACTR <- fast_data %>% filter(Agent=='MS17_FFF') %>% filter(!LogCV=='NaN')\n",
    "datac_model <- summarySE(ACTR, measurevar=\"LogCV\", groupvars=c(\"GameNb\",\"Agent\"))\n",
    "\n",
    "p9 <- ggplot(datac_fast) +  geom_line(aes(x=GameNb, y=LogCV,colour=Agent),size=sz_line) + geom_ribbon(aes(x=GameNb, ymin=LogCV-sd, ymax=LogCV+sd, fill=\"Human\")) +\n",
    "     theme_classic() +\n",
    "      ggtitle(\"Shot timing variability\") +\n",
    "      theme(plot.title = element_text(size=40,hjust=just_ratio,face =\"bold\"),\n",
    "           axis.text = element_text(size = 36,color='black'),\n",
    "           axis.line = element_line(colour = 'black', linewidth = 1),\n",
    "           axis.ticks = element_line(colour = \"black\", size = 1),\n",
    "           strip.text = element_text(size = 42,face =\"bold\",color='black'),\n",
    "           axis.title = element_text( size = 36 ,face =\"bold\"),\n",
    "           axis.ticks.length = unit(0.25, \"cm\"),\n",
    "           legend.text = element_text( size = 40),\n",
    "           legend.title = element_text( size = 40),\n",
    "           legend.position = 'none', #change the legend here\n",
    "           aspect.ratio=ar\n",
    "          ) +\n",
    "     guides(color = guide_legend(override.aes = list(size=2))) +\n",
    "     scale_fill_manual(values = alpha(c(\"brown1\"), .2), name = \"Variation (SD)\") + \n",
    "     scale_color_manual(values = c(\"black\",\"red\"), name = \"Agent means\",labels=c(\"Human\",\"Baseline model\")) + \n",
    "     scale_x_continuous(name=\"\", breaks=seq(0,15,5)) +\n",
    "     scale_y_continuous(name=\"Log CV ISI\", limits=c(-2,0))\n",
    "p9 <- p9+ geom_line(data = datac_model, aes(x=GameNb, y=LogCV,color=\"Baseline model\"),size=sz_line) +\n",
    "      geom_point(data = datac_model, color = \"black\", aes(x=GameNb, y=LogCV), shape=17,size = 3.2)\n",
    "p9\n",
    "\n",
    "pathFig <- './Figures_B/LogCV.png'\n",
    "ggsave(pathFig,p9,width=15,height=5)"
   ]
  },
  {
   "cell_type": "code",
   "execution_count": 31,
   "id": "cbab61ac",
   "metadata": {},
   "outputs": [],
   "source": [
    "# simple grid\n",
    "gg3 <- plot_grid(p2,p8,p9,p7,p5,p6,p4,p3,p1,nrow=3)\n",
    "ggsave(\"./Figures_B/All_graph_lines_comparison_plots.png\",gg3,width=25,height=13)"
   ]
  },
  {
   "cell_type": "code",
   "execution_count": null,
   "id": "9b81fdad",
   "metadata": {},
   "outputs": [],
   "source": []
  },
  {
   "cell_type": "code",
   "execution_count": null,
   "id": "941932a3",
   "metadata": {},
   "outputs": [],
   "source": []
  }
 ],
 "metadata": {
  "kernelspec": {
   "display_name": "R",
   "language": "R",
   "name": "ir"
  },
  "language_info": {
   "codemirror_mode": "r",
   "file_extension": ".r",
   "mimetype": "text/x-r-source",
   "name": "R",
   "pygments_lexer": "r",
   "version": "4.1.3"
  }
 },
 "nbformat": 4,
 "nbformat_minor": 5
}
