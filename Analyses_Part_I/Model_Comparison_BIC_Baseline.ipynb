{
 "cells": [
  {
   "cell_type": "code",
   "execution_count": 1,
   "metadata": {},
   "outputs": [
    {
     "name": "stderr",
     "output_type": "stream",
     "text": [
      "Loading required package: Matrix\n",
      "\n",
      "\n",
      "Attaching package: 'dplyr'\n",
      "\n",
      "\n",
      "The following objects are masked from 'package:stats':\n",
      "\n",
      "    filter, lag\n",
      "\n",
      "\n",
      "The following objects are masked from 'package:base':\n",
      "\n",
      "    intersect, setdiff, setequal, union\n",
      "\n",
      "\n",
      "\n",
      "Attaching package: 'MASS'\n",
      "\n",
      "\n",
      "The following object is masked from 'package:dplyr':\n",
      "\n",
      "    select\n",
      "\n",
      "\n",
      "Loading required package: coda\n",
      "\n",
      "************\n",
      "Welcome to BayesFactor 0.9.12-4.4. If you have questions, please contact Richard Morey (richarddmorey@gmail.com).\n",
      "\n",
      "Type BFManual() to open the manual.\n",
      "************\n",
      "\n",
      "Loading required package: carData\n",
      "\n",
      "\n",
      "Attaching package: 'car'\n",
      "\n",
      "\n",
      "The following object is masked from 'package:dplyr':\n",
      "\n",
      "    recode\n",
      "\n",
      "\n",
      "\n",
      "Attaching package: 'lmerTest'\n",
      "\n",
      "\n",
      "The following object is masked from 'package:lme4':\n",
      "\n",
      "    lmer\n",
      "\n",
      "\n",
      "The following object is masked from 'package:stats':\n",
      "\n",
      "    step\n",
      "\n",
      "\n",
      "------------------------------------------------------------------------------\n",
      "\n",
      "You have loaded plyr after dplyr - this is likely to cause problems.\n",
      "If you need functions from both plyr and dplyr, please load plyr first, then dplyr:\n",
      "library(plyr); library(dplyr)\n",
      "\n",
      "------------------------------------------------------------------------------\n",
      "\n",
      "\n",
      "Attaching package: 'plyr'\n",
      "\n",
      "\n",
      "The following objects are masked from 'package:dplyr':\n",
      "\n",
      "    arrange, count, desc, failwith, id, mutate, rename, summarise,\n",
      "    summarize\n",
      "\n",
      "\n",
      "\n",
      "Attaching package: 'rstatix'\n",
      "\n",
      "\n",
      "The following objects are masked from 'package:plyr':\n",
      "\n",
      "    desc, mutate\n",
      "\n",
      "\n",
      "The following object is masked from 'package:MASS':\n",
      "\n",
      "    select\n",
      "\n",
      "\n",
      "The following object is masked from 'package:stats':\n",
      "\n",
      "    filter\n",
      "\n",
      "\n",
      "\n",
      "Attaching package: 'ggpubr'\n",
      "\n",
      "\n",
      "The following object is masked from 'package:plyr':\n",
      "\n",
      "    mutate\n",
      "\n",
      "\n",
      "corrplot 0.92 loaded\n",
      "\n"
     ]
    }
   ],
   "source": [
    "library(\"lme4\")\n",
    "library(\"ggplot2\")\n",
    "library(\"dplyr\")\n",
    "library(MASS)\n",
    "library(\"BayesFactor\")\n",
    "library(\"car\")\n",
    "library(\"scales\")\n",
    "library(\"lmerTest\")\n",
    "#library(\"MuMIn\")\n",
    "library(\"plyr\")\n",
    "library(\"rstatix\")\n",
    "library(\"ggpubr\")\n",
    "library(\"knitr\")\n",
    "library(\"corrplot\")\n",
    "library(\"RColorBrewer\")"
   ]
  },
  {
   "cell_type": "code",
   "execution_count": 2,
   "metadata": {},
   "outputs": [],
   "source": [
    "#Load the data => Here, we are filtering the cases in which subjects had a MuIFI of 0\n",
    "FinalPath<-'./R_Data_ALL.txt'\n",
    "data <- read.delim(FinalPath, sep=\"\\t\", header=T, stringsAsFactors=F)"
   ]
  },
  {
   "cell_type": "code",
   "execution_count": 3,
   "metadata": {},
   "outputs": [
    {
     "data": {
      "text/plain": [
       "           \n",
       "              1   2   3   4   5   6   7   8   9  10  11  12  13  14  15\n",
       "  Human_FFF  41  41  41  41  41  41  41  41  41  41  41  41  41  41  41\n",
       "  MS17_FFF  100 100 100 100 100 100 100 100 100 100 100 100 100 100 100"
      ]
     },
     "metadata": {},
     "output_type": "display_data"
    }
   ],
   "source": [
    "fast_data <- data \n",
    "table(fast_data$Agent, fast_data$GameNb)"
   ]
  },
  {
   "cell_type": "markdown",
   "metadata": {},
   "source": [
    "# Compute BIC for fast-speed data & baseline model"
   ]
  },
  {
   "cell_type": "code",
   "execution_count": 4,
   "metadata": {},
   "outputs": [],
   "source": [
    "#RMSE function definition\n",
    "RMSE = function(mod, obs){\n",
    "  sqrt(mean((mod - obs)^2))\n",
    "}\n",
    "\n",
    "RSS = function(mod,obs){\n",
    "    sum((mod - obs)^2)\n",
    "}\n",
    "\n",
    "BIC = function(RSS,n,k){\n",
    "    n*log(RSS/n)+k*log(n)\n",
    "}"
   ]
  },
  {
   "cell_type": "code",
   "execution_count": 5,
   "metadata": {},
   "outputs": [
    {
     "data": {
      "text/html": [
       "<table class=\"dataframe\">\n",
       "<caption>A data.frame: 10 × 15</caption>\n",
       "<thead>\n",
       "\t<tr><th></th><th scope=col>Type</th><th scope=col>Speed</th><th scope=col>Agent</th><th scope=col>subject</th><th scope=col>GameNb</th><th scope=col>Deflations</th><th scope=col>Misses</th><th scope=col>Resets</th><th scope=col>ShotReg</th><th scope=col>Entropy</th><th scope=col>LogCV</th><th scope=col>ShotPer</th><th scope=col>RightReg</th><th scope=col>RightPer</th><th scope=col>Score</th></tr>\n",
       "\t<tr><th></th><th scope=col>&lt;chr&gt;</th><th scope=col>&lt;chr&gt;</th><th scope=col>&lt;chr&gt;</th><th scope=col>&lt;chr&gt;</th><th scope=col>&lt;int&gt;</th><th scope=col>&lt;dbl&gt;</th><th scope=col>&lt;dbl&gt;</th><th scope=col>&lt;dbl&gt;</th><th scope=col>&lt;dbl&gt;</th><th scope=col>&lt;dbl&gt;</th><th scope=col>&lt;dbl&gt;</th><th scope=col>&lt;dbl&gt;</th><th scope=col>&lt;dbl&gt;</th><th scope=col>&lt;dbl&gt;</th><th scope=col>&lt;dbl&gt;</th></tr>\n",
       "</thead>\n",
       "<tbody>\n",
       "\t<tr><th scope=row>1</th><td>Human</td><td>FFF</td><td>Human_FFF</td><td>A11LNK1U3DT08V</td><td> 1</td><td>23</td><td>45</td><td>17</td><td>0.5308518</td><td>3.117663</td><td>-1.045539</td><td>512</td><td>0.3869265</td><td>528</td><td> 526</td></tr>\n",
       "\t<tr><th scope=row>2</th><td>Human</td><td>FFF</td><td>Human_FFF</td><td>A11LNK1U3DT08V</td><td> 2</td><td>15</td><td>39</td><td> 9</td><td>0.4488193</td><td>3.063328</td><td>-1.257139</td><td>496</td><td>0.3037540</td><td>496</td><td>1626</td></tr>\n",
       "\t<tr><th scope=row>3</th><td>Human</td><td>FFF</td><td>Human_FFF</td><td>A11LNK1U3DT08V</td><td> 3</td><td>19</td><td>50</td><td>10</td><td>0.3585762</td><td>3.053468</td><td>-1.233135</td><td>480</td><td>0.2317211</td><td>496</td><td>1604</td></tr>\n",
       "\t<tr><th scope=row>4</th><td>Human</td><td>FFF</td><td>Human_FFF</td><td>A11LNK1U3DT08V</td><td> 4</td><td>11</td><td>33</td><td>11</td><td>0.4825653</td><td>2.692394</td><td>-1.325335</td><td>512</td><td>0.3582805</td><td>512</td><td>1640</td></tr>\n",
       "\t<tr><th scope=row>5</th><td>Human</td><td>FFF</td><td>Human_FFF</td><td>A11LNK1U3DT08V</td><td> 5</td><td>19</td><td>49</td><td>12</td><td>0.3362358</td><td>3.552236</td><td>-1.092696</td><td>432</td><td>0.1994396</td><td>432</td><td>1408</td></tr>\n",
       "\t<tr><th scope=row>6</th><td>Human</td><td>FFF</td><td>Human_FFF</td><td>A11LNK1U3DT08V</td><td> 6</td><td>12</td><td>31</td><td> 4</td><td>0.6172684</td><td>2.654637</td><td>-1.510542</td><td>496</td><td>0.4029821</td><td>496</td><td>1640</td></tr>\n",
       "\t<tr><th scope=row>7</th><td>Human</td><td>FFF</td><td>Human_FFF</td><td>A11LNK1U3DT08V</td><td> 7</td><td>12</td><td>30</td><td> 2</td><td>0.5474491</td><td>2.438955</td><td>-1.556296</td><td>496</td><td>0.3957245</td><td>496</td><td>1840</td></tr>\n",
       "\t<tr><th scope=row>8</th><td>Human</td><td>FFF</td><td>Human_FFF</td><td>A11LNK1U3DT08V</td><td> 8</td><td>18</td><td>30</td><td> 7</td><td>0.4991873</td><td>2.795948</td><td>-1.378016</td><td>480</td><td>0.2724625</td><td>496</td><td>1844</td></tr>\n",
       "\t<tr><th scope=row>9</th><td>Human</td><td>FFF</td><td>Human_FFF</td><td>A11LNK1U3DT08V</td><td> 9</td><td>18</td><td>25</td><td> 4</td><td>0.5047437</td><td>2.747487</td><td>-1.326809</td><td>496</td><td>0.3023007</td><td>496</td><td>1656</td></tr>\n",
       "\t<tr><th scope=row>10</th><td>Human</td><td>FFF</td><td>Human_FFF</td><td>A11LNK1U3DT08V</td><td>10</td><td>19</td><td>31</td><td> 5</td><td>0.4750273</td><td>2.765256</td><td>-1.404229</td><td>512</td><td>0.3182475</td><td>512</td><td>1638</td></tr>\n",
       "</tbody>\n",
       "</table>\n"
      ],
      "text/latex": [
       "A data.frame: 10 × 15\n",
       "\\begin{tabular}{r|lllllllllllllll}\n",
       "  & Type & Speed & Agent & subject & GameNb & Deflations & Misses & Resets & ShotReg & Entropy & LogCV & ShotPer & RightReg & RightPer & Score\\\\\n",
       "  & <chr> & <chr> & <chr> & <chr> & <int> & <dbl> & <dbl> & <dbl> & <dbl> & <dbl> & <dbl> & <dbl> & <dbl> & <dbl> & <dbl>\\\\\n",
       "\\hline\n",
       "\t1 & Human & FFF & Human\\_FFF & A11LNK1U3DT08V &  1 & 23 & 45 & 17 & 0.5308518 & 3.117663 & -1.045539 & 512 & 0.3869265 & 528 &  526\\\\\n",
       "\t2 & Human & FFF & Human\\_FFF & A11LNK1U3DT08V &  2 & 15 & 39 &  9 & 0.4488193 & 3.063328 & -1.257139 & 496 & 0.3037540 & 496 & 1626\\\\\n",
       "\t3 & Human & FFF & Human\\_FFF & A11LNK1U3DT08V &  3 & 19 & 50 & 10 & 0.3585762 & 3.053468 & -1.233135 & 480 & 0.2317211 & 496 & 1604\\\\\n",
       "\t4 & Human & FFF & Human\\_FFF & A11LNK1U3DT08V &  4 & 11 & 33 & 11 & 0.4825653 & 2.692394 & -1.325335 & 512 & 0.3582805 & 512 & 1640\\\\\n",
       "\t5 & Human & FFF & Human\\_FFF & A11LNK1U3DT08V &  5 & 19 & 49 & 12 & 0.3362358 & 3.552236 & -1.092696 & 432 & 0.1994396 & 432 & 1408\\\\\n",
       "\t6 & Human & FFF & Human\\_FFF & A11LNK1U3DT08V &  6 & 12 & 31 &  4 & 0.6172684 & 2.654637 & -1.510542 & 496 & 0.4029821 & 496 & 1640\\\\\n",
       "\t7 & Human & FFF & Human\\_FFF & A11LNK1U3DT08V &  7 & 12 & 30 &  2 & 0.5474491 & 2.438955 & -1.556296 & 496 & 0.3957245 & 496 & 1840\\\\\n",
       "\t8 & Human & FFF & Human\\_FFF & A11LNK1U3DT08V &  8 & 18 & 30 &  7 & 0.4991873 & 2.795948 & -1.378016 & 480 & 0.2724625 & 496 & 1844\\\\\n",
       "\t9 & Human & FFF & Human\\_FFF & A11LNK1U3DT08V &  9 & 18 & 25 &  4 & 0.5047437 & 2.747487 & -1.326809 & 496 & 0.3023007 & 496 & 1656\\\\\n",
       "\t10 & Human & FFF & Human\\_FFF & A11LNK1U3DT08V & 10 & 19 & 31 &  5 & 0.4750273 & 2.765256 & -1.404229 & 512 & 0.3182475 & 512 & 1638\\\\\n",
       "\\end{tabular}\n"
      ],
      "text/markdown": [
       "\n",
       "A data.frame: 10 × 15\n",
       "\n",
       "| <!--/--> | Type &lt;chr&gt; | Speed &lt;chr&gt; | Agent &lt;chr&gt; | subject &lt;chr&gt; | GameNb &lt;int&gt; | Deflations &lt;dbl&gt; | Misses &lt;dbl&gt; | Resets &lt;dbl&gt; | ShotReg &lt;dbl&gt; | Entropy &lt;dbl&gt; | LogCV &lt;dbl&gt; | ShotPer &lt;dbl&gt; | RightReg &lt;dbl&gt; | RightPer &lt;dbl&gt; | Score &lt;dbl&gt; |\n",
       "|---|---|---|---|---|---|---|---|---|---|---|---|---|---|---|---|\n",
       "| 1 | Human | FFF | Human_FFF | A11LNK1U3DT08V |  1 | 23 | 45 | 17 | 0.5308518 | 3.117663 | -1.045539 | 512 | 0.3869265 | 528 |  526 |\n",
       "| 2 | Human | FFF | Human_FFF | A11LNK1U3DT08V |  2 | 15 | 39 |  9 | 0.4488193 | 3.063328 | -1.257139 | 496 | 0.3037540 | 496 | 1626 |\n",
       "| 3 | Human | FFF | Human_FFF | A11LNK1U3DT08V |  3 | 19 | 50 | 10 | 0.3585762 | 3.053468 | -1.233135 | 480 | 0.2317211 | 496 | 1604 |\n",
       "| 4 | Human | FFF | Human_FFF | A11LNK1U3DT08V |  4 | 11 | 33 | 11 | 0.4825653 | 2.692394 | -1.325335 | 512 | 0.3582805 | 512 | 1640 |\n",
       "| 5 | Human | FFF | Human_FFF | A11LNK1U3DT08V |  5 | 19 | 49 | 12 | 0.3362358 | 3.552236 | -1.092696 | 432 | 0.1994396 | 432 | 1408 |\n",
       "| 6 | Human | FFF | Human_FFF | A11LNK1U3DT08V |  6 | 12 | 31 |  4 | 0.6172684 | 2.654637 | -1.510542 | 496 | 0.4029821 | 496 | 1640 |\n",
       "| 7 | Human | FFF | Human_FFF | A11LNK1U3DT08V |  7 | 12 | 30 |  2 | 0.5474491 | 2.438955 | -1.556296 | 496 | 0.3957245 | 496 | 1840 |\n",
       "| 8 | Human | FFF | Human_FFF | A11LNK1U3DT08V |  8 | 18 | 30 |  7 | 0.4991873 | 2.795948 | -1.378016 | 480 | 0.2724625 | 496 | 1844 |\n",
       "| 9 | Human | FFF | Human_FFF | A11LNK1U3DT08V |  9 | 18 | 25 |  4 | 0.5047437 | 2.747487 | -1.326809 | 496 | 0.3023007 | 496 | 1656 |\n",
       "| 10 | Human | FFF | Human_FFF | A11LNK1U3DT08V | 10 | 19 | 31 |  5 | 0.4750273 | 2.765256 | -1.404229 | 512 | 0.3182475 | 512 | 1638 |\n",
       "\n"
      ],
      "text/plain": [
       "   Type  Speed Agent     subject        GameNb Deflations Misses Resets\n",
       "1  Human FFF   Human_FFF A11LNK1U3DT08V  1     23         45     17    \n",
       "2  Human FFF   Human_FFF A11LNK1U3DT08V  2     15         39      9    \n",
       "3  Human FFF   Human_FFF A11LNK1U3DT08V  3     19         50     10    \n",
       "4  Human FFF   Human_FFF A11LNK1U3DT08V  4     11         33     11    \n",
       "5  Human FFF   Human_FFF A11LNK1U3DT08V  5     19         49     12    \n",
       "6  Human FFF   Human_FFF A11LNK1U3DT08V  6     12         31      4    \n",
       "7  Human FFF   Human_FFF A11LNK1U3DT08V  7     12         30      2    \n",
       "8  Human FFF   Human_FFF A11LNK1U3DT08V  8     18         30      7    \n",
       "9  Human FFF   Human_FFF A11LNK1U3DT08V  9     18         25      4    \n",
       "10 Human FFF   Human_FFF A11LNK1U3DT08V 10     19         31      5    \n",
       "   ShotReg   Entropy  LogCV     ShotPer RightReg  RightPer Score\n",
       "1  0.5308518 3.117663 -1.045539 512     0.3869265 528       526 \n",
       "2  0.4488193 3.063328 -1.257139 496     0.3037540 496      1626 \n",
       "3  0.3585762 3.053468 -1.233135 480     0.2317211 496      1604 \n",
       "4  0.4825653 2.692394 -1.325335 512     0.3582805 512      1640 \n",
       "5  0.3362358 3.552236 -1.092696 432     0.1994396 432      1408 \n",
       "6  0.6172684 2.654637 -1.510542 496     0.4029821 496      1640 \n",
       "7  0.5474491 2.438955 -1.556296 496     0.3957245 496      1840 \n",
       "8  0.4991873 2.795948 -1.378016 480     0.2724625 496      1844 \n",
       "9  0.5047437 2.747487 -1.326809 496     0.3023007 496      1656 \n",
       "10 0.4750273 2.765256 -1.404229 512     0.3182475 512      1638 "
      ]
     },
     "metadata": {},
     "output_type": "display_data"
    }
   ],
   "source": [
    "#Filtered data set\n",
    "head(fast_data,10)"
   ]
  },
  {
   "cell_type": "code",
   "execution_count": 6,
   "metadata": {},
   "outputs": [
    {
     "data": {
      "text/html": [
       "4247615.69320262"
      ],
      "text/latex": [
       "4247615.69320262"
      ],
      "text/markdown": [
       "4247615.69320262"
      ],
      "text/plain": [
       "[1] 4247616"
      ]
     },
     "metadata": {},
     "output_type": "display_data"
    }
   ],
   "source": [
    "#1) Performance results\n",
    "muTab<-aggregate(fast_data$Score, by=list(fast_data$Agent,fast_data$GameNb), FUN=mean)\n",
    "colnames(muTab)<-c(\"Agent\",\"GameNb\",\"Score\")\n",
    "H_vec <- c(1:15)\n",
    "for (i in 1:15)\n",
    "{\n",
    "    H_vec[i] <- muTab[which(muTab$Agent==\"Human_FFF\" & muTab$GameNb==i),]$Score\n",
    "}\n",
    "M_vec <- c(1:15)\n",
    "for (i in 1:15)\n",
    "{\n",
    "    M_vec[i] <- muTab[which(muTab$Agent==\"MS17_FFF\" & muTab$GameNb==i),]$Score\n",
    "}\n",
    "\n",
    "#RSS per condition\n",
    "rss_perf <- RSS(M_vec,H_vec)\n",
    "rss_perf"
   ]
  },
  {
   "cell_type": "code",
   "execution_count": 7,
   "metadata": {},
   "outputs": [
    {
     "data": {
      "text/html": [
       "1.3854674563768"
      ],
      "text/latex": [
       "1.3854674563768"
      ],
      "text/markdown": [
       "1.3854674563768"
      ],
      "text/plain": [
       "[1] 1.385467"
      ]
     },
     "metadata": {},
     "output_type": "display_data"
    }
   ],
   "source": [
    "#2) Entropy results\n",
    "fast_data <- data\n",
    "fast_data <- fast_data %>% filter(!Entropy=='NaN')\n",
    "muTab<-aggregate(fast_data$Entropy, by=list(fast_data$Agent,fast_data$GameNb), FUN=mean)\n",
    "colnames(muTab)<-c(\"Agent\",\"GameNb\",\"Entropy\")\n",
    "H_vec <- c(1:15)\n",
    "for (i in 1:15)\n",
    "{\n",
    "    H_vec[i] <- muTab[which(muTab$Agent==\"Human_FFF\" & muTab$GameNb==i),]$Entropy\n",
    "}\n",
    "M_vec <- c(1:15)\n",
    "for (i in 1:15)\n",
    "{\n",
    "    M_vec[i] <- muTab[which(muTab$Agent==\"MS17_FFF\" & muTab$GameNb==i),]$Entropy\n",
    "}\n",
    "\n",
    "#RSS per condition\n",
    "rss_ent <- RSS(M_vec,H_vec)\n",
    "rss_ent"
   ]
  },
  {
   "cell_type": "code",
   "execution_count": 8,
   "metadata": {},
   "outputs": [
    {
     "data": {
      "text/html": [
       "1.99485120435452"
      ],
      "text/latex": [
       "1.99485120435452"
      ],
      "text/markdown": [
       "1.99485120435452"
      ],
      "text/plain": [
       "[1] 1.994851"
      ]
     },
     "metadata": {},
     "output_type": "display_data"
    }
   ],
   "source": [
    "#3) Log CV ISI\n",
    "fast_data <- data \n",
    "fast_data <- fast_data %>% filter(!LogCV=='NaN')\n",
    "muTab<-aggregate(fast_data$LogCV, by=list(fast_data$Agent,fast_data$GameNb), FUN=mean)\n",
    "\n",
    "colnames(muTab)<-c(\"Agent\",\"GameNb\",\"LogCV\")\n",
    "H_vec <- c(1:15)\n",
    "for (i in 1:15)\n",
    "{\n",
    "    H_vec[i] <- muTab[which(muTab$Agent==\"Human_FFF\" & muTab$GameNb==i),]$LogCV\n",
    "}\n",
    "M_vec <- c(1:15)\n",
    "for (i in 1:15)\n",
    "{\n",
    "    M_vec[i] <- muTab[which(muTab$Agent==\"MS17_FFF\" & muTab$GameNb==i),]$LogCV\n",
    "}\n",
    "\n",
    "#RSS per condition\n",
    "rss_lcv <- RSS(M_vec,H_vec)\n",
    "rss_lcv"
   ]
  },
  {
   "cell_type": "code",
   "execution_count": 9,
   "metadata": {},
   "outputs": [
    {
     "data": {
      "text/html": [
       "1234.44429220702"
      ],
      "text/latex": [
       "1234.44429220702"
      ],
      "text/markdown": [
       "1234.44429220702"
      ],
      "text/plain": [
       "[1] 1234.444"
      ]
     },
     "metadata": {},
     "output_type": "display_data"
    }
   ],
   "source": [
    "#4) Resets\n",
    "fast_data <- data\n",
    "muTab<-aggregate(fast_data$Resets, by=list(fast_data$Agent,fast_data$GameNb), FUN=mean)\n",
    "\n",
    "colnames(muTab)<-c(\"Agent\",\"GameNb\",\"Resets\")\n",
    "H_vec <- c(1:15)\n",
    "for (i in 1:15)\n",
    "{\n",
    "    H_vec[i] <- muTab[which(muTab$Agent==\"Human_FFF\" & muTab$GameNb==i),]$Resets\n",
    "}\n",
    "M_vec <- c(1:15)\n",
    "for (i in 1:15)\n",
    "{\n",
    "    M_vec[i] <- muTab[which(muTab$Agent==\"MS17_FFF\" & muTab$GameNb==i),]$Resets\n",
    "}\n",
    "#RSS per condition\n",
    "rss_res <- RSS(M_vec,H_vec)\n",
    "rss_res"
   ]
  },
  {
   "cell_type": "code",
   "execution_count": 10,
   "metadata": {},
   "outputs": [
    {
     "data": {
      "text/html": [
       "11972.2962578822"
      ],
      "text/latex": [
       "11972.2962578822"
      ],
      "text/markdown": [
       "11972.2962578822"
      ],
      "text/plain": [
       "[1] 11972.3"
      ]
     },
     "metadata": {},
     "output_type": "display_data"
    }
   ],
   "source": [
    "#5) Deflations\n",
    "fast_data <- data\n",
    "muTab<-aggregate(fast_data$Deflations, by=list(fast_data$Agent,fast_data$GameNb), FUN=mean)\n",
    "\n",
    "colnames(muTab)<-c(\"Agent\",\"GameNb\",\"Deflations\")\n",
    "H_vec <- c(1:15)\n",
    "for (i in 1:15)\n",
    "{\n",
    "    H_vec[i] <- muTab[which(muTab$Agent==\"Human_FFF\" & muTab$GameNb==i),]$Deflations\n",
    "}\n",
    "M_vec <- c(1:15)\n",
    "for (i in 1:15)\n",
    "{\n",
    "    M_vec[i] <- muTab[which(muTab$Agent==\"MS17_FFF\" & muTab$GameNb==i),]$Deflations\n",
    "}\n",
    "\n",
    "#RSS per condition\n",
    "rss_def <- RSS(M_vec,H_vec)\n",
    "rss_def"
   ]
  },
  {
   "cell_type": "code",
   "execution_count": 11,
   "metadata": {},
   "outputs": [
    {
     "data": {
      "text/html": [
       "21353.718258953"
      ],
      "text/latex": [
       "21353.718258953"
      ],
      "text/markdown": [
       "21353.718258953"
      ],
      "text/plain": [
       "[1] 21353.72"
      ]
     },
     "metadata": {},
     "output_type": "display_data"
    }
   ],
   "source": [
    "#6) Misses\n",
    "fast_data <- data\n",
    "muTab<-aggregate(fast_data$Misses, by=list(fast_data$Agent,fast_data$GameNb), FUN=mean)\n",
    "\n",
    "colnames(muTab)<-c(\"Agent\",\"GameNb\",\"Misses\")\n",
    "H_vec <- c(1:15)\n",
    "for (i in 1:15)\n",
    "{\n",
    "    H_vec[i] <- muTab[which(muTab$Agent==\"Human_FFF\" & muTab$GameNb==i),]$Misses\n",
    "}\n",
    "M_vec <- c(1:15)\n",
    "for (i in 1:15)\n",
    "{\n",
    "    M_vec[i] <- muTab[which(muTab$Agent==\"MS17_FFF\" & muTab$GameNb==i),]$Misses\n",
    "}\n",
    "\n",
    "#RSS per condition\n",
    "rss_mis <- RSS(M_vec,H_vec)\n",
    "rss_mis"
   ]
  },
  {
   "cell_type": "code",
   "execution_count": 12,
   "metadata": {},
   "outputs": [
    {
     "data": {
      "text/html": [
       "39238.7569860305"
      ],
      "text/latex": [
       "39238.7569860305"
      ],
      "text/markdown": [
       "39238.7569860305"
      ],
      "text/plain": [
       "[1] 39238.76"
      ]
     },
     "metadata": {},
     "output_type": "display_data"
    }
   ],
   "source": [
    "#7) Shot periodicity\n",
    "fast_data <- data\n",
    "fast_data <- fast_data %>% filter(!ShotPer=='NaN')\n",
    "muTab<-aggregate(fast_data$ShotPer, by=list(fast_data$Agent,fast_data$GameNb), FUN=mean)\n",
    "\n",
    "colnames(muTab)<-c(\"Agent\",\"GameNb\",\"ShotPer\")\n",
    "H_vec <- c(1:15)\n",
    "for (i in 1:15)\n",
    "{\n",
    "    H_vec[i] <- muTab[which(muTab$Agent==\"Human_FFF\" & muTab$GameNb==i),]$ShotPer\n",
    "}\n",
    "M_vec <- c(1:15)\n",
    "for (i in 1:15)\n",
    "{\n",
    "    M_vec[i] <- muTab[which(muTab$Agent==\"MS17_FFF\" & muTab$GameNb==i),]$ShotPer\n",
    "}\n",
    "\n",
    "#RSS per condition\n",
    "rss_per <- RSS(M_vec,H_vec)\n",
    "rss_per"
   ]
  },
  {
   "cell_type": "code",
   "execution_count": 13,
   "metadata": {},
   "outputs": [
    {
     "data": {
      "text/html": [
       "0.77642193381853"
      ],
      "text/latex": [
       "0.77642193381853"
      ],
      "text/markdown": [
       "0.77642193381853"
      ],
      "text/plain": [
       "[1] 0.7764219"
      ]
     },
     "metadata": {},
     "output_type": "display_data"
    }
   ],
   "source": [
    "#8) Shot regularity\n",
    "fast_data <- data\n",
    "fast_data <- fast_data %>% filter(!ShotReg=='NaN')\n",
    "muTab<-aggregate(fast_data$ShotReg, by=list(fast_data$Agent,fast_data$GameNb), FUN=mean)\n",
    "\n",
    "colnames(muTab)<-c(\"Agent\",\"GameNb\",\"ShotReg\")\n",
    "H_vec <- c(1:15)\n",
    "for (i in 1:15)\n",
    "{\n",
    "    H_vec[i] <- muTab[which(muTab$Agent==\"Human_FFF\" & muTab$GameNb==i),]$ShotReg\n",
    "}\n",
    "M_vec <- c(1:15)\n",
    "for (i in 1:15)\n",
    "{\n",
    "    M_vec[i] <- muTab[which(muTab$Agent==\"MS17_FFF\" & muTab$GameNb==i),]$ShotReg\n",
    "}\n",
    "\n",
    "#RSS per condition\n",
    "rss_reg <- RSS(M_vec,H_vec)\n",
    "rss_reg"
   ]
  },
  {
   "cell_type": "code",
   "execution_count": 14,
   "metadata": {},
   "outputs": [
    {
     "data": {
      "text/html": [
       "0.193217513923243"
      ],
      "text/latex": [
       "0.193217513923243"
      ],
      "text/markdown": [
       "0.193217513923243"
      ],
      "text/plain": [
       "[1] 0.1932175"
      ]
     },
     "metadata": {},
     "output_type": "display_data"
    }
   ],
   "source": [
    "#9) Right regularity\n",
    "fast_data <- data\n",
    "fast_data <- fast_data %>% filter(!RightReg=='NaN')\n",
    "muTab<-aggregate(fast_data$RightReg, by=list(fast_data$Agent,fast_data$GameNb), FUN=mean)\n",
    "\n",
    "colnames(muTab)<-c(\"Agent\",\"GameNb\",\"RightReg\")\n",
    "H_vec <- c(1:15)\n",
    "for (i in 1:15)\n",
    "{\n",
    "    H_vec[i] <- muTab[which(muTab$Agent==\"Human_FFF\" & muTab$GameNb==i),]$RightReg\n",
    "}\n",
    "M_vec <- c(1:15)\n",
    "for (i in 1:15)\n",
    "{\n",
    "    M_vec[i] <- muTab[which(muTab$Agent==\"MS17_FFF\" & muTab$GameNb==i),]$RightReg\n",
    "}\n",
    "\n",
    "#RSS per condition\n",
    "rss_Rreg <- RSS(M_vec,H_vec)\n",
    "rss_Rreg"
   ]
  },
  {
   "cell_type": "code",
   "execution_count": 15,
   "metadata": {},
   "outputs": [
    {
     "data": {
      "text/html": [
       "188.307272535111"
      ],
      "text/latex": [
       "188.307272535111"
      ],
      "text/markdown": [
       "188.307272535111"
      ],
      "text/plain": [
       "[1] 188.3073"
      ]
     },
     "metadata": {},
     "output_type": "display_data"
    },
    {
     "data": {
      "text/html": [
       "66.1548897130589"
      ],
      "text/latex": [
       "66.1548897130589"
      ],
      "text/markdown": [
       "66.1548897130589"
      ],
      "text/plain": [
       "[1] 66.15489"
      ]
     },
     "metadata": {},
     "output_type": "display_data"
    },
    {
     "data": {
      "text/html": [
       "100.234506201922"
      ],
      "text/latex": [
       "100.234506201922"
      ],
      "text/markdown": [
       "100.234506201922"
      ],
      "text/plain": [
       "[1] 100.2345"
      ]
     },
     "metadata": {},
     "output_type": "display_data"
    },
    {
     "data": {
      "text/html": [
       "108.913964395784"
      ],
      "text/latex": [
       "108.913964395784"
      ],
      "text/markdown": [
       "108.913964395784"
      ],
      "text/plain": [
       "[1] 108.914"
      ]
     },
     "metadata": {},
     "output_type": "display_data"
    },
    {
     "name": "stdout",
     "output_type": "stream",
     "text": [
      "[1] \"variability\"\n"
     ]
    },
    {
     "data": {
      "text/html": [
       "-35.7301890716755"
      ],
      "text/latex": [
       "-35.7301890716755"
      ],
      "text/markdown": [
       "-35.7301890716755"
      ],
      "text/plain": [
       "[1] -35.73019"
      ]
     },
     "metadata": {},
     "output_type": "display_data"
    },
    {
     "data": {
      "text/html": [
       "-30.2622110673807"
      ],
      "text/latex": [
       "-30.2622110673807"
      ],
      "text/markdown": [
       "-30.2622110673807"
      ],
      "text/plain": [
       "[1] -30.26221"
      ]
     },
     "metadata": {},
     "output_type": "display_data"
    },
    {
     "name": "stdout",
     "output_type": "stream",
     "text": [
      "[1] \"ACF measures\"\n"
     ]
    },
    {
     "data": {
      "text/html": [
       "118.040550522885"
      ],
      "text/latex": [
       "118.040550522885"
      ],
      "text/markdown": [
       "118.040550522885"
      ],
      "text/plain": [
       "[1] 118.0406"
      ]
     },
     "metadata": {},
     "output_type": "display_data"
    },
    {
     "data": {
      "text/html": [
       "-44.4166406778101"
      ],
      "text/latex": [
       "-44.4166406778101"
      ],
      "text/markdown": [
       "-44.4166406778101"
      ],
      "text/plain": [
       "[1] -44.41664"
      ]
     },
     "metadata": {},
     "output_type": "display_data"
    },
    {
     "data": {
      "text/html": [
       "-65.279833659569"
      ],
      "text/latex": [
       "-65.279833659569"
      ],
      "text/markdown": [
       "-65.279833659569"
      ],
      "text/plain": [
       "[1] -65.27983"
      ]
     },
     "metadata": {},
     "output_type": "display_data"
    }
   ],
   "source": [
    "#BIC measure - Baseline model\n",
    "n=15\n",
    "k=0\n",
    "Points_BIC <- BIC(rss_perf,n,k)\n",
    "Points_BIC\n",
    "Res_BIC <- BIC(rss_res,n,k)\n",
    "Res_BIC\n",
    "Def_BIC <- BIC(rss_def,n,k)\n",
    "Def_BIC\n",
    "Mis_BIC <- BIC(rss_mis,n,k)\n",
    "Mis_BIC\n",
    "print(\"variability\")\n",
    "Ent_BIC <- BIC(rss_ent,n,k)\n",
    "Ent_BIC\n",
    "lCV_BIC <- BIC(rss_lcv,n,k)\n",
    "lCV_BIC\n",
    "print(\"ACF measures\")\n",
    "Per_BIC <- BIC(rss_per,n,k)\n",
    "Per_BIC\n",
    "Reg_BIC <- BIC(rss_reg,n,k)\n",
    "Reg_BIC\n",
    "RightReg_BIC <- BIC(rss_Rreg,n,k)\n",
    "RightReg_BIC"
   ]
  },
  {
   "cell_type": "code",
   "execution_count": null,
   "metadata": {},
   "outputs": [],
   "source": []
  },
  {
   "cell_type": "code",
   "execution_count": null,
   "metadata": {},
   "outputs": [],
   "source": []
  },
  {
   "cell_type": "code",
   "execution_count": null,
   "metadata": {},
   "outputs": [],
   "source": []
  },
  {
   "cell_type": "code",
   "execution_count": null,
   "metadata": {},
   "outputs": [],
   "source": []
  }
 ],
 "metadata": {
  "kernelspec": {
   "display_name": "R",
   "language": "R",
   "name": "ir"
  },
  "language_info": {
   "codemirror_mode": "r",
   "file_extension": ".r",
   "mimetype": "text/x-r-source",
   "name": "R",
   "pygments_lexer": "r",
   "version": "4.1.3"
  }
 },
 "nbformat": 4,
 "nbformat_minor": 4
}
