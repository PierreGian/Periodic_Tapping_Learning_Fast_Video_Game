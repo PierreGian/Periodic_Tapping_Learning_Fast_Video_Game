{
 "cells": [
  {
   "cell_type": "code",
   "execution_count": 1,
   "metadata": {},
   "outputs": [],
   "source": [
    "import numpy as np\n",
    "import matplotlib.pyplot as plt\n",
    "import pylab\n",
    "from scipy import stats\n",
    "import glob\n",
    "import os\n",
    "import shutil"
   ]
  },
  {
   "cell_type": "code",
   "execution_count": 2,
   "metadata": {},
   "outputs": [],
   "source": [
    "#Function to identify the subject index of a given subject name\n",
    "def FindSubIdx(name,all_names):\n",
    "    for el,nn in enumerate(all_names):\n",
    "        if(nn==name):\n",
    "            return el"
   ]
  },
  {
   "cell_type": "markdown",
   "metadata": {},
   "source": [
    "# Load Human FFF data"
   ]
  },
  {
   "cell_type": "code",
   "execution_count": 3,
   "metadata": {},
   "outputs": [
    {
     "name": "stdout",
     "output_type": "stream",
     "text": [
      "['Participant', 'condition1', 'condition2', 'Game 1', 'Game 2', 'Game 3', 'Game 4', 'Game 5', 'Game 6', 'Game 7', 'Game 8', 'Game 9', 'Game 10', 'Game 11', 'Game 12', 'Game 13', 'Game 14', 'Game 15']\n",
      "['A11LNK1U3DT08V', 'fast', 'fast', '526', '1626', '1604', '1640', '1408', '1640', '1840', '1844', '1656', '1638', '1644', '1948', '1860', '1956', '1734']\n",
      "['A11LNK1U3DT08V', 'A13B8594JIUFDF', 'A13G6IRFQBEE8K', 'A19X8IA9EKC3XH', 'A1DHJE69R494AH', 'A1FG2G0J8M9Q0N', 'A1U6L1L2CUQNU5', 'A25W2106F90G7L', 'A2DMUU9GE8QA5Q', 'A2FM6APZP3FN22', 'A2PW5825FIRONK', 'A376AZWIBALRC', 'A38V6MB0UIXY0N', 'A3D1QQ8BEO75C6', 'A3H2KP0VBENV3N', 'A3LNWWZ7HGAGGM', 'A3Q4Y5ONYPSQGF', 'A7OZPNXIVO1FX', 'AJZYNIL3ITOK0', 'AUPXYEKITX8UT', 'AY4PZPXHSRCP5', 'A1EP3XESXAG0EP', 'A2RY4MK1FONYH1', 'A2W8TJXW68442D', 'AAE1COF4E8740', 'AY5OS6NZWVX22', 'A122LRCSBAD6DC', 'A1RH69F7I73LRW', 'A1RV2LERVS0A4H', 'A2BFFKEYMCBFWW', 'A3LA0JBSIW4MUI', 'A13YOOKZFZJJ10', 'A1SISJL5ST2PWH', 'A1U2A42K8FV3RA', 'A3IGG3RX4HXUV9', 'AFM65NU0UXIGP', 'AQXRHIMQ7UK7O', 'ASZBND3G5UYJG', 'AXMPSUNKUBEIL', 'AZ8NBOTCBCLKG', 'ACGHHDT7RY1AH']\n",
      "[('fast', 'fast'), ('fast', 'fast'), ('fast', 'fast'), ('fast', 'fast'), ('fast', 'fast'), ('fast', 'fast'), ('fast', 'fast'), ('fast', 'fast'), ('fast', 'fast'), ('fast', 'fast'), ('fast', 'fast'), ('fast', 'fast'), ('fast', 'fast'), ('fast', 'fast'), ('fast', 'fast'), ('fast', 'fast'), ('fast', 'fast'), ('fast', 'fast'), ('fast', 'fast'), ('fast', 'fast'), ('fast', 'fast'), ('fast', 'fast'), ('fast', 'fast'), ('fast', 'fast'), ('fast', 'fast'), ('fast', 'fast'), ('fast', 'fast'), ('fast', 'fast'), ('fast', 'fast'), ('fast', 'fast'), ('fast', 'fast'), ('fast', 'fast'), ('fast', 'fast'), ('fast', 'fast'), ('fast', 'fast'), ('fast', 'fast'), ('fast', 'fast'), ('fast', 'fast'), ('fast', 'fast'), ('fast', 'fast'), ('fast', 'fast')]\n"
     ]
    }
   ],
   "source": [
    "##### Load prepared Excel data file with scores\n",
    "GameNb=15\n",
    "SubjNb = 41\n",
    "names=[j for j in range(SubjNb)]\n",
    "conds=[('','') for j in range(SubjNb)]\n",
    "avgs=np.zeros(SubjNb)\n",
    "SeqFile = '../Inputs/Humans_Part_I/Fast/Summary_Scores_FFF.txt'\n",
    "f_toOpen = open(SeqFile,\"r\") \n",
    "lines = [line.rstrip().split(\"\\t\") for line in f_toOpen]\n",
    "cats = lines[0]\n",
    "print(cats)\n",
    "print(lines[1])\n",
    "idx=0\n",
    "for ii in np.arange(1,len(lines)):\n",
    "    cur_line=lines[ii]\n",
    "    names[idx] = cur_line[0]\n",
    "    conds[idx] = (cur_line[1],cur_line[2])\n",
    "    idx=idx+1\n",
    "print(names)\n",
    "print(conds)"
   ]
  },
  {
   "cell_type": "code",
   "execution_count": 4,
   "metadata": {},
   "outputs": [],
   "source": [
    "GameNb=15\n",
    "MeasureN = 10\n",
    "AgentN = 41\n",
    "cond_names = {('fast', 'fast'):'FFF'}\n",
    "cond_idx = {'FFF':0}\n",
    "list_speeds = ['FFF']\n",
    "\n",
    "def getList(dict):\n",
    "    return dict.keys()"
   ]
  },
  {
   "cell_type": "code",
   "execution_count": 5,
   "metadata": {},
   "outputs": [
    {
     "name": "stdout",
     "output_type": "stream",
     "text": [
      "['AllDeflations.txt', 'AllMisses.txt', 'AllResets.txt', 'Amplitude_Transfer_Humans_SORTED.txt', 'Entropy_Transfer_Humans_SORTED.txt', 'logCVIFI_Transfer_Humans.txt', 'Periodicity_Transfer_Humans_SORTED.txt', 'RightAmp_Transfer_Humans_SORTED.txt', 'RightPer_Transfer_Humans_SORTED.txt', 'Summary_Scores_FFF.txt']\n"
     ]
    }
   ],
   "source": [
    "#Deal with fast speed first\n",
    "measures = {'Score':0,'Entropy':1,'Amplitude':2,'Periodicity':3,'Deflations':4,'Misses':5,'Resets':6,'Right_Amplitude':7,'LogCV':8}\n",
    "Map_File = {\"AllDeflations.txt\":'Deflations',\"AllMisses.txt\":'Misses',\n",
    "                \"AllResets.txt\":'Resets',\"Amplitude_Transfer_Humans_SORTED.txt\":'Amplitude',\n",
    "                \"Entropy_Transfer_Humans_SORTED.txt\":'Entropy',\"logCVIFI_Transfer_Humans.txt\":'LogCV',\n",
    "                \"Periodicity_Transfer_Humans_SORTED.txt\":'Periodicity',\"RightAmp_Transfer_Humans_SORTED.txt\":'Right_Amplitude',\n",
    "                \"RightPer_Transfer_Humans_SORTED.txt\":'Right-Periodicity',\n",
    "                \"Summary_Scores_FFF.txt\":'Score'}\n",
    "List_Files = list(getList(Map_File))\n",
    "print(List_Files)\n",
    "pb_idx = [3,4,5,6,7,8] #problem indices"
   ]
  },
  {
   "cell_type": "code",
   "execution_count": 6,
   "metadata": {},
   "outputs": [
    {
     "name": "stdout",
     "output_type": "stream",
     "text": [
      "C:\\Users\\pierregianferrara\\Documents\\Academic\\CMU_PhD\\Research\\Papers\\Paper2_2022\\KiltHub_v2\\Code\\Analyses_Part_I\n",
      "Human_FFF\n",
      "./R_Data_Human_FFF.txt\n"
     ]
    },
    {
     "data": {
      "text/plain": [
       "111"
      ]
     },
     "execution_count": 6,
     "metadata": {},
     "output_type": "execute_result"
    }
   ],
   "source": [
    "import os \n",
    "#current dir\n",
    "cwd = os.getcwd()\n",
    "print(cwd)\n",
    "\n",
    "#Open a new file and write to file every single line (not last line if empty): make sure to use a different name\n",
    "cur_path = cwd\n",
    "HumanName = 'Human_FFF'\n",
    "print(HumanName)\n",
    "new_file = \"./R_Data_\"+HumanName+\".txt\"\n",
    "print(new_file)\n",
    "cfile = open(new_file,\"w+\")\n",
    "ToWrite = \"Type\\tSpeed\\tAgent\\tsubject\\tGameNb\\tDeflations\\tMisses\\tResets\\tShotReg\\tEntropy\\tLogCV\\tShotPer\\tRightReg\\tRightPer\\tScore\\n\"\n",
    "cfile.write(ToWrite)"
   ]
  },
  {
   "cell_type": "code",
   "execution_count": 7,
   "metadata": {},
   "outputs": [
    {
     "name": "stdout",
     "output_type": "stream",
     "text": [
      "../Inputs/Humans_Part_I/Fast/AllDeflations.txt\n",
      "../Inputs/Humans_Part_I/Fast/AllMisses.txt\n",
      "../Inputs/Humans_Part_I/Fast/AllResets.txt\n",
      "../Inputs/Humans_Part_I/Fast/Amplitude_Transfer_Humans_SORTED.txt\n",
      "../Inputs/Humans_Part_I/Fast/Entropy_Transfer_Humans_SORTED.txt\n",
      "../Inputs/Humans_Part_I/Fast/logCVIFI_Transfer_Humans.txt\n",
      "../Inputs/Humans_Part_I/Fast/Periodicity_Transfer_Humans_SORTED.txt\n",
      "../Inputs/Humans_Part_I/Fast/RightAmp_Transfer_Humans_SORTED.txt\n",
      "../Inputs/Humans_Part_I/Fast/RightPer_Transfer_Humans_SORTED.txt\n",
      "../Inputs/Humans_Part_I/Fast/Summary_Scores_FFF.txt\n"
     ]
    }
   ],
   "source": [
    "#loop across speeds here\n",
    "#print(ModelName)\n",
    "AllData = np.zeros((MeasureN,AgentN,GameNb))\n",
    "names = []\n",
    "\n",
    "for cIDX,curFile in enumerate(List_Files):\n",
    "    measure_File= '../Inputs/Humans_Part_I/Fast/'+curFile\n",
    "    print(measure_File)\n",
    "    thisfile = open(measure_File,\"r\")\n",
    "    AllLines = [line.rstrip().split(\"\\t\") for line in thisfile]\n",
    "    this_data = np.array([[float(ee) for ee in rr] for rr in [el[-15:] for el in AllLines[1:]]]) #read lines in file\n",
    "    if(cIDX==0):\n",
    "        names = [el[0] for el in AllLines[1:]]\n",
    "    thisfile.close()\n",
    "    this_Measure = Map_File[curFile]\n",
    "    cur_speed = 'FFF'\n",
    "    \n",
    "    #Get all means and standard deviations and write to file\n",
    "    if(not(cIDX in pb_idx)):\n",
    "        #add to data\n",
    "        for nn in range(AgentN):\n",
    "            line_data = this_data[nn]\n",
    "            c_name = AllLines[1:][nn][0] #get this specific name\n",
    "            nameIDX = FindSubIdx(c_name,names) #find corresponding index\n",
    "            for gg in range(GameNb):\n",
    "                AllData[cIDX,nameIDX,gg] = line_data[gg]\n",
    "    else:\n",
    "        if(cIDX==4):\n",
    "            this_data[this_data>4.70] = np.nan\n",
    "            #add to data\n",
    "            for nn in range(AgentN):\n",
    "                line_data = this_data[nn]\n",
    "                c_name = AllLines[1:][nn][0] #get this specific name\n",
    "                nameIDX = FindSubIdx(c_name,names) #find corresponding index\n",
    "                for gg in range(GameNb):\n",
    "                    AllData[cIDX,nameIDX,gg] = line_data[gg]\n",
    "        else:\n",
    "            this_data[this_data==0.0] = np.nan\n",
    "            #add to data\n",
    "            for nn in range(AgentN):\n",
    "                line_data = this_data[nn]\n",
    "                c_name = AllLines[1:][nn][0] #get this specific name\n",
    "                nameIDX = FindSubIdx(c_name,names) #find corresponding index\n",
    "                for gg in range(GameNb):\n",
    "                    AllData[cIDX,nameIDX,gg] = line_data[gg]\n",
    "\n",
    "for nn in range(AgentN):\n",
    "    for gg in range(GameNb):\n",
    "        #Write to File\n",
    "        ToWrite = \"Human\\tFFF\\t\"+HumanName+'\\t'+names[nn]+'\\t'+str(gg+1)\n",
    "        for iii in range(MeasureN):\n",
    "            ToWrite = ToWrite + '\\t' + str(AllData[iii,nn,gg])\n",
    "        ToWrite = ToWrite + '\\n'\n",
    "        cfile.write(ToWrite)\n",
    "        \n",
    "#Finally, close file when done\n",
    "cfile.close()"
   ]
  },
  {
   "cell_type": "code",
   "execution_count": null,
   "metadata": {},
   "outputs": [],
   "source": []
  },
  {
   "cell_type": "code",
   "execution_count": null,
   "metadata": {},
   "outputs": [],
   "source": []
  }
 ],
 "metadata": {
  "kernelspec": {
   "display_name": "Python 3 (ipykernel)",
   "language": "python",
   "name": "python3"
  },
  "language_info": {
   "codemirror_mode": {
    "name": "ipython",
    "version": 3
   },
   "file_extension": ".py",
   "mimetype": "text/x-python",
   "name": "python",
   "nbconvert_exporter": "python",
   "pygments_lexer": "ipython3",
   "version": "3.9.13"
  }
 },
 "nbformat": 4,
 "nbformat_minor": 4
}
